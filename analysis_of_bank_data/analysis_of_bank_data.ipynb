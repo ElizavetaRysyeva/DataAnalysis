{
 "cells": [
  {
   "cell_type": "markdown",
   "id": "50ce28ff",
   "metadata": {},
   "source": [
    "# Исследование надежности заемщиков."
   ]
  },
  {
   "cell_type": "markdown",
   "id": "50eca2b0",
   "metadata": {},
   "source": [
    "# Описание.\n",
    "\n",
    "Заказчик — кредитный отдел банка. Нужно разобраться, влияет ли семейное положение и количество детей клиента на факт погашения кредита в срок. Входные данные от банка — статистика о платёжеспособности клиентов.\n",
    "\n",
    "Результаты исследования будут учтены при построении модели кредитного скоринга — специальной системы, которая оценивает способность потенциального заёмщика вернуть кредит банку.\n"
   ]
  },
  {
   "cell_type": "markdown",
   "id": "41237d79",
   "metadata": {},
   "source": [
    "### Шаг 1. Обзор данных"
   ]
  },
  {
   "cell_type": "markdown",
   "id": "3b509aff",
   "metadata": {},
   "source": [
    "### Шаг 1.1. Импорт библиотек."
   ]
  },
  {
   "cell_type": "code",
   "execution_count": 1,
   "id": "c9fe1ad0",
   "metadata": {},
   "outputs": [],
   "source": [
    "import pandas as pd \n",
    "import numpy as np\n",
    "data = pd.read_csv('/datasets/data.csv')\n"
   ]
  },
  {
   "cell_type": "markdown",
   "id": "edaaf560",
   "metadata": {},
   "source": [
    "### Шаг 1.2. Изучение данных"
   ]
  },
  {
   "cell_type": "code",
   "execution_count": 2,
   "id": "eab67ea1",
   "metadata": {},
   "outputs": [
    {
     "name": "stdout",
     "output_type": "stream",
     "text": [
      "<class 'pandas.core.frame.DataFrame'>\n",
      "RangeIndex: 21525 entries, 0 to 21524\n",
      "Data columns (total 12 columns):\n",
      " #   Column            Non-Null Count  Dtype  \n",
      "---  ------            --------------  -----  \n",
      " 0   children          21525 non-null  int64  \n",
      " 1   days_employed     19351 non-null  float64\n",
      " 2   dob_years         21525 non-null  int64  \n",
      " 3   education         21525 non-null  object \n",
      " 4   education_id      21525 non-null  int64  \n",
      " 5   family_status     21525 non-null  object \n",
      " 6   family_status_id  21525 non-null  int64  \n",
      " 7   gender            21525 non-null  object \n",
      " 8   income_type       21525 non-null  object \n",
      " 9   debt              21525 non-null  int64  \n",
      " 10  total_income      19351 non-null  float64\n",
      " 11  purpose           21525 non-null  object \n",
      "dtypes: float64(2), int64(5), object(5)\n",
      "memory usage: 2.0+ MB\n"
     ]
    }
   ],
   "source": [
    "data.info()"
   ]
  },
  {
   "cell_type": "code",
   "execution_count": 3,
   "id": "3b21f7df",
   "metadata": {},
   "outputs": [
    {
     "data": {
      "text/html": [
       "<div>\n",
       "<style scoped>\n",
       "    .dataframe tbody tr th:only-of-type {\n",
       "        vertical-align: middle;\n",
       "    }\n",
       "\n",
       "    .dataframe tbody tr th {\n",
       "        vertical-align: top;\n",
       "    }\n",
       "\n",
       "    .dataframe thead th {\n",
       "        text-align: right;\n",
       "    }\n",
       "</style>\n",
       "<table border=\"1\" class=\"dataframe\">\n",
       "  <thead>\n",
       "    <tr style=\"text-align: right;\">\n",
       "      <th></th>\n",
       "      <th>children</th>\n",
       "      <th>days_employed</th>\n",
       "      <th>dob_years</th>\n",
       "      <th>education</th>\n",
       "      <th>education_id</th>\n",
       "      <th>family_status</th>\n",
       "      <th>family_status_id</th>\n",
       "      <th>gender</th>\n",
       "      <th>income_type</th>\n",
       "      <th>debt</th>\n",
       "      <th>total_income</th>\n",
       "      <th>purpose</th>\n",
       "    </tr>\n",
       "  </thead>\n",
       "  <tbody>\n",
       "    <tr>\n",
       "      <th>count</th>\n",
       "      <td>21525.000000</td>\n",
       "      <td>19351.000000</td>\n",
       "      <td>21525.000000</td>\n",
       "      <td>21525</td>\n",
       "      <td>21525.000000</td>\n",
       "      <td>21525</td>\n",
       "      <td>21525.000000</td>\n",
       "      <td>21525</td>\n",
       "      <td>21525</td>\n",
       "      <td>21525.000000</td>\n",
       "      <td>1.935100e+04</td>\n",
       "      <td>21525</td>\n",
       "    </tr>\n",
       "    <tr>\n",
       "      <th>unique</th>\n",
       "      <td>NaN</td>\n",
       "      <td>NaN</td>\n",
       "      <td>NaN</td>\n",
       "      <td>15</td>\n",
       "      <td>NaN</td>\n",
       "      <td>5</td>\n",
       "      <td>NaN</td>\n",
       "      <td>3</td>\n",
       "      <td>8</td>\n",
       "      <td>NaN</td>\n",
       "      <td>NaN</td>\n",
       "      <td>38</td>\n",
       "    </tr>\n",
       "    <tr>\n",
       "      <th>top</th>\n",
       "      <td>NaN</td>\n",
       "      <td>NaN</td>\n",
       "      <td>NaN</td>\n",
       "      <td>среднее</td>\n",
       "      <td>NaN</td>\n",
       "      <td>женат / замужем</td>\n",
       "      <td>NaN</td>\n",
       "      <td>F</td>\n",
       "      <td>сотрудник</td>\n",
       "      <td>NaN</td>\n",
       "      <td>NaN</td>\n",
       "      <td>свадьба</td>\n",
       "    </tr>\n",
       "    <tr>\n",
       "      <th>freq</th>\n",
       "      <td>NaN</td>\n",
       "      <td>NaN</td>\n",
       "      <td>NaN</td>\n",
       "      <td>13750</td>\n",
       "      <td>NaN</td>\n",
       "      <td>12380</td>\n",
       "      <td>NaN</td>\n",
       "      <td>14236</td>\n",
       "      <td>11119</td>\n",
       "      <td>NaN</td>\n",
       "      <td>NaN</td>\n",
       "      <td>797</td>\n",
       "    </tr>\n",
       "    <tr>\n",
       "      <th>mean</th>\n",
       "      <td>0.538908</td>\n",
       "      <td>63046.497661</td>\n",
       "      <td>43.293380</td>\n",
       "      <td>NaN</td>\n",
       "      <td>0.817236</td>\n",
       "      <td>NaN</td>\n",
       "      <td>0.972544</td>\n",
       "      <td>NaN</td>\n",
       "      <td>NaN</td>\n",
       "      <td>0.080883</td>\n",
       "      <td>1.674223e+05</td>\n",
       "      <td>NaN</td>\n",
       "    </tr>\n",
       "    <tr>\n",
       "      <th>std</th>\n",
       "      <td>1.381587</td>\n",
       "      <td>140827.311974</td>\n",
       "      <td>12.574584</td>\n",
       "      <td>NaN</td>\n",
       "      <td>0.548138</td>\n",
       "      <td>NaN</td>\n",
       "      <td>1.420324</td>\n",
       "      <td>NaN</td>\n",
       "      <td>NaN</td>\n",
       "      <td>0.272661</td>\n",
       "      <td>1.029716e+05</td>\n",
       "      <td>NaN</td>\n",
       "    </tr>\n",
       "    <tr>\n",
       "      <th>min</th>\n",
       "      <td>-1.000000</td>\n",
       "      <td>-18388.949901</td>\n",
       "      <td>0.000000</td>\n",
       "      <td>NaN</td>\n",
       "      <td>0.000000</td>\n",
       "      <td>NaN</td>\n",
       "      <td>0.000000</td>\n",
       "      <td>NaN</td>\n",
       "      <td>NaN</td>\n",
       "      <td>0.000000</td>\n",
       "      <td>2.066726e+04</td>\n",
       "      <td>NaN</td>\n",
       "    </tr>\n",
       "    <tr>\n",
       "      <th>25%</th>\n",
       "      <td>0.000000</td>\n",
       "      <td>-2747.423625</td>\n",
       "      <td>33.000000</td>\n",
       "      <td>NaN</td>\n",
       "      <td>1.000000</td>\n",
       "      <td>NaN</td>\n",
       "      <td>0.000000</td>\n",
       "      <td>NaN</td>\n",
       "      <td>NaN</td>\n",
       "      <td>0.000000</td>\n",
       "      <td>1.030532e+05</td>\n",
       "      <td>NaN</td>\n",
       "    </tr>\n",
       "    <tr>\n",
       "      <th>50%</th>\n",
       "      <td>0.000000</td>\n",
       "      <td>-1203.369529</td>\n",
       "      <td>42.000000</td>\n",
       "      <td>NaN</td>\n",
       "      <td>1.000000</td>\n",
       "      <td>NaN</td>\n",
       "      <td>0.000000</td>\n",
       "      <td>NaN</td>\n",
       "      <td>NaN</td>\n",
       "      <td>0.000000</td>\n",
       "      <td>1.450179e+05</td>\n",
       "      <td>NaN</td>\n",
       "    </tr>\n",
       "    <tr>\n",
       "      <th>75%</th>\n",
       "      <td>1.000000</td>\n",
       "      <td>-291.095954</td>\n",
       "      <td>53.000000</td>\n",
       "      <td>NaN</td>\n",
       "      <td>1.000000</td>\n",
       "      <td>NaN</td>\n",
       "      <td>1.000000</td>\n",
       "      <td>NaN</td>\n",
       "      <td>NaN</td>\n",
       "      <td>0.000000</td>\n",
       "      <td>2.034351e+05</td>\n",
       "      <td>NaN</td>\n",
       "    </tr>\n",
       "    <tr>\n",
       "      <th>max</th>\n",
       "      <td>20.000000</td>\n",
       "      <td>401755.400475</td>\n",
       "      <td>75.000000</td>\n",
       "      <td>NaN</td>\n",
       "      <td>4.000000</td>\n",
       "      <td>NaN</td>\n",
       "      <td>4.000000</td>\n",
       "      <td>NaN</td>\n",
       "      <td>NaN</td>\n",
       "      <td>1.000000</td>\n",
       "      <td>2.265604e+06</td>\n",
       "      <td>NaN</td>\n",
       "    </tr>\n",
       "  </tbody>\n",
       "</table>\n",
       "</div>"
      ],
      "text/plain": [
       "            children  days_employed     dob_years education  education_id  \\\n",
       "count   21525.000000   19351.000000  21525.000000     21525  21525.000000   \n",
       "unique           NaN            NaN           NaN        15           NaN   \n",
       "top              NaN            NaN           NaN   среднее           NaN   \n",
       "freq             NaN            NaN           NaN     13750           NaN   \n",
       "mean        0.538908   63046.497661     43.293380       NaN      0.817236   \n",
       "std         1.381587  140827.311974     12.574584       NaN      0.548138   \n",
       "min        -1.000000  -18388.949901      0.000000       NaN      0.000000   \n",
       "25%         0.000000   -2747.423625     33.000000       NaN      1.000000   \n",
       "50%         0.000000   -1203.369529     42.000000       NaN      1.000000   \n",
       "75%         1.000000    -291.095954     53.000000       NaN      1.000000   \n",
       "max        20.000000  401755.400475     75.000000       NaN      4.000000   \n",
       "\n",
       "          family_status  family_status_id gender income_type          debt  \\\n",
       "count             21525      21525.000000  21525       21525  21525.000000   \n",
       "unique                5               NaN      3           8           NaN   \n",
       "top     женат / замужем               NaN      F   сотрудник           NaN   \n",
       "freq              12380               NaN  14236       11119           NaN   \n",
       "mean                NaN          0.972544    NaN         NaN      0.080883   \n",
       "std                 NaN          1.420324    NaN         NaN      0.272661   \n",
       "min                 NaN          0.000000    NaN         NaN      0.000000   \n",
       "25%                 NaN          0.000000    NaN         NaN      0.000000   \n",
       "50%                 NaN          0.000000    NaN         NaN      0.000000   \n",
       "75%                 NaN          1.000000    NaN         NaN      0.000000   \n",
       "max                 NaN          4.000000    NaN         NaN      1.000000   \n",
       "\n",
       "        total_income  purpose  \n",
       "count   1.935100e+04    21525  \n",
       "unique           NaN       38  \n",
       "top              NaN  свадьба  \n",
       "freq             NaN      797  \n",
       "mean    1.674223e+05      NaN  \n",
       "std     1.029716e+05      NaN  \n",
       "min     2.066726e+04      NaN  \n",
       "25%     1.030532e+05      NaN  \n",
       "50%     1.450179e+05      NaN  \n",
       "75%     2.034351e+05      NaN  \n",
       "max     2.265604e+06      NaN  "
      ]
     },
     "execution_count": 3,
     "metadata": {},
     "output_type": "execute_result"
    }
   ],
   "source": [
    "data.describe(include='all')"
   ]
  },
  {
   "cell_type": "markdown",
   "id": "f267515f",
   "metadata": {},
   "source": [
    "Заметим, что в столбце days_employed and children and dob_years содержатся ненормальные для них значения"
   ]
  },
  {
   "cell_type": "markdown",
   "id": "4b47a5dc",
   "metadata": {},
   "source": [
    "### Шаг 2.1 Заполнение пропусков"
   ]
  },
  {
   "cell_type": "code",
   "execution_count": 4,
   "id": "d0d4f574",
   "metadata": {},
   "outputs": [
    {
     "data": {
      "text/plain": [
       "children               0\n",
       "days_employed       2174\n",
       "dob_years              0\n",
       "education              0\n",
       "education_id           0\n",
       "family_status          0\n",
       "family_status_id       0\n",
       "gender                 0\n",
       "income_type            0\n",
       "debt                   0\n",
       "total_income        2174\n",
       "purpose                0\n",
       "dtype: int64"
      ]
     },
     "execution_count": 4,
     "metadata": {},
     "output_type": "execute_result"
    }
   ],
   "source": [
    "data.isnull().sum()"
   ]
  },
  {
   "cell_type": "code",
   "execution_count": 5,
   "id": "382092dc",
   "metadata": {},
   "outputs": [
    {
     "data": {
      "text/html": [
       "<div>\n",
       "<style scoped>\n",
       "    .dataframe tbody tr th:only-of-type {\n",
       "        vertical-align: middle;\n",
       "    }\n",
       "\n",
       "    .dataframe tbody tr th {\n",
       "        vertical-align: top;\n",
       "    }\n",
       "\n",
       "    .dataframe thead th {\n",
       "        text-align: right;\n",
       "    }\n",
       "</style>\n",
       "<table border=\"1\" class=\"dataframe\">\n",
       "  <thead>\n",
       "    <tr style=\"text-align: right;\">\n",
       "      <th></th>\n",
       "      <th>children</th>\n",
       "      <th>days_employed</th>\n",
       "      <th>dob_years</th>\n",
       "      <th>education</th>\n",
       "      <th>education_id</th>\n",
       "      <th>family_status</th>\n",
       "      <th>family_status_id</th>\n",
       "      <th>gender</th>\n",
       "      <th>income_type</th>\n",
       "      <th>debt</th>\n",
       "      <th>total_income</th>\n",
       "      <th>purpose</th>\n",
       "    </tr>\n",
       "  </thead>\n",
       "  <tbody>\n",
       "    <tr>\n",
       "      <th>12</th>\n",
       "      <td>0</td>\n",
       "      <td>NaN</td>\n",
       "      <td>65</td>\n",
       "      <td>среднее</td>\n",
       "      <td>1</td>\n",
       "      <td>гражданский брак</td>\n",
       "      <td>1</td>\n",
       "      <td>M</td>\n",
       "      <td>пенсионер</td>\n",
       "      <td>0</td>\n",
       "      <td>NaN</td>\n",
       "      <td>сыграть свадьбу</td>\n",
       "    </tr>\n",
       "    <tr>\n",
       "      <th>26</th>\n",
       "      <td>0</td>\n",
       "      <td>NaN</td>\n",
       "      <td>41</td>\n",
       "      <td>среднее</td>\n",
       "      <td>1</td>\n",
       "      <td>женат / замужем</td>\n",
       "      <td>0</td>\n",
       "      <td>M</td>\n",
       "      <td>госслужащий</td>\n",
       "      <td>0</td>\n",
       "      <td>NaN</td>\n",
       "      <td>образование</td>\n",
       "    </tr>\n",
       "    <tr>\n",
       "      <th>29</th>\n",
       "      <td>0</td>\n",
       "      <td>NaN</td>\n",
       "      <td>63</td>\n",
       "      <td>среднее</td>\n",
       "      <td>1</td>\n",
       "      <td>Не женат / не замужем</td>\n",
       "      <td>4</td>\n",
       "      <td>F</td>\n",
       "      <td>пенсионер</td>\n",
       "      <td>0</td>\n",
       "      <td>NaN</td>\n",
       "      <td>строительство жилой недвижимости</td>\n",
       "    </tr>\n",
       "    <tr>\n",
       "      <th>41</th>\n",
       "      <td>0</td>\n",
       "      <td>NaN</td>\n",
       "      <td>50</td>\n",
       "      <td>среднее</td>\n",
       "      <td>1</td>\n",
       "      <td>женат / замужем</td>\n",
       "      <td>0</td>\n",
       "      <td>F</td>\n",
       "      <td>госслужащий</td>\n",
       "      <td>0</td>\n",
       "      <td>NaN</td>\n",
       "      <td>сделка с подержанным автомобилем</td>\n",
       "    </tr>\n",
       "    <tr>\n",
       "      <th>55</th>\n",
       "      <td>0</td>\n",
       "      <td>NaN</td>\n",
       "      <td>54</td>\n",
       "      <td>среднее</td>\n",
       "      <td>1</td>\n",
       "      <td>гражданский брак</td>\n",
       "      <td>1</td>\n",
       "      <td>F</td>\n",
       "      <td>пенсионер</td>\n",
       "      <td>1</td>\n",
       "      <td>NaN</td>\n",
       "      <td>сыграть свадьбу</td>\n",
       "    </tr>\n",
       "    <tr>\n",
       "      <th>...</th>\n",
       "      <td>...</td>\n",
       "      <td>...</td>\n",
       "      <td>...</td>\n",
       "      <td>...</td>\n",
       "      <td>...</td>\n",
       "      <td>...</td>\n",
       "      <td>...</td>\n",
       "      <td>...</td>\n",
       "      <td>...</td>\n",
       "      <td>...</td>\n",
       "      <td>...</td>\n",
       "      <td>...</td>\n",
       "    </tr>\n",
       "    <tr>\n",
       "      <th>21489</th>\n",
       "      <td>2</td>\n",
       "      <td>NaN</td>\n",
       "      <td>47</td>\n",
       "      <td>Среднее</td>\n",
       "      <td>1</td>\n",
       "      <td>женат / замужем</td>\n",
       "      <td>0</td>\n",
       "      <td>M</td>\n",
       "      <td>компаньон</td>\n",
       "      <td>0</td>\n",
       "      <td>NaN</td>\n",
       "      <td>сделка с автомобилем</td>\n",
       "    </tr>\n",
       "    <tr>\n",
       "      <th>21495</th>\n",
       "      <td>1</td>\n",
       "      <td>NaN</td>\n",
       "      <td>50</td>\n",
       "      <td>среднее</td>\n",
       "      <td>1</td>\n",
       "      <td>гражданский брак</td>\n",
       "      <td>1</td>\n",
       "      <td>F</td>\n",
       "      <td>сотрудник</td>\n",
       "      <td>0</td>\n",
       "      <td>NaN</td>\n",
       "      <td>свадьба</td>\n",
       "    </tr>\n",
       "    <tr>\n",
       "      <th>21497</th>\n",
       "      <td>0</td>\n",
       "      <td>NaN</td>\n",
       "      <td>48</td>\n",
       "      <td>ВЫСШЕЕ</td>\n",
       "      <td>0</td>\n",
       "      <td>женат / замужем</td>\n",
       "      <td>0</td>\n",
       "      <td>F</td>\n",
       "      <td>компаньон</td>\n",
       "      <td>0</td>\n",
       "      <td>NaN</td>\n",
       "      <td>строительство недвижимости</td>\n",
       "    </tr>\n",
       "    <tr>\n",
       "      <th>21502</th>\n",
       "      <td>1</td>\n",
       "      <td>NaN</td>\n",
       "      <td>42</td>\n",
       "      <td>среднее</td>\n",
       "      <td>1</td>\n",
       "      <td>женат / замужем</td>\n",
       "      <td>0</td>\n",
       "      <td>F</td>\n",
       "      <td>сотрудник</td>\n",
       "      <td>0</td>\n",
       "      <td>NaN</td>\n",
       "      <td>строительство жилой недвижимости</td>\n",
       "    </tr>\n",
       "    <tr>\n",
       "      <th>21510</th>\n",
       "      <td>2</td>\n",
       "      <td>NaN</td>\n",
       "      <td>28</td>\n",
       "      <td>среднее</td>\n",
       "      <td>1</td>\n",
       "      <td>женат / замужем</td>\n",
       "      <td>0</td>\n",
       "      <td>F</td>\n",
       "      <td>сотрудник</td>\n",
       "      <td>0</td>\n",
       "      <td>NaN</td>\n",
       "      <td>приобретение автомобиля</td>\n",
       "    </tr>\n",
       "  </tbody>\n",
       "</table>\n",
       "<p>2174 rows × 12 columns</p>\n",
       "</div>"
      ],
      "text/plain": [
       "       children  days_employed  dob_years education  education_id  \\\n",
       "12            0            NaN         65   среднее             1   \n",
       "26            0            NaN         41   среднее             1   \n",
       "29            0            NaN         63   среднее             1   \n",
       "41            0            NaN         50   среднее             1   \n",
       "55            0            NaN         54   среднее             1   \n",
       "...         ...            ...        ...       ...           ...   \n",
       "21489         2            NaN         47   Среднее             1   \n",
       "21495         1            NaN         50   среднее             1   \n",
       "21497         0            NaN         48    ВЫСШЕЕ             0   \n",
       "21502         1            NaN         42   среднее             1   \n",
       "21510         2            NaN         28   среднее             1   \n",
       "\n",
       "               family_status  family_status_id gender  income_type  debt  \\\n",
       "12          гражданский брак                 1      M    пенсионер     0   \n",
       "26           женат / замужем                 0      M  госслужащий     0   \n",
       "29     Не женат / не замужем                 4      F    пенсионер     0   \n",
       "41           женат / замужем                 0      F  госслужащий     0   \n",
       "55          гражданский брак                 1      F    пенсионер     1   \n",
       "...                      ...               ...    ...          ...   ...   \n",
       "21489        женат / замужем                 0      M    компаньон     0   \n",
       "21495       гражданский брак                 1      F    сотрудник     0   \n",
       "21497        женат / замужем                 0      F    компаньон     0   \n",
       "21502        женат / замужем                 0      F    сотрудник     0   \n",
       "21510        женат / замужем                 0      F    сотрудник     0   \n",
       "\n",
       "       total_income                           purpose  \n",
       "12              NaN                   сыграть свадьбу  \n",
       "26              NaN                       образование  \n",
       "29              NaN  строительство жилой недвижимости  \n",
       "41              NaN  сделка с подержанным автомобилем  \n",
       "55              NaN                   сыграть свадьбу  \n",
       "...             ...                               ...  \n",
       "21489           NaN              сделка с автомобилем  \n",
       "21495           NaN                           свадьба  \n",
       "21497           NaN        строительство недвижимости  \n",
       "21502           NaN  строительство жилой недвижимости  \n",
       "21510           NaN           приобретение автомобиля  \n",
       "\n",
       "[2174 rows x 12 columns]"
      ]
     },
     "execution_count": 5,
     "metadata": {},
     "output_type": "execute_result"
    }
   ],
   "source": [
    "data[data['days_employed'].isnull()]"
   ]
  },
  {
   "cell_type": "markdown",
   "id": "10acfc0c",
   "metadata": {},
   "source": [
    "Заметим, что там, где пропуск в days_employed, у того же объекта пропуск и в total_income. Пропусков 2174, что достаточно много для того что бы не обращать на них внимания и удалить их. Поэтому логично будет сгруппировать по полу и возрасту, а затем для каждой группы найти медиану и присвоить ее пропускам из той же группы"
   ]
  },
  {
   "cell_type": "markdown",
   "id": "53376f2e",
   "metadata": {},
   "source": [
    "Создадим сводную таблицу для анализа пропусков:"
   ]
  },
  {
   "cell_type": "code",
   "execution_count": 6,
   "id": "fd625c53",
   "metadata": {},
   "outputs": [
    {
     "data": {
      "text/html": [
       "<div>\n",
       "<style scoped>\n",
       "    .dataframe tbody tr th:only-of-type {\n",
       "        vertical-align: middle;\n",
       "    }\n",
       "\n",
       "    .dataframe tbody tr th {\n",
       "        vertical-align: top;\n",
       "    }\n",
       "\n",
       "    .dataframe thead th {\n",
       "        text-align: right;\n",
       "    }\n",
       "</style>\n",
       "<table border=\"1\" class=\"dataframe\">\n",
       "  <thead>\n",
       "    <tr style=\"text-align: right;\">\n",
       "      <th>gender</th>\n",
       "      <th>F</th>\n",
       "      <th>M</th>\n",
       "      <th>XNA</th>\n",
       "    </tr>\n",
       "    <tr>\n",
       "      <th>dob_years</th>\n",
       "      <th></th>\n",
       "      <th></th>\n",
       "      <th></th>\n",
       "    </tr>\n",
       "  </thead>\n",
       "  <tbody>\n",
       "    <tr>\n",
       "      <th>0</th>\n",
       "      <td>-1327.579211</td>\n",
       "      <td>-1015.395451</td>\n",
       "      <td>NaN</td>\n",
       "    </tr>\n",
       "    <tr>\n",
       "      <th>19</th>\n",
       "      <td>-710.230781</td>\n",
       "      <td>-885.268574</td>\n",
       "      <td>NaN</td>\n",
       "    </tr>\n",
       "    <tr>\n",
       "      <th>20</th>\n",
       "      <td>-595.559207</td>\n",
       "      <td>-880.528819</td>\n",
       "      <td>NaN</td>\n",
       "    </tr>\n",
       "    <tr>\n",
       "      <th>21</th>\n",
       "      <td>-608.003610</td>\n",
       "      <td>-627.185770</td>\n",
       "      <td>NaN</td>\n",
       "    </tr>\n",
       "    <tr>\n",
       "      <th>22</th>\n",
       "      <td>-691.825293</td>\n",
       "      <td>-740.851560</td>\n",
       "      <td>NaN</td>\n",
       "    </tr>\n",
       "    <tr>\n",
       "      <th>23</th>\n",
       "      <td>-634.611807</td>\n",
       "      <td>-727.699529</td>\n",
       "      <td>NaN</td>\n",
       "    </tr>\n",
       "    <tr>\n",
       "      <th>24</th>\n",
       "      <td>-964.894524</td>\n",
       "      <td>-901.549138</td>\n",
       "      <td>-2358.600502</td>\n",
       "    </tr>\n",
       "    <tr>\n",
       "      <th>25</th>\n",
       "      <td>-951.181756</td>\n",
       "      <td>-869.061319</td>\n",
       "      <td>NaN</td>\n",
       "    </tr>\n",
       "    <tr>\n",
       "      <th>26</th>\n",
       "      <td>-1173.584347</td>\n",
       "      <td>-957.617546</td>\n",
       "      <td>NaN</td>\n",
       "    </tr>\n",
       "    <tr>\n",
       "      <th>27</th>\n",
       "      <td>-1195.389362</td>\n",
       "      <td>-1118.968259</td>\n",
       "      <td>NaN</td>\n",
       "    </tr>\n",
       "    <tr>\n",
       "      <th>28</th>\n",
       "      <td>-1289.487398</td>\n",
       "      <td>-935.430693</td>\n",
       "      <td>NaN</td>\n",
       "    </tr>\n",
       "    <tr>\n",
       "      <th>29</th>\n",
       "      <td>-1450.847696</td>\n",
       "      <td>-1218.859260</td>\n",
       "      <td>NaN</td>\n",
       "    </tr>\n",
       "    <tr>\n",
       "      <th>30</th>\n",
       "      <td>-1421.449054</td>\n",
       "      <td>-1420.586863</td>\n",
       "      <td>NaN</td>\n",
       "    </tr>\n",
       "    <tr>\n",
       "      <th>31</th>\n",
       "      <td>-1315.077457</td>\n",
       "      <td>-1260.378990</td>\n",
       "      <td>NaN</td>\n",
       "    </tr>\n",
       "    <tr>\n",
       "      <th>32</th>\n",
       "      <td>-1536.208255</td>\n",
       "      <td>-1293.207605</td>\n",
       "      <td>NaN</td>\n",
       "    </tr>\n",
       "    <tr>\n",
       "      <th>33</th>\n",
       "      <td>-1561.965657</td>\n",
       "      <td>-1254.494830</td>\n",
       "      <td>NaN</td>\n",
       "    </tr>\n",
       "    <tr>\n",
       "      <th>34</th>\n",
       "      <td>-1631.262559</td>\n",
       "      <td>-1518.397082</td>\n",
       "      <td>NaN</td>\n",
       "    </tr>\n",
       "    <tr>\n",
       "      <th>35</th>\n",
       "      <td>-1722.672507</td>\n",
       "      <td>-1489.511688</td>\n",
       "      <td>NaN</td>\n",
       "    </tr>\n",
       "    <tr>\n",
       "      <th>36</th>\n",
       "      <td>-1848.502185</td>\n",
       "      <td>-1702.586346</td>\n",
       "      <td>NaN</td>\n",
       "    </tr>\n",
       "    <tr>\n",
       "      <th>37</th>\n",
       "      <td>-1847.731652</td>\n",
       "      <td>-1636.482076</td>\n",
       "      <td>NaN</td>\n",
       "    </tr>\n",
       "    <tr>\n",
       "      <th>38</th>\n",
       "      <td>-1803.053103</td>\n",
       "      <td>-1623.108469</td>\n",
       "      <td>NaN</td>\n",
       "    </tr>\n",
       "    <tr>\n",
       "      <th>39</th>\n",
       "      <td>-2045.033856</td>\n",
       "      <td>-1659.363127</td>\n",
       "      <td>NaN</td>\n",
       "    </tr>\n",
       "    <tr>\n",
       "      <th>40</th>\n",
       "      <td>-1752.092971</td>\n",
       "      <td>-1469.385339</td>\n",
       "      <td>NaN</td>\n",
       "    </tr>\n",
       "    <tr>\n",
       "      <th>41</th>\n",
       "      <td>-1825.570497</td>\n",
       "      <td>-1858.556909</td>\n",
       "      <td>NaN</td>\n",
       "    </tr>\n",
       "    <tr>\n",
       "      <th>42</th>\n",
       "      <td>-2290.335114</td>\n",
       "      <td>-1904.180624</td>\n",
       "      <td>NaN</td>\n",
       "    </tr>\n",
       "    <tr>\n",
       "      <th>43</th>\n",
       "      <td>-2083.934423</td>\n",
       "      <td>-1418.881856</td>\n",
       "      <td>NaN</td>\n",
       "    </tr>\n",
       "    <tr>\n",
       "      <th>44</th>\n",
       "      <td>-2184.310078</td>\n",
       "      <td>-1580.036725</td>\n",
       "      <td>NaN</td>\n",
       "    </tr>\n",
       "    <tr>\n",
       "      <th>45</th>\n",
       "      <td>-2289.796688</td>\n",
       "      <td>-1523.553348</td>\n",
       "      <td>NaN</td>\n",
       "    </tr>\n",
       "    <tr>\n",
       "      <th>46</th>\n",
       "      <td>-2041.666104</td>\n",
       "      <td>-1797.853959</td>\n",
       "      <td>NaN</td>\n",
       "    </tr>\n",
       "    <tr>\n",
       "      <th>47</th>\n",
       "      <td>-2314.306068</td>\n",
       "      <td>-1673.921576</td>\n",
       "      <td>NaN</td>\n",
       "    </tr>\n",
       "    <tr>\n",
       "      <th>48</th>\n",
       "      <td>-2044.399299</td>\n",
       "      <td>-2082.256286</td>\n",
       "      <td>NaN</td>\n",
       "    </tr>\n",
       "    <tr>\n",
       "      <th>49</th>\n",
       "      <td>-2406.381752</td>\n",
       "      <td>-1620.816859</td>\n",
       "      <td>NaN</td>\n",
       "    </tr>\n",
       "    <tr>\n",
       "      <th>50</th>\n",
       "      <td>-2005.219883</td>\n",
       "      <td>-1586.197974</td>\n",
       "      <td>NaN</td>\n",
       "    </tr>\n",
       "    <tr>\n",
       "      <th>51</th>\n",
       "      <td>-1581.211673</td>\n",
       "      <td>-1251.237069</td>\n",
       "      <td>NaN</td>\n",
       "    </tr>\n",
       "    <tr>\n",
       "      <th>52</th>\n",
       "      <td>-1403.080830</td>\n",
       "      <td>-1653.920926</td>\n",
       "      <td>NaN</td>\n",
       "    </tr>\n",
       "    <tr>\n",
       "      <th>53</th>\n",
       "      <td>-1442.996662</td>\n",
       "      <td>-1184.842230</td>\n",
       "      <td>NaN</td>\n",
       "    </tr>\n",
       "    <tr>\n",
       "      <th>54</th>\n",
       "      <td>-648.397041</td>\n",
       "      <td>-1487.616937</td>\n",
       "      <td>NaN</td>\n",
       "    </tr>\n",
       "    <tr>\n",
       "      <th>55</th>\n",
       "      <td>-148.867038</td>\n",
       "      <td>-1369.396126</td>\n",
       "      <td>NaN</td>\n",
       "    </tr>\n",
       "    <tr>\n",
       "      <th>56</th>\n",
       "      <td>332245.835073</td>\n",
       "      <td>-1588.384846</td>\n",
       "      <td>NaN</td>\n",
       "    </tr>\n",
       "    <tr>\n",
       "      <th>57</th>\n",
       "      <td>346062.271843</td>\n",
       "      <td>-688.644502</td>\n",
       "      <td>NaN</td>\n",
       "    </tr>\n",
       "    <tr>\n",
       "      <th>58</th>\n",
       "      <td>340298.410068</td>\n",
       "      <td>-1227.862921</td>\n",
       "      <td>NaN</td>\n",
       "    </tr>\n",
       "    <tr>\n",
       "      <th>59</th>\n",
       "      <td>351913.372108</td>\n",
       "      <td>-1022.214873</td>\n",
       "      <td>NaN</td>\n",
       "    </tr>\n",
       "    <tr>\n",
       "      <th>60</th>\n",
       "      <td>352450.930489</td>\n",
       "      <td>-478.456463</td>\n",
       "      <td>NaN</td>\n",
       "    </tr>\n",
       "    <tr>\n",
       "      <th>61</th>\n",
       "      <td>346602.453782</td>\n",
       "      <td>166255.469197</td>\n",
       "      <td>NaN</td>\n",
       "    </tr>\n",
       "    <tr>\n",
       "      <th>62</th>\n",
       "      <td>355583.234032</td>\n",
       "      <td>343080.264048</td>\n",
       "      <td>NaN</td>\n",
       "    </tr>\n",
       "    <tr>\n",
       "      <th>63</th>\n",
       "      <td>362864.993022</td>\n",
       "      <td>337738.712122</td>\n",
       "      <td>NaN</td>\n",
       "    </tr>\n",
       "    <tr>\n",
       "      <th>64</th>\n",
       "      <td>358068.243799</td>\n",
       "      <td>345637.319160</td>\n",
       "      <td>NaN</td>\n",
       "    </tr>\n",
       "    <tr>\n",
       "      <th>65</th>\n",
       "      <td>361989.769975</td>\n",
       "      <td>340411.408837</td>\n",
       "      <td>NaN</td>\n",
       "    </tr>\n",
       "    <tr>\n",
       "      <th>66</th>\n",
       "      <td>361812.912667</td>\n",
       "      <td>371228.000467</td>\n",
       "      <td>NaN</td>\n",
       "    </tr>\n",
       "    <tr>\n",
       "      <th>67</th>\n",
       "      <td>358704.192577</td>\n",
       "      <td>343374.947426</td>\n",
       "      <td>NaN</td>\n",
       "    </tr>\n",
       "    <tr>\n",
       "      <th>68</th>\n",
       "      <td>364688.917160</td>\n",
       "      <td>365867.472003</td>\n",
       "      <td>NaN</td>\n",
       "    </tr>\n",
       "    <tr>\n",
       "      <th>69</th>\n",
       "      <td>363411.852104</td>\n",
       "      <td>359090.237053</td>\n",
       "      <td>NaN</td>\n",
       "    </tr>\n",
       "    <tr>\n",
       "      <th>70</th>\n",
       "      <td>367343.110634</td>\n",
       "      <td>352201.039378</td>\n",
       "      <td>NaN</td>\n",
       "    </tr>\n",
       "    <tr>\n",
       "      <th>71</th>\n",
       "      <td>364089.653490</td>\n",
       "      <td>356204.886439</td>\n",
       "      <td>NaN</td>\n",
       "    </tr>\n",
       "    <tr>\n",
       "      <th>72</th>\n",
       "      <td>367378.973169</td>\n",
       "      <td>363929.636328</td>\n",
       "      <td>NaN</td>\n",
       "    </tr>\n",
       "    <tr>\n",
       "      <th>73</th>\n",
       "      <td>364291.049263</td>\n",
       "      <td>NaN</td>\n",
       "      <td>NaN</td>\n",
       "    </tr>\n",
       "    <tr>\n",
       "      <th>74</th>\n",
       "      <td>357194.615058</td>\n",
       "      <td>171447.101787</td>\n",
       "      <td>NaN</td>\n",
       "    </tr>\n",
       "    <tr>\n",
       "      <th>75</th>\n",
       "      <td>-1678.969771</td>\n",
       "      <td>NaN</td>\n",
       "      <td>NaN</td>\n",
       "    </tr>\n",
       "  </tbody>\n",
       "</table>\n",
       "</div>"
      ],
      "text/plain": [
       "gender                 F              M          XNA\n",
       "dob_years                                           \n",
       "0           -1327.579211   -1015.395451          NaN\n",
       "19           -710.230781    -885.268574          NaN\n",
       "20           -595.559207    -880.528819          NaN\n",
       "21           -608.003610    -627.185770          NaN\n",
       "22           -691.825293    -740.851560          NaN\n",
       "23           -634.611807    -727.699529          NaN\n",
       "24           -964.894524    -901.549138 -2358.600502\n",
       "25           -951.181756    -869.061319          NaN\n",
       "26          -1173.584347    -957.617546          NaN\n",
       "27          -1195.389362   -1118.968259          NaN\n",
       "28          -1289.487398    -935.430693          NaN\n",
       "29          -1450.847696   -1218.859260          NaN\n",
       "30          -1421.449054   -1420.586863          NaN\n",
       "31          -1315.077457   -1260.378990          NaN\n",
       "32          -1536.208255   -1293.207605          NaN\n",
       "33          -1561.965657   -1254.494830          NaN\n",
       "34          -1631.262559   -1518.397082          NaN\n",
       "35          -1722.672507   -1489.511688          NaN\n",
       "36          -1848.502185   -1702.586346          NaN\n",
       "37          -1847.731652   -1636.482076          NaN\n",
       "38          -1803.053103   -1623.108469          NaN\n",
       "39          -2045.033856   -1659.363127          NaN\n",
       "40          -1752.092971   -1469.385339          NaN\n",
       "41          -1825.570497   -1858.556909          NaN\n",
       "42          -2290.335114   -1904.180624          NaN\n",
       "43          -2083.934423   -1418.881856          NaN\n",
       "44          -2184.310078   -1580.036725          NaN\n",
       "45          -2289.796688   -1523.553348          NaN\n",
       "46          -2041.666104   -1797.853959          NaN\n",
       "47          -2314.306068   -1673.921576          NaN\n",
       "48          -2044.399299   -2082.256286          NaN\n",
       "49          -2406.381752   -1620.816859          NaN\n",
       "50          -2005.219883   -1586.197974          NaN\n",
       "51          -1581.211673   -1251.237069          NaN\n",
       "52          -1403.080830   -1653.920926          NaN\n",
       "53          -1442.996662   -1184.842230          NaN\n",
       "54           -648.397041   -1487.616937          NaN\n",
       "55           -148.867038   -1369.396126          NaN\n",
       "56         332245.835073   -1588.384846          NaN\n",
       "57         346062.271843    -688.644502          NaN\n",
       "58         340298.410068   -1227.862921          NaN\n",
       "59         351913.372108   -1022.214873          NaN\n",
       "60         352450.930489    -478.456463          NaN\n",
       "61         346602.453782  166255.469197          NaN\n",
       "62         355583.234032  343080.264048          NaN\n",
       "63         362864.993022  337738.712122          NaN\n",
       "64         358068.243799  345637.319160          NaN\n",
       "65         361989.769975  340411.408837          NaN\n",
       "66         361812.912667  371228.000467          NaN\n",
       "67         358704.192577  343374.947426          NaN\n",
       "68         364688.917160  365867.472003          NaN\n",
       "69         363411.852104  359090.237053          NaN\n",
       "70         367343.110634  352201.039378          NaN\n",
       "71         364089.653490  356204.886439          NaN\n",
       "72         367378.973169  363929.636328          NaN\n",
       "73         364291.049263            NaN          NaN\n",
       "74         357194.615058  171447.101787          NaN\n",
       "75          -1678.969771            NaN          NaN"
      ]
     },
     "execution_count": 6,
     "metadata": {},
     "output_type": "execute_result"
    }
   ],
   "source": [
    "pivot_table_days_employed = data.pivot_table(index=['dob_years'],\n",
    "                                columns = 'gender',\n",
    "                                values = 'days_employed',\n",
    "                                aggfunc='median')\n",
    "pivot_table_days_employed"
   ]
  },
  {
   "cell_type": "code",
   "execution_count": 7,
   "id": "d816d3fb",
   "metadata": {},
   "outputs": [],
   "source": [
    "#Создаем переменную, в которой будем хранить значение медианы для стоблца days_employed\n",
    "days_employed_median = data['days_employed'].median()\n",
    "#Подсчет общего кол-ва записей\n",
    "days_employed_count = data['days_employed'].count()\n",
    "#Подсчет доли \n",
    "days_employed_share = days_employed_median / days_employed_count"
   ]
  },
  {
   "cell_type": "code",
   "execution_count": 8,
   "id": "640c7b5a",
   "metadata": {},
   "outputs": [],
   "source": [
    "\n",
    "#Замена пропусков\n",
    "def fillna_in_days_employed(data_frame):\n",
    "    gender = data_frame['gender']\n",
    "    age = data_frame['dob_years']\n",
    "    if pd.isnull(data_frame['days_employed']):\n",
    "        return pivot_table_days_employed.loc[age,gender]\n",
    "    else:\n",
    "        return data_frame['days_employed']\n",
    "\n",
    "data['days_employed'] = data.apply(fillna_in_days_employed, axis = 1)\n",
    "\n"
   ]
  },
  {
   "cell_type": "code",
   "execution_count": 9,
   "id": "d4f9108f",
   "metadata": {},
   "outputs": [
    {
     "name": "stdout",
     "output_type": "stream",
     "text": [
      "Количество пропусков: 0\n",
      "\n",
      "Значение медианы для дней работы: -1203.369528770489\n",
      "\n",
      "Всего записей - 19351\n",
      "\n",
      "-0.062186425960957525 - доля пропущенных значений\n"
     ]
    }
   ],
   "source": [
    "print('Количество пропусков:', data['days_employed'].isnull().sum())\n",
    "print()\n",
    "print('Значение медианы для дней работы:', days_employed_median)\n",
    "print()\n",
    "print('Всего записей -', days_employed_count)\n",
    "print()\n",
    "print(days_employed_share, '- доля пропущенных значений')"
   ]
  },
  {
   "cell_type": "code",
   "execution_count": 10,
   "id": "c0df51d6",
   "metadata": {},
   "outputs": [
    {
     "data": {
      "text/html": [
       "<div>\n",
       "<style scoped>\n",
       "    .dataframe tbody tr th:only-of-type {\n",
       "        vertical-align: middle;\n",
       "    }\n",
       "\n",
       "    .dataframe tbody tr th {\n",
       "        vertical-align: top;\n",
       "    }\n",
       "\n",
       "    .dataframe thead th {\n",
       "        text-align: right;\n",
       "    }\n",
       "</style>\n",
       "<table border=\"1\" class=\"dataframe\">\n",
       "  <thead>\n",
       "    <tr style=\"text-align: right;\">\n",
       "      <th>gender</th>\n",
       "      <th>F</th>\n",
       "      <th>M</th>\n",
       "      <th>XNA</th>\n",
       "    </tr>\n",
       "    <tr>\n",
       "      <th>dob_years</th>\n",
       "      <th></th>\n",
       "      <th></th>\n",
       "      <th></th>\n",
       "    </tr>\n",
       "  </thead>\n",
       "  <tbody>\n",
       "    <tr>\n",
       "      <th>0</th>\n",
       "      <td>117279.001914</td>\n",
       "      <td>179138.212343</td>\n",
       "      <td>NaN</td>\n",
       "    </tr>\n",
       "    <tr>\n",
       "      <th>19</th>\n",
       "      <td>112217.756662</td>\n",
       "      <td>91876.754772</td>\n",
       "      <td>NaN</td>\n",
       "    </tr>\n",
       "    <tr>\n",
       "      <th>20</th>\n",
       "      <td>101512.989536</td>\n",
       "      <td>134750.749515</td>\n",
       "      <td>NaN</td>\n",
       "    </tr>\n",
       "    <tr>\n",
       "      <th>21</th>\n",
       "      <td>112778.853259</td>\n",
       "      <td>147812.788085</td>\n",
       "      <td>NaN</td>\n",
       "    </tr>\n",
       "    <tr>\n",
       "      <th>22</th>\n",
       "      <td>111633.034748</td>\n",
       "      <td>158258.854591</td>\n",
       "      <td>NaN</td>\n",
       "    </tr>\n",
       "    <tr>\n",
       "      <th>23</th>\n",
       "      <td>117755.877467</td>\n",
       "      <td>137544.158776</td>\n",
       "      <td>NaN</td>\n",
       "    </tr>\n",
       "    <tr>\n",
       "      <th>24</th>\n",
       "      <td>122193.154166</td>\n",
       "      <td>153115.076039</td>\n",
       "      <td>203905.157261</td>\n",
       "    </tr>\n",
       "    <tr>\n",
       "      <th>25</th>\n",
       "      <td>131764.441672</td>\n",
       "      <td>161883.762815</td>\n",
       "      <td>NaN</td>\n",
       "    </tr>\n",
       "    <tr>\n",
       "      <th>26</th>\n",
       "      <td>132408.440852</td>\n",
       "      <td>165998.158511</td>\n",
       "      <td>NaN</td>\n",
       "    </tr>\n",
       "    <tr>\n",
       "      <th>27</th>\n",
       "      <td>142601.204718</td>\n",
       "      <td>170124.764755</td>\n",
       "      <td>NaN</td>\n",
       "    </tr>\n",
       "    <tr>\n",
       "      <th>28</th>\n",
       "      <td>124634.217107</td>\n",
       "      <td>168923.070637</td>\n",
       "      <td>NaN</td>\n",
       "    </tr>\n",
       "    <tr>\n",
       "      <th>29</th>\n",
       "      <td>130785.975836</td>\n",
       "      <td>178287.259247</td>\n",
       "      <td>NaN</td>\n",
       "    </tr>\n",
       "    <tr>\n",
       "      <th>30</th>\n",
       "      <td>144278.566350</td>\n",
       "      <td>162049.930006</td>\n",
       "      <td>NaN</td>\n",
       "    </tr>\n",
       "    <tr>\n",
       "      <th>31</th>\n",
       "      <td>136319.471185</td>\n",
       "      <td>166538.956087</td>\n",
       "      <td>NaN</td>\n",
       "    </tr>\n",
       "    <tr>\n",
       "      <th>32</th>\n",
       "      <td>132162.260689</td>\n",
       "      <td>179092.570424</td>\n",
       "      <td>NaN</td>\n",
       "    </tr>\n",
       "    <tr>\n",
       "      <th>33</th>\n",
       "      <td>145159.056159</td>\n",
       "      <td>187462.450139</td>\n",
       "      <td>NaN</td>\n",
       "    </tr>\n",
       "    <tr>\n",
       "      <th>34</th>\n",
       "      <td>138482.954618</td>\n",
       "      <td>178268.907126</td>\n",
       "      <td>NaN</td>\n",
       "    </tr>\n",
       "    <tr>\n",
       "      <th>35</th>\n",
       "      <td>143362.571100</td>\n",
       "      <td>166031.086381</td>\n",
       "      <td>NaN</td>\n",
       "    </tr>\n",
       "    <tr>\n",
       "      <th>36</th>\n",
       "      <td>145971.354139</td>\n",
       "      <td>179345.180233</td>\n",
       "      <td>NaN</td>\n",
       "    </tr>\n",
       "    <tr>\n",
       "      <th>37</th>\n",
       "      <td>142884.999736</td>\n",
       "      <td>182866.307925</td>\n",
       "      <td>NaN</td>\n",
       "    </tr>\n",
       "    <tr>\n",
       "      <th>38</th>\n",
       "      <td>134065.535773</td>\n",
       "      <td>181429.748950</td>\n",
       "      <td>NaN</td>\n",
       "    </tr>\n",
       "    <tr>\n",
       "      <th>39</th>\n",
       "      <td>141088.907278</td>\n",
       "      <td>174144.662759</td>\n",
       "      <td>NaN</td>\n",
       "    </tr>\n",
       "    <tr>\n",
       "      <th>40</th>\n",
       "      <td>143291.760057</td>\n",
       "      <td>175011.493984</td>\n",
       "      <td>NaN</td>\n",
       "    </tr>\n",
       "    <tr>\n",
       "      <th>41</th>\n",
       "      <td>134107.800894</td>\n",
       "      <td>170001.459328</td>\n",
       "      <td>NaN</td>\n",
       "    </tr>\n",
       "    <tr>\n",
       "      <th>42</th>\n",
       "      <td>136789.718171</td>\n",
       "      <td>194077.953616</td>\n",
       "      <td>NaN</td>\n",
       "    </tr>\n",
       "    <tr>\n",
       "      <th>43</th>\n",
       "      <td>144058.141574</td>\n",
       "      <td>165817.203920</td>\n",
       "      <td>NaN</td>\n",
       "    </tr>\n",
       "    <tr>\n",
       "      <th>44</th>\n",
       "      <td>144530.140907</td>\n",
       "      <td>172979.891379</td>\n",
       "      <td>NaN</td>\n",
       "    </tr>\n",
       "    <tr>\n",
       "      <th>45</th>\n",
       "      <td>142569.028378</td>\n",
       "      <td>176704.455638</td>\n",
       "      <td>NaN</td>\n",
       "    </tr>\n",
       "    <tr>\n",
       "      <th>46</th>\n",
       "      <td>147801.380127</td>\n",
       "      <td>175216.274892</td>\n",
       "      <td>NaN</td>\n",
       "    </tr>\n",
       "    <tr>\n",
       "      <th>47</th>\n",
       "      <td>141684.187232</td>\n",
       "      <td>176544.425811</td>\n",
       "      <td>NaN</td>\n",
       "    </tr>\n",
       "    <tr>\n",
       "      <th>48</th>\n",
       "      <td>145126.500321</td>\n",
       "      <td>180693.569861</td>\n",
       "      <td>NaN</td>\n",
       "    </tr>\n",
       "    <tr>\n",
       "      <th>49</th>\n",
       "      <td>138027.456657</td>\n",
       "      <td>188417.085709</td>\n",
       "      <td>NaN</td>\n",
       "    </tr>\n",
       "    <tr>\n",
       "      <th>50</th>\n",
       "      <td>129289.732150</td>\n",
       "      <td>170271.835895</td>\n",
       "      <td>NaN</td>\n",
       "    </tr>\n",
       "    <tr>\n",
       "      <th>51</th>\n",
       "      <td>137722.596103</td>\n",
       "      <td>166716.783971</td>\n",
       "      <td>NaN</td>\n",
       "    </tr>\n",
       "    <tr>\n",
       "      <th>52</th>\n",
       "      <td>139863.800573</td>\n",
       "      <td>151156.926187</td>\n",
       "      <td>NaN</td>\n",
       "    </tr>\n",
       "    <tr>\n",
       "      <th>53</th>\n",
       "      <td>135265.945136</td>\n",
       "      <td>165481.252629</td>\n",
       "      <td>NaN</td>\n",
       "    </tr>\n",
       "    <tr>\n",
       "      <th>54</th>\n",
       "      <td>128194.490642</td>\n",
       "      <td>159335.182709</td>\n",
       "      <td>NaN</td>\n",
       "    </tr>\n",
       "    <tr>\n",
       "      <th>55</th>\n",
       "      <td>126804.988915</td>\n",
       "      <td>152595.688030</td>\n",
       "      <td>NaN</td>\n",
       "    </tr>\n",
       "    <tr>\n",
       "      <th>56</th>\n",
       "      <td>127947.130141</td>\n",
       "      <td>161771.554486</td>\n",
       "      <td>NaN</td>\n",
       "    </tr>\n",
       "    <tr>\n",
       "      <th>57</th>\n",
       "      <td>134096.740748</td>\n",
       "      <td>165432.049780</td>\n",
       "      <td>NaN</td>\n",
       "    </tr>\n",
       "    <tr>\n",
       "      <th>58</th>\n",
       "      <td>124666.941017</td>\n",
       "      <td>162450.757900</td>\n",
       "      <td>NaN</td>\n",
       "    </tr>\n",
       "    <tr>\n",
       "      <th>59</th>\n",
       "      <td>127840.501994</td>\n",
       "      <td>157583.115164</td>\n",
       "      <td>NaN</td>\n",
       "    </tr>\n",
       "    <tr>\n",
       "      <th>60</th>\n",
       "      <td>119893.074697</td>\n",
       "      <td>153884.805033</td>\n",
       "      <td>NaN</td>\n",
       "    </tr>\n",
       "    <tr>\n",
       "      <th>61</th>\n",
       "      <td>121784.145103</td>\n",
       "      <td>156290.474852</td>\n",
       "      <td>NaN</td>\n",
       "    </tr>\n",
       "    <tr>\n",
       "      <th>62</th>\n",
       "      <td>132382.911657</td>\n",
       "      <td>132769.085838</td>\n",
       "      <td>NaN</td>\n",
       "    </tr>\n",
       "    <tr>\n",
       "      <th>63</th>\n",
       "      <td>125190.918195</td>\n",
       "      <td>117339.352662</td>\n",
       "      <td>NaN</td>\n",
       "    </tr>\n",
       "    <tr>\n",
       "      <th>64</th>\n",
       "      <td>131790.507138</td>\n",
       "      <td>164003.047431</td>\n",
       "      <td>NaN</td>\n",
       "    </tr>\n",
       "    <tr>\n",
       "      <th>65</th>\n",
       "      <td>122165.093982</td>\n",
       "      <td>123529.192472</td>\n",
       "      <td>NaN</td>\n",
       "    </tr>\n",
       "    <tr>\n",
       "      <th>66</th>\n",
       "      <td>115625.299396</td>\n",
       "      <td>108926.657200</td>\n",
       "      <td>NaN</td>\n",
       "    </tr>\n",
       "    <tr>\n",
       "      <th>67</th>\n",
       "      <td>105743.396347</td>\n",
       "      <td>139459.454667</td>\n",
       "      <td>NaN</td>\n",
       "    </tr>\n",
       "    <tr>\n",
       "      <th>68</th>\n",
       "      <td>100967.132052</td>\n",
       "      <td>124236.174894</td>\n",
       "      <td>NaN</td>\n",
       "    </tr>\n",
       "    <tr>\n",
       "      <th>69</th>\n",
       "      <td>101970.245624</td>\n",
       "      <td>112173.449051</td>\n",
       "      <td>NaN</td>\n",
       "    </tr>\n",
       "    <tr>\n",
       "      <th>70</th>\n",
       "      <td>109249.173077</td>\n",
       "      <td>135668.931586</td>\n",
       "      <td>NaN</td>\n",
       "    </tr>\n",
       "    <tr>\n",
       "      <th>71</th>\n",
       "      <td>114510.462596</td>\n",
       "      <td>137297.151772</td>\n",
       "      <td>NaN</td>\n",
       "    </tr>\n",
       "    <tr>\n",
       "      <th>72</th>\n",
       "      <td>110985.525593</td>\n",
       "      <td>114142.039967</td>\n",
       "      <td>NaN</td>\n",
       "    </tr>\n",
       "    <tr>\n",
       "      <th>73</th>\n",
       "      <td>119190.487878</td>\n",
       "      <td>NaN</td>\n",
       "      <td>NaN</td>\n",
       "    </tr>\n",
       "    <tr>\n",
       "      <th>74</th>\n",
       "      <td>72017.726298</td>\n",
       "      <td>89792.412577</td>\n",
       "      <td>NaN</td>\n",
       "    </tr>\n",
       "    <tr>\n",
       "      <th>75</th>\n",
       "      <td>153282.648133</td>\n",
       "      <td>NaN</td>\n",
       "      <td>NaN</td>\n",
       "    </tr>\n",
       "  </tbody>\n",
       "</table>\n",
       "</div>"
      ],
      "text/plain": [
       "gender                 F              M            XNA\n",
       "dob_years                                             \n",
       "0          117279.001914  179138.212343            NaN\n",
       "19         112217.756662   91876.754772            NaN\n",
       "20         101512.989536  134750.749515            NaN\n",
       "21         112778.853259  147812.788085            NaN\n",
       "22         111633.034748  158258.854591            NaN\n",
       "23         117755.877467  137544.158776            NaN\n",
       "24         122193.154166  153115.076039  203905.157261\n",
       "25         131764.441672  161883.762815            NaN\n",
       "26         132408.440852  165998.158511            NaN\n",
       "27         142601.204718  170124.764755            NaN\n",
       "28         124634.217107  168923.070637            NaN\n",
       "29         130785.975836  178287.259247            NaN\n",
       "30         144278.566350  162049.930006            NaN\n",
       "31         136319.471185  166538.956087            NaN\n",
       "32         132162.260689  179092.570424            NaN\n",
       "33         145159.056159  187462.450139            NaN\n",
       "34         138482.954618  178268.907126            NaN\n",
       "35         143362.571100  166031.086381            NaN\n",
       "36         145971.354139  179345.180233            NaN\n",
       "37         142884.999736  182866.307925            NaN\n",
       "38         134065.535773  181429.748950            NaN\n",
       "39         141088.907278  174144.662759            NaN\n",
       "40         143291.760057  175011.493984            NaN\n",
       "41         134107.800894  170001.459328            NaN\n",
       "42         136789.718171  194077.953616            NaN\n",
       "43         144058.141574  165817.203920            NaN\n",
       "44         144530.140907  172979.891379            NaN\n",
       "45         142569.028378  176704.455638            NaN\n",
       "46         147801.380127  175216.274892            NaN\n",
       "47         141684.187232  176544.425811            NaN\n",
       "48         145126.500321  180693.569861            NaN\n",
       "49         138027.456657  188417.085709            NaN\n",
       "50         129289.732150  170271.835895            NaN\n",
       "51         137722.596103  166716.783971            NaN\n",
       "52         139863.800573  151156.926187            NaN\n",
       "53         135265.945136  165481.252629            NaN\n",
       "54         128194.490642  159335.182709            NaN\n",
       "55         126804.988915  152595.688030            NaN\n",
       "56         127947.130141  161771.554486            NaN\n",
       "57         134096.740748  165432.049780            NaN\n",
       "58         124666.941017  162450.757900            NaN\n",
       "59         127840.501994  157583.115164            NaN\n",
       "60         119893.074697  153884.805033            NaN\n",
       "61         121784.145103  156290.474852            NaN\n",
       "62         132382.911657  132769.085838            NaN\n",
       "63         125190.918195  117339.352662            NaN\n",
       "64         131790.507138  164003.047431            NaN\n",
       "65         122165.093982  123529.192472            NaN\n",
       "66         115625.299396  108926.657200            NaN\n",
       "67         105743.396347  139459.454667            NaN\n",
       "68         100967.132052  124236.174894            NaN\n",
       "69         101970.245624  112173.449051            NaN\n",
       "70         109249.173077  135668.931586            NaN\n",
       "71         114510.462596  137297.151772            NaN\n",
       "72         110985.525593  114142.039967            NaN\n",
       "73         119190.487878            NaN            NaN\n",
       "74          72017.726298   89792.412577            NaN\n",
       "75         153282.648133            NaN            NaN"
      ]
     },
     "execution_count": 10,
     "metadata": {},
     "output_type": "execute_result"
    }
   ],
   "source": [
    "pivot_table_total_income = data.pivot_table(index=['dob_years'],\n",
    "                                    columns = 'gender',\n",
    "                                    values = 'total_income',\n",
    "                                    aggfunc='median')\n",
    "pivot_table_total_income"
   ]
  },
  {
   "cell_type": "code",
   "execution_count": 11,
   "id": "18a68bd8",
   "metadata": {},
   "outputs": [],
   "source": [
    "#Создаем переменную, в которой будем хранить значение медианы для стоблца total_income\n",
    "total_income_median = data['total_income'].median()\n",
    "#Подсчет общего кол-ва записей\n",
    "total_income_count = data['total_income'].count()\n",
    "#Подсчет доли \n",
    "total_income_share = total_income_median / total_income_count"
   ]
  },
  {
   "cell_type": "code",
   "execution_count": 12,
   "id": "c57c9d89",
   "metadata": {},
   "outputs": [],
   "source": [
    "#Замена пропусков\n",
    "def fillna_in_total_income(data_frame):\n",
    "    gender = data_frame['gender']\n",
    "    age = data_frame['dob_years']\n",
    "    if pd.isnull(data_frame['total_income']):\n",
    "        return pivot_table_total_income.loc[age,gender]\n",
    "    else:\n",
    "        return data_frame['total_income']\n",
    "\n",
    "data['total_income'] = data.apply(fillna_in_total_income, axis = 1)"
   ]
  },
  {
   "cell_type": "code",
   "execution_count": 13,
   "id": "f4a84649",
   "metadata": {},
   "outputs": [
    {
     "name": "stdout",
     "output_type": "stream",
     "text": [
      "Количество пропусков: 0\n",
      "\n",
      "Значение медианы для общей прибыли: 145017.93753253992\n",
      "\n",
      "Всего записей - 19351\n",
      "\n",
      "7.494079765001287 - доля пропущенных значений\n"
     ]
    }
   ],
   "source": [
    "#Проверка \n",
    "print('Количество пропусков:', data['total_income'].isnull().sum())\n",
    "print()\n",
    "print('Значение медианы для общей прибыли:', total_income_median) \n",
    "print()\n",
    "print('Всего записей -', total_income_count)\n",
    "print()\n",
    "print(total_income_share, '- доля пропущенных значений')"
   ]
  },
  {
   "cell_type": "code",
   "execution_count": 14,
   "id": "41cb909b",
   "metadata": {},
   "outputs": [
    {
     "name": "stdout",
     "output_type": "stream",
     "text": [
      "<class 'pandas.core.frame.DataFrame'>\n",
      "RangeIndex: 21525 entries, 0 to 21524\n",
      "Data columns (total 12 columns):\n",
      " #   Column            Non-Null Count  Dtype  \n",
      "---  ------            --------------  -----  \n",
      " 0   children          21525 non-null  int64  \n",
      " 1   days_employed     21525 non-null  float64\n",
      " 2   dob_years         21525 non-null  int64  \n",
      " 3   education         21525 non-null  object \n",
      " 4   education_id      21525 non-null  int64  \n",
      " 5   family_status     21525 non-null  object \n",
      " 6   family_status_id  21525 non-null  int64  \n",
      " 7   gender            21525 non-null  object \n",
      " 8   income_type       21525 non-null  object \n",
      " 9   debt              21525 non-null  int64  \n",
      " 10  total_income      21525 non-null  float64\n",
      " 11  purpose           21525 non-null  object \n",
      "dtypes: float64(2), int64(5), object(5)\n",
      "memory usage: 2.0+ MB\n"
     ]
    }
   ],
   "source": [
    "data.info()"
   ]
  },
  {
   "cell_type": "markdown",
   "id": "0208cc5a",
   "metadata": {},
   "source": [
    "### Вывод"
   ]
  },
  {
   "cell_type": "markdown",
   "id": "96420f2d",
   "metadata": {},
   "source": [
    "Тк обработать огромное количество данных сложно и тем более ответить на вопрос, какой доход и стаж работы нормальные, те взять среднее значение, поэтому логичнее взять медиану для заполнения пропусков"
   ]
  },
  {
   "cell_type": "markdown",
   "id": "6fad17c6",
   "metadata": {},
   "source": [
    "### Шаг 2.2 Проверка данных на аномалии и исправления."
   ]
  },
  {
   "cell_type": "markdown",
   "id": "315d0d40",
   "metadata": {},
   "source": [
    "### Шаг 2.2.1 Проверим, есть ли другие отрицательные значения в столбце children"
   ]
  },
  {
   "cell_type": "code",
   "execution_count": 15,
   "id": "81ebc128",
   "metadata": {},
   "outputs": [
    {
     "name": "stdout",
     "output_type": "stream",
     "text": [
      "не числовой столбец\n",
      "не числовой столбец\n",
      "не числовой столбец\n",
      "не числовой столбец\n",
      "не числовой столбец\n"
     ]
    }
   ],
   "source": [
    "for column in data.columns:\n",
    "    try:\n",
    "        data[data[column] < 0]\n",
    "    except:\n",
    "        print('не числовой столбец')"
   ]
  },
  {
   "cell_type": "markdown",
   "id": "3298aef2",
   "metadata": {},
   "source": [
    "Чтобы выявить анамалии просмотрим каждый столбец по отдельности "
   ]
  },
  {
   "cell_type": "code",
   "execution_count": 16,
   "id": "43998141",
   "metadata": {},
   "outputs": [
    {
     "data": {
      "text/plain": [
       "array([-1])"
      ]
     },
     "execution_count": 16,
     "metadata": {},
     "output_type": "execute_result"
    }
   ],
   "source": [
    "data[data['children'] < 0]['children'].unique()\n"
   ]
  },
  {
   "cell_type": "code",
   "execution_count": 17,
   "id": "8f8e27e8",
   "metadata": {},
   "outputs": [
    {
     "data": {
      "text/plain": [
       "array([20])"
      ]
     },
     "execution_count": 17,
     "metadata": {},
     "output_type": "execute_result"
    }
   ],
   "source": [
    "data[data['children'] > 10]['children'].unique()"
   ]
  },
  {
   "cell_type": "markdown",
   "id": "f695c266",
   "metadata": {},
   "source": [
    "Другие значения присутствуют. Скорее всего это техническая ошибка, которую следует исправить заменой."
   ]
  },
  {
   "cell_type": "code",
   "execution_count": 18,
   "id": "b7d02678",
   "metadata": {},
   "outputs": [],
   "source": [
    "data['children'].replace(-1,1,inplace = True)"
   ]
  },
  {
   "cell_type": "code",
   "execution_count": 19,
   "id": "7b70a8c1",
   "metadata": {},
   "outputs": [],
   "source": [
    "data['children'].replace(20,2,inplace = True)"
   ]
  },
  {
   "cell_type": "markdown",
   "id": "381797f0",
   "metadata": {},
   "source": [
    "Заметим, что все анаомальные занчения были изменины, код работает верно"
   ]
  },
  {
   "cell_type": "markdown",
   "id": "26df57a9",
   "metadata": {},
   "source": [
    "### Шаг 2.2.2 Проверим столбец days_employed"
   ]
  },
  {
   "cell_type": "markdown",
   "id": "0ca8bd04",
   "metadata": {},
   "source": [
    "На 2022 пенсионный возраст женщин 56, мужчин 61. Заметим, что человек проживший 100 лет и работающий с самого своего рождения может максимально иметь ~36500 дней рабочего стажа(это тоже сомнительно), в столбце ответственном за хранение стажа преимущественно отрицательные значения или значение превосходящие человеческие возможности. Проверим есть ли в данном столбце значения большие 0, но при этом не превосходящие человеческие возможности(36500 дней стажа)"
   ]
  },
  {
   "cell_type": "code",
   "execution_count": 20,
   "id": "f0d64bff",
   "metadata": {},
   "outputs": [
    {
     "data": {
      "text/html": [
       "<div>\n",
       "<style scoped>\n",
       "    .dataframe tbody tr th:only-of-type {\n",
       "        vertical-align: middle;\n",
       "    }\n",
       "\n",
       "    .dataframe tbody tr th {\n",
       "        vertical-align: top;\n",
       "    }\n",
       "\n",
       "    .dataframe thead th {\n",
       "        text-align: right;\n",
       "    }\n",
       "</style>\n",
       "<table border=\"1\" class=\"dataframe\">\n",
       "  <thead>\n",
       "    <tr style=\"text-align: right;\">\n",
       "      <th></th>\n",
       "      <th>children</th>\n",
       "      <th>days_employed</th>\n",
       "      <th>dob_years</th>\n",
       "      <th>education</th>\n",
       "      <th>education_id</th>\n",
       "      <th>family_status</th>\n",
       "      <th>family_status_id</th>\n",
       "      <th>gender</th>\n",
       "      <th>income_type</th>\n",
       "      <th>debt</th>\n",
       "      <th>total_income</th>\n",
       "      <th>purpose</th>\n",
       "    </tr>\n",
       "  </thead>\n",
       "  <tbody>\n",
       "  </tbody>\n",
       "</table>\n",
       "</div>"
      ],
      "text/plain": [
       "Empty DataFrame\n",
       "Columns: [children, days_employed, dob_years, education, education_id, family_status, family_status_id, gender, income_type, debt, total_income, purpose]\n",
       "Index: []"
      ]
     },
     "execution_count": 20,
     "metadata": {},
     "output_type": "execute_result"
    }
   ],
   "source": [
    "data[(data['days_employed'] >= 0) & (data['days_employed'] < 36500)]"
   ]
  },
  {
   "cell_type": "markdown",
   "id": "1527e6bd",
   "metadata": {},
   "source": [
    "Заметим, что корректные данные отсутсвуют. Скорее всего это произошло из-за технической ошибки (корректные данные приняли отрицательные значения). Отсюда можно придти к решению:\n",
    "Откинуть минус и считать данные, которые являются отрицательными истинными, но содержавшими аномалию в виде минуса. А значения не укладывающиеся в человеческие возможности привести к максимальному стажу."
   ]
  },
  {
   "cell_type": "code",
   "execution_count": 56,
   "id": "9c03d8ae",
   "metadata": {},
   "outputs": [
    {
     "name": "stdout",
     "output_type": "stream",
     "text": [
      "0         8437.673028\n",
      "1         4024.803754\n",
      "2         5623.422610\n",
      "3         4124.747207\n",
      "4        14235.000000\n",
      "             ...     \n",
      "21466     4529.316663\n",
      "21467    15330.000000\n",
      "21468     2113.346888\n",
      "21469     3112.481705\n",
      "21470     1984.507589\n",
      "Name: days_employed, Length: 21471, dtype: float64\n"
     ]
    }
   ],
   "source": [
    "#В данных встречается аномалия: отрицательное значение\n",
    "data['days_employed'] = data.days_employed.abs()\n",
    "print(data['days_employed'])"
   ]
  },
  {
   "cell_type": "markdown",
   "id": "65b3e76d",
   "metadata": {},
   "source": [
    "### Напишем функцию, которая вычисляет максимальный рабочий стаж"
   ]
  },
  {
   "cell_type": "code",
   "execution_count": 22,
   "id": "af6511bb",
   "metadata": {},
   "outputs": [],
   "source": [
    "def max_seniority(data_frame):\n",
    "    \n",
    "    current_seniority = data_frame['days_employed']\n",
    "    \n",
    "    if current_seniority == np.nan:\n",
    "        return current_seniority\n",
    "    else:\n",
    "        if data_frame['gender'] == 'M' and data_frame['dob_years'] > 61 : \n",
    "            max_years = 61\n",
    "        elif data_frame['gender'] == 'F' and data_frame['dob_years'] > 56:\n",
    "            max_years = 56\n",
    "        else: \n",
    "            max_years = data_frame['dob_years']\n",
    "\n",
    "        max_seniority = (max_years - 14) * 365\n",
    "        if current_seniority > max_seniority:\n",
    "            return max_seniority\n",
    "        elif current_seniority < 0:\n",
    "            return (current_seniority * -1)\n",
    "        else:\n",
    "            return current_seniority"
   ]
  },
  {
   "cell_type": "code",
   "execution_count": 23,
   "id": "22725ea3",
   "metadata": {},
   "outputs": [],
   "source": [
    "data['days_employed'] = data.apply(max_seniority, axis = 1)"
   ]
  },
  {
   "cell_type": "markdown",
   "id": "a3ad3a6b",
   "metadata": {},
   "source": [
    "Проверим изменения"
   ]
  },
  {
   "cell_type": "code",
   "execution_count": 24,
   "id": "48477874",
   "metadata": {},
   "outputs": [
    {
     "data": {
      "text/plain": [
       "0        False\n",
       "1        False\n",
       "2        False\n",
       "3        False\n",
       "4        False\n",
       "         ...  \n",
       "21520    False\n",
       "21521    False\n",
       "21522    False\n",
       "21523    False\n",
       "21524    False\n",
       "Name: days_employed, Length: 21525, dtype: bool"
      ]
     },
     "execution_count": 24,
     "metadata": {},
     "output_type": "execute_result"
    }
   ],
   "source": [
    "data['days_employed']<0"
   ]
  },
  {
   "cell_type": "code",
   "execution_count": 25,
   "id": "70fa46fc",
   "metadata": {},
   "outputs": [
    {
     "data": {
      "text/plain": [
       "0        False\n",
       "1        False\n",
       "2        False\n",
       "3        False\n",
       "4        False\n",
       "         ...  \n",
       "21520    False\n",
       "21521    False\n",
       "21522    False\n",
       "21523    False\n",
       "21524    False\n",
       "Name: days_employed, Length: 21525, dtype: bool"
      ]
     },
     "execution_count": 25,
     "metadata": {},
     "output_type": "execute_result"
    }
   ],
   "source": [
    "data['days_employed']>35600"
   ]
  },
  {
   "cell_type": "markdown",
   "id": "09c50808",
   "metadata": {},
   "source": [
    "Вывод\n",
    "\n",
    "1)Мы поняли, что в данных присутствовали аномалии\n",
    "\n",
    "2)Таблица нуждается в очистке и исправления"
   ]
  },
  {
   "cell_type": "markdown",
   "id": "fdc1f191",
   "metadata": {},
   "source": [
    "### Шаг 2.3. Изменение типов данных."
   ]
  },
  {
   "cell_type": "markdown",
   "id": "1b34f449",
   "metadata": {},
   "source": [
    "Перед тем, как изменять тип данных, проверим наличие пустых значений и заменим их на медиану столбца"
   ]
  },
  {
   "cell_type": "code",
   "execution_count": 27,
   "id": "7c77a95c",
   "metadata": {},
   "outputs": [
    {
     "name": "stdout",
     "output_type": "stream",
     "text": [
      "0\n"
     ]
    }
   ],
   "source": [
    "print(data['total_income'].isnull().sum()) # для проверки наличия пропусков"
   ]
  },
  {
   "cell_type": "code",
   "execution_count": 28,
   "id": "297f388f",
   "metadata": {},
   "outputs": [],
   "source": [
    "data['total_income'] = data['total_income'].astype('int') #изменение типа данных"
   ]
  },
  {
   "cell_type": "markdown",
   "id": "6c460cce",
   "metadata": {},
   "source": [
    "### Шаг 2.4. Удаление дубликатов."
   ]
  },
  {
   "cell_type": "code",
   "execution_count": 29,
   "id": "15de8ffd",
   "metadata": {},
   "outputs": [],
   "source": [
    "data = data.drop_duplicates().reset_index(drop = True)"
   ]
  },
  {
   "cell_type": "code",
   "execution_count": 30,
   "id": "4f3cbaf6",
   "metadata": {},
   "outputs": [
    {
     "data": {
      "text/plain": [
       "0"
      ]
     },
     "execution_count": 30,
     "metadata": {},
     "output_type": "execute_result"
    }
   ],
   "source": [
    "data.duplicated().sum()"
   ]
  },
  {
   "cell_type": "code",
   "execution_count": 31,
   "id": "efec6e87",
   "metadata": {},
   "outputs": [
    {
     "name": "stdout",
     "output_type": "stream",
     "text": [
      "среднее                13705\n",
      "высшее                  4710\n",
      "СРЕДНЕЕ                  772\n",
      "Среднее                  711\n",
      "неоконченное высшее      668\n",
      "ВЫСШЕЕ                   273\n",
      "Высшее                   268\n",
      "начальное                250\n",
      "Неоконченное высшее       47\n",
      "НЕОКОНЧЕННОЕ ВЫСШЕЕ       29\n",
      "НАЧАЛЬНОЕ                 17\n",
      "Начальное                 15\n",
      "ученая степень             4\n",
      "УЧЕНАЯ СТЕПЕНЬ             1\n",
      "Ученая степень             1\n",
      "Name: education, dtype: int64\n"
     ]
    }
   ],
   "source": [
    "#Проверим на неявные дубликаты\n",
    "print(data['education'].value_counts())"
   ]
  },
  {
   "cell_type": "code",
   "execution_count": 32,
   "id": "8f654459",
   "metadata": {},
   "outputs": [
    {
     "name": "stdout",
     "output_type": "stream",
     "text": [
      "среднее                15188\n",
      "высшее                  5251\n",
      "неоконченное высшее      744\n",
      "начальное                282\n",
      "ученая степень             6\n",
      "Name: education, dtype: int64\n"
     ]
    }
   ],
   "source": [
    "#Переведем названия моделей в нижний регистр методом str.lower()\n",
    "data['education'] = data['education'].str.lower() \n",
    "print(data['education'].value_counts()) "
   ]
  },
  {
   "cell_type": "code",
   "execution_count": 33,
   "id": "388e10d3",
   "metadata": {},
   "outputs": [
    {
     "name": "stdout",
     "output_type": "stream",
     "text": [
      "женат / замужем          12344\n",
      "гражданский брак          4163\n",
      "Не женат / не замужем     2810\n",
      "в разводе                 1195\n",
      "вдовец / вдова             959\n",
      "Name: family_status, dtype: int64\n"
     ]
    }
   ],
   "source": [
    "#Проверим на неявные дубликаты\n",
    "print(data['family_status'].value_counts())"
   ]
  },
  {
   "cell_type": "code",
   "execution_count": 34,
   "id": "faf30d1f",
   "metadata": {},
   "outputs": [
    {
     "name": "stdout",
     "output_type": "stream",
     "text": [
      "женат / замужем          12344\n",
      "гражданский брак          4163\n",
      "не женат / не замужем     2810\n",
      "в разводе                 1195\n",
      "вдовец / вдова             959\n",
      "Name: family_status, dtype: int64\n"
     ]
    }
   ],
   "source": [
    "#Переведем названия моделей в нижний регистр методом str.lower()\n",
    "data['family_status'] = data['family_status'].str.lower()\n",
    "print(data['family_status'].value_counts())"
   ]
  },
  {
   "cell_type": "code",
   "execution_count": 35,
   "id": "cf5193ce",
   "metadata": {},
   "outputs": [
    {
     "name": "stdout",
     "output_type": "stream",
     "text": [
      "F      14189\n",
      "M       7281\n",
      "XNA        1\n",
      "Name: gender, dtype: int64\n"
     ]
    }
   ],
   "source": [
    "print(data['gender'].value_counts())"
   ]
  },
  {
   "cell_type": "code",
   "execution_count": 36,
   "id": "780f404c",
   "metadata": {},
   "outputs": [
    {
     "name": "stdout",
     "output_type": "stream",
     "text": [
      "сотрудник          11091\n",
      "компаньон           5080\n",
      "пенсионер           3837\n",
      "госслужащий         1457\n",
      "предприниматель        2\n",
      "безработный            2\n",
      "студент                1\n",
      "в декрете              1\n",
      "Name: income_type, dtype: int64\n"
     ]
    }
   ],
   "source": [
    "print(data['income_type'].value_counts())"
   ]
  },
  {
   "cell_type": "code",
   "execution_count": 37,
   "id": "3fa4c1f2",
   "metadata": {},
   "outputs": [
    {
     "name": "stdout",
     "output_type": "stream",
     "text": [
      "свадьба                                   793\n",
      "на проведение свадьбы                     773\n",
      "сыграть свадьбу                           769\n",
      "операции с недвижимостью                  675\n",
      "покупка коммерческой недвижимости         662\n",
      "покупка жилья для сдачи                   652\n",
      "операции с жильем                         652\n",
      "операции с коммерческой недвижимостью     650\n",
      "жилье                                     646\n",
      "покупка жилья                             646\n",
      "покупка жилья для семьи                   638\n",
      "строительство собственной недвижимости    635\n",
      "недвижимость                              633\n",
      "операции со своей недвижимостью           627\n",
      "строительство жилой недвижимости          625\n",
      "покупка недвижимости                      621\n",
      "покупка своего жилья                      620\n",
      "строительство недвижимости                619\n",
      "ремонт жилью                              607\n",
      "покупка жилой недвижимости                606\n",
      "на покупку своего автомобиля              505\n",
      "заняться высшим образованием              496\n",
      "автомобиль                                494\n",
      "сделка с подержанным автомобилем          486\n",
      "свой автомобиль                           479\n",
      "на покупку подержанного автомобиля        478\n",
      "автомобили                                478\n",
      "на покупку автомобиля                     472\n",
      "приобретение автомобиля                   461\n",
      "дополнительное образование                460\n",
      "сделка с автомобилем                      455\n",
      "высшее образование                        452\n",
      "образование                               447\n",
      "получение дополнительного образования     447\n",
      "получение образования                     442\n",
      "профильное образование                    436\n",
      "получение высшего образования             426\n",
      "заняться образованием                     408\n",
      "Name: purpose, dtype: int64\n"
     ]
    }
   ],
   "source": [
    "print(data['purpose'].value_counts())"
   ]
  },
  {
   "cell_type": "markdown",
   "id": "ad3146cc",
   "metadata": {},
   "source": [
    "### Шаг 2.5. Формирование дополнительных датафреймов словарей, декомпозиция исходного датафрейма."
   ]
  },
  {
   "cell_type": "code",
   "execution_count": 38,
   "id": "59c10a12",
   "metadata": {},
   "outputs": [
    {
     "data": {
      "text/html": [
       "<div>\n",
       "<style scoped>\n",
       "    .dataframe tbody tr th:only-of-type {\n",
       "        vertical-align: middle;\n",
       "    }\n",
       "\n",
       "    .dataframe tbody tr th {\n",
       "        vertical-align: top;\n",
       "    }\n",
       "\n",
       "    .dataframe thead th {\n",
       "        text-align: right;\n",
       "    }\n",
       "</style>\n",
       "<table border=\"1\" class=\"dataframe\">\n",
       "  <thead>\n",
       "    <tr style=\"text-align: right;\">\n",
       "      <th></th>\n",
       "      <th>education</th>\n",
       "      <th>education_id</th>\n",
       "    </tr>\n",
       "  </thead>\n",
       "  <tbody>\n",
       "    <tr>\n",
       "      <th>0</th>\n",
       "      <td>высшее</td>\n",
       "      <td>0</td>\n",
       "    </tr>\n",
       "    <tr>\n",
       "      <th>1</th>\n",
       "      <td>среднее</td>\n",
       "      <td>1</td>\n",
       "    </tr>\n",
       "    <tr>\n",
       "      <th>2</th>\n",
       "      <td>среднее</td>\n",
       "      <td>1</td>\n",
       "    </tr>\n",
       "    <tr>\n",
       "      <th>3</th>\n",
       "      <td>среднее</td>\n",
       "      <td>1</td>\n",
       "    </tr>\n",
       "    <tr>\n",
       "      <th>4</th>\n",
       "      <td>среднее</td>\n",
       "      <td>1</td>\n",
       "    </tr>\n",
       "    <tr>\n",
       "      <th>...</th>\n",
       "      <td>...</td>\n",
       "      <td>...</td>\n",
       "    </tr>\n",
       "    <tr>\n",
       "      <th>21466</th>\n",
       "      <td>среднее</td>\n",
       "      <td>1</td>\n",
       "    </tr>\n",
       "    <tr>\n",
       "      <th>21467</th>\n",
       "      <td>среднее</td>\n",
       "      <td>1</td>\n",
       "    </tr>\n",
       "    <tr>\n",
       "      <th>21468</th>\n",
       "      <td>среднее</td>\n",
       "      <td>1</td>\n",
       "    </tr>\n",
       "    <tr>\n",
       "      <th>21469</th>\n",
       "      <td>среднее</td>\n",
       "      <td>1</td>\n",
       "    </tr>\n",
       "    <tr>\n",
       "      <th>21470</th>\n",
       "      <td>среднее</td>\n",
       "      <td>1</td>\n",
       "    </tr>\n",
       "  </tbody>\n",
       "</table>\n",
       "<p>21471 rows × 2 columns</p>\n",
       "</div>"
      ],
      "text/plain": [
       "      education  education_id\n",
       "0        высшее             0\n",
       "1       среднее             1\n",
       "2       среднее             1\n",
       "3       среднее             1\n",
       "4       среднее             1\n",
       "...         ...           ...\n",
       "21466   среднее             1\n",
       "21467   среднее             1\n",
       "21468   среднее             1\n",
       "21469   среднее             1\n",
       "21470   среднее             1\n",
       "\n",
       "[21471 rows x 2 columns]"
      ]
     },
     "execution_count": 38,
     "metadata": {},
     "output_type": "execute_result"
    }
   ],
   "source": [
    "data_education = data[['education','education_id']]\n",
    "data_education"
   ]
  },
  {
   "cell_type": "code",
   "execution_count": 39,
   "id": "f1414f17",
   "metadata": {},
   "outputs": [
    {
     "data": {
      "text/html": [
       "<div>\n",
       "<style scoped>\n",
       "    .dataframe tbody tr th:only-of-type {\n",
       "        vertical-align: middle;\n",
       "    }\n",
       "\n",
       "    .dataframe tbody tr th {\n",
       "        vertical-align: top;\n",
       "    }\n",
       "\n",
       "    .dataframe thead th {\n",
       "        text-align: right;\n",
       "    }\n",
       "</style>\n",
       "<table border=\"1\" class=\"dataframe\">\n",
       "  <thead>\n",
       "    <tr style=\"text-align: right;\">\n",
       "      <th></th>\n",
       "      <th>family_status</th>\n",
       "      <th>family_status_id</th>\n",
       "    </tr>\n",
       "  </thead>\n",
       "  <tbody>\n",
       "    <tr>\n",
       "      <th>0</th>\n",
       "      <td>женат / замужем</td>\n",
       "      <td>0</td>\n",
       "    </tr>\n",
       "    <tr>\n",
       "      <th>1</th>\n",
       "      <td>женат / замужем</td>\n",
       "      <td>0</td>\n",
       "    </tr>\n",
       "    <tr>\n",
       "      <th>2</th>\n",
       "      <td>женат / замужем</td>\n",
       "      <td>0</td>\n",
       "    </tr>\n",
       "    <tr>\n",
       "      <th>3</th>\n",
       "      <td>женат / замужем</td>\n",
       "      <td>0</td>\n",
       "    </tr>\n",
       "    <tr>\n",
       "      <th>4</th>\n",
       "      <td>гражданский брак</td>\n",
       "      <td>1</td>\n",
       "    </tr>\n",
       "    <tr>\n",
       "      <th>...</th>\n",
       "      <td>...</td>\n",
       "      <td>...</td>\n",
       "    </tr>\n",
       "    <tr>\n",
       "      <th>21466</th>\n",
       "      <td>гражданский брак</td>\n",
       "      <td>1</td>\n",
       "    </tr>\n",
       "    <tr>\n",
       "      <th>21467</th>\n",
       "      <td>женат / замужем</td>\n",
       "      <td>0</td>\n",
       "    </tr>\n",
       "    <tr>\n",
       "      <th>21468</th>\n",
       "      <td>гражданский брак</td>\n",
       "      <td>1</td>\n",
       "    </tr>\n",
       "    <tr>\n",
       "      <th>21469</th>\n",
       "      <td>женат / замужем</td>\n",
       "      <td>0</td>\n",
       "    </tr>\n",
       "    <tr>\n",
       "      <th>21470</th>\n",
       "      <td>женат / замужем</td>\n",
       "      <td>0</td>\n",
       "    </tr>\n",
       "  </tbody>\n",
       "</table>\n",
       "<p>21471 rows × 2 columns</p>\n",
       "</div>"
      ],
      "text/plain": [
       "          family_status  family_status_id\n",
       "0       женат / замужем                 0\n",
       "1       женат / замужем                 0\n",
       "2       женат / замужем                 0\n",
       "3       женат / замужем                 0\n",
       "4      гражданский брак                 1\n",
       "...                 ...               ...\n",
       "21466  гражданский брак                 1\n",
       "21467   женат / замужем                 0\n",
       "21468  гражданский брак                 1\n",
       "21469   женат / замужем                 0\n",
       "21470   женат / замужем                 0\n",
       "\n",
       "[21471 rows x 2 columns]"
      ]
     },
     "execution_count": 39,
     "metadata": {},
     "output_type": "execute_result"
    }
   ],
   "source": [
    "data_family_status = data[['family_status','family_status_id']]\n",
    "data_family_status"
   ]
  },
  {
   "cell_type": "code",
   "execution_count": 40,
   "id": "c34b89d1",
   "metadata": {},
   "outputs": [],
   "source": [
    "data.drop(columns=['family_status', 'education'],axis = 1,inplace = True)"
   ]
  },
  {
   "cell_type": "markdown",
   "id": "f9946351",
   "metadata": {},
   "source": [
    "### Шаг 2.6. Категоризация дохода."
   ]
  },
  {
   "cell_type": "code",
   "execution_count": 41,
   "id": "de558e80",
   "metadata": {},
   "outputs": [
    {
     "name": "stdout",
     "output_type": "stream",
     "text": [
      "0        253875\n",
      "1        112080\n",
      "2        145885\n",
      "3        267628\n",
      "4        158616\n",
      "          ...  \n",
      "21466    224791\n",
      "21467    155999\n",
      "21468     89672\n",
      "21469    244093\n",
      "21470     82047\n",
      "Name: total_income, Length: 21471, dtype: int64\n"
     ]
    }
   ],
   "source": [
    "print(data['total_income'])"
   ]
  },
  {
   "cell_type": "code",
   "execution_count": 42,
   "id": "16107f45",
   "metadata": {},
   "outputs": [],
   "source": [
    "def total_income_category(messages):\n",
    "    if messages >=0 and messages <= 30000:\n",
    "        return 'E'\n",
    "    if messages >= 30001 and messages <= 50000:\n",
    "        return 'D'\n",
    "    if messages >= 50001 and messages <= 200000:\n",
    "        return 'C'\n",
    "    if messages >=200001 and messages <= 1000000:\n",
    "        return 'B'\n",
    "    return 'A'\n",
    "\n",
    "data['total_income_category'] = data['total_income'].apply(total_income_category)\n"
   ]
  },
  {
   "cell_type": "markdown",
   "id": "8e7dd9bd",
   "metadata": {},
   "source": [
    "### Шаг 2.7. Категоризация целей кредита."
   ]
  },
  {
   "cell_type": "code",
   "execution_count": 43,
   "id": "2ec7cb89",
   "metadata": {},
   "outputs": [
    {
     "name": "stdout",
     "output_type": "stream",
     "text": [
      "0        операции с недвижимостью\n",
      "1          операции с автомобилем\n",
      "2        операции с недвижимостью\n",
      "3           получение образования\n",
      "4              проведение свадьбы\n",
      "                   ...           \n",
      "21466    операции с недвижимостью\n",
      "21467      операции с автомобилем\n",
      "21468    операции с недвижимостью\n",
      "21469      операции с автомобилем\n",
      "21470      операции с автомобилем\n",
      "Name: purpose_category, Length: 21471, dtype: object\n"
     ]
    }
   ],
   "source": [
    "def purpose_category(purpose):\n",
    "    if 'авто' in purpose  :\n",
    "        return 'операции с автомобилем'\n",
    "    if 'недви' in purpose:\n",
    "        return 'операции с недвижимостью'\n",
    "    if 'жил' in purpose:\n",
    "        return 'операции с недвижимостью'\n",
    "    if 'свадьб' in purpose:\n",
    "        return 'проведение свадьбы'\n",
    "    return 'получение образования'\n",
    "\n",
    "data['purpose_category'] = data['purpose'].apply(purpose_category)\n",
    "print(data['purpose_category'])"
   ]
  },
  {
   "cell_type": "markdown",
   "id": "ac19b99d",
   "metadata": {},
   "source": [
    "Жилье и недвижимость это грубо говоря одно и тоже, а ремонт и строительство это достаточно близкие понятие."
   ]
  },
  {
   "cell_type": "code",
   "execution_count": 44,
   "id": "fa6924e6",
   "metadata": {},
   "outputs": [
    {
     "data": {
      "text/plain": [
       "операции с недвижимостью    10814\n",
       "операции с автомобилем       4308\n",
       "получение образования        4014\n",
       "проведение свадьбы           2335\n",
       "Name: purpose_category, dtype: int64"
      ]
     },
     "execution_count": 44,
     "metadata": {},
     "output_type": "execute_result"
    }
   ],
   "source": [
    "#код ревьюера\n",
    "data['purpose_category'].value_counts()"
   ]
  },
  {
   "cell_type": "markdown",
   "id": "006ccc44",
   "metadata": {},
   "source": [
    "Катетеризируем количество детей разделим и на две группы \"семьи без детей\" и \"cемьи с детьми\". Напишем для этого функцию"
   ]
  },
  {
   "cell_type": "code",
   "execution_count": 45,
   "id": "735b335f",
   "metadata": {},
   "outputs": [
    {
     "name": "stdout",
     "output_type": "stream",
     "text": [
      "0         cемьи с детьми\n",
      "1         cемьи с детьми\n",
      "2        семьи без детей\n",
      "3         cемьи с детьми\n",
      "4        семьи без детей\n",
      "              ...       \n",
      "21466     cемьи с детьми\n",
      "21467    семьи без детей\n",
      "21468     cемьи с детьми\n",
      "21469     cемьи с детьми\n",
      "21470     cемьи с детьми\n",
      "Name: children_category, Length: 21471, dtype: object\n"
     ]
    }
   ],
   "source": [
    "def children_category(child):\n",
    "    if child == 0  :\n",
    "        return 'семьи без детей'\n",
    "    return 'cемьи с детьми'\n",
    "\n",
    "data['children_category'] = data['children'].apply(children_category)\n",
    "print(data['children_category'])"
   ]
  },
  {
   "cell_type": "markdown",
   "id": "31dc7090",
   "metadata": {},
   "source": [
    "### Вывод"
   ]
  },
  {
   "cell_type": "markdown",
   "id": "6f1f497f",
   "metadata": {},
   "source": [
    "Теперь основываясь на категории мы сможем изучить влияет ли какая-то категория на вероятность задолженности по кредиту"
   ]
  },
  {
   "cell_type": "markdown",
   "id": "f9b51d4f",
   "metadata": {},
   "source": [
    "### Ответы на вопросы."
   ]
  },
  {
   "cell_type": "markdown",
   "id": "b7900f97",
   "metadata": {},
   "source": [
    "##### Вопрос 1:\n",
    "Есть ли зависимость между количеством детей и возвратом кредита в срок?"
   ]
  },
  {
   "cell_type": "code",
   "execution_count": 46,
   "id": "f290f7b2",
   "metadata": {},
   "outputs": [
    {
     "data": {
      "text/html": [
       "<div>\n",
       "<style scoped>\n",
       "    .dataframe tbody tr th:only-of-type {\n",
       "        vertical-align: middle;\n",
       "    }\n",
       "\n",
       "    .dataframe tbody tr th {\n",
       "        vertical-align: top;\n",
       "    }\n",
       "\n",
       "    .dataframe thead tr th {\n",
       "        text-align: left;\n",
       "    }\n",
       "\n",
       "    .dataframe thead tr:last-of-type th {\n",
       "        text-align: right;\n",
       "    }\n",
       "</style>\n",
       "<table border=\"1\" class=\"dataframe\">\n",
       "  <thead>\n",
       "    <tr>\n",
       "      <th></th>\n",
       "      <th></th>\n",
       "      <th>debt</th>\n",
       "    </tr>\n",
       "    <tr>\n",
       "      <th></th>\n",
       "      <th></th>\n",
       "      <th>count</th>\n",
       "    </tr>\n",
       "    <tr>\n",
       "      <th>children_category</th>\n",
       "      <th>debt</th>\n",
       "      <th></th>\n",
       "    </tr>\n",
       "  </thead>\n",
       "  <tbody>\n",
       "    <tr>\n",
       "      <th rowspan=\"2\" valign=\"top\">cемьи с детьми</th>\n",
       "      <th>0</th>\n",
       "      <td>6686</td>\n",
       "    </tr>\n",
       "    <tr>\n",
       "      <th>1</th>\n",
       "      <td>678</td>\n",
       "    </tr>\n",
       "    <tr>\n",
       "      <th rowspan=\"2\" valign=\"top\">семьи без детей</th>\n",
       "      <th>0</th>\n",
       "      <td>13044</td>\n",
       "    </tr>\n",
       "    <tr>\n",
       "      <th>1</th>\n",
       "      <td>1063</td>\n",
       "    </tr>\n",
       "  </tbody>\n",
       "</table>\n",
       "</div>"
      ],
      "text/plain": [
       "                         debt\n",
       "                        count\n",
       "children_category debt       \n",
       "cемьи с детьми    0      6686\n",
       "                  1       678\n",
       "семьи без детей   0     13044\n",
       "                  1      1063"
      ]
     },
     "execution_count": 46,
     "metadata": {},
     "output_type": "execute_result"
    }
   ],
   "source": [
    "data_of_family = data.groupby(['children_category','debt']).agg({'debt':[\"count\"]})\n",
    "data_of_family"
   ]
  },
  {
   "cell_type": "markdown",
   "id": "b19dd121",
   "metadata": {},
   "source": [
    "Заметим, что вероятность клиента принадлежащего к группе \"семьи с детьми\" стать должником составляет 9.2%, а вероятность клиента принадлежащего к группе \"семьи без детей\" стать должником составляет 7.5%"
   ]
  },
  {
   "cell_type": "markdown",
   "id": "1804c661",
   "metadata": {},
   "source": [
    "##### Вывод 1:"
   ]
  },
  {
   "cell_type": "markdown",
   "id": "c4bfe3f6",
   "metadata": {},
   "source": [
    "Да, зависимость есть: вероятность задолжности у семьи с детьми на 1,7% выше, чем у семей без детей"
   ]
  },
  {
   "cell_type": "markdown",
   "id": "0680e42f",
   "metadata": {},
   "source": [
    "##### Вопрос 2:\n",
    "Есть ли зависимость между семейным положением и возвратом кредита в срок?"
   ]
  },
  {
   "cell_type": "code",
   "execution_count": 47,
   "id": "78feb73f",
   "metadata": {},
   "outputs": [
    {
     "data": {
      "text/html": [
       "<div>\n",
       "<style scoped>\n",
       "    .dataframe tbody tr th:only-of-type {\n",
       "        vertical-align: middle;\n",
       "    }\n",
       "\n",
       "    .dataframe tbody tr th {\n",
       "        vertical-align: top;\n",
       "    }\n",
       "\n",
       "    .dataframe thead tr th {\n",
       "        text-align: left;\n",
       "    }\n",
       "\n",
       "    .dataframe thead tr:last-of-type th {\n",
       "        text-align: right;\n",
       "    }\n",
       "</style>\n",
       "<table border=\"1\" class=\"dataframe\">\n",
       "  <thead>\n",
       "    <tr>\n",
       "      <th></th>\n",
       "      <th></th>\n",
       "      <th>debt</th>\n",
       "    </tr>\n",
       "    <tr>\n",
       "      <th></th>\n",
       "      <th></th>\n",
       "      <th>count</th>\n",
       "    </tr>\n",
       "    <tr>\n",
       "      <th>family_status_id</th>\n",
       "      <th>debt</th>\n",
       "      <th></th>\n",
       "    </tr>\n",
       "  </thead>\n",
       "  <tbody>\n",
       "    <tr>\n",
       "      <th rowspan=\"2\" valign=\"top\">0</th>\n",
       "      <th>0</th>\n",
       "      <td>11413</td>\n",
       "    </tr>\n",
       "    <tr>\n",
       "      <th>1</th>\n",
       "      <td>931</td>\n",
       "    </tr>\n",
       "    <tr>\n",
       "      <th rowspan=\"2\" valign=\"top\">1</th>\n",
       "      <th>0</th>\n",
       "      <td>3775</td>\n",
       "    </tr>\n",
       "    <tr>\n",
       "      <th>1</th>\n",
       "      <td>388</td>\n",
       "    </tr>\n",
       "    <tr>\n",
       "      <th rowspan=\"2\" valign=\"top\">2</th>\n",
       "      <th>0</th>\n",
       "      <td>896</td>\n",
       "    </tr>\n",
       "    <tr>\n",
       "      <th>1</th>\n",
       "      <td>63</td>\n",
       "    </tr>\n",
       "    <tr>\n",
       "      <th rowspan=\"2\" valign=\"top\">3</th>\n",
       "      <th>0</th>\n",
       "      <td>1110</td>\n",
       "    </tr>\n",
       "    <tr>\n",
       "      <th>1</th>\n",
       "      <td>85</td>\n",
       "    </tr>\n",
       "    <tr>\n",
       "      <th rowspan=\"2\" valign=\"top\">4</th>\n",
       "      <th>0</th>\n",
       "      <td>2536</td>\n",
       "    </tr>\n",
       "    <tr>\n",
       "      <th>1</th>\n",
       "      <td>274</td>\n",
       "    </tr>\n",
       "  </tbody>\n",
       "</table>\n",
       "</div>"
      ],
      "text/plain": [
       "                        debt\n",
       "                       count\n",
       "family_status_id debt       \n",
       "0                0     11413\n",
       "                 1       931\n",
       "1                0      3775\n",
       "                 1       388\n",
       "2                0       896\n",
       "                 1        63\n",
       "3                0      1110\n",
       "                 1        85\n",
       "4                0      2536\n",
       "                 1       274"
      ]
     },
     "execution_count": 47,
     "metadata": {},
     "output_type": "execute_result"
    }
   ],
   "source": [
    "data_of_family_status = data.groupby(['family_status_id','debt']).agg({'debt':[\"count\"]})\n",
    "data_of_family_status"
   ]
  },
  {
   "cell_type": "markdown",
   "id": "7c6e0e26",
   "metadata": {},
   "source": [
    "Вероятность клиента принадлежащего к группе \"в разводе\" стать должником составляет 7.1%\n",
    "\n",
    "Вероятность клиента принадлежащего к группе \"вдовец / вдова\" стать должником составляет 6.6%\n",
    "\n",
    "Вероятность клиента принадлежащего к группе \"гражданский брак\" стать должником составляет 9.3%\n",
    "\n",
    "Вероятность клиента принадлежащего к группе \"женат / замужем\" стать должником составляет 7.5%\n",
    "\n",
    "Вероятность клиента принадлежащего к группе \"не женат / не замужем\" стать должником составляет 9.8%\n"
   ]
  },
  {
   "cell_type": "markdown",
   "id": "e24c1864",
   "metadata": {},
   "source": [
    "##### Вывод 2:"
   ]
  },
  {
   "cell_type": "markdown",
   "id": "d4f703b0",
   "metadata": {},
   "source": [
    "Не состоящие в браке наиболее склонны к задержке выплат, в то же время вдовцы/вдвы меньше всех склонны к задолженностям по кредиту"
   ]
  },
  {
   "cell_type": "markdown",
   "id": "86c838a3",
   "metadata": {},
   "source": [
    "##### Вопрос 3:\n",
    "Есть ли зависимость между уровнем дохода и возвратом кредита в срок?"
   ]
  },
  {
   "cell_type": "code",
   "execution_count": 48,
   "id": "05f7bff2",
   "metadata": {},
   "outputs": [
    {
     "data": {
      "text/html": [
       "<div>\n",
       "<style scoped>\n",
       "    .dataframe tbody tr th:only-of-type {\n",
       "        vertical-align: middle;\n",
       "    }\n",
       "\n",
       "    .dataframe tbody tr th {\n",
       "        vertical-align: top;\n",
       "    }\n",
       "\n",
       "    .dataframe thead tr th {\n",
       "        text-align: left;\n",
       "    }\n",
       "\n",
       "    .dataframe thead tr:last-of-type th {\n",
       "        text-align: right;\n",
       "    }\n",
       "</style>\n",
       "<table border=\"1\" class=\"dataframe\">\n",
       "  <thead>\n",
       "    <tr>\n",
       "      <th></th>\n",
       "      <th></th>\n",
       "      <th>debt</th>\n",
       "    </tr>\n",
       "    <tr>\n",
       "      <th></th>\n",
       "      <th></th>\n",
       "      <th>count</th>\n",
       "    </tr>\n",
       "    <tr>\n",
       "      <th>total_income_category</th>\n",
       "      <th>debt</th>\n",
       "      <th></th>\n",
       "    </tr>\n",
       "  </thead>\n",
       "  <tbody>\n",
       "    <tr>\n",
       "      <th rowspan=\"2\" valign=\"top\">A</th>\n",
       "      <th>0</th>\n",
       "      <td>23</td>\n",
       "    </tr>\n",
       "    <tr>\n",
       "      <th>1</th>\n",
       "      <td>2</td>\n",
       "    </tr>\n",
       "    <tr>\n",
       "      <th rowspan=\"2\" valign=\"top\">B</th>\n",
       "      <th>0</th>\n",
       "      <td>4685</td>\n",
       "    </tr>\n",
       "    <tr>\n",
       "      <th>1</th>\n",
       "      <td>356</td>\n",
       "    </tr>\n",
       "    <tr>\n",
       "      <th rowspan=\"2\" valign=\"top\">C</th>\n",
       "      <th>0</th>\n",
       "      <td>14673</td>\n",
       "    </tr>\n",
       "    <tr>\n",
       "      <th>1</th>\n",
       "      <td>1360</td>\n",
       "    </tr>\n",
       "    <tr>\n",
       "      <th rowspan=\"2\" valign=\"top\">D</th>\n",
       "      <th>0</th>\n",
       "      <td>329</td>\n",
       "    </tr>\n",
       "    <tr>\n",
       "      <th>1</th>\n",
       "      <td>21</td>\n",
       "    </tr>\n",
       "    <tr>\n",
       "      <th rowspan=\"2\" valign=\"top\">E</th>\n",
       "      <th>0</th>\n",
       "      <td>20</td>\n",
       "    </tr>\n",
       "    <tr>\n",
       "      <th>1</th>\n",
       "      <td>2</td>\n",
       "    </tr>\n",
       "  </tbody>\n",
       "</table>\n",
       "</div>"
      ],
      "text/plain": [
       "                             debt\n",
       "                            count\n",
       "total_income_category debt       \n",
       "A                     0        23\n",
       "                      1         2\n",
       "B                     0      4685\n",
       "                      1       356\n",
       "C                     0     14673\n",
       "                      1      1360\n",
       "D                     0       329\n",
       "                      1        21\n",
       "E                     0        20\n",
       "                      1         2"
      ]
     },
     "execution_count": 48,
     "metadata": {},
     "output_type": "execute_result"
    }
   ],
   "source": [
    "data_of_income_status = data.groupby(['total_income_category','debt']).agg({'debt':[\"count\"]})\n",
    "data_of_income_status"
   ]
  },
  {
   "cell_type": "markdown",
   "id": "3b0902cb",
   "metadata": {},
   "source": [
    "Вероятность клиента принадлежащего к группе \"A\" стать должником составляет 8.0%\n",
    "\n",
    "Вероятность клиента принадлежащего к группе \"B\" стать должником составляет 7.06%\n",
    "\n",
    "Вероятность клиента принадлежащего к группе \"C\" стать должником составляет 6.0%\n",
    "\n",
    "Вероятность клиента принадлежащего к группе \"E\" стать должником составляет 9.09%"
   ]
  },
  {
   "cell_type": "markdown",
   "id": "5f551eb7",
   "metadata": {},
   "source": [
    "##### Вывод 3:"
   ]
  },
  {
   "cell_type": "markdown",
   "id": "44031713",
   "metadata": {},
   "source": [
    "Наибольшая вероятность 9.09% стать должником есть у людей,\n",
    "принадлежащего к группе \"E\""
   ]
  },
  {
   "cell_type": "markdown",
   "id": "7834ef3b",
   "metadata": {},
   "source": [
    "##### Вопрос 4:\n",
    "Как разные цели кредита влияют на его возврат в срок?"
   ]
  },
  {
   "cell_type": "code",
   "execution_count": 49,
   "id": "733fb53b",
   "metadata": {},
   "outputs": [
    {
     "data": {
      "text/html": [
       "<div>\n",
       "<style scoped>\n",
       "    .dataframe tbody tr th:only-of-type {\n",
       "        vertical-align: middle;\n",
       "    }\n",
       "\n",
       "    .dataframe tbody tr th {\n",
       "        vertical-align: top;\n",
       "    }\n",
       "\n",
       "    .dataframe thead tr th {\n",
       "        text-align: left;\n",
       "    }\n",
       "\n",
       "    .dataframe thead tr:last-of-type th {\n",
       "        text-align: right;\n",
       "    }\n",
       "</style>\n",
       "<table border=\"1\" class=\"dataframe\">\n",
       "  <thead>\n",
       "    <tr>\n",
       "      <th></th>\n",
       "      <th></th>\n",
       "      <th>debt</th>\n",
       "    </tr>\n",
       "    <tr>\n",
       "      <th></th>\n",
       "      <th></th>\n",
       "      <th>count</th>\n",
       "    </tr>\n",
       "    <tr>\n",
       "      <th>purpose_category</th>\n",
       "      <th>debt</th>\n",
       "      <th></th>\n",
       "    </tr>\n",
       "  </thead>\n",
       "  <tbody>\n",
       "    <tr>\n",
       "      <th rowspan=\"2\" valign=\"top\">операции с автомобилем</th>\n",
       "      <th>0</th>\n",
       "      <td>3905</td>\n",
       "    </tr>\n",
       "    <tr>\n",
       "      <th>1</th>\n",
       "      <td>403</td>\n",
       "    </tr>\n",
       "    <tr>\n",
       "      <th rowspan=\"2\" valign=\"top\">операции с недвижимостью</th>\n",
       "      <th>0</th>\n",
       "      <td>10032</td>\n",
       "    </tr>\n",
       "    <tr>\n",
       "      <th>1</th>\n",
       "      <td>782</td>\n",
       "    </tr>\n",
       "    <tr>\n",
       "      <th rowspan=\"2\" valign=\"top\">получение образования</th>\n",
       "      <th>0</th>\n",
       "      <td>3644</td>\n",
       "    </tr>\n",
       "    <tr>\n",
       "      <th>1</th>\n",
       "      <td>370</td>\n",
       "    </tr>\n",
       "    <tr>\n",
       "      <th rowspan=\"2\" valign=\"top\">проведение свадьбы</th>\n",
       "      <th>0</th>\n",
       "      <td>2149</td>\n",
       "    </tr>\n",
       "    <tr>\n",
       "      <th>1</th>\n",
       "      <td>186</td>\n",
       "    </tr>\n",
       "  </tbody>\n",
       "</table>\n",
       "</div>"
      ],
      "text/plain": [
       "                                debt\n",
       "                               count\n",
       "purpose_category         debt       \n",
       "операции с автомобилем   0      3905\n",
       "                         1       403\n",
       "операции с недвижимостью 0     10032\n",
       "                         1       782\n",
       "получение образования    0      3644\n",
       "                         1       370\n",
       "проведение свадьбы       0      2149\n",
       "                         1       186"
      ]
     },
     "execution_count": 49,
     "metadata": {},
     "output_type": "execute_result"
    }
   ],
   "source": [
    "data_of_purpose_type = data.groupby(['purpose_category','debt']).agg({'debt':[\"count\"]})\n",
    "data_of_purpose_type"
   ]
  },
  {
   "cell_type": "markdown",
   "id": "fe993d13",
   "metadata": {},
   "source": [
    "Вероятность клиента принадлежащего к группе \"операции с автомобилем\" стать должником составляет 9.35%\n",
    "\n",
    "Вероятность клиента принадлежащего к группе \"операции с недвижимостью\" стать должником составляет 7.46%\n",
    "\n",
    "Вероятность клиента принадлежащего к группе \"получение образования\" стать должником составляет 8.0%\n",
    "\n",
    "Вероятность клиента принадлежащего к группе \"проведение свадьбы\" стать должником составляет 8.0%"
   ]
  },
  {
   "cell_type": "markdown",
   "id": "5b9b9702",
   "metadata": {},
   "source": [
    "##### Вывод 4:"
   ]
  },
  {
   "cell_type": "markdown",
   "id": "c143ed77",
   "metadata": {},
   "source": [
    "Заметим, что наибольшая вероятность стать должником, у людей, берущих кредит на \"операции с автомобилем\". \n",
    "\n",
    "При этом вероятность задолжности у людей принадлежащего к группе \"получение образования\" и принадлежащего к группе \"проведение свадьбы\" равна - это скорее всего происходит из-за того, что возрастная категория людей приблизительно равна и варьруется от 20-35 лет."
   ]
  },
  {
   "cell_type": "code",
   "execution_count": 50,
   "id": "4b045840",
   "metadata": {},
   "outputs": [
    {
     "data": {
      "text/html": [
       "<div>\n",
       "<style scoped>\n",
       "    .dataframe tbody tr th:only-of-type {\n",
       "        vertical-align: middle;\n",
       "    }\n",
       "\n",
       "    .dataframe tbody tr th {\n",
       "        vertical-align: top;\n",
       "    }\n",
       "\n",
       "    .dataframe thead th {\n",
       "        text-align: right;\n",
       "    }\n",
       "</style>\n",
       "<table border=\"1\" class=\"dataframe\">\n",
       "  <thead>\n",
       "    <tr style=\"text-align: right;\">\n",
       "      <th></th>\n",
       "      <th>debt</th>\n",
       "      <th>purpose_category</th>\n",
       "    </tr>\n",
       "  </thead>\n",
       "  <tbody>\n",
       "    <tr>\n",
       "      <th>0</th>\n",
       "      <td>0</td>\n",
       "      <td>операции с недвижимостью</td>\n",
       "    </tr>\n",
       "    <tr>\n",
       "      <th>1</th>\n",
       "      <td>0</td>\n",
       "      <td>операции с автомобилем</td>\n",
       "    </tr>\n",
       "    <tr>\n",
       "      <th>2</th>\n",
       "      <td>0</td>\n",
       "      <td>операции с недвижимостью</td>\n",
       "    </tr>\n",
       "    <tr>\n",
       "      <th>3</th>\n",
       "      <td>0</td>\n",
       "      <td>получение образования</td>\n",
       "    </tr>\n",
       "    <tr>\n",
       "      <th>4</th>\n",
       "      <td>0</td>\n",
       "      <td>проведение свадьбы</td>\n",
       "    </tr>\n",
       "    <tr>\n",
       "      <th>...</th>\n",
       "      <td>...</td>\n",
       "      <td>...</td>\n",
       "    </tr>\n",
       "    <tr>\n",
       "      <th>21466</th>\n",
       "      <td>0</td>\n",
       "      <td>операции с недвижимостью</td>\n",
       "    </tr>\n",
       "    <tr>\n",
       "      <th>21467</th>\n",
       "      <td>0</td>\n",
       "      <td>операции с автомобилем</td>\n",
       "    </tr>\n",
       "    <tr>\n",
       "      <th>21468</th>\n",
       "      <td>1</td>\n",
       "      <td>операции с недвижимостью</td>\n",
       "    </tr>\n",
       "    <tr>\n",
       "      <th>21469</th>\n",
       "      <td>1</td>\n",
       "      <td>операции с автомобилем</td>\n",
       "    </tr>\n",
       "    <tr>\n",
       "      <th>21470</th>\n",
       "      <td>0</td>\n",
       "      <td>операции с автомобилем</td>\n",
       "    </tr>\n",
       "  </tbody>\n",
       "</table>\n",
       "<p>21471 rows × 2 columns</p>\n",
       "</div>"
      ],
      "text/plain": [
       "       debt          purpose_category\n",
       "0         0  операции с недвижимостью\n",
       "1         0    операции с автомобилем\n",
       "2         0  операции с недвижимостью\n",
       "3         0     получение образования\n",
       "4         0        проведение свадьбы\n",
       "...     ...                       ...\n",
       "21466     0  операции с недвижимостью\n",
       "21467     0    операции с автомобилем\n",
       "21468     1  операции с недвижимостью\n",
       "21469     1    операции с автомобилем\n",
       "21470     0    операции с автомобилем\n",
       "\n",
       "[21471 rows x 2 columns]"
      ]
     },
     "execution_count": 50,
     "metadata": {},
     "output_type": "execute_result"
    }
   ],
   "source": [
    "data_pivot_category = data[['debt','purpose_category']]\n",
    "data_pivot_category"
   ]
  },
  {
   "cell_type": "code",
   "execution_count": 51,
   "id": "caf43584",
   "metadata": {},
   "outputs": [
    {
     "data": {
      "text/html": [
       "<div>\n",
       "<style scoped>\n",
       "    .dataframe tbody tr th:only-of-type {\n",
       "        vertical-align: middle;\n",
       "    }\n",
       "\n",
       "    .dataframe tbody tr th {\n",
       "        vertical-align: top;\n",
       "    }\n",
       "\n",
       "    .dataframe thead th {\n",
       "        text-align: right;\n",
       "    }\n",
       "</style>\n",
       "<table border=\"1\" class=\"dataframe\">\n",
       "  <thead>\n",
       "    <tr style=\"text-align: right;\">\n",
       "      <th></th>\n",
       "      <th>debt</th>\n",
       "    </tr>\n",
       "    <tr>\n",
       "      <th>purpose_category</th>\n",
       "      <th></th>\n",
       "    </tr>\n",
       "  </thead>\n",
       "  <tbody>\n",
       "    <tr>\n",
       "      <th>операции с автомобилем</th>\n",
       "      <td>0.093547</td>\n",
       "    </tr>\n",
       "    <tr>\n",
       "      <th>операции с недвижимостью</th>\n",
       "      <td>0.072314</td>\n",
       "    </tr>\n",
       "    <tr>\n",
       "      <th>получение образования</th>\n",
       "      <td>0.092177</td>\n",
       "    </tr>\n",
       "    <tr>\n",
       "      <th>проведение свадьбы</th>\n",
       "      <td>0.079657</td>\n",
       "    </tr>\n",
       "  </tbody>\n",
       "</table>\n",
       "</div>"
      ],
      "text/plain": [
       "                              debt\n",
       "purpose_category                  \n",
       "операции с автомобилем    0.093547\n",
       "операции с недвижимостью  0.072314\n",
       "получение образования     0.092177\n",
       "проведение свадьбы        0.079657"
      ]
     },
     "execution_count": 51,
     "metadata": {},
     "output_type": "execute_result"
    }
   ],
   "source": [
    "table_category = pd.pivot_table(data_pivot_category,\n",
    "                                index=['purpose_category'],\n",
    "                                values=['debt'],\n",
    "                                aggfunc='mean',\n",
    "                                fill_value='NaN'     \n",
    ")\n",
    "table_category"
   ]
  },
  {
   "cell_type": "markdown",
   "id": "fdb5aa5b",
   "metadata": {},
   "source": [
    "## Общий вывод:"
   ]
  },
  {
   "cell_type": "markdown",
   "id": "1043ca59",
   "metadata": {},
   "source": [
    "Основываясь на полученные данные можно прийти к следующему выводу: Семейное положение и наличие детей в семье безусловно влияют на факт погашения кредита. Так мы можем увидеть, что вероятность клиента принадлежащего к группе \"семьи с детьми\" стать должником составляет 9.2%, а вероятность клиента принадлежащего к группе \"не женат / не замужем\" стать должником составляет 9.8%. Поэтому логично будет предположить, что наиболее безопасными для банка заемщиками являются семьи без детей и люди являющиеся вдовой/вдовцом"
   ]
  },
  {
   "cell_type": "code",
   "execution_count": 52,
   "id": "e23326b9",
   "metadata": {},
   "outputs": [
    {
     "data": {
      "text/html": [
       "<div>\n",
       "<style scoped>\n",
       "    .dataframe tbody tr th:only-of-type {\n",
       "        vertical-align: middle;\n",
       "    }\n",
       "\n",
       "    .dataframe tbody tr th {\n",
       "        vertical-align: top;\n",
       "    }\n",
       "\n",
       "    .dataframe thead th {\n",
       "        text-align: right;\n",
       "    }\n",
       "</style>\n",
       "<table border=\"1\" class=\"dataframe\">\n",
       "  <thead>\n",
       "    <tr style=\"text-align: right;\">\n",
       "      <th></th>\n",
       "      <th>children</th>\n",
       "      <th>days_employed</th>\n",
       "      <th>dob_years</th>\n",
       "      <th>education_id</th>\n",
       "      <th>family_status_id</th>\n",
       "      <th>gender</th>\n",
       "      <th>income_type</th>\n",
       "      <th>total_income_category</th>\n",
       "      <th>purpose_category</th>\n",
       "    </tr>\n",
       "  </thead>\n",
       "  <tbody>\n",
       "    <tr>\n",
       "      <th>0</th>\n",
       "      <td>1</td>\n",
       "      <td>8437.673028</td>\n",
       "      <td>42</td>\n",
       "      <td>0</td>\n",
       "      <td>0</td>\n",
       "      <td>F</td>\n",
       "      <td>сотрудник</td>\n",
       "      <td>B</td>\n",
       "      <td>операции с недвижимостью</td>\n",
       "    </tr>\n",
       "    <tr>\n",
       "      <th>1</th>\n",
       "      <td>1</td>\n",
       "      <td>4024.803754</td>\n",
       "      <td>36</td>\n",
       "      <td>1</td>\n",
       "      <td>0</td>\n",
       "      <td>F</td>\n",
       "      <td>сотрудник</td>\n",
       "      <td>C</td>\n",
       "      <td>операции с автомобилем</td>\n",
       "    </tr>\n",
       "    <tr>\n",
       "      <th>2</th>\n",
       "      <td>0</td>\n",
       "      <td>5623.422610</td>\n",
       "      <td>33</td>\n",
       "      <td>1</td>\n",
       "      <td>0</td>\n",
       "      <td>M</td>\n",
       "      <td>сотрудник</td>\n",
       "      <td>C</td>\n",
       "      <td>операции с недвижимостью</td>\n",
       "    </tr>\n",
       "    <tr>\n",
       "      <th>3</th>\n",
       "      <td>3</td>\n",
       "      <td>4124.747207</td>\n",
       "      <td>32</td>\n",
       "      <td>1</td>\n",
       "      <td>0</td>\n",
       "      <td>M</td>\n",
       "      <td>сотрудник</td>\n",
       "      <td>B</td>\n",
       "      <td>получение образования</td>\n",
       "    </tr>\n",
       "    <tr>\n",
       "      <th>4</th>\n",
       "      <td>0</td>\n",
       "      <td>14235.000000</td>\n",
       "      <td>53</td>\n",
       "      <td>1</td>\n",
       "      <td>1</td>\n",
       "      <td>F</td>\n",
       "      <td>пенсионер</td>\n",
       "      <td>C</td>\n",
       "      <td>проведение свадьбы</td>\n",
       "    </tr>\n",
       "    <tr>\n",
       "      <th>...</th>\n",
       "      <td>...</td>\n",
       "      <td>...</td>\n",
       "      <td>...</td>\n",
       "      <td>...</td>\n",
       "      <td>...</td>\n",
       "      <td>...</td>\n",
       "      <td>...</td>\n",
       "      <td>...</td>\n",
       "      <td>...</td>\n",
       "    </tr>\n",
       "    <tr>\n",
       "      <th>21466</th>\n",
       "      <td>1</td>\n",
       "      <td>4529.316663</td>\n",
       "      <td>43</td>\n",
       "      <td>1</td>\n",
       "      <td>1</td>\n",
       "      <td>F</td>\n",
       "      <td>компаньон</td>\n",
       "      <td>B</td>\n",
       "      <td>операции с недвижимостью</td>\n",
       "    </tr>\n",
       "    <tr>\n",
       "      <th>21467</th>\n",
       "      <td>0</td>\n",
       "      <td>15330.000000</td>\n",
       "      <td>67</td>\n",
       "      <td>1</td>\n",
       "      <td>0</td>\n",
       "      <td>F</td>\n",
       "      <td>пенсионер</td>\n",
       "      <td>C</td>\n",
       "      <td>операции с автомобилем</td>\n",
       "    </tr>\n",
       "    <tr>\n",
       "      <th>21468</th>\n",
       "      <td>1</td>\n",
       "      <td>2113.346888</td>\n",
       "      <td>38</td>\n",
       "      <td>1</td>\n",
       "      <td>1</td>\n",
       "      <td>M</td>\n",
       "      <td>сотрудник</td>\n",
       "      <td>C</td>\n",
       "      <td>операции с недвижимостью</td>\n",
       "    </tr>\n",
       "    <tr>\n",
       "      <th>21469</th>\n",
       "      <td>3</td>\n",
       "      <td>3112.481705</td>\n",
       "      <td>38</td>\n",
       "      <td>1</td>\n",
       "      <td>0</td>\n",
       "      <td>M</td>\n",
       "      <td>сотрудник</td>\n",
       "      <td>B</td>\n",
       "      <td>операции с автомобилем</td>\n",
       "    </tr>\n",
       "    <tr>\n",
       "      <th>21470</th>\n",
       "      <td>2</td>\n",
       "      <td>1984.507589</td>\n",
       "      <td>40</td>\n",
       "      <td>1</td>\n",
       "      <td>0</td>\n",
       "      <td>F</td>\n",
       "      <td>сотрудник</td>\n",
       "      <td>C</td>\n",
       "      <td>операции с автомобилем</td>\n",
       "    </tr>\n",
       "  </tbody>\n",
       "</table>\n",
       "<p>21471 rows × 9 columns</p>\n",
       "</div>"
      ],
      "text/plain": [
       "       children  days_employed  dob_years  education_id  family_status_id  \\\n",
       "0             1    8437.673028         42             0                 0   \n",
       "1             1    4024.803754         36             1                 0   \n",
       "2             0    5623.422610         33             1                 0   \n",
       "3             3    4124.747207         32             1                 0   \n",
       "4             0   14235.000000         53             1                 1   \n",
       "...         ...            ...        ...           ...               ...   \n",
       "21466         1    4529.316663         43             1                 1   \n",
       "21467         0   15330.000000         67             1                 0   \n",
       "21468         1    2113.346888         38             1                 1   \n",
       "21469         3    3112.481705         38             1                 0   \n",
       "21470         2    1984.507589         40             1                 0   \n",
       "\n",
       "      gender income_type total_income_category          purpose_category  \n",
       "0          F   сотрудник                     B  операции с недвижимостью  \n",
       "1          F   сотрудник                     C    операции с автомобилем  \n",
       "2          M   сотрудник                     C  операции с недвижимостью  \n",
       "3          M   сотрудник                     B     получение образования  \n",
       "4          F   пенсионер                     C        проведение свадьбы  \n",
       "...      ...         ...                   ...                       ...  \n",
       "21466      F   компаньон                     B  операции с недвижимостью  \n",
       "21467      F   пенсионер                     C    операции с автомобилем  \n",
       "21468      M   сотрудник                     C  операции с недвижимостью  \n",
       "21469      M   сотрудник                     B    операции с автомобилем  \n",
       "21470      F   сотрудник                     C    операции с автомобилем  \n",
       "\n",
       "[21471 rows x 9 columns]"
      ]
     },
     "execution_count": 52,
     "metadata": {},
     "output_type": "execute_result"
    }
   ],
   "source": [
    "data_pivot = data[['children','days_employed','dob_years',\n",
    "                 'education_id','family_status_id','gender',\n",
    "                 'income_type','total_income_category',\n",
    "                  'purpose_category']]\n",
    "data_pivot"
   ]
  },
  {
   "cell_type": "code",
   "execution_count": 53,
   "id": "96473b59",
   "metadata": {},
   "outputs": [
    {
     "data": {
      "text/html": [
       "<div>\n",
       "<style scoped>\n",
       "    .dataframe tbody tr th:only-of-type {\n",
       "        vertical-align: middle;\n",
       "    }\n",
       "\n",
       "    .dataframe tbody tr th {\n",
       "        vertical-align: top;\n",
       "    }\n",
       "\n",
       "    .dataframe thead th {\n",
       "        text-align: right;\n",
       "    }\n",
       "</style>\n",
       "<table border=\"1\" class=\"dataframe\">\n",
       "  <thead>\n",
       "    <tr style=\"text-align: right;\">\n",
       "      <th></th>\n",
       "      <th></th>\n",
       "      <th></th>\n",
       "      <th></th>\n",
       "      <th>children</th>\n",
       "      <th>days_employed</th>\n",
       "      <th>dob_years</th>\n",
       "    </tr>\n",
       "    <tr>\n",
       "      <th>education_id</th>\n",
       "      <th>total_income_category</th>\n",
       "      <th>family_status_id</th>\n",
       "      <th>purpose_category</th>\n",
       "      <th></th>\n",
       "      <th></th>\n",
       "      <th></th>\n",
       "    </tr>\n",
       "  </thead>\n",
       "  <tbody>\n",
       "    <tr>\n",
       "      <th rowspan=\"5\" valign=\"top\">0</th>\n",
       "      <th rowspan=\"5\" valign=\"top\">A</th>\n",
       "      <th rowspan=\"3\" valign=\"top\">0</th>\n",
       "      <th>операции с автомобилем</th>\n",
       "      <td>1.0</td>\n",
       "      <td>1283.436610</td>\n",
       "      <td>53.0</td>\n",
       "    </tr>\n",
       "    <tr>\n",
       "      <th>операции с недвижимостью</th>\n",
       "      <td>1.0</td>\n",
       "      <td>2577.664662</td>\n",
       "      <td>44.0</td>\n",
       "    </tr>\n",
       "    <tr>\n",
       "      <th>получение образования</th>\n",
       "      <td>2.0</td>\n",
       "      <td>1654.855987</td>\n",
       "      <td>39.0</td>\n",
       "    </tr>\n",
       "    <tr>\n",
       "      <th rowspan=\"2\" valign=\"top\">1</th>\n",
       "      <th>операции с недвижимостью</th>\n",
       "      <td>0.5</td>\n",
       "      <td>3694.000583</td>\n",
       "      <td>35.5</td>\n",
       "    </tr>\n",
       "    <tr>\n",
       "      <th>проведение свадьбы</th>\n",
       "      <td>0.5</td>\n",
       "      <td>3034.031302</td>\n",
       "      <td>41.5</td>\n",
       "    </tr>\n",
       "    <tr>\n",
       "      <th>...</th>\n",
       "      <th>...</th>\n",
       "      <th>...</th>\n",
       "      <th>...</th>\n",
       "      <td>...</td>\n",
       "      <td>...</td>\n",
       "      <td>...</td>\n",
       "    </tr>\n",
       "    <tr>\n",
       "      <th rowspan=\"5\" valign=\"top\">4</th>\n",
       "      <th rowspan=\"2\" valign=\"top\">B</th>\n",
       "      <th rowspan=\"2\" valign=\"top\">0</th>\n",
       "      <th>операции с недвижимостью</th>\n",
       "      <td>0.0</td>\n",
       "      <td>15330.000000</td>\n",
       "      <td>62.0</td>\n",
       "    </tr>\n",
       "    <tr>\n",
       "      <th>получение образования</th>\n",
       "      <td>0.0</td>\n",
       "      <td>5352.038180</td>\n",
       "      <td>58.0</td>\n",
       "    </tr>\n",
       "    <tr>\n",
       "      <th rowspan=\"3\" valign=\"top\">C</th>\n",
       "      <th>0</th>\n",
       "      <th>операции с недвижимостью</th>\n",
       "      <td>1.5</td>\n",
       "      <td>11561.537942</td>\n",
       "      <td>52.5</td>\n",
       "    </tr>\n",
       "    <tr>\n",
       "      <th>3</th>\n",
       "      <th>операции с недвижимостью</th>\n",
       "      <td>1.0</td>\n",
       "      <td>2351.431934</td>\n",
       "      <td>37.0</td>\n",
       "    </tr>\n",
       "    <tr>\n",
       "      <th>4</th>\n",
       "      <th>операции с недвижимостью</th>\n",
       "      <td>0.0</td>\n",
       "      <td>409.200149</td>\n",
       "      <td>45.0</td>\n",
       "    </tr>\n",
       "  </tbody>\n",
       "</table>\n",
       "<p>181 rows × 3 columns</p>\n",
       "</div>"
      ],
      "text/plain": [
       "                                                                              children  \\\n",
       "education_id total_income_category family_status_id purpose_category                     \n",
       "0            A                     0                операции с автомобилем         1.0   \n",
       "                                                    операции с недвижимостью       1.0   \n",
       "                                                    получение образования          2.0   \n",
       "                                   1                операции с недвижимостью       0.5   \n",
       "                                                    проведение свадьбы             0.5   \n",
       "...                                                                                ...   \n",
       "4            B                     0                операции с недвижимостью       0.0   \n",
       "                                                    получение образования          0.0   \n",
       "             C                     0                операции с недвижимостью       1.5   \n",
       "                                   3                операции с недвижимостью       1.0   \n",
       "                                   4                операции с недвижимостью       0.0   \n",
       "\n",
       "                                                                              days_employed  \\\n",
       "education_id total_income_category family_status_id purpose_category                          \n",
       "0            A                     0                операции с автомобилем      1283.436610   \n",
       "                                                    операции с недвижимостью    2577.664662   \n",
       "                                                    получение образования       1654.855987   \n",
       "                                   1                операции с недвижимостью    3694.000583   \n",
       "                                                    проведение свадьбы          3034.031302   \n",
       "...                                                                                     ...   \n",
       "4            B                     0                операции с недвижимостью   15330.000000   \n",
       "                                                    получение образования       5352.038180   \n",
       "             C                     0                операции с недвижимостью   11561.537942   \n",
       "                                   3                операции с недвижимостью    2351.431934   \n",
       "                                   4                операции с недвижимостью     409.200149   \n",
       "\n",
       "                                                                              dob_years  \n",
       "education_id total_income_category family_status_id purpose_category                     \n",
       "0            A                     0                операции с автомобилем         53.0  \n",
       "                                                    операции с недвижимостью       44.0  \n",
       "                                                    получение образования          39.0  \n",
       "                                   1                операции с недвижимостью       35.5  \n",
       "                                                    проведение свадьбы             41.5  \n",
       "...                                                                                 ...  \n",
       "4            B                     0                операции с недвижимостью       62.0  \n",
       "                                                    получение образования          58.0  \n",
       "             C                     0                операции с недвижимостью       52.5  \n",
       "                                   3                операции с недвижимостью       37.0  \n",
       "                                   4                операции с недвижимостью       45.0  \n",
       "\n",
       "[181 rows x 3 columns]"
      ]
     },
     "execution_count": 53,
     "metadata": {},
     "output_type": "execute_result"
    }
   ],
   "source": [
    "table = pd.pivot_table(data_pivot,\n",
    "                       index=['education_id','total_income_category','family_status_id','purpose_category'],\n",
    "                       values=['days_employed','dob_years','children','income_type'],\n",
    "                       aggfunc='median',\n",
    "                       fill_value=0)\n",
    "table"
   ]
  }
 ],
 "metadata": {
  "ExecuteTimeLog": [
   {
    "duration": 557,
    "start_time": "2022-04-26T12:30:40.396Z"
   },
   {
    "duration": 0,
    "start_time": "2022-04-26T12:53:51.977Z"
   },
   {
    "duration": 11,
    "start_time": "2022-04-26T12:53:57.668Z"
   },
   {
    "duration": 12,
    "start_time": "2022-04-26T12:54:14.842Z"
   },
   {
    "duration": 111,
    "start_time": "2022-04-26T13:04:52.890Z"
   },
   {
    "duration": 12,
    "start_time": "2022-04-26T13:05:00.655Z"
   },
   {
    "duration": 445,
    "start_time": "2022-05-03T19:51:22.384Z"
   },
   {
    "duration": 0,
    "start_time": "2022-05-03T19:51:22.832Z"
   },
   {
    "duration": 0,
    "start_time": "2022-05-03T19:51:22.833Z"
   },
   {
    "duration": 0,
    "start_time": "2022-05-03T19:51:22.834Z"
   },
   {
    "duration": 0,
    "start_time": "2022-05-03T19:51:22.835Z"
   },
   {
    "duration": 0,
    "start_time": "2022-05-03T19:51:22.836Z"
   },
   {
    "duration": 0,
    "start_time": "2022-05-03T19:51:22.837Z"
   },
   {
    "duration": 0,
    "start_time": "2022-05-03T19:51:22.838Z"
   },
   {
    "duration": 0,
    "start_time": "2022-05-03T19:51:22.839Z"
   },
   {
    "duration": 0,
    "start_time": "2022-05-03T19:51:22.840Z"
   },
   {
    "duration": 0,
    "start_time": "2022-05-03T19:51:22.841Z"
   },
   {
    "duration": 0,
    "start_time": "2022-05-03T19:51:22.842Z"
   },
   {
    "duration": 0,
    "start_time": "2022-05-03T19:51:22.854Z"
   },
   {
    "duration": 0,
    "start_time": "2022-05-03T19:51:22.855Z"
   },
   {
    "duration": 0,
    "start_time": "2022-05-03T19:51:22.856Z"
   },
   {
    "duration": 0,
    "start_time": "2022-05-03T19:51:22.857Z"
   },
   {
    "duration": 0,
    "start_time": "2022-05-03T19:51:22.858Z"
   },
   {
    "duration": 0,
    "start_time": "2022-05-03T19:51:22.859Z"
   },
   {
    "duration": 0,
    "start_time": "2022-05-03T19:51:22.860Z"
   },
   {
    "duration": 0,
    "start_time": "2022-05-03T19:51:22.861Z"
   },
   {
    "duration": 0,
    "start_time": "2022-05-03T19:51:22.862Z"
   },
   {
    "duration": 0,
    "start_time": "2022-05-03T19:51:22.863Z"
   },
   {
    "duration": 0,
    "start_time": "2022-05-03T19:51:22.864Z"
   },
   {
    "duration": 0,
    "start_time": "2022-05-03T19:51:22.865Z"
   },
   {
    "duration": 0,
    "start_time": "2022-05-03T19:51:22.866Z"
   },
   {
    "duration": 0,
    "start_time": "2022-05-03T19:51:22.867Z"
   },
   {
    "duration": 0,
    "start_time": "2022-05-03T19:51:22.868Z"
   },
   {
    "duration": 0,
    "start_time": "2022-05-03T19:51:22.869Z"
   },
   {
    "duration": 0,
    "start_time": "2022-05-03T19:51:22.870Z"
   },
   {
    "duration": 0,
    "start_time": "2022-05-03T19:51:22.871Z"
   },
   {
    "duration": 0,
    "start_time": "2022-05-03T19:51:22.872Z"
   },
   {
    "duration": 0,
    "start_time": "2022-05-03T19:51:22.873Z"
   },
   {
    "duration": 0,
    "start_time": "2022-05-03T19:51:22.874Z"
   },
   {
    "duration": 0,
    "start_time": "2022-05-03T19:51:22.875Z"
   },
   {
    "duration": 0,
    "start_time": "2022-05-03T19:51:22.876Z"
   },
   {
    "duration": 0,
    "start_time": "2022-05-03T19:51:22.877Z"
   },
   {
    "duration": 0,
    "start_time": "2022-05-03T19:51:22.879Z"
   },
   {
    "duration": 0,
    "start_time": "2022-05-03T19:51:22.880Z"
   },
   {
    "duration": 0,
    "start_time": "2022-05-03T19:51:22.881Z"
   },
   {
    "duration": 0,
    "start_time": "2022-05-03T19:51:22.883Z"
   },
   {
    "duration": 0,
    "start_time": "2022-05-03T19:51:22.884Z"
   },
   {
    "duration": 0,
    "start_time": "2022-05-03T19:51:22.886Z"
   },
   {
    "duration": 0,
    "start_time": "2022-05-03T19:51:22.887Z"
   },
   {
    "duration": 0,
    "start_time": "2022-05-03T19:51:22.888Z"
   },
   {
    "duration": 0,
    "start_time": "2022-05-03T19:51:22.889Z"
   },
   {
    "duration": 0,
    "start_time": "2022-05-03T19:51:22.891Z"
   },
   {
    "duration": 0,
    "start_time": "2022-05-03T19:51:22.892Z"
   },
   {
    "duration": 0,
    "start_time": "2022-05-03T19:51:22.955Z"
   },
   {
    "duration": 0,
    "start_time": "2022-05-03T19:51:22.957Z"
   },
   {
    "duration": 767,
    "start_time": "2022-05-04T11:24:33.619Z"
   },
   {
    "duration": 632,
    "start_time": "2022-05-04T11:24:57.997Z"
   },
   {
    "duration": 24,
    "start_time": "2022-05-04T11:24:58.631Z"
   },
   {
    "duration": 115,
    "start_time": "2022-05-04T11:24:58.657Z"
   },
   {
    "duration": 13,
    "start_time": "2022-05-04T11:24:58.775Z"
   },
   {
    "duration": 52,
    "start_time": "2022-05-04T11:24:58.796Z"
   },
   {
    "duration": 42,
    "start_time": "2022-05-04T11:24:58.850Z"
   },
   {
    "duration": 6,
    "start_time": "2022-05-04T11:24:58.899Z"
   },
   {
    "duration": 569,
    "start_time": "2022-05-04T11:24:58.907Z"
   },
   {
    "duration": 15,
    "start_time": "2022-05-04T11:24:59.479Z"
   },
   {
    "duration": 44,
    "start_time": "2022-05-04T11:24:59.498Z"
   },
   {
    "duration": 5,
    "start_time": "2022-05-04T11:24:59.545Z"
   },
   {
    "duration": 603,
    "start_time": "2022-05-04T11:24:59.552Z"
   },
   {
    "duration": 8,
    "start_time": "2022-05-04T11:25:00.157Z"
   },
   {
    "duration": 48,
    "start_time": "2022-05-04T11:25:00.168Z"
   },
   {
    "duration": 14,
    "start_time": "2022-05-04T11:25:00.219Z"
   },
   {
    "duration": 8,
    "start_time": "2022-05-04T11:25:00.236Z"
   },
   {
    "duration": 20,
    "start_time": "2022-05-04T11:25:00.246Z"
   },
   {
    "duration": 42,
    "start_time": "2022-05-04T11:25:00.268Z"
   },
   {
    "duration": 22,
    "start_time": "2022-05-04T11:25:00.312Z"
   },
   {
    "duration": 19,
    "start_time": "2022-05-04T11:25:00.336Z"
   },
   {
    "duration": 18,
    "start_time": "2022-05-04T11:25:00.357Z"
   },
   {
    "duration": 11,
    "start_time": "2022-05-04T11:25:00.377Z"
   },
   {
    "duration": 674,
    "start_time": "2022-05-04T11:25:00.391Z"
   },
   {
    "duration": 9,
    "start_time": "2022-05-04T11:25:01.068Z"
   },
   {
    "duration": 36,
    "start_time": "2022-05-04T11:25:01.079Z"
   },
   {
    "duration": 42,
    "start_time": "2022-05-04T11:25:01.118Z"
   },
   {
    "duration": 15,
    "start_time": "2022-05-04T11:25:01.163Z"
   },
   {
    "duration": 62,
    "start_time": "2022-05-04T11:25:01.183Z"
   },
   {
    "duration": 26,
    "start_time": "2022-05-04T11:25:01.247Z"
   },
   {
    "duration": 13,
    "start_time": "2022-05-04T11:25:01.276Z"
   },
   {
    "duration": 44,
    "start_time": "2022-05-04T11:25:01.291Z"
   },
   {
    "duration": 18,
    "start_time": "2022-05-04T11:25:01.338Z"
   },
   {
    "duration": 52,
    "start_time": "2022-05-04T11:25:01.358Z"
   },
   {
    "duration": 11,
    "start_time": "2022-05-04T11:25:01.413Z"
   },
   {
    "duration": 23,
    "start_time": "2022-05-04T11:25:01.426Z"
   },
   {
    "duration": 19,
    "start_time": "2022-05-04T11:25:01.451Z"
   },
   {
    "duration": 36,
    "start_time": "2022-05-04T11:25:01.473Z"
   },
   {
    "duration": 49,
    "start_time": "2022-05-04T11:25:01.511Z"
   },
   {
    "duration": 63,
    "start_time": "2022-05-04T11:25:01.563Z"
   },
   {
    "duration": 31,
    "start_time": "2022-05-04T11:25:01.628Z"
   },
   {
    "duration": 23,
    "start_time": "2022-05-04T11:25:01.662Z"
   },
   {
    "duration": 40,
    "start_time": "2022-05-04T11:25:01.687Z"
   },
   {
    "duration": 74,
    "start_time": "2022-05-04T11:25:01.730Z"
   },
   {
    "duration": 31,
    "start_time": "2022-05-04T11:25:01.806Z"
   },
   {
    "duration": 25,
    "start_time": "2022-05-04T11:25:01.839Z"
   },
   {
    "duration": 35,
    "start_time": "2022-05-04T11:25:01.866Z"
   },
   {
    "duration": 39,
    "start_time": "2022-05-04T11:25:01.904Z"
   },
   {
    "duration": 28,
    "start_time": "2022-05-04T11:25:01.945Z"
   },
   {
    "duration": 65,
    "start_time": "2022-05-04T11:25:01.975Z"
   },
   {
    "duration": 420,
    "start_time": "2022-05-05T05:02:28.839Z"
   },
   {
    "duration": 16,
    "start_time": "2022-05-05T05:02:29.260Z"
   },
   {
    "duration": 62,
    "start_time": "2022-05-05T05:02:29.278Z"
   },
   {
    "duration": 9,
    "start_time": "2022-05-05T05:02:29.341Z"
   },
   {
    "duration": 19,
    "start_time": "2022-05-05T05:02:29.354Z"
   },
   {
    "duration": 38,
    "start_time": "2022-05-05T05:02:29.374Z"
   },
   {
    "duration": 5,
    "start_time": "2022-05-05T05:02:29.413Z"
   },
   {
    "duration": 307,
    "start_time": "2022-05-05T05:02:29.419Z"
   },
   {
    "duration": 5,
    "start_time": "2022-05-05T05:02:29.728Z"
   },
   {
    "duration": 24,
    "start_time": "2022-05-05T05:02:29.734Z"
   },
   {
    "duration": 327,
    "start_time": "2022-05-05T05:02:29.765Z"
   },
   {
    "duration": 5,
    "start_time": "2022-05-05T05:02:30.094Z"
   },
   {
    "duration": 21,
    "start_time": "2022-05-05T05:02:30.102Z"
   },
   {
    "duration": 13,
    "start_time": "2022-05-05T05:02:30.125Z"
   },
   {
    "duration": 5,
    "start_time": "2022-05-05T05:02:30.140Z"
   },
   {
    "duration": 9,
    "start_time": "2022-05-05T05:02:30.146Z"
   },
   {
    "duration": 10,
    "start_time": "2022-05-05T05:02:30.156Z"
   },
   {
    "duration": 25,
    "start_time": "2022-05-05T05:02:30.168Z"
   },
   {
    "duration": 12,
    "start_time": "2022-05-05T05:02:30.194Z"
   },
   {
    "duration": 6,
    "start_time": "2022-05-05T05:02:30.208Z"
   },
   {
    "duration": 14,
    "start_time": "2022-05-05T05:02:30.216Z"
   },
   {
    "duration": 334,
    "start_time": "2022-05-05T05:02:30.232Z"
   },
   {
    "duration": 6,
    "start_time": "2022-05-05T05:02:30.568Z"
   },
   {
    "duration": 10,
    "start_time": "2022-05-05T05:02:30.575Z"
   },
   {
    "duration": 28,
    "start_time": "2022-05-05T05:02:30.587Z"
   },
   {
    "duration": 14,
    "start_time": "2022-05-05T05:02:30.616Z"
   },
   {
    "duration": 32,
    "start_time": "2022-05-05T05:02:30.632Z"
   },
   {
    "duration": 18,
    "start_time": "2022-05-05T05:02:30.665Z"
   },
   {
    "duration": 6,
    "start_time": "2022-05-05T05:02:30.685Z"
   },
   {
    "duration": 33,
    "start_time": "2022-05-05T05:02:30.692Z"
   },
   {
    "duration": 16,
    "start_time": "2022-05-05T05:02:30.727Z"
   },
   {
    "duration": 30,
    "start_time": "2022-05-05T05:02:30.744Z"
   },
   {
    "duration": 36,
    "start_time": "2022-05-05T05:02:30.776Z"
   },
   {
    "duration": 18,
    "start_time": "2022-05-05T05:02:30.814Z"
   },
   {
    "duration": 18,
    "start_time": "2022-05-05T05:02:30.834Z"
   },
   {
    "duration": 18,
    "start_time": "2022-05-05T05:02:30.854Z"
   },
   {
    "duration": 31,
    "start_time": "2022-05-05T05:02:30.874Z"
   },
   {
    "duration": 6,
    "start_time": "2022-05-05T05:02:30.906Z"
   },
   {
    "duration": 25,
    "start_time": "2022-05-05T05:02:30.913Z"
   },
   {
    "duration": 16,
    "start_time": "2022-05-05T05:02:30.942Z"
   },
   {
    "duration": 11,
    "start_time": "2022-05-05T05:02:30.960Z"
   },
   {
    "duration": 16,
    "start_time": "2022-05-05T05:02:30.973Z"
   },
   {
    "duration": 34,
    "start_time": "2022-05-05T05:02:30.990Z"
   },
   {
    "duration": 13,
    "start_time": "2022-05-05T05:02:31.026Z"
   },
   {
    "duration": 41,
    "start_time": "2022-05-05T05:02:31.040Z"
   },
   {
    "duration": 15,
    "start_time": "2022-05-05T05:02:31.083Z"
   },
   {
    "duration": 26,
    "start_time": "2022-05-05T05:02:31.099Z"
   },
   {
    "duration": 34,
    "start_time": "2022-05-05T05:02:31.126Z"
   },
   {
    "duration": 7,
    "start_time": "2022-05-05T05:03:39.626Z"
   },
   {
    "duration": 8,
    "start_time": "2022-05-05T05:04:46.961Z"
   },
   {
    "duration": 14,
    "start_time": "2022-05-05T05:05:47.639Z"
   },
   {
    "duration": 29,
    "start_time": "2022-05-05T05:06:56.198Z"
   },
   {
    "duration": 5,
    "start_time": "2022-05-05T05:08:13.302Z"
   },
   {
    "duration": 3,
    "start_time": "2022-05-05T05:08:25.500Z"
   },
   {
    "duration": 4,
    "start_time": "2022-05-05T05:08:26.054Z"
   },
   {
    "duration": 28,
    "start_time": "2022-05-05T05:08:59.463Z"
   },
   {
    "duration": 468,
    "start_time": "2022-05-05T05:09:30.484Z"
   },
   {
    "duration": 15,
    "start_time": "2022-05-05T05:09:30.954Z"
   },
   {
    "duration": 72,
    "start_time": "2022-05-05T05:09:30.971Z"
   },
   {
    "duration": 11,
    "start_time": "2022-05-05T05:09:31.045Z"
   },
   {
    "duration": 31,
    "start_time": "2022-05-05T05:09:31.057Z"
   },
   {
    "duration": 23,
    "start_time": "2022-05-05T05:09:31.092Z"
   },
   {
    "duration": 6,
    "start_time": "2022-05-05T05:09:31.117Z"
   },
   {
    "duration": 312,
    "start_time": "2022-05-05T05:09:31.125Z"
   },
   {
    "duration": 6,
    "start_time": "2022-05-05T05:09:31.438Z"
   },
   {
    "duration": 35,
    "start_time": "2022-05-05T05:09:31.447Z"
   },
   {
    "duration": 9,
    "start_time": "2022-05-05T05:09:31.483Z"
   },
   {
    "duration": 293,
    "start_time": "2022-05-05T05:09:31.494Z"
   },
   {
    "duration": 6,
    "start_time": "2022-05-05T05:09:31.789Z"
   },
   {
    "duration": 24,
    "start_time": "2022-05-05T05:09:31.797Z"
   },
   {
    "duration": 10,
    "start_time": "2022-05-05T05:09:31.823Z"
   },
   {
    "duration": 8,
    "start_time": "2022-05-05T05:09:31.834Z"
   },
   {
    "duration": 7,
    "start_time": "2022-05-05T05:09:31.844Z"
   },
   {
    "duration": 11,
    "start_time": "2022-05-05T05:09:31.853Z"
   },
   {
    "duration": 7,
    "start_time": "2022-05-05T05:09:31.865Z"
   },
   {
    "duration": 23,
    "start_time": "2022-05-05T05:09:31.874Z"
   },
   {
    "duration": 5,
    "start_time": "2022-05-05T05:09:31.899Z"
   },
   {
    "duration": 8,
    "start_time": "2022-05-05T05:09:31.905Z"
   },
   {
    "duration": 336,
    "start_time": "2022-05-05T05:09:31.914Z"
   },
   {
    "duration": 6,
    "start_time": "2022-05-05T05:09:32.252Z"
   },
   {
    "duration": 26,
    "start_time": "2022-05-05T05:09:32.259Z"
   },
   {
    "duration": 22,
    "start_time": "2022-05-05T05:09:32.287Z"
   },
   {
    "duration": 12,
    "start_time": "2022-05-05T05:09:32.311Z"
   },
   {
    "duration": 28,
    "start_time": "2022-05-05T05:09:32.326Z"
   },
   {
    "duration": 17,
    "start_time": "2022-05-05T05:09:32.356Z"
   },
   {
    "duration": 6,
    "start_time": "2022-05-05T05:09:32.374Z"
   },
   {
    "duration": 24,
    "start_time": "2022-05-05T05:09:32.381Z"
   },
   {
    "duration": 6,
    "start_time": "2022-05-05T05:09:32.406Z"
   },
   {
    "duration": 20,
    "start_time": "2022-05-05T05:09:32.413Z"
   },
   {
    "duration": 19,
    "start_time": "2022-05-05T05:09:32.435Z"
   },
   {
    "duration": 8,
    "start_time": "2022-05-05T05:09:32.456Z"
   },
   {
    "duration": 7,
    "start_time": "2022-05-05T05:09:32.466Z"
   },
   {
    "duration": 22,
    "start_time": "2022-05-05T05:09:32.475Z"
   },
   {
    "duration": 12,
    "start_time": "2022-05-05T05:09:32.499Z"
   },
   {
    "duration": 7,
    "start_time": "2022-05-05T05:09:32.513Z"
   },
   {
    "duration": 11,
    "start_time": "2022-05-05T05:09:32.522Z"
   },
   {
    "duration": 15,
    "start_time": "2022-05-05T05:09:32.535Z"
   },
   {
    "duration": 11,
    "start_time": "2022-05-05T05:09:32.552Z"
   },
   {
    "duration": 29,
    "start_time": "2022-05-05T05:09:32.565Z"
   },
   {
    "duration": 14,
    "start_time": "2022-05-05T05:09:32.596Z"
   },
   {
    "duration": 11,
    "start_time": "2022-05-05T05:09:32.612Z"
   },
   {
    "duration": 12,
    "start_time": "2022-05-05T05:09:32.625Z"
   },
   {
    "duration": 13,
    "start_time": "2022-05-05T05:09:32.638Z"
   },
   {
    "duration": 55,
    "start_time": "2022-05-05T05:09:32.653Z"
   },
   {
    "duration": 36,
    "start_time": "2022-05-05T05:09:32.710Z"
   },
   {
    "duration": 28,
    "start_time": "2022-05-05T05:10:21.389Z"
   },
   {
    "duration": 10,
    "start_time": "2022-05-05T05:11:03.983Z"
   },
   {
    "duration": 71,
    "start_time": "2022-05-05T08:33:53.766Z"
   },
   {
    "duration": 617,
    "start_time": "2022-05-05T08:34:02.232Z"
   },
   {
    "duration": 20,
    "start_time": "2022-05-05T08:34:02.852Z"
   },
   {
    "duration": 86,
    "start_time": "2022-05-05T08:34:02.874Z"
   },
   {
    "duration": 30,
    "start_time": "2022-05-05T08:34:02.962Z"
   },
   {
    "duration": 30,
    "start_time": "2022-05-05T08:34:02.994Z"
   },
   {
    "duration": 68,
    "start_time": "2022-05-05T08:34:03.026Z"
   },
   {
    "duration": 6,
    "start_time": "2022-05-05T08:34:03.096Z"
   },
   {
    "duration": 564,
    "start_time": "2022-05-05T08:34:03.103Z"
   },
   {
    "duration": 7,
    "start_time": "2022-05-05T08:34:03.669Z"
   },
   {
    "duration": 38,
    "start_time": "2022-05-05T08:34:03.685Z"
   },
   {
    "duration": 5,
    "start_time": "2022-05-05T08:34:03.725Z"
   },
   {
    "duration": 572,
    "start_time": "2022-05-05T08:34:03.732Z"
   },
   {
    "duration": 8,
    "start_time": "2022-05-05T08:34:04.306Z"
   },
   {
    "duration": 23,
    "start_time": "2022-05-05T08:34:04.316Z"
   },
   {
    "duration": 15,
    "start_time": "2022-05-05T08:34:04.341Z"
   },
   {
    "duration": 8,
    "start_time": "2022-05-05T08:34:04.382Z"
   },
   {
    "duration": 10,
    "start_time": "2022-05-05T08:34:04.392Z"
   },
   {
    "duration": 5,
    "start_time": "2022-05-05T08:34:04.404Z"
   },
   {
    "duration": 9,
    "start_time": "2022-05-05T08:34:04.411Z"
   },
   {
    "duration": 18,
    "start_time": "2022-05-05T08:34:04.422Z"
   },
   {
    "duration": 43,
    "start_time": "2022-05-05T08:34:04.442Z"
   },
   {
    "duration": 10,
    "start_time": "2022-05-05T08:34:04.487Z"
   },
   {
    "duration": 613,
    "start_time": "2022-05-05T08:34:04.499Z"
   },
   {
    "duration": 10,
    "start_time": "2022-05-05T08:34:05.114Z"
   },
   {
    "duration": 16,
    "start_time": "2022-05-05T08:34:05.126Z"
   },
   {
    "duration": 10,
    "start_time": "2022-05-05T08:34:05.145Z"
   },
   {
    "duration": 26,
    "start_time": "2022-05-05T08:34:05.157Z"
   },
   {
    "duration": 31,
    "start_time": "2022-05-05T08:34:05.189Z"
   },
   {
    "duration": 30,
    "start_time": "2022-05-05T08:34:05.224Z"
   },
   {
    "duration": 33,
    "start_time": "2022-05-05T08:34:05.256Z"
   },
   {
    "duration": 36,
    "start_time": "2022-05-05T08:34:05.291Z"
   },
   {
    "duration": 8,
    "start_time": "2022-05-05T08:34:05.329Z"
   },
   {
    "duration": 60,
    "start_time": "2022-05-05T08:34:05.340Z"
   },
   {
    "duration": 43,
    "start_time": "2022-05-05T08:34:05.402Z"
   },
   {
    "duration": 18,
    "start_time": "2022-05-05T08:34:05.447Z"
   },
   {
    "duration": 20,
    "start_time": "2022-05-05T08:34:05.468Z"
   },
   {
    "duration": 23,
    "start_time": "2022-05-05T08:34:05.491Z"
   },
   {
    "duration": 25,
    "start_time": "2022-05-05T08:34:05.517Z"
   },
   {
    "duration": 38,
    "start_time": "2022-05-05T08:34:05.545Z"
   },
   {
    "duration": 17,
    "start_time": "2022-05-05T08:34:05.585Z"
   },
   {
    "duration": 26,
    "start_time": "2022-05-05T08:34:05.605Z"
   },
   {
    "duration": 17,
    "start_time": "2022-05-05T08:34:05.633Z"
   },
   {
    "duration": 35,
    "start_time": "2022-05-05T08:34:05.653Z"
   },
   {
    "duration": 30,
    "start_time": "2022-05-05T08:34:05.691Z"
   },
   {
    "duration": 24,
    "start_time": "2022-05-05T08:34:05.724Z"
   },
   {
    "duration": 44,
    "start_time": "2022-05-05T08:34:05.750Z"
   },
   {
    "duration": 20,
    "start_time": "2022-05-05T08:34:05.796Z"
   },
   {
    "duration": 28,
    "start_time": "2022-05-05T08:34:05.818Z"
   },
   {
    "duration": 50,
    "start_time": "2022-05-05T08:34:05.882Z"
   },
   {
    "duration": 9,
    "start_time": "2022-05-05T08:39:42.371Z"
   },
   {
    "duration": 156,
    "start_time": "2022-05-05T08:45:04.329Z"
   },
   {
    "duration": 14,
    "start_time": "2022-05-05T08:48:47.100Z"
   },
   {
    "duration": 20,
    "start_time": "2022-05-05T08:51:01.102Z"
   },
   {
    "duration": 132,
    "start_time": "2022-05-05T08:52:12.660Z"
   },
   {
    "duration": 8,
    "start_time": "2022-05-05T08:52:20.794Z"
   },
   {
    "duration": 529,
    "start_time": "2022-05-05T08:53:12.711Z"
   },
   {
    "duration": 21,
    "start_time": "2022-05-05T08:53:13.243Z"
   },
   {
    "duration": 82,
    "start_time": "2022-05-05T08:53:13.282Z"
   },
   {
    "duration": 14,
    "start_time": "2022-05-05T08:53:13.381Z"
   },
   {
    "duration": 32,
    "start_time": "2022-05-05T08:53:13.399Z"
   },
   {
    "duration": 79,
    "start_time": "2022-05-05T08:53:13.434Z"
   },
   {
    "duration": 7,
    "start_time": "2022-05-05T08:53:13.516Z"
   },
   {
    "duration": 994,
    "start_time": "2022-05-05T08:53:13.525Z"
   },
   {
    "duration": 8,
    "start_time": "2022-05-05T08:53:14.521Z"
   },
   {
    "duration": 54,
    "start_time": "2022-05-05T08:53:14.531Z"
   },
   {
    "duration": 6,
    "start_time": "2022-05-05T08:53:14.587Z"
   },
   {
    "duration": 560,
    "start_time": "2022-05-05T08:53:14.595Z"
   },
   {
    "duration": 8,
    "start_time": "2022-05-05T08:53:15.158Z"
   },
   {
    "duration": 21,
    "start_time": "2022-05-05T08:53:15.185Z"
   },
   {
    "duration": 16,
    "start_time": "2022-05-05T08:53:15.209Z"
   },
   {
    "duration": 8,
    "start_time": "2022-05-05T08:53:15.228Z"
   },
   {
    "duration": 49,
    "start_time": "2022-05-05T08:53:15.238Z"
   },
   {
    "duration": 7,
    "start_time": "2022-05-05T08:53:15.290Z"
   },
   {
    "duration": 7,
    "start_time": "2022-05-05T08:53:15.300Z"
   },
   {
    "duration": 15,
    "start_time": "2022-05-05T08:53:15.309Z"
   },
   {
    "duration": 8,
    "start_time": "2022-05-05T08:53:15.327Z"
   },
   {
    "duration": 49,
    "start_time": "2022-05-05T08:53:15.337Z"
   },
   {
    "duration": 602,
    "start_time": "2022-05-05T08:53:15.389Z"
   },
   {
    "duration": 9,
    "start_time": "2022-05-05T08:53:15.994Z"
   },
   {
    "duration": 13,
    "start_time": "2022-05-05T08:53:16.006Z"
   },
   {
    "duration": 5,
    "start_time": "2022-05-05T08:53:16.022Z"
   },
   {
    "duration": 13,
    "start_time": "2022-05-05T08:53:16.030Z"
   },
   {
    "duration": 61,
    "start_time": "2022-05-05T08:53:16.045Z"
   },
   {
    "duration": 27,
    "start_time": "2022-05-05T08:53:16.108Z"
   },
   {
    "duration": 9,
    "start_time": "2022-05-05T08:53:16.137Z"
   },
   {
    "duration": 47,
    "start_time": "2022-05-05T08:53:16.148Z"
   },
   {
    "duration": 8,
    "start_time": "2022-05-05T08:53:16.197Z"
   },
   {
    "duration": 27,
    "start_time": "2022-05-05T08:53:16.207Z"
   },
   {
    "duration": 7,
    "start_time": "2022-05-05T08:53:16.236Z"
   },
   {
    "duration": 8,
    "start_time": "2022-05-05T08:53:16.281Z"
   },
   {
    "duration": 11,
    "start_time": "2022-05-05T08:53:16.291Z"
   },
   {
    "duration": 22,
    "start_time": "2022-05-05T08:53:16.304Z"
   },
   {
    "duration": 18,
    "start_time": "2022-05-05T08:53:16.328Z"
   },
   {
    "duration": 35,
    "start_time": "2022-05-05T08:53:16.348Z"
   },
   {
    "duration": 17,
    "start_time": "2022-05-05T08:53:16.386Z"
   },
   {
    "duration": 24,
    "start_time": "2022-05-05T08:53:16.411Z"
   },
   {
    "duration": 24,
    "start_time": "2022-05-05T08:53:16.438Z"
   },
   {
    "duration": 19,
    "start_time": "2022-05-05T08:53:16.481Z"
   },
   {
    "duration": 25,
    "start_time": "2022-05-05T08:53:16.503Z"
   },
   {
    "duration": 16,
    "start_time": "2022-05-05T08:53:16.531Z"
   },
   {
    "duration": 42,
    "start_time": "2022-05-05T08:53:16.549Z"
   },
   {
    "duration": 18,
    "start_time": "2022-05-05T08:53:16.593Z"
   },
   {
    "duration": 15,
    "start_time": "2022-05-05T08:53:16.613Z"
   },
   {
    "duration": 53,
    "start_time": "2022-05-05T08:53:16.630Z"
   },
   {
    "duration": 24,
    "start_time": "2022-05-05T08:53:16.685Z"
   },
   {
    "duration": 72,
    "start_time": "2022-05-05T08:53:16.711Z"
   },
   {
    "duration": 410,
    "start_time": "2022-05-05T20:59:15.391Z"
   },
   {
    "duration": 15,
    "start_time": "2022-05-05T20:59:15.802Z"
   },
   {
    "duration": 61,
    "start_time": "2022-05-05T20:59:15.819Z"
   },
   {
    "duration": 9,
    "start_time": "2022-05-05T20:59:15.883Z"
   },
   {
    "duration": 19,
    "start_time": "2022-05-05T20:59:15.894Z"
   },
   {
    "duration": 45,
    "start_time": "2022-05-05T20:59:15.915Z"
   },
   {
    "duration": 4,
    "start_time": "2022-05-05T20:59:15.962Z"
   },
   {
    "duration": 317,
    "start_time": "2022-05-05T20:59:15.968Z"
   },
   {
    "duration": 5,
    "start_time": "2022-05-05T20:59:16.287Z"
   },
   {
    "duration": 24,
    "start_time": "2022-05-05T20:59:16.294Z"
   },
   {
    "duration": 28,
    "start_time": "2022-05-05T20:59:16.320Z"
   },
   {
    "duration": 300,
    "start_time": "2022-05-05T20:59:16.350Z"
   },
   {
    "duration": 5,
    "start_time": "2022-05-05T20:59:16.652Z"
   },
   {
    "duration": 19,
    "start_time": "2022-05-05T20:59:16.658Z"
   },
   {
    "duration": 10,
    "start_time": "2022-05-05T20:59:16.678Z"
   },
   {
    "duration": 5,
    "start_time": "2022-05-05T20:59:16.689Z"
   },
   {
    "duration": 5,
    "start_time": "2022-05-05T20:59:16.696Z"
   },
   {
    "duration": 6,
    "start_time": "2022-05-05T20:59:16.702Z"
   },
   {
    "duration": 42,
    "start_time": "2022-05-05T20:59:16.710Z"
   },
   {
    "duration": 10,
    "start_time": "2022-05-05T20:59:16.754Z"
   },
   {
    "duration": 5,
    "start_time": "2022-05-05T20:59:16.765Z"
   },
   {
    "duration": 8,
    "start_time": "2022-05-05T20:59:16.772Z"
   },
   {
    "duration": 334,
    "start_time": "2022-05-05T20:59:16.782Z"
   },
   {
    "duration": 5,
    "start_time": "2022-05-05T20:59:17.118Z"
   },
   {
    "duration": 8,
    "start_time": "2022-05-05T20:59:17.125Z"
   },
   {
    "duration": 21,
    "start_time": "2022-05-05T20:59:17.134Z"
   },
   {
    "duration": 6,
    "start_time": "2022-05-05T20:59:17.157Z"
   },
   {
    "duration": 26,
    "start_time": "2022-05-05T20:59:17.167Z"
   },
   {
    "duration": 23,
    "start_time": "2022-05-05T20:59:17.195Z"
   },
   {
    "duration": 29,
    "start_time": "2022-05-05T20:59:17.219Z"
   },
   {
    "duration": 16,
    "start_time": "2022-05-05T20:59:17.249Z"
   },
   {
    "duration": 8,
    "start_time": "2022-05-05T20:59:17.267Z"
   },
   {
    "duration": 17,
    "start_time": "2022-05-05T20:59:17.277Z"
   },
   {
    "duration": 6,
    "start_time": "2022-05-05T20:59:17.296Z"
   },
   {
    "duration": 7,
    "start_time": "2022-05-05T20:59:17.304Z"
   },
   {
    "duration": 39,
    "start_time": "2022-05-05T20:59:17.312Z"
   },
   {
    "duration": 10,
    "start_time": "2022-05-05T20:59:17.353Z"
   },
   {
    "duration": 13,
    "start_time": "2022-05-05T20:59:17.365Z"
   },
   {
    "duration": 6,
    "start_time": "2022-05-05T20:59:17.380Z"
   },
   {
    "duration": 7,
    "start_time": "2022-05-05T20:59:17.388Z"
   },
   {
    "duration": 14,
    "start_time": "2022-05-05T20:59:17.396Z"
   },
   {
    "duration": 42,
    "start_time": "2022-05-05T20:59:17.412Z"
   },
   {
    "duration": 11,
    "start_time": "2022-05-05T20:59:17.456Z"
   },
   {
    "duration": 18,
    "start_time": "2022-05-05T20:59:17.469Z"
   },
   {
    "duration": 16,
    "start_time": "2022-05-05T20:59:17.489Z"
   },
   {
    "duration": 46,
    "start_time": "2022-05-05T20:59:17.507Z"
   },
   {
    "duration": 19,
    "start_time": "2022-05-05T20:59:17.555Z"
   },
   {
    "duration": 15,
    "start_time": "2022-05-05T20:59:17.576Z"
   },
   {
    "duration": 20,
    "start_time": "2022-05-05T20:59:17.593Z"
   },
   {
    "duration": 49,
    "start_time": "2022-05-05T20:59:17.615Z"
   },
   {
    "duration": 46,
    "start_time": "2022-05-05T20:59:17.666Z"
   },
   {
    "duration": 29,
    "start_time": "2022-05-05T21:00:56.102Z"
   },
   {
    "duration": 109,
    "start_time": "2022-05-05T21:01:12.165Z"
   },
   {
    "duration": 5,
    "start_time": "2022-05-05T21:01:23.702Z"
   },
   {
    "duration": 27,
    "start_time": "2022-05-05T21:01:37.515Z"
   },
   {
    "duration": 5,
    "start_time": "2022-05-05T21:02:30.428Z"
   },
   {
    "duration": 6,
    "start_time": "2022-05-05T21:02:58.810Z"
   },
   {
    "duration": 462,
    "start_time": "2022-05-06T12:55:17.440Z"
   },
   {
    "duration": 17,
    "start_time": "2022-05-06T12:55:17.904Z"
   },
   {
    "duration": 56,
    "start_time": "2022-05-06T12:55:17.923Z"
   },
   {
    "duration": 10,
    "start_time": "2022-05-06T12:55:17.993Z"
   },
   {
    "duration": 22,
    "start_time": "2022-05-06T12:55:18.005Z"
   },
   {
    "duration": 24,
    "start_time": "2022-05-06T12:55:18.029Z"
   },
   {
    "duration": 37,
    "start_time": "2022-05-06T12:55:18.055Z"
   },
   {
    "duration": 321,
    "start_time": "2022-05-06T12:55:18.094Z"
   },
   {
    "duration": 6,
    "start_time": "2022-05-06T12:55:18.417Z"
   },
   {
    "duration": 23,
    "start_time": "2022-05-06T12:55:18.426Z"
   },
   {
    "duration": 5,
    "start_time": "2022-05-06T12:55:18.450Z"
   },
   {
    "duration": 344,
    "start_time": "2022-05-06T12:55:18.456Z"
   },
   {
    "duration": 5,
    "start_time": "2022-05-06T12:55:18.802Z"
   },
   {
    "duration": 17,
    "start_time": "2022-05-06T12:55:18.809Z"
   },
   {
    "duration": 9,
    "start_time": "2022-05-06T12:55:18.828Z"
   },
   {
    "duration": 4,
    "start_time": "2022-05-06T12:55:18.839Z"
   },
   {
    "duration": 6,
    "start_time": "2022-05-06T12:55:18.845Z"
   },
   {
    "duration": 40,
    "start_time": "2022-05-06T12:55:18.853Z"
   },
   {
    "duration": 3,
    "start_time": "2022-05-06T12:55:18.895Z"
   },
   {
    "duration": 11,
    "start_time": "2022-05-06T12:55:18.900Z"
   },
   {
    "duration": 10,
    "start_time": "2022-05-06T12:55:18.913Z"
   },
   {
    "duration": 6,
    "start_time": "2022-05-06T12:55:18.924Z"
   },
   {
    "duration": 448,
    "start_time": "2022-05-06T12:55:18.932Z"
   },
   {
    "duration": 11,
    "start_time": "2022-05-06T12:55:19.382Z"
   },
   {
    "duration": 12,
    "start_time": "2022-05-06T12:55:19.395Z"
   },
   {
    "duration": 5,
    "start_time": "2022-05-06T12:55:19.409Z"
   },
   {
    "duration": 9,
    "start_time": "2022-05-06T12:55:19.416Z"
   },
   {
    "duration": 4,
    "start_time": "2022-05-06T12:55:19.431Z"
   },
   {
    "duration": 31,
    "start_time": "2022-05-06T12:55:19.437Z"
   },
   {
    "duration": 26,
    "start_time": "2022-05-06T12:55:19.494Z"
   },
   {
    "duration": 8,
    "start_time": "2022-05-06T12:55:19.521Z"
   },
   {
    "duration": 34,
    "start_time": "2022-05-06T12:55:19.531Z"
   },
   {
    "duration": 10,
    "start_time": "2022-05-06T12:55:19.567Z"
   },
   {
    "duration": 28,
    "start_time": "2022-05-06T12:55:19.593Z"
   },
   {
    "duration": 10,
    "start_time": "2022-05-06T12:55:19.623Z"
   },
   {
    "duration": 8,
    "start_time": "2022-05-06T12:55:19.636Z"
   },
   {
    "duration": 10,
    "start_time": "2022-05-06T12:55:19.646Z"
   },
   {
    "duration": 39,
    "start_time": "2022-05-06T12:55:19.658Z"
   },
   {
    "duration": 14,
    "start_time": "2022-05-06T12:55:19.698Z"
   },
   {
    "duration": 12,
    "start_time": "2022-05-06T12:55:19.714Z"
   },
   {
    "duration": 8,
    "start_time": "2022-05-06T12:55:19.728Z"
   },
   {
    "duration": 23,
    "start_time": "2022-05-06T12:55:19.738Z"
   },
   {
    "duration": 13,
    "start_time": "2022-05-06T12:55:19.763Z"
   },
   {
    "duration": 15,
    "start_time": "2022-05-06T12:55:19.778Z"
   },
   {
    "duration": 15,
    "start_time": "2022-05-06T12:55:19.795Z"
   },
   {
    "duration": 16,
    "start_time": "2022-05-06T12:55:19.812Z"
   },
   {
    "duration": 11,
    "start_time": "2022-05-06T12:55:19.830Z"
   },
   {
    "duration": 12,
    "start_time": "2022-05-06T12:55:19.843Z"
   },
   {
    "duration": 46,
    "start_time": "2022-05-06T12:55:19.857Z"
   },
   {
    "duration": 13,
    "start_time": "2022-05-06T12:55:19.904Z"
   },
   {
    "duration": 16,
    "start_time": "2022-05-06T12:55:19.919Z"
   },
   {
    "duration": 20,
    "start_time": "2022-05-06T12:55:19.937Z"
   },
   {
    "duration": 42,
    "start_time": "2022-05-06T12:55:19.992Z"
   },
   {
    "duration": 12,
    "start_time": "2022-05-06T12:59:04.978Z"
   },
   {
    "duration": 14,
    "start_time": "2022-05-06T12:59:33.685Z"
   },
   {
    "duration": 15,
    "start_time": "2022-05-06T12:59:50.701Z"
   },
   {
    "duration": 16,
    "start_time": "2022-05-06T12:59:53.085Z"
   },
   {
    "duration": 10,
    "start_time": "2022-05-06T13:00:00.750Z"
   },
   {
    "duration": 14,
    "start_time": "2022-05-06T13:00:03.508Z"
   },
   {
    "duration": 5,
    "start_time": "2022-05-06T13:02:09.225Z"
   },
   {
    "duration": 343,
    "start_time": "2022-05-06T13:02:15.080Z"
   },
   {
    "duration": 6,
    "start_time": "2022-05-06T13:02:20.776Z"
   },
   {
    "duration": 4,
    "start_time": "2022-05-06T13:02:23.510Z"
   },
   {
    "duration": 495,
    "start_time": "2022-05-06T13:02:37.957Z"
   },
   {
    "duration": 18,
    "start_time": "2022-05-06T13:02:38.454Z"
   },
   {
    "duration": 64,
    "start_time": "2022-05-06T13:02:38.474Z"
   },
   {
    "duration": 11,
    "start_time": "2022-05-06T13:02:38.541Z"
   },
   {
    "duration": 39,
    "start_time": "2022-05-06T13:02:38.554Z"
   },
   {
    "duration": 25,
    "start_time": "2022-05-06T13:02:38.596Z"
   },
   {
    "duration": 6,
    "start_time": "2022-05-06T13:02:38.623Z"
   },
   {
    "duration": 340,
    "start_time": "2022-05-06T13:02:38.630Z"
   },
   {
    "duration": 6,
    "start_time": "2022-05-06T13:02:38.972Z"
   },
   {
    "duration": 24,
    "start_time": "2022-05-06T13:02:38.992Z"
   },
   {
    "duration": 5,
    "start_time": "2022-05-06T13:02:39.018Z"
   },
   {
    "duration": 336,
    "start_time": "2022-05-06T13:02:39.025Z"
   },
   {
    "duration": 6,
    "start_time": "2022-05-06T13:02:39.364Z"
   },
   {
    "duration": 29,
    "start_time": "2022-05-06T13:02:39.372Z"
   },
   {
    "duration": 10,
    "start_time": "2022-05-06T13:02:39.404Z"
   },
   {
    "duration": 5,
    "start_time": "2022-05-06T13:02:39.415Z"
   },
   {
    "duration": 12,
    "start_time": "2022-05-06T13:02:39.422Z"
   },
   {
    "duration": 8,
    "start_time": "2022-05-06T13:02:39.436Z"
   },
   {
    "duration": 14,
    "start_time": "2022-05-06T13:02:39.446Z"
   },
   {
    "duration": 18,
    "start_time": "2022-05-06T13:02:39.462Z"
   },
   {
    "duration": 12,
    "start_time": "2022-05-06T13:02:39.481Z"
   },
   {
    "duration": 8,
    "start_time": "2022-05-06T13:02:39.494Z"
   },
   {
    "duration": 354,
    "start_time": "2022-05-06T13:02:39.503Z"
   },
   {
    "duration": 6,
    "start_time": "2022-05-06T13:02:39.859Z"
   },
   {
    "duration": 11,
    "start_time": "2022-05-06T13:02:39.866Z"
   },
   {
    "duration": 17,
    "start_time": "2022-05-06T13:02:39.879Z"
   },
   {
    "duration": 7,
    "start_time": "2022-05-06T13:02:39.898Z"
   },
   {
    "duration": 5,
    "start_time": "2022-05-06T13:02:39.909Z"
   },
   {
    "duration": 23,
    "start_time": "2022-05-06T13:02:39.916Z"
   },
   {
    "duration": 17,
    "start_time": "2022-05-06T13:02:39.940Z"
   },
   {
    "duration": 6,
    "start_time": "2022-05-06T13:02:39.959Z"
   },
   {
    "duration": 37,
    "start_time": "2022-05-06T13:02:39.966Z"
   },
   {
    "duration": 24,
    "start_time": "2022-05-06T13:02:40.005Z"
   },
   {
    "duration": 32,
    "start_time": "2022-05-06T13:02:40.031Z"
   },
   {
    "duration": 12,
    "start_time": "2022-05-06T13:02:40.065Z"
   },
   {
    "duration": 15,
    "start_time": "2022-05-06T13:02:40.079Z"
   },
   {
    "duration": 12,
    "start_time": "2022-05-06T13:02:40.096Z"
   },
   {
    "duration": 18,
    "start_time": "2022-05-06T13:02:40.110Z"
   },
   {
    "duration": 23,
    "start_time": "2022-05-06T13:02:40.130Z"
   },
   {
    "duration": 18,
    "start_time": "2022-05-06T13:02:40.154Z"
   },
   {
    "duration": 17,
    "start_time": "2022-05-06T13:02:40.174Z"
   },
   {
    "duration": 25,
    "start_time": "2022-05-06T13:02:40.192Z"
   },
   {
    "duration": 11,
    "start_time": "2022-05-06T13:02:40.218Z"
   },
   {
    "duration": 14,
    "start_time": "2022-05-06T13:02:40.231Z"
   },
   {
    "duration": 16,
    "start_time": "2022-05-06T13:02:40.247Z"
   },
   {
    "duration": 15,
    "start_time": "2022-05-06T13:02:40.265Z"
   },
   {
    "duration": 17,
    "start_time": "2022-05-06T13:02:40.282Z"
   },
   {
    "duration": 15,
    "start_time": "2022-05-06T13:02:40.301Z"
   },
   {
    "duration": 16,
    "start_time": "2022-05-06T13:02:40.317Z"
   },
   {
    "duration": 12,
    "start_time": "2022-05-06T13:02:40.335Z"
   },
   {
    "duration": 53,
    "start_time": "2022-05-06T13:02:40.349Z"
   },
   {
    "duration": 17,
    "start_time": "2022-05-06T13:02:40.404Z"
   },
   {
    "duration": 37,
    "start_time": "2022-05-06T13:02:40.424Z"
   },
   {
    "duration": 608,
    "start_time": "2022-05-07T08:33:28.570Z"
   },
   {
    "duration": 23,
    "start_time": "2022-05-07T08:33:29.180Z"
   },
   {
    "duration": 95,
    "start_time": "2022-05-07T08:33:29.206Z"
   },
   {
    "duration": 28,
    "start_time": "2022-05-07T08:33:29.303Z"
   },
   {
    "duration": 35,
    "start_time": "2022-05-07T08:33:29.335Z"
   },
   {
    "duration": 84,
    "start_time": "2022-05-07T08:33:29.372Z"
   },
   {
    "duration": 7,
    "start_time": "2022-05-07T08:33:29.458Z"
   },
   {
    "duration": 728,
    "start_time": "2022-05-07T08:33:29.467Z"
   },
   {
    "duration": 9,
    "start_time": "2022-05-07T08:33:30.197Z"
   },
   {
    "duration": 47,
    "start_time": "2022-05-07T08:33:30.208Z"
   },
   {
    "duration": 6,
    "start_time": "2022-05-07T08:33:30.257Z"
   },
   {
    "duration": 581,
    "start_time": "2022-05-07T08:33:30.265Z"
   },
   {
    "duration": 8,
    "start_time": "2022-05-07T08:33:30.848Z"
   },
   {
    "duration": 26,
    "start_time": "2022-05-07T08:33:30.862Z"
   },
   {
    "duration": 40,
    "start_time": "2022-05-07T08:33:30.891Z"
   },
   {
    "duration": 8,
    "start_time": "2022-05-07T08:33:30.933Z"
   },
   {
    "duration": 13,
    "start_time": "2022-05-07T08:33:30.943Z"
   },
   {
    "duration": 38,
    "start_time": "2022-05-07T08:33:30.958Z"
   },
   {
    "duration": 33,
    "start_time": "2022-05-07T08:33:30.998Z"
   },
   {
    "duration": 18,
    "start_time": "2022-05-07T08:33:31.033Z"
   },
   {
    "duration": 14,
    "start_time": "2022-05-07T08:33:31.053Z"
   },
   {
    "duration": 14,
    "start_time": "2022-05-07T08:33:31.069Z"
   },
   {
    "duration": 615,
    "start_time": "2022-05-07T08:33:31.085Z"
   },
   {
    "duration": 8,
    "start_time": "2022-05-07T08:33:31.703Z"
   },
   {
    "duration": 8,
    "start_time": "2022-05-07T08:33:31.725Z"
   },
   {
    "duration": 16,
    "start_time": "2022-05-07T08:33:31.735Z"
   },
   {
    "duration": 10,
    "start_time": "2022-05-07T08:33:31.753Z"
   },
   {
    "duration": 7,
    "start_time": "2022-05-07T08:33:31.765Z"
   },
   {
    "duration": 59,
    "start_time": "2022-05-07T08:33:31.774Z"
   },
   {
    "duration": 26,
    "start_time": "2022-05-07T08:33:31.835Z"
   },
   {
    "duration": 8,
    "start_time": "2022-05-07T08:33:31.864Z"
   },
   {
    "duration": 52,
    "start_time": "2022-05-07T08:33:31.874Z"
   },
   {
    "duration": 9,
    "start_time": "2022-05-07T08:33:31.928Z"
   },
   {
    "duration": 27,
    "start_time": "2022-05-07T08:33:31.940Z"
   },
   {
    "duration": 9,
    "start_time": "2022-05-07T08:33:31.969Z"
   },
   {
    "duration": 46,
    "start_time": "2022-05-07T08:33:31.980Z"
   },
   {
    "duration": 13,
    "start_time": "2022-05-07T08:33:32.028Z"
   },
   {
    "duration": 25,
    "start_time": "2022-05-07T08:33:32.043Z"
   },
   {
    "duration": 28,
    "start_time": "2022-05-07T08:33:32.071Z"
   },
   {
    "duration": 26,
    "start_time": "2022-05-07T08:33:32.102Z"
   },
   {
    "duration": 6,
    "start_time": "2022-05-07T08:33:32.135Z"
   },
   {
    "duration": 25,
    "start_time": "2022-05-07T08:33:32.144Z"
   },
   {
    "duration": 33,
    "start_time": "2022-05-07T08:33:32.172Z"
   },
   {
    "duration": 27,
    "start_time": "2022-05-07T08:33:32.208Z"
   },
   {
    "duration": 17,
    "start_time": "2022-05-07T08:33:32.238Z"
   },
   {
    "duration": 26,
    "start_time": "2022-05-07T08:33:32.257Z"
   },
   {
    "duration": 56,
    "start_time": "2022-05-07T08:33:32.285Z"
   },
   {
    "duration": 24,
    "start_time": "2022-05-07T08:33:32.344Z"
   },
   {
    "duration": 21,
    "start_time": "2022-05-07T08:33:32.371Z"
   },
   {
    "duration": 48,
    "start_time": "2022-05-07T08:33:32.394Z"
   },
   {
    "duration": 27,
    "start_time": "2022-05-07T08:33:32.444Z"
   },
   {
    "duration": 60,
    "start_time": "2022-05-07T08:33:32.474Z"
   },
   {
    "duration": 60,
    "start_time": "2022-05-07T08:33:32.537Z"
   },
   {
    "duration": 556,
    "start_time": "2022-05-07T08:33:55.853Z"
   },
   {
    "duration": 23,
    "start_time": "2022-05-07T08:33:56.412Z"
   },
   {
    "duration": 97,
    "start_time": "2022-05-07T08:33:56.437Z"
   },
   {
    "duration": 19,
    "start_time": "2022-05-07T08:33:56.537Z"
   },
   {
    "duration": 66,
    "start_time": "2022-05-07T08:33:56.560Z"
   },
   {
    "duration": 37,
    "start_time": "2022-05-07T08:33:56.629Z"
   },
   {
    "duration": 6,
    "start_time": "2022-05-07T08:33:56.668Z"
   },
   {
    "duration": 570,
    "start_time": "2022-05-07T08:33:56.676Z"
   },
   {
    "duration": 8,
    "start_time": "2022-05-07T08:33:57.248Z"
   },
   {
    "duration": 36,
    "start_time": "2022-05-07T08:33:57.258Z"
   },
   {
    "duration": 31,
    "start_time": "2022-05-07T08:33:57.296Z"
   },
   {
    "duration": 551,
    "start_time": "2022-05-07T08:33:57.330Z"
   },
   {
    "duration": 9,
    "start_time": "2022-05-07T08:33:57.883Z"
   },
   {
    "duration": 39,
    "start_time": "2022-05-07T08:33:57.897Z"
   },
   {
    "duration": 16,
    "start_time": "2022-05-07T08:33:57.939Z"
   },
   {
    "duration": 8,
    "start_time": "2022-05-07T08:33:57.957Z"
   },
   {
    "duration": 10,
    "start_time": "2022-05-07T08:33:57.967Z"
   },
   {
    "duration": 6,
    "start_time": "2022-05-07T08:33:57.979Z"
   },
   {
    "duration": 42,
    "start_time": "2022-05-07T08:33:57.987Z"
   },
   {
    "duration": 16,
    "start_time": "2022-05-07T08:33:58.031Z"
   },
   {
    "duration": 9,
    "start_time": "2022-05-07T08:33:58.050Z"
   },
   {
    "duration": 6,
    "start_time": "2022-05-07T08:33:58.061Z"
   },
   {
    "duration": 623,
    "start_time": "2022-05-07T08:33:58.069Z"
   },
   {
    "duration": 8,
    "start_time": "2022-05-07T08:33:58.694Z"
   },
   {
    "duration": 21,
    "start_time": "2022-05-07T08:33:58.704Z"
   },
   {
    "duration": 6,
    "start_time": "2022-05-07T08:33:58.728Z"
   },
   {
    "duration": 7,
    "start_time": "2022-05-07T08:33:58.736Z"
   },
   {
    "duration": 8,
    "start_time": "2022-05-07T08:33:58.745Z"
   },
   {
    "duration": 70,
    "start_time": "2022-05-07T08:33:58.755Z"
   },
   {
    "duration": 26,
    "start_time": "2022-05-07T08:33:58.827Z"
   },
   {
    "duration": 8,
    "start_time": "2022-05-07T08:33:58.855Z"
   },
   {
    "duration": 21,
    "start_time": "2022-05-07T08:33:58.866Z"
   },
   {
    "duration": 42,
    "start_time": "2022-05-07T08:33:58.890Z"
   },
   {
    "duration": 26,
    "start_time": "2022-05-07T08:33:58.934Z"
   },
   {
    "duration": 9,
    "start_time": "2022-05-07T08:33:58.961Z"
   },
   {
    "duration": 11,
    "start_time": "2022-05-07T08:33:58.972Z"
   },
   {
    "duration": 40,
    "start_time": "2022-05-07T08:33:58.985Z"
   },
   {
    "duration": 18,
    "start_time": "2022-05-07T08:33:59.028Z"
   },
   {
    "duration": 15,
    "start_time": "2022-05-07T08:33:59.048Z"
   },
   {
    "duration": 13,
    "start_time": "2022-05-07T08:33:59.065Z"
   },
   {
    "duration": 6,
    "start_time": "2022-05-07T08:33:59.084Z"
   },
   {
    "duration": 16,
    "start_time": "2022-05-07T08:33:59.124Z"
   },
   {
    "duration": 25,
    "start_time": "2022-05-07T08:33:59.142Z"
   },
   {
    "duration": 13,
    "start_time": "2022-05-07T08:33:59.169Z"
   },
   {
    "duration": 55,
    "start_time": "2022-05-07T08:33:59.185Z"
   },
   {
    "duration": 27,
    "start_time": "2022-05-07T08:33:59.243Z"
   },
   {
    "duration": 17,
    "start_time": "2022-05-07T08:33:59.273Z"
   },
   {
    "duration": 20,
    "start_time": "2022-05-07T08:33:59.324Z"
   },
   {
    "duration": 20,
    "start_time": "2022-05-07T08:33:59.346Z"
   },
   {
    "duration": 18,
    "start_time": "2022-05-07T08:33:59.369Z"
   },
   {
    "duration": 22,
    "start_time": "2022-05-07T08:33:59.424Z"
   },
   {
    "duration": 25,
    "start_time": "2022-05-07T08:33:59.448Z"
   },
   {
    "duration": 88,
    "start_time": "2022-05-07T08:33:59.476Z"
   },
   {
    "duration": 11,
    "start_time": "2022-05-07T08:34:33.573Z"
   },
   {
    "duration": 5,
    "start_time": "2022-05-07T08:35:24.992Z"
   },
   {
    "duration": 6,
    "start_time": "2022-05-07T08:35:26.058Z"
   },
   {
    "duration": 588,
    "start_time": "2022-05-07T08:35:48.570Z"
   },
   {
    "duration": 22,
    "start_time": "2022-05-07T08:35:49.162Z"
   },
   {
    "duration": 97,
    "start_time": "2022-05-07T08:35:49.186Z"
   },
   {
    "duration": 18,
    "start_time": "2022-05-07T08:35:49.286Z"
   },
   {
    "duration": 31,
    "start_time": "2022-05-07T08:35:49.324Z"
   },
   {
    "duration": 35,
    "start_time": "2022-05-07T08:35:49.357Z"
   },
   {
    "duration": 33,
    "start_time": "2022-05-07T08:35:49.394Z"
   },
   {
    "duration": 556,
    "start_time": "2022-05-07T08:35:49.429Z"
   },
   {
    "duration": 7,
    "start_time": "2022-05-07T08:35:49.987Z"
   },
   {
    "duration": 52,
    "start_time": "2022-05-07T08:35:49.996Z"
   },
   {
    "duration": 6,
    "start_time": "2022-05-07T08:35:50.050Z"
   },
   {
    "duration": 567,
    "start_time": "2022-05-07T08:35:50.058Z"
   },
   {
    "duration": 7,
    "start_time": "2022-05-07T08:35:50.627Z"
   },
   {
    "duration": 27,
    "start_time": "2022-05-07T08:35:50.641Z"
   },
   {
    "duration": 16,
    "start_time": "2022-05-07T08:35:50.670Z"
   },
   {
    "duration": 41,
    "start_time": "2022-05-07T08:35:50.688Z"
   },
   {
    "duration": 11,
    "start_time": "2022-05-07T08:35:50.732Z"
   },
   {
    "duration": 7,
    "start_time": "2022-05-07T08:35:50.745Z"
   },
   {
    "duration": 7,
    "start_time": "2022-05-07T08:35:50.754Z"
   },
   {
    "duration": 22,
    "start_time": "2022-05-07T08:35:50.764Z"
   },
   {
    "duration": 39,
    "start_time": "2022-05-07T08:35:50.789Z"
   },
   {
    "duration": 8,
    "start_time": "2022-05-07T08:35:50.830Z"
   },
   {
    "duration": 610,
    "start_time": "2022-05-07T08:35:50.840Z"
   },
   {
    "duration": 7,
    "start_time": "2022-05-07T08:35:51.453Z"
   },
   {
    "duration": 12,
    "start_time": "2022-05-07T08:35:51.462Z"
   },
   {
    "duration": 11,
    "start_time": "2022-05-07T08:35:51.476Z"
   },
   {
    "duration": 35,
    "start_time": "2022-05-07T08:35:51.489Z"
   },
   {
    "duration": 9,
    "start_time": "2022-05-07T08:35:51.526Z"
   },
   {
    "duration": 40,
    "start_time": "2022-05-07T08:35:51.538Z"
   },
   {
    "duration": 50,
    "start_time": "2022-05-07T08:35:51.581Z"
   },
   {
    "duration": 10,
    "start_time": "2022-05-07T08:35:51.634Z"
   },
   {
    "duration": 22,
    "start_time": "2022-05-07T08:35:51.646Z"
   },
   {
    "duration": 9,
    "start_time": "2022-05-07T08:35:51.670Z"
   },
   {
    "duration": 54,
    "start_time": "2022-05-07T08:35:51.681Z"
   },
   {
    "duration": 7,
    "start_time": "2022-05-07T08:35:51.738Z"
   },
   {
    "duration": 11,
    "start_time": "2022-05-07T08:35:51.747Z"
   },
   {
    "duration": 12,
    "start_time": "2022-05-07T08:35:51.760Z"
   },
   {
    "duration": 50,
    "start_time": "2022-05-07T08:35:51.774Z"
   },
   {
    "duration": 16,
    "start_time": "2022-05-07T08:35:51.826Z"
   },
   {
    "duration": 11,
    "start_time": "2022-05-07T08:35:51.844Z"
   },
   {
    "duration": 6,
    "start_time": "2022-05-07T08:35:51.860Z"
   },
   {
    "duration": 18,
    "start_time": "2022-05-07T08:35:51.868Z"
   },
   {
    "duration": 49,
    "start_time": "2022-05-07T08:35:51.888Z"
   },
   {
    "duration": 13,
    "start_time": "2022-05-07T08:35:51.939Z"
   },
   {
    "duration": 15,
    "start_time": "2022-05-07T08:35:51.954Z"
   },
   {
    "duration": 52,
    "start_time": "2022-05-07T08:35:51.972Z"
   },
   {
    "duration": 18,
    "start_time": "2022-05-07T08:35:52.027Z"
   },
   {
    "duration": 19,
    "start_time": "2022-05-07T08:35:52.047Z"
   },
   {
    "duration": 22,
    "start_time": "2022-05-07T08:35:52.068Z"
   },
   {
    "duration": 17,
    "start_time": "2022-05-07T08:35:52.125Z"
   },
   {
    "duration": 21,
    "start_time": "2022-05-07T08:35:52.144Z"
   },
   {
    "duration": 59,
    "start_time": "2022-05-07T08:35:52.167Z"
   },
   {
    "duration": 51,
    "start_time": "2022-05-07T08:35:52.229Z"
   },
   {
    "duration": 6,
    "start_time": "2022-05-07T08:36:06.044Z"
   },
   {
    "duration": 5,
    "start_time": "2022-05-07T08:36:12.786Z"
   },
   {
    "duration": 7,
    "start_time": "2022-05-07T08:36:17.154Z"
   },
   {
    "duration": 5,
    "start_time": "2022-05-07T08:36:20.736Z"
   }
  ],
  "kernelspec": {
   "display_name": "Python 3 (ipykernel)",
   "language": "python",
   "name": "python3"
  },
  "language_info": {
   "codemirror_mode": {
    "name": "ipython",
    "version": 3
   },
   "file_extension": ".py",
   "mimetype": "text/x-python",
   "name": "python",
   "nbconvert_exporter": "python",
   "pygments_lexer": "ipython3",
   "version": "3.9.5"
  },
  "toc": {
   "base_numbering": 1,
   "nav_menu": {},
   "number_sections": true,
   "sideBar": true,
   "skip_h1_title": true,
   "title_cell": "Table of Contents",
   "title_sidebar": "Contents",
   "toc_cell": false,
   "toc_position": {},
   "toc_section_display": true,
   "toc_window_display": false
  }
 },
 "nbformat": 4,
 "nbformat_minor": 5
}
