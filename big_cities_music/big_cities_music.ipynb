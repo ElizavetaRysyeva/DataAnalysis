{
 "cells": [
  {
   "cell_type": "markdown",
   "metadata": {
    "id": "E0vqbgi9ay0H"
   },
   "source": [
    "# Яндекс.Музыка"
   ]
  },
  {
   "cell_type": "markdown",
   "metadata": {
    "id": "VUC88oWjTJw2"
   },
   "source": [
    "Сравнение Москвы и Петербурга окружено мифами. Например:\n",
    " * Москва — мегаполис, подчинённый жёсткому ритму рабочей недели;\n",
    " * Петербург — культурная столица, со своими вкусами.\n",
    "\n",
    "На данных Яндекс.Музыки вы сравните поведение пользователей двух столиц.\n",
    "\n",
    "**Цель исследования** — проверьте три гипотезы:\n",
    "1. Активность пользователей зависит от дня недели. Причём в Москве и Петербурге это проявляется по-разному.\n",
    "2. В понедельник утром в Москве преобладают одни жанры, а в Петербурге — другие. Так же и вечером пятницы преобладают разные жанры — в зависимости от города. \n",
    "3. Москва и Петербург предпочитают разные жанры музыки. В Москве чаще слушают поп-музыку, в Петербурге — русский рэп.\n",
    "\n",
    "**Ход исследования**\n",
    "\n",
    "Данные о поведении пользователей вы получите из файла `yandex_music_project.csv`. О качестве данных ничего не известно. Поэтому перед проверкой гипотез понадобится обзор данных. \n",
    "\n",
    "Вы проверите данные на ошибки и оцените их влияние на исследование. Затем, на этапе предобработки вы поищете возможность исправить самые критичные ошибки данных.\n",
    " \n",
    "Таким образом, исследование пройдёт в три этапа:\n",
    " 1. Обзор данных.\n",
    " 2. Предобработка данных.\n",
    " 3. Проверка гипотез.\n",
    "\n"
   ]
  },
  {
   "cell_type": "markdown",
   "metadata": {
    "id": "Ml1hmfXC_Zcs"
   },
   "source": [
    "## Обзор данных\n",
    "\n",
    "Составьте первое представление о данных Яндекс.Музыки.\n",
    "\n",
    "\n"
   ]
  },
  {
   "cell_type": "markdown",
   "metadata": {
    "id": "57eAOGIz_Zcs"
   },
   "source": [
    "Основной инструмент аналитика — `pandas`. Импортируйте эту библиотеку."
   ]
  },
  {
   "cell_type": "code",
   "execution_count": 1,
   "metadata": {
    "id": "AXN7PHPN_Zcs"
   },
   "outputs": [],
   "source": [
    "import pandas as pd"
   ]
  },
  {
   "cell_type": "markdown",
   "metadata": {
    "id": "SG23P8tt_Zcs"
   },
   "source": [
    "Прочитайте файл `yandex_music_project.csv` из папки `/datasets` и сохраните его в переменной `df`:"
   ]
  },
  {
   "cell_type": "code",
   "execution_count": 2,
   "metadata": {
    "id": "fFVu7vqh_Zct"
   },
   "outputs": [],
   "source": [
    "df = pd.read_csv('/datasets/yandex_music_project.csv')"
   ]
  },
  {
   "cell_type": "markdown",
   "metadata": {
    "id": "rDoOMd3uTqnZ"
   },
   "source": [
    "Выведите на экран первые десять строк таблицы:"
   ]
  },
  {
   "cell_type": "code",
   "execution_count": 3,
   "metadata": {
    "id": "oWTVX3gW_Zct"
   },
   "outputs": [
    {
     "data": {
      "text/html": [
       "<div>\n",
       "<style scoped>\n",
       "    .dataframe tbody tr th:only-of-type {\n",
       "        vertical-align: middle;\n",
       "    }\n",
       "\n",
       "    .dataframe tbody tr th {\n",
       "        vertical-align: top;\n",
       "    }\n",
       "\n",
       "    .dataframe thead th {\n",
       "        text-align: right;\n",
       "    }\n",
       "</style>\n",
       "<table border=\"1\" class=\"dataframe\">\n",
       "  <thead>\n",
       "    <tr style=\"text-align: right;\">\n",
       "      <th></th>\n",
       "      <th>userID</th>\n",
       "      <th>Track</th>\n",
       "      <th>artist</th>\n",
       "      <th>genre</th>\n",
       "      <th>City</th>\n",
       "      <th>time</th>\n",
       "      <th>Day</th>\n",
       "    </tr>\n",
       "  </thead>\n",
       "  <tbody>\n",
       "    <tr>\n",
       "      <th>0</th>\n",
       "      <td>FFB692EC</td>\n",
       "      <td>Kamigata To Boots</td>\n",
       "      <td>The Mass Missile</td>\n",
       "      <td>rock</td>\n",
       "      <td>Saint-Petersburg</td>\n",
       "      <td>20:28:33</td>\n",
       "      <td>Wednesday</td>\n",
       "    </tr>\n",
       "    <tr>\n",
       "      <th>1</th>\n",
       "      <td>55204538</td>\n",
       "      <td>Delayed Because of Accident</td>\n",
       "      <td>Andreas Rönnberg</td>\n",
       "      <td>rock</td>\n",
       "      <td>Moscow</td>\n",
       "      <td>14:07:09</td>\n",
       "      <td>Friday</td>\n",
       "    </tr>\n",
       "    <tr>\n",
       "      <th>2</th>\n",
       "      <td>20EC38</td>\n",
       "      <td>Funiculì funiculà</td>\n",
       "      <td>Mario Lanza</td>\n",
       "      <td>pop</td>\n",
       "      <td>Saint-Petersburg</td>\n",
       "      <td>20:58:07</td>\n",
       "      <td>Wednesday</td>\n",
       "    </tr>\n",
       "    <tr>\n",
       "      <th>3</th>\n",
       "      <td>A3DD03C9</td>\n",
       "      <td>Dragons in the Sunset</td>\n",
       "      <td>Fire + Ice</td>\n",
       "      <td>folk</td>\n",
       "      <td>Saint-Petersburg</td>\n",
       "      <td>08:37:09</td>\n",
       "      <td>Monday</td>\n",
       "    </tr>\n",
       "    <tr>\n",
       "      <th>4</th>\n",
       "      <td>E2DC1FAE</td>\n",
       "      <td>Soul People</td>\n",
       "      <td>Space Echo</td>\n",
       "      <td>dance</td>\n",
       "      <td>Moscow</td>\n",
       "      <td>08:34:34</td>\n",
       "      <td>Monday</td>\n",
       "    </tr>\n",
       "    <tr>\n",
       "      <th>5</th>\n",
       "      <td>842029A1</td>\n",
       "      <td>Преданная</td>\n",
       "      <td>IMPERVTOR</td>\n",
       "      <td>rusrap</td>\n",
       "      <td>Saint-Petersburg</td>\n",
       "      <td>13:09:41</td>\n",
       "      <td>Friday</td>\n",
       "    </tr>\n",
       "    <tr>\n",
       "      <th>6</th>\n",
       "      <td>4CB90AA5</td>\n",
       "      <td>True</td>\n",
       "      <td>Roman Messer</td>\n",
       "      <td>dance</td>\n",
       "      <td>Moscow</td>\n",
       "      <td>13:00:07</td>\n",
       "      <td>Wednesday</td>\n",
       "    </tr>\n",
       "    <tr>\n",
       "      <th>7</th>\n",
       "      <td>F03E1C1F</td>\n",
       "      <td>Feeling This Way</td>\n",
       "      <td>Polina Griffith</td>\n",
       "      <td>dance</td>\n",
       "      <td>Moscow</td>\n",
       "      <td>20:47:49</td>\n",
       "      <td>Wednesday</td>\n",
       "    </tr>\n",
       "    <tr>\n",
       "      <th>8</th>\n",
       "      <td>8FA1D3BE</td>\n",
       "      <td>И вновь продолжается бой</td>\n",
       "      <td>NaN</td>\n",
       "      <td>ruspop</td>\n",
       "      <td>Moscow</td>\n",
       "      <td>09:17:40</td>\n",
       "      <td>Friday</td>\n",
       "    </tr>\n",
       "    <tr>\n",
       "      <th>9</th>\n",
       "      <td>E772D5C0</td>\n",
       "      <td>Pessimist</td>\n",
       "      <td>NaN</td>\n",
       "      <td>dance</td>\n",
       "      <td>Saint-Petersburg</td>\n",
       "      <td>21:20:49</td>\n",
       "      <td>Wednesday</td>\n",
       "    </tr>\n",
       "  </tbody>\n",
       "</table>\n",
       "</div>"
      ],
      "text/plain": [
       "     userID                        Track            artist   genre  \\\n",
       "0  FFB692EC            Kamigata To Boots  The Mass Missile    rock   \n",
       "1  55204538  Delayed Because of Accident  Andreas Rönnberg    rock   \n",
       "2    20EC38            Funiculì funiculà       Mario Lanza     pop   \n",
       "3  A3DD03C9        Dragons in the Sunset        Fire + Ice    folk   \n",
       "4  E2DC1FAE                  Soul People        Space Echo   dance   \n",
       "5  842029A1                    Преданная         IMPERVTOR  rusrap   \n",
       "6  4CB90AA5                         True      Roman Messer   dance   \n",
       "7  F03E1C1F             Feeling This Way   Polina Griffith   dance   \n",
       "8  8FA1D3BE     И вновь продолжается бой               NaN  ruspop   \n",
       "9  E772D5C0                    Pessimist               NaN   dance   \n",
       "\n",
       "             City        time        Day  \n",
       "0  Saint-Petersburg  20:28:33  Wednesday  \n",
       "1            Moscow  14:07:09     Friday  \n",
       "2  Saint-Petersburg  20:58:07  Wednesday  \n",
       "3  Saint-Petersburg  08:37:09     Monday  \n",
       "4            Moscow  08:34:34     Monday  \n",
       "5  Saint-Petersburg  13:09:41     Friday  \n",
       "6            Moscow  13:00:07  Wednesday  \n",
       "7            Moscow  20:47:49  Wednesday  \n",
       "8            Moscow  09:17:40     Friday  \n",
       "9  Saint-Petersburg  21:20:49  Wednesday  "
      ]
     },
     "execution_count": 3,
     "metadata": {},
     "output_type": "execute_result"
    }
   ],
   "source": [
    "df.head(10)"
   ]
  },
  {
   "cell_type": "markdown",
   "metadata": {
    "id": "EO73Kwic_Zct"
   },
   "source": [
    "Одной командой получить общую информацию о таблице:"
   ]
  },
  {
   "cell_type": "code",
   "execution_count": 4,
   "metadata": {
    "id": "DSf2kIb-_Zct"
   },
   "outputs": [
    {
     "name": "stdout",
     "output_type": "stream",
     "text": [
      "<class 'pandas.core.frame.DataFrame'>\n",
      "RangeIndex: 65079 entries, 0 to 65078\n",
      "Data columns (total 7 columns):\n",
      " #   Column    Non-Null Count  Dtype \n",
      "---  ------    --------------  ----- \n",
      " 0     userID  65079 non-null  object\n",
      " 1   Track     63848 non-null  object\n",
      " 2   artist    57876 non-null  object\n",
      " 3   genre     63881 non-null  object\n",
      " 4     City    65079 non-null  object\n",
      " 5   time      65079 non-null  object\n",
      " 6   Day       65079 non-null  object\n",
      "dtypes: object(7)\n",
      "memory usage: 3.5+ MB\n"
     ]
    }
   ],
   "source": [
    "df.info()"
   ]
  },
  {
   "cell_type": "markdown",
   "metadata": {
    "id": "TaQ2Iwbr_Zct"
   },
   "source": [
    "Итак, в таблице семь столбцов. Тип данных во всех столбцах — `object`.\n",
    "\n",
    "Согласно документации к данным:\n",
    "* `userID` — идентификатор пользователя;\n",
    "* `Track` — название трека;  \n",
    "* `artist` — имя исполнителя;\n",
    "* `genre` — название жанра;\n",
    "* `City` — город пользователя;\n",
    "* `time` — время начала прослушивания;\n",
    "* `Day` — день недели.\n",
    "\n",
    "В названиях колонок видны три нарушения стиля:\n",
    "1. Строчные буквы сочетаются с прописными.\n",
    "2. Встречаются пробелы.\n",
    "3. Найдите ещё одну проблему в названии колонок и опишите её в этом пункте.\n",
    "\n",
    "\n",
    "\n",
    "Количество значений в столбцах различается. Значит, в данных есть пропущенные значения.\n"
   ]
  },
  {
   "cell_type": "markdown",
   "metadata": {
    "id": "MCB6-dXG_Zct"
   },
   "source": [
    "**Выводы**\n",
    "\n",
    "В каждой строке таблицы — данные о прослушанном треке. Часть колонок описывает саму композицию: название, исполнителя и жанр. Остальные данные рассказывают о пользователе: из какого он города, когда он слушал музыку. \n",
    "\n",
    "Предварительно можно утверждать, что, данных достаточно для проверки гипотез. Но встречаются пропуски в данных, а в названиях колонок — расхождения с хорошим стилем.\n",
    "\n",
    "Чтобы двигаться дальше, нужно устранить проблемы в данных."
   ]
  },
  {
   "cell_type": "markdown",
   "metadata": {
    "id": "SjYF6Ub9_Zct"
   },
   "source": [
    "## Предобработка данных\n",
    "Исправьте стиль в заголовках столбцов, исключите пропуски. Затем проверьте данные на дубликаты."
   ]
  },
  {
   "cell_type": "markdown",
   "metadata": {
    "id": "dIaKXr29_Zct"
   },
   "source": [
    "### Стиль заголовков\n",
    "Выведите на экран названия столбцов:"
   ]
  },
  {
   "cell_type": "code",
   "execution_count": 5,
   "metadata": {
    "id": "oKOTdF_Q_Zct"
   },
   "outputs": [
    {
     "data": {
      "text/plain": [
       "Index(['  userID', 'Track', 'artist', 'genre', '  City  ', 'time', 'Day'], dtype='object')"
      ]
     },
     "execution_count": 5,
     "metadata": {},
     "output_type": "execute_result"
    }
   ],
   "source": [
    "df.columns"
   ]
  },
  {
   "cell_type": "markdown",
   "metadata": {
    "id": "zj5534cv_Zct"
   },
   "source": [
    "Приведите названия в соответствие с хорошим стилем:\n",
    "* несколько слов в названии запишите в «змеином_регистре»,\n",
    "* все символы сделайте строчными,\n",
    "* устраните пробелы.\n",
    "\n",
    "Для этого переименуйте колонки так:\n",
    "* `'  userID'` → `'user_id'`;\n",
    "* `'Track'` → `'track'`;\n",
    "* `'  City  '` → `'city'`;\n",
    "* `'Day'` → `'day'`."
   ]
  },
  {
   "cell_type": "code",
   "execution_count": 6,
   "metadata": {
    "id": "ISlFqs5y_Zct",
    "scrolled": true
   },
   "outputs": [
    {
     "data": {
      "text/plain": [
       "Index(['user_id', 'track', 'artist', 'genre', 'city', 'time', 'day'], dtype='object')"
      ]
     },
     "execution_count": 6,
     "metadata": {},
     "output_type": "execute_result"
    }
   ],
   "source": [
    "df = df.rename(columns={'  userID': 'user_id', 'Track': 'track', '  City  ':'city', 'Day': 'day'  })\n",
    "df.columns"
   ]
  },
  {
   "cell_type": "markdown",
   "metadata": {
    "id": "1dqbh00J_Zct"
   },
   "source": [
    "Проверьте результат. Для этого ещё раз выведите на экран названия столбцов:"
   ]
  },
  {
   "cell_type": "code",
   "execution_count": 7,
   "metadata": {
    "id": "d4NOAmTW_Zct"
   },
   "outputs": [
    {
     "data": {
      "text/plain": [
       "Index(['user_id', 'track', 'artist', 'genre', 'city', 'time', 'day'], dtype='object')"
      ]
     },
     "execution_count": 7,
     "metadata": {},
     "output_type": "execute_result"
    }
   ],
   "source": [
    "df.columns"
   ]
  },
  {
   "cell_type": "markdown",
   "metadata": {
    "id": "5ISfbcfY_Zct"
   },
   "source": [
    "### Пропуски значений\n",
    "Сначала посчитайте, сколько в таблице пропущенных значений. Для этого достаточно двух методов `pandas`:"
   ]
  },
  {
   "cell_type": "code",
   "execution_count": 8,
   "metadata": {
    "id": "RskX29qr_Zct"
   },
   "outputs": [
    {
     "data": {
      "text/plain": [
       "user_id       0\n",
       "track      1231\n",
       "artist     7203\n",
       "genre      1198\n",
       "city          0\n",
       "time          0\n",
       "day           0\n",
       "dtype: int64"
      ]
     },
     "execution_count": 8,
     "metadata": {},
     "output_type": "execute_result"
    }
   ],
   "source": [
    "df.isna().sum()"
   ]
  },
  {
   "cell_type": "markdown",
   "metadata": {
    "id": "qubhgnlO_Zct"
   },
   "source": [
    "Не все пропущенные значения влияют на исследование. Так в `track` и `artist` пропуски не важны для вашей работы. Достаточно заменить их явными обозначениями.\n",
    "\n",
    "Но пропуски в `genre` могут помешать сравнению музыкальных вкусов в Москве и Санкт-Петербурге. На практике было бы правильно установить причину пропусков и восстановить данные. Такой возможности нет в учебном проекте. Придётся:\n",
    "* заполнить и эти пропуски явными обозначениями,\n",
    "* оценить, насколько они повредят расчётам. "
   ]
  },
  {
   "cell_type": "markdown",
   "metadata": {
    "id": "fSv2laPA_Zct"
   },
   "source": [
    "Замените пропущенные значения в столбцах `track`, `artist` и `genre` на строку `'unknown'`. Для этого создайте список `columns_to_replace`, переберите его элементы циклом `for` и для каждого столбца выполните замену пропущенных значений:"
   ]
  },
  {
   "cell_type": "code",
   "execution_count": 9,
   "metadata": {
    "id": "KplB5qWs_Zct"
   },
   "outputs": [],
   "source": [
    "columns_to_replace = ['track', 'artist', 'genre' ]\n",
    "for column in columns_to_replace:\n",
    "    df[column] = df[column].fillna('unknown')\n"
   ]
  },
  {
   "cell_type": "markdown",
   "metadata": {
    "id": "Ilsm-MZo_Zct"
   },
   "source": [
    "Убедитесь, что в таблице не осталось пропусков. Для этого ещё раз посчитайте пропущенные значения."
   ]
  },
  {
   "cell_type": "code",
   "execution_count": 10,
   "metadata": {
    "id": "Tq4nYRX4_Zct"
   },
   "outputs": [
    {
     "data": {
      "text/plain": [
       "user_id    0\n",
       "track      0\n",
       "artist     0\n",
       "genre      0\n",
       "city       0\n",
       "time       0\n",
       "day        0\n",
       "dtype: int64"
      ]
     },
     "execution_count": 10,
     "metadata": {},
     "output_type": "execute_result"
    }
   ],
   "source": [
    "df.isna().sum()"
   ]
  },
  {
   "cell_type": "markdown",
   "metadata": {
    "id": "BWKRtBJ3_Zct"
   },
   "source": [
    "### Дубликаты\n",
    "Посчитайте явные дубликаты в таблице одной командой:"
   ]
  },
  {
   "cell_type": "code",
   "execution_count": 11,
   "metadata": {
    "id": "36eES_S0_Zct"
   },
   "outputs": [
    {
     "data": {
      "text/plain": [
       "3826"
      ]
     },
     "execution_count": 11,
     "metadata": {},
     "output_type": "execute_result"
    }
   ],
   "source": [
    "df.duplicated().sum()"
   ]
  },
  {
   "cell_type": "markdown",
   "metadata": {
    "id": "Ot25h6XR_Zct"
   },
   "source": [
    "Вызовите специальный метод `pandas`, чтобы удалить явные дубликаты:"
   ]
  },
  {
   "cell_type": "code",
   "execution_count": 12,
   "metadata": {
    "id": "exFHq6tt_Zct"
   },
   "outputs": [],
   "source": [
    "df=df.drop_duplicates().reset_index(drop=True)"
   ]
  },
  {
   "cell_type": "markdown",
   "metadata": {
    "id": "Im2YwBEG_Zct"
   },
   "source": [
    "Ещё раз посчитайте явные дубликаты в таблице — убедитесь, что полностью от них избавились:"
   ]
  },
  {
   "cell_type": "code",
   "execution_count": 13,
   "metadata": {
    "id": "-8PuNWQ0_Zct"
   },
   "outputs": [
    {
     "data": {
      "text/plain": [
       "0"
      ]
     },
     "execution_count": 13,
     "metadata": {},
     "output_type": "execute_result"
    }
   ],
   "source": [
    "df.duplicated().sum()"
   ]
  },
  {
   "cell_type": "markdown",
   "metadata": {
    "id": "QlFBsxAr_Zct"
   },
   "source": [
    "Теперь избавьтесь от неявных дубликатов в колонке `genre`. Например, название одного и того же жанра может быть записано немного по-разному. Такие ошибки тоже повлияют на результат исследования."
   ]
  },
  {
   "cell_type": "markdown",
   "metadata": {
    "id": "eSjWwsOh_Zct"
   },
   "source": [
    "Выведите на экран список уникальных названий жанров, отсортированный в алфавитном порядке. Для этого:\n",
    "* извлеките нужный столбец датафрейма, \n",
    "* примените к нему метод сортировки,\n",
    "* для отсортированного столбца вызовите метод, который вернёт уникальные значения из столбца."
   ]
  },
  {
   "cell_type": "code",
   "execution_count": 14,
   "metadata": {
    "id": "JIUcqzZN_Zct",
    "scrolled": true
   },
   "outputs": [
    {
     "name": "stdout",
     "output_type": "stream",
     "text": [
      "['acid' 'acoustic' 'action' 'adult' 'africa' 'afrikaans' 'alternative'\n",
      " 'alternativepunk' 'ambient' 'americana' 'animated' 'anime' 'arabesk'\n",
      " 'arabic' 'arena' 'argentinetango' 'art' 'audiobook' 'author' 'avantgarde'\n",
      " 'axé' 'baile' 'balkan' 'beats' 'bigroom' 'black' 'bluegrass' 'blues'\n",
      " 'bollywood' 'bossa' 'brazilian' 'breakbeat' 'breaks' 'broadway'\n",
      " 'cantautori' 'cantopop' 'canzone' 'caribbean' 'caucasian' 'celtic'\n",
      " 'chamber' 'chanson' 'children' 'chill' 'chinese' 'choral' 'christian'\n",
      " 'christmas' 'classical' 'classicmetal' 'club' 'colombian' 'comedy'\n",
      " 'conjazz' 'contemporary' 'country' 'cuban' 'dance' 'dancehall' 'dancepop'\n",
      " 'dark' 'death' 'deep' 'deutschrock' 'deutschspr' 'dirty' 'disco' 'dnb'\n",
      " 'documentary' 'downbeat' 'downtempo' 'drum' 'dub' 'dubstep' 'eastern'\n",
      " 'easy' 'electronic' 'electropop' 'emo' 'entehno' 'epicmetal' 'estrada'\n",
      " 'ethnic' 'eurofolk' 'european' 'experimental' 'extrememetal' 'fado'\n",
      " 'fairytail' 'film' 'fitness' 'flamenco' 'folk' 'folklore' 'folkmetal'\n",
      " 'folkrock' 'folktronica' 'forró' 'frankreich' 'französisch' 'french'\n",
      " 'funk' 'future' 'gangsta' 'garage' 'german' 'ghazal' 'gitarre' 'glitch'\n",
      " 'gospel' 'gothic' 'grime' 'grunge' 'gypsy' 'handsup' \"hard'n'heavy\"\n",
      " 'hardcore' 'hardstyle' 'hardtechno' 'hip' 'hip-hop' 'hiphop' 'historisch'\n",
      " 'holiday' 'hop' 'horror' 'house' 'hymn' 'idm' 'independent' 'indian'\n",
      " 'indie' 'indipop' 'industrial' 'inspirational' 'instrumental'\n",
      " 'international' 'irish' 'jam' 'japanese' 'jazz' 'jewish' 'jpop' 'jungle'\n",
      " 'k-pop' 'karadeniz' 'karaoke' 'kayokyoku' 'korean' 'laiko' 'latin'\n",
      " 'latino' 'leftfield' 'local' 'lounge' 'loungeelectronic' 'lovers'\n",
      " 'malaysian' 'mandopop' 'marschmusik' 'meditative' 'mediterranean'\n",
      " 'melodic' 'metal' 'metalcore' 'mexican' 'middle' 'minimal'\n",
      " 'miscellaneous' 'modern' 'mood' 'mpb' 'muslim' 'native' 'neoklassik'\n",
      " 'neue' 'new' 'newage' 'newwave' 'nu' 'nujazz' 'numetal' 'oceania' 'old'\n",
      " 'opera' 'orchestral' 'other' 'piano' 'podcasts' 'pop' 'popdance'\n",
      " 'popelectronic' 'popeurodance' 'poprussian' 'post' 'posthardcore'\n",
      " 'postrock' 'power' 'progmetal' 'progressive' 'psychedelic' 'punjabi'\n",
      " 'punk' 'quebecois' 'ragga' 'ram' 'rancheras' 'rap' 'rave' 'reggae'\n",
      " 'reggaeton' 'regional' 'relax' 'religious' 'retro' 'rhythm' 'rnb' 'rnr'\n",
      " 'rock' 'rockabilly' 'rockalternative' 'rockindie' 'rockother' 'romance'\n",
      " 'roots' 'ruspop' 'rusrap' 'rusrock' 'russian' 'salsa' 'samba' 'scenic'\n",
      " 'schlager' 'self' 'sertanejo' 'shanson' 'shoegazing' 'showtunes' 'singer'\n",
      " 'ska' 'skarock' 'slow' 'smooth' 'soft' 'soul' 'soulful' 'sound'\n",
      " 'soundtrack' 'southern' 'specialty' 'speech' 'spiritual' 'sport'\n",
      " 'stonerrock' 'surf' 'swing' 'synthpop' 'synthrock' 'sängerportrait'\n",
      " 'tango' 'tanzorchester' 'taraftar' 'tatar' 'tech' 'techno' 'teen'\n",
      " 'thrash' 'top' 'traditional' 'tradjazz' 'trance' 'tribal' 'trip'\n",
      " 'triphop' 'tropical' 'türk' 'türkçe' 'ukrrock' 'unknown' 'urban' 'uzbek'\n",
      " 'variété' 'vi' 'videogame' 'vocal' 'western' 'world' 'worldbeat' 'ïîï'\n",
      " 'электроника']\n"
     ]
    }
   ],
   "source": [
    "print(df['genre'].sort_values().unique())"
   ]
  },
  {
   "cell_type": "markdown",
   "metadata": {
    "id": "qej-Qmuo_Zct"
   },
   "source": [
    "Просмотрите список и найдите неявные дубликаты названия `hiphop`. Это могут быть названия с ошибками или альтернативные названия того же жанра.\n",
    "\n",
    "Вы увидите следующие неявные дубликаты:\n",
    "* *hip*,\n",
    "* *hop*,\n",
    "* *hip-hop*.\n",
    "\n",
    "Чтобы очистить от них таблицу, напишите функцию `replace_wrong_genres()` с двумя параметрами: \n",
    "* `wrong_genres` — список дубликатов,\n",
    "* `correct_genre` — строка с правильным значением.\n",
    "\n",
    "Функция должна исправить колонку `genre` в таблице `df`: заменить каждое значение из списка `wrong_genres` на значение из `correct_genre`."
   ]
  },
  {
   "cell_type": "code",
   "execution_count": 15,
   "metadata": {
    "id": "ErNDkmns_Zct"
   },
   "outputs": [],
   "source": [
    "def replace_wrong_values(wrong_genres, correct_genre): \n",
    "    for wrong_genre in wrong_genres: \n",
    "        df['genre'] = df['genre'].replace(wrong_genre, correct_genre) "
   ]
  },
  {
   "cell_type": "markdown",
   "metadata": {
    "id": "aDoBJxbA_Zct"
   },
   "source": [
    "Вызовите `replace_wrong_genres()` и передайте ей такие аргументы, чтобы она устранила неявные дубликаты: вместо `hip`, `hop` и `hip-hop` в таблице должно быть значение `hiphop`:"
   ]
  },
  {
   "cell_type": "code",
   "execution_count": 16,
   "metadata": {
    "id": "YN5i2hpmSo09"
   },
   "outputs": [],
   "source": [
    "duplicates = ['hip','hop','hip-hop'] \n",
    "name = 'hiphop' \n",
    "replace_wrong_values(duplicates, name) "
   ]
  },
  {
   "cell_type": "markdown",
   "metadata": {
    "id": "zQKF16_RG15m"
   },
   "source": [
    "Проверьте, что заменили неправильные названия:\n",
    "\n",
    "*   hip\n",
    "*   hop\n",
    "*   hip-hop\n",
    "\n",
    "Выведите отсортированный список уникальных значений столбца `genre`:"
   ]
  },
  {
   "cell_type": "code",
   "execution_count": 17,
   "metadata": {
    "id": "wvixALnFG15m"
   },
   "outputs": [
    {
     "name": "stdout",
     "output_type": "stream",
     "text": [
      "['acid' 'acoustic' 'action' 'adult' 'africa' 'afrikaans' 'alternative'\n",
      " 'alternativepunk' 'ambient' 'americana' 'animated' 'anime' 'arabesk'\n",
      " 'arabic' 'arena' 'argentinetango' 'art' 'audiobook' 'author' 'avantgarde'\n",
      " 'axé' 'baile' 'balkan' 'beats' 'bigroom' 'black' 'bluegrass' 'blues'\n",
      " 'bollywood' 'bossa' 'brazilian' 'breakbeat' 'breaks' 'broadway'\n",
      " 'cantautori' 'cantopop' 'canzone' 'caribbean' 'caucasian' 'celtic'\n",
      " 'chamber' 'chanson' 'children' 'chill' 'chinese' 'choral' 'christian'\n",
      " 'christmas' 'classical' 'classicmetal' 'club' 'colombian' 'comedy'\n",
      " 'conjazz' 'contemporary' 'country' 'cuban' 'dance' 'dancehall' 'dancepop'\n",
      " 'dark' 'death' 'deep' 'deutschrock' 'deutschspr' 'dirty' 'disco' 'dnb'\n",
      " 'documentary' 'downbeat' 'downtempo' 'drum' 'dub' 'dubstep' 'eastern'\n",
      " 'easy' 'electronic' 'electropop' 'emo' 'entehno' 'epicmetal' 'estrada'\n",
      " 'ethnic' 'eurofolk' 'european' 'experimental' 'extrememetal' 'fado'\n",
      " 'fairytail' 'film' 'fitness' 'flamenco' 'folk' 'folklore' 'folkmetal'\n",
      " 'folkrock' 'folktronica' 'forró' 'frankreich' 'französisch' 'french'\n",
      " 'funk' 'future' 'gangsta' 'garage' 'german' 'ghazal' 'gitarre' 'glitch'\n",
      " 'gospel' 'gothic' 'grime' 'grunge' 'gypsy' 'handsup' \"hard'n'heavy\"\n",
      " 'hardcore' 'hardstyle' 'hardtechno' 'hiphop' 'historisch' 'holiday'\n",
      " 'horror' 'house' 'hymn' 'idm' 'independent' 'indian' 'indie' 'indipop'\n",
      " 'industrial' 'inspirational' 'instrumental' 'international' 'irish' 'jam'\n",
      " 'japanese' 'jazz' 'jewish' 'jpop' 'jungle' 'k-pop' 'karadeniz' 'karaoke'\n",
      " 'kayokyoku' 'korean' 'laiko' 'latin' 'latino' 'leftfield' 'local'\n",
      " 'lounge' 'loungeelectronic' 'lovers' 'malaysian' 'mandopop' 'marschmusik'\n",
      " 'meditative' 'mediterranean' 'melodic' 'metal' 'metalcore' 'mexican'\n",
      " 'middle' 'minimal' 'miscellaneous' 'modern' 'mood' 'mpb' 'muslim'\n",
      " 'native' 'neoklassik' 'neue' 'new' 'newage' 'newwave' 'nu' 'nujazz'\n",
      " 'numetal' 'oceania' 'old' 'opera' 'orchestral' 'other' 'piano' 'podcasts'\n",
      " 'pop' 'popdance' 'popelectronic' 'popeurodance' 'poprussian' 'post'\n",
      " 'posthardcore' 'postrock' 'power' 'progmetal' 'progressive' 'psychedelic'\n",
      " 'punjabi' 'punk' 'quebecois' 'ragga' 'ram' 'rancheras' 'rap' 'rave'\n",
      " 'reggae' 'reggaeton' 'regional' 'relax' 'religious' 'retro' 'rhythm'\n",
      " 'rnb' 'rnr' 'rock' 'rockabilly' 'rockalternative' 'rockindie' 'rockother'\n",
      " 'romance' 'roots' 'ruspop' 'rusrap' 'rusrock' 'russian' 'salsa' 'samba'\n",
      " 'scenic' 'schlager' 'self' 'sertanejo' 'shanson' 'shoegazing' 'showtunes'\n",
      " 'singer' 'ska' 'skarock' 'slow' 'smooth' 'soft' 'soul' 'soulful' 'sound'\n",
      " 'soundtrack' 'southern' 'specialty' 'speech' 'spiritual' 'sport'\n",
      " 'stonerrock' 'surf' 'swing' 'synthpop' 'synthrock' 'sängerportrait'\n",
      " 'tango' 'tanzorchester' 'taraftar' 'tatar' 'tech' 'techno' 'teen'\n",
      " 'thrash' 'top' 'traditional' 'tradjazz' 'trance' 'tribal' 'trip'\n",
      " 'triphop' 'tropical' 'türk' 'türkçe' 'ukrrock' 'unknown' 'urban' 'uzbek'\n",
      " 'variété' 'vi' 'videogame' 'vocal' 'western' 'world' 'worldbeat' 'ïîï'\n",
      " 'электроника']\n"
     ]
    }
   ],
   "source": [
    "print(df['genre'].sort_values().unique())"
   ]
  },
  {
   "cell_type": "markdown",
   "metadata": {
    "id": "jz6a9-7HQUDd"
   },
   "source": [
    "**Выводы**\n",
    "\n",
    "Предобработка обнаружила три проблемы в данных:\n",
    "\n",
    "- нарушения в стиле заголовков,\n",
    "- пропущенные значения,\n",
    "- дубликаты — явные и неявные.\n",
    "\n",
    "Вы исправили заголовки, чтобы упростить работу с таблицей. Без дубликатов исследование станет более точным.\n",
    "\n",
    "Пропущенные значения вы заменили на `'unknown'`. Ещё предстоит увидеть, не повредят ли исследованию пропуски в колонке `genre`.\n",
    "\n",
    "Теперь можно перейти к проверке гипотез. "
   ]
  },
  {
   "cell_type": "markdown",
   "metadata": {
    "id": "WttZHXH0SqKk"
   },
   "source": [
    "## Проверка гипотез"
   ]
  },
  {
   "cell_type": "markdown",
   "metadata": {
    "id": "Im936VVi_Zcu"
   },
   "source": [
    "### Сравнение поведения пользователей двух столиц"
   ]
  },
  {
   "cell_type": "markdown",
   "metadata": {
    "id": "nwt_MuaL_Zcu"
   },
   "source": [
    "Первая гипотеза утверждает, что пользователи по-разному слушают музыку в Москве и Санкт-Петербурге. Проверьте это предположение по данным о трёх днях недели — понедельнике, среде и пятнице. Для этого:\n",
    "\n",
    "* Разделите пользователей Москвы и Санкт-Петербурга\n",
    "* Сравните, сколько треков послушала каждая группа пользователей в понедельник, среду и пятницу.\n"
   ]
  },
  {
   "cell_type": "markdown",
   "metadata": {
    "id": "8Dw_YMmT_Zcu"
   },
   "source": [
    "Для тренировки сначала выполните каждый из расчётов по отдельности. \n",
    "\n",
    "Оцените активность пользователей в каждом городе. Сгруппируйте данные по городу и посчитайте прослушивания в каждой группе.\n",
    "\n"
   ]
  },
  {
   "cell_type": "code",
   "execution_count": 18,
   "metadata": {
    "id": "0_Qs96oh_Zcu"
   },
   "outputs": [
    {
     "data": {
      "text/plain": [
       "city\n",
       "Moscow              42741\n",
       "Saint-Petersburg    18512\n",
       "Name: genre, dtype: int64"
      ]
     },
     "execution_count": 18,
     "metadata": {},
     "output_type": "execute_result"
    }
   ],
   "source": [
    "df.groupby('city')['genre'].count()"
   ]
  },
  {
   "cell_type": "markdown",
   "metadata": {
    "id": "dzli3w8o_Zcu"
   },
   "source": [
    "В Москве прослушиваний больше, чем в Петербурге. Из этого не следует, что московские пользователи чаще слушают музыку. Просто самих пользователей в Москве больше.\n",
    "\n",
    "Теперь сгруппируйте данные по дню недели и подсчитайте прослушивания в понедельник, среду и пятницу. Учтите, что в данных есть информация о прослушиваниях только за эти дни.\n"
   ]
  },
  {
   "cell_type": "code",
   "execution_count": 19,
   "metadata": {
    "id": "uZMKjiJz_Zcu"
   },
   "outputs": [
    {
     "data": {
      "text/plain": [
       "day\n",
       "Friday       21840\n",
       "Monday       21354\n",
       "Wednesday    18059\n",
       "Name: genre, dtype: int64"
      ]
     },
     "execution_count": 19,
     "metadata": {},
     "output_type": "execute_result"
    }
   ],
   "source": [
    "df.groupby('day')['genre'].count()"
   ]
  },
  {
   "cell_type": "markdown",
   "metadata": {
    "id": "cC2tNrlL_Zcu"
   },
   "source": [
    "В среднем пользователи из двух городов менее активны по средам. Но картина может измениться, если рассмотреть каждый город в отдельности."
   ]
  },
  {
   "cell_type": "markdown",
   "metadata": {
    "id": "POzs8bGa_Zcu"
   },
   "source": [
    "Вы видели, как работает группировка по городу и по дням недели. Теперь напишите функцию, которая объединит два эти расчёта.\n",
    "\n",
    "Создайте функцию `number_tracks()`, которая посчитает прослушивания для заданного дня и города. Ей понадобятся два параметра:\n",
    "* день недели,\n",
    "* название города.\n",
    "\n",
    "В функции сохраните в переменную строки исходной таблицы, у которых значение:\n",
    "  * в колонке `day` равно параметру `day`,\n",
    "  * в колонке `city` равно параметру `city`.\n",
    "\n",
    "Для этого примените последовательную фильтрацию с логической индексацией.\n",
    "\n",
    "Затем посчитайте значения в столбце `user_id` получившейся таблицы. Результат сохраните в новую переменную. Верните эту переменную из функции."
   ]
  },
  {
   "cell_type": "code",
   "execution_count": 20,
   "metadata": {
    "id": "Nz3GdQB1_Zcu"
   },
   "outputs": [],
   "source": [
    "# <создание функции number_tracks()>\n",
    "# Объявляется функция с двумя параметрами: day, city.\n",
    "def number_tracks(df,day,city):\n",
    "# В переменной track_list сохраняются те строки таблицы df, для которых \n",
    "# значение в столбце 'day' равно параметру day и одновременно значение\n",
    "# в столбце 'city' равно параметру city (используйте последовательную фильтрацию\n",
    "# с помощью логической индексации).\n",
    "    track_list = df[(df['day']==day)&(df['city']==city)]\n",
    "# В переменной track_list_count сохраняется число значений столбца 'user_id',\n",
    "    track_list_count = track_list['user_id'].count()\n",
    "# Функция возвращает число - значение track_list_count.\n",
    "    return track_list_count\n",
    "# Функция для подсчёта прослушиваний для конкретного города и дня.\n"
   ]
  },
  {
   "cell_type": "markdown",
   "metadata": {
    "id": "ytf7xFrFJQ2r"
   },
   "source": [
    "Вызовите `number_tracks()` шесть раз, меняя значение параметров — так, чтобы получить данные для каждого города в каждый из трёх дней."
   ]
  },
  {
   "cell_type": "code",
   "execution_count": 21,
   "metadata": {
    "id": "rJcRATNQ_Zcu"
   },
   "outputs": [
    {
     "name": "stdout",
     "output_type": "stream",
     "text": [
      "15740\n"
     ]
    }
   ],
   "source": [
    "# количество прослушиваний в Москве по понедельникам\n",
    "print(number_tracks(df,'Monday', 'Moscow'))"
   ]
  },
  {
   "cell_type": "code",
   "execution_count": 22,
   "metadata": {
    "id": "hq_ncZ5T_Zcu"
   },
   "outputs": [
    {
     "name": "stdout",
     "output_type": "stream",
     "text": [
      "5614\n"
     ]
    }
   ],
   "source": [
    "# количество прослушиваний в Санкт-Петербурге по понедельникам\n",
    "print(number_tracks(df,'Monday', 'Saint-Petersburg'))"
   ]
  },
  {
   "cell_type": "code",
   "execution_count": 23,
   "metadata": {
    "id": "_NTy2VPU_Zcu"
   },
   "outputs": [
    {
     "name": "stdout",
     "output_type": "stream",
     "text": [
      "11056\n"
     ]
    }
   ],
   "source": [
    "# количество прослушиваний в Москве по средам\n",
    "print(number_tracks(df,'Wednesday', 'Moscow'))"
   ]
  },
  {
   "cell_type": "code",
   "execution_count": 24,
   "metadata": {
    "id": "j2y3TAwo_Zcu"
   },
   "outputs": [
    {
     "name": "stdout",
     "output_type": "stream",
     "text": [
      "7003\n"
     ]
    }
   ],
   "source": [
    "# количество прослушиваний в Санкт-Петербурге по средам\n",
    "print(number_tracks(df,'Wednesday', 'Saint-Petersburg'))"
   ]
  },
  {
   "cell_type": "code",
   "execution_count": 25,
   "metadata": {
    "id": "vYDw5u_K_Zcu"
   },
   "outputs": [
    {
     "data": {
      "text/plain": [
       "15945"
      ]
     },
     "execution_count": 25,
     "metadata": {},
     "output_type": "execute_result"
    }
   ],
   "source": [
    "# количество прослушиваний в Москве по пятницам\n",
    "number_tracks(df,'Friday', 'Moscow')"
   ]
  },
  {
   "cell_type": "code",
   "execution_count": 26,
   "metadata": {
    "id": "8_yzFtW3_Zcu"
   },
   "outputs": [
    {
     "data": {
      "text/plain": [
       "5895"
      ]
     },
     "execution_count": 26,
     "metadata": {},
     "output_type": "execute_result"
    }
   ],
   "source": [
    "# количество прослушиваний в Санкт-Петербурге по пятницам\n",
    "number_tracks(df,'Friday', 'Saint-Petersburg')"
   ]
  },
  {
   "cell_type": "markdown",
   "metadata": {
    "id": "7QXffbO-_Zcu"
   },
   "source": [
    "Создайте c помощью конструктора `pd.DataFrame` таблицу, где\n",
    "* названия колонок — `['city', 'monday', 'wednesday', 'friday']`;\n",
    "* данные — результаты, которые вы получили с помощью `number_tracks`."
   ]
  },
  {
   "cell_type": "code",
   "execution_count": 27,
   "metadata": {
    "id": "APAcLpOr_Zcu"
   },
   "outputs": [
    {
     "name": "stdout",
     "output_type": "stream",
     "text": [
      "               city  monday  wednesday  friday\n",
      "0            Moscow   15740      11056   15945\n",
      "1  Saint-Petersburg    5614       7003    5895\n"
     ]
    }
   ],
   "source": [
    "# Таблица с результатами\n",
    "data = [['Moscow', 15740, 11056, 15945],\n",
    "       ['Saint-Petersburg', 5614, 7003, 5895]]\n",
    "columns = ['city','monday','wednesday','friday']\n",
    "table = pd.DataFrame(data = data, columns = columns)\n",
    "print(table)"
   ]
  },
  {
   "cell_type": "markdown",
   "metadata": {
    "id": "-EgPIHYu_Zcu"
   },
   "source": [
    "**Выводы**\n",
    "\n",
    "Данные показывают разницу поведения пользователей:\n",
    "\n",
    "- В Москве пик прослушиваний приходится на понедельник и пятницу, а в среду заметен спад.\n",
    "- В Петербурге, наоборот, больше слушают музыку по средам. Активность в понедельник и пятницу здесь почти в равной мере уступает среде.\n",
    "\n",
    "Значит, данные говорят в пользу первой гипотезы."
   ]
  },
  {
   "cell_type": "markdown",
   "metadata": {
    "id": "atZAxtq4_Zcu"
   },
   "source": [
    "### Музыка в начале и в конце недели"
   ]
  },
  {
   "cell_type": "markdown",
   "metadata": {
    "id": "eXrQqXFH_Zcu"
   },
   "source": [
    "Согласно второй гипотезе, утром в понедельник в Москве преобладают одни жанры, а в Петербурге — другие. Так же и вечером пятницы преобладают разные жанры — в зависимости от города."
   ]
  },
  {
   "cell_type": "markdown",
   "metadata": {
    "id": "S8UcW6Hw_Zcu"
   },
   "source": [
    "Сохраните таблицы с данными в две переменные:\n",
    "* по Москве — в `moscow_general`;\n",
    "* по Санкт-Петербургу — в `spb_general`."
   ]
  },
  {
   "cell_type": "code",
   "execution_count": 28,
   "metadata": {
    "id": "qeaFfM_P_Zcu"
   },
   "outputs": [
    {
     "name": "stdout",
     "output_type": "stream",
     "text": [
      "        user_id                          track                   artist  \\\n",
      "1      55204538    Delayed Because of Accident         Andreas Rönnberg   \n",
      "4      E2DC1FAE                    Soul People               Space Echo   \n",
      "6      4CB90AA5                           True             Roman Messer   \n",
      "7      F03E1C1F               Feeling This Way          Polina Griffith   \n",
      "8      8FA1D3BE       И вновь продолжается бой                  unknown   \n",
      "...         ...                            ...                      ...   \n",
      "61247  83A474E7  I Worship Only What You Bleed  The Black Dahlia Murder   \n",
      "61248  729CBB09                        My Name                   McLean   \n",
      "61250  C5E3A0D5                      Jalopiina                  unknown   \n",
      "61251  321D0506                  Freight Train            Chas McDevitt   \n",
      "61252  3A64EF84      Tell Me Sweet Little Lies             Monica Lopez   \n",
      "\n",
      "              genre    city      time        day  \n",
      "1              rock  Moscow  14:07:09     Friday  \n",
      "4             dance  Moscow  08:34:34     Monday  \n",
      "6             dance  Moscow  13:00:07  Wednesday  \n",
      "7             dance  Moscow  20:47:49  Wednesday  \n",
      "8            ruspop  Moscow  09:17:40     Friday  \n",
      "...             ...     ...       ...        ...  \n",
      "61247  extrememetal  Moscow  21:07:12     Monday  \n",
      "61248           rnb  Moscow  13:32:28  Wednesday  \n",
      "61250    industrial  Moscow  20:09:26     Friday  \n",
      "61251          rock  Moscow  21:43:59     Friday  \n",
      "61252       country  Moscow  21:59:46     Friday  \n",
      "\n",
      "[42741 rows x 7 columns]\n"
     ]
    }
   ],
   "source": [
    "# получение таблицы moscow_general из тех строк таблицы df, \n",
    "# для которых значение в столбце 'city' равно 'Moscow'\n",
    "moscow_general = df[df['city']=='Moscow']\n",
    "print(moscow_general)"
   ]
  },
  {
   "cell_type": "code",
   "execution_count": 29,
   "metadata": {
    "id": "ORaVRKto_Zcu"
   },
   "outputs": [
    {
     "name": "stdout",
     "output_type": "stream",
     "text": [
      "        user_id                              track              artist  \\\n",
      "0      FFB692EC                  Kamigata To Boots    The Mass Missile   \n",
      "2        20EC38                  Funiculì funiculà         Mario Lanza   \n",
      "3      A3DD03C9              Dragons in the Sunset          Fire + Ice   \n",
      "5      842029A1                          Преданная           IMPERVTOR   \n",
      "9      E772D5C0                          Pessimist             unknown   \n",
      "...         ...                                ...                 ...   \n",
      "61239  D94F810B        Theme from the Walking Dead  Proyecto Halloween   \n",
      "61240  BC8EC5CF       Red Lips: Gta (Rover Rework)               Rover   \n",
      "61241  29E04611                       Bre Petrunko       Perunika Trio   \n",
      "61242  1B91C621             (Hello) Cloud Mountain     sleepmakeswaves   \n",
      "61249  D08D4A55  Maybe One Day (feat. Black Spade)         Blu & Exile   \n",
      "\n",
      "            genre              city      time        day  \n",
      "0            rock  Saint-Petersburg  20:28:33  Wednesday  \n",
      "2             pop  Saint-Petersburg  20:58:07  Wednesday  \n",
      "3            folk  Saint-Petersburg  08:37:09     Monday  \n",
      "5          rusrap  Saint-Petersburg  13:09:41     Friday  \n",
      "9           dance  Saint-Petersburg  21:20:49  Wednesday  \n",
      "...           ...               ...       ...        ...  \n",
      "61239        film  Saint-Petersburg  21:14:40     Monday  \n",
      "61240  electronic  Saint-Petersburg  21:06:50     Monday  \n",
      "61241       world  Saint-Petersburg  13:56:00     Monday  \n",
      "61242    postrock  Saint-Petersburg  09:22:13     Monday  \n",
      "61249      hiphop  Saint-Petersburg  10:00:00     Monday  \n",
      "\n",
      "[18512 rows x 7 columns]\n"
     ]
    }
   ],
   "source": [
    "# получение таблицы spb_general из тех строк таблицы df,\n",
    "spb_general = df[df['city']=='Saint-Petersburg']\n",
    "# для которых значение в столбце 'city' равно 'Saint-Petersburg'\n",
    "print(spb_general)\n"
   ]
  },
  {
   "cell_type": "markdown",
   "metadata": {
    "id": "MEJV-CX2_Zcu"
   },
   "source": [
    "Создайте функцию `genre_weekday()` с четырьмя параметрами:\n",
    "* таблица (датафрейм) с данными,\n",
    "* день недели,\n",
    "* начальная временная метка в формате 'hh:mm', \n",
    "* последняя временная метка в формате 'hh:mm'.\n",
    "\n",
    "Функция должна вернуть информацию о топ-10 жанров тех треков, которые прослушивали в указанный день, в промежутке между двумя отметками времени."
   ]
  },
  {
   "cell_type": "code",
   "execution_count": 30,
   "metadata": {},
   "outputs": [],
   "source": [
    "#Создаём функцию genre_weekday(), которая возвращает список жанров по запрошенному дню недели и времени суток с такого-то часа по такой-то.\n",
    "\n",
    "# объявление функции genre_weekday() с параметрами df, day, time1, time2\n",
    "def genre_weekday(df, day, time1, time2):\n",
    "# в переменной genre_list сохраняются те строки df, для которых одновременно:\n",
    "# 1) значение в столбце 'weekday' равно параметру day,\n",
    "# 2) значение в столбце 'time' больше time1 и\n",
    "# 3) меньше time2.\n",
    "    genre_list=df[(df['weekday']==day) & (df['time']>time1)& (df['time']<=time2)]\n",
    "# в переменной genre_list_sorted сохраняются в порядке убывания  \n",
    "# первые 10 значений Series, полученной подсчётом числа значений 'genre_name'\n",
    "# сгруппированной по столбцу 'genre_name' таблицы genre_list\n",
    "    genre_list_sorted = genre_list.groupby('genre_name')['genre_name'].count().sort_values(ascending = False).head(10)\n",
    "# функция возвращает значение genre_list_sorted\n",
    "    return genre_list_sorted\n",
    "#Cравниваем полученные результаты по таблице для Москвы и Санкт-Петербурга в понедельник утром (с 7 до 11) и в пятницу вечером (с 17 до 23).\n"
   ]
  },
  {
   "cell_type": "markdown",
   "metadata": {
    "id": "la2s2_PF_Zcu"
   },
   "source": [
    "Cравните результаты функции `genre_weekday()` для Москвы и Санкт-Петербурга в понедельник утром (с 7:00 до 11:00) и в пятницу вечером (с 17:00 до 23:00):"
   ]
  },
  {
   "cell_type": "code",
   "execution_count": 31,
   "metadata": {
    "id": "yz7itPUQ_Zcu"
   },
   "outputs": [
    {
     "name": "stdout",
     "output_type": "stream",
     "text": [
      "<function genre_weekday at 0x7f94aa28e700>         user_id                          track                   artist  \\\n",
      "1      55204538    Delayed Because of Accident         Andreas Rönnberg   \n",
      "4      E2DC1FAE                    Soul People               Space Echo   \n",
      "6      4CB90AA5                           True             Roman Messer   \n",
      "7      F03E1C1F               Feeling This Way          Polina Griffith   \n",
      "8      8FA1D3BE       И вновь продолжается бой                  unknown   \n",
      "...         ...                            ...                      ...   \n",
      "61247  83A474E7  I Worship Only What You Bleed  The Black Dahlia Murder   \n",
      "61248  729CBB09                        My Name                   McLean   \n",
      "61250  C5E3A0D5                      Jalopiina                  unknown   \n",
      "61251  321D0506                  Freight Train            Chas McDevitt   \n",
      "61252  3A64EF84      Tell Me Sweet Little Lies             Monica Lopez   \n",
      "\n",
      "              genre    city      time        day  \n",
      "1              rock  Moscow  14:07:09     Friday  \n",
      "4             dance  Moscow  08:34:34     Monday  \n",
      "6             dance  Moscow  13:00:07  Wednesday  \n",
      "7             dance  Moscow  20:47:49  Wednesday  \n",
      "8            ruspop  Moscow  09:17:40     Friday  \n",
      "...             ...     ...       ...        ...  \n",
      "61247  extrememetal  Moscow  21:07:12     Monday  \n",
      "61248           rnb  Moscow  13:32:28  Wednesday  \n",
      "61250    industrial  Moscow  20:09:26     Friday  \n",
      "61251          rock  Moscow  21:43:59     Friday  \n",
      "61252       country  Moscow  21:59:46     Friday  \n",
      "\n",
      "[42741 rows x 7 columns] Monday 07:00 11:00\n"
     ]
    }
   ],
   "source": [
    "# вызов функции для утра понедельника в Москве (вместо df — таблица moscow_general)\n",
    "print(genre_weekday,moscow_general, 'Monday', '07:00', '11:00')"
   ]
  },
  {
   "cell_type": "code",
   "execution_count": 32,
   "metadata": {
    "id": "kwUcHPdy_Zcu"
   },
   "outputs": [
    {
     "name": "stdout",
     "output_type": "stream",
     "text": [
      "<function genre_weekday at 0x7f94aa28e700>         user_id                              track              artist  \\\n",
      "0      FFB692EC                  Kamigata To Boots    The Mass Missile   \n",
      "2        20EC38                  Funiculì funiculà         Mario Lanza   \n",
      "3      A3DD03C9              Dragons in the Sunset          Fire + Ice   \n",
      "5      842029A1                          Преданная           IMPERVTOR   \n",
      "9      E772D5C0                          Pessimist             unknown   \n",
      "...         ...                                ...                 ...   \n",
      "61239  D94F810B        Theme from the Walking Dead  Proyecto Halloween   \n",
      "61240  BC8EC5CF       Red Lips: Gta (Rover Rework)               Rover   \n",
      "61241  29E04611                       Bre Petrunko       Perunika Trio   \n",
      "61242  1B91C621             (Hello) Cloud Mountain     sleepmakeswaves   \n",
      "61249  D08D4A55  Maybe One Day (feat. Black Spade)         Blu & Exile   \n",
      "\n",
      "            genre              city      time        day  \n",
      "0            rock  Saint-Petersburg  20:28:33  Wednesday  \n",
      "2             pop  Saint-Petersburg  20:58:07  Wednesday  \n",
      "3            folk  Saint-Petersburg  08:37:09     Monday  \n",
      "5          rusrap  Saint-Petersburg  13:09:41     Friday  \n",
      "9           dance  Saint-Petersburg  21:20:49  Wednesday  \n",
      "...           ...               ...       ...        ...  \n",
      "61239        film  Saint-Petersburg  21:14:40     Monday  \n",
      "61240  electronic  Saint-Petersburg  21:06:50     Monday  \n",
      "61241       world  Saint-Petersburg  13:56:00     Monday  \n",
      "61242    postrock  Saint-Petersburg  09:22:13     Monday  \n",
      "61249      hiphop  Saint-Petersburg  10:00:00     Monday  \n",
      "\n",
      "[18512 rows x 7 columns] Monday 07:00 11:00\n"
     ]
    }
   ],
   "source": [
    "# вызов функции для утра понедельника в Петербурге (вместо df — таблица spb_general)\n",
    "print(genre_weekday,spb_general, 'Monday', '07:00', '11:00')"
   ]
  },
  {
   "cell_type": "code",
   "execution_count": 33,
   "metadata": {
    "id": "EzXVRE1o_Zcu"
   },
   "outputs": [
    {
     "name": "stdout",
     "output_type": "stream",
     "text": [
      "<function genre_weekday at 0x7f94aa28e700>         user_id                          track                   artist  \\\n",
      "1      55204538    Delayed Because of Accident         Andreas Rönnberg   \n",
      "4      E2DC1FAE                    Soul People               Space Echo   \n",
      "6      4CB90AA5                           True             Roman Messer   \n",
      "7      F03E1C1F               Feeling This Way          Polina Griffith   \n",
      "8      8FA1D3BE       И вновь продолжается бой                  unknown   \n",
      "...         ...                            ...                      ...   \n",
      "61247  83A474E7  I Worship Only What You Bleed  The Black Dahlia Murder   \n",
      "61248  729CBB09                        My Name                   McLean   \n",
      "61250  C5E3A0D5                      Jalopiina                  unknown   \n",
      "61251  321D0506                  Freight Train            Chas McDevitt   \n",
      "61252  3A64EF84      Tell Me Sweet Little Lies             Monica Lopez   \n",
      "\n",
      "              genre    city      time        day  \n",
      "1              rock  Moscow  14:07:09     Friday  \n",
      "4             dance  Moscow  08:34:34     Monday  \n",
      "6             dance  Moscow  13:00:07  Wednesday  \n",
      "7             dance  Moscow  20:47:49  Wednesday  \n",
      "8            ruspop  Moscow  09:17:40     Friday  \n",
      "...             ...     ...       ...        ...  \n",
      "61247  extrememetal  Moscow  21:07:12     Monday  \n",
      "61248           rnb  Moscow  13:32:28  Wednesday  \n",
      "61250    industrial  Moscow  20:09:26     Friday  \n",
      "61251          rock  Moscow  21:43:59     Friday  \n",
      "61252       country  Moscow  21:59:46     Friday  \n",
      "\n",
      "[42741 rows x 7 columns] Monday 17:00 23:00\n"
     ]
    }
   ],
   "source": [
    "# вызов функции для вечера пятницы в Москве\n",
    "print(genre_weekday, moscow_general, 'Monday', '17:00', '23:00')"
   ]
  },
  {
   "cell_type": "code",
   "execution_count": 34,
   "metadata": {
    "id": "JZaEKu5v_Zcu"
   },
   "outputs": [
    {
     "name": "stdout",
     "output_type": "stream",
     "text": [
      "<function genre_weekday at 0x7f94aa28e700>         user_id                              track              artist  \\\n",
      "0      FFB692EC                  Kamigata To Boots    The Mass Missile   \n",
      "2        20EC38                  Funiculì funiculà         Mario Lanza   \n",
      "3      A3DD03C9              Dragons in the Sunset          Fire + Ice   \n",
      "5      842029A1                          Преданная           IMPERVTOR   \n",
      "9      E772D5C0                          Pessimist             unknown   \n",
      "...         ...                                ...                 ...   \n",
      "61239  D94F810B        Theme from the Walking Dead  Proyecto Halloween   \n",
      "61240  BC8EC5CF       Red Lips: Gta (Rover Rework)               Rover   \n",
      "61241  29E04611                       Bre Petrunko       Perunika Trio   \n",
      "61242  1B91C621             (Hello) Cloud Mountain     sleepmakeswaves   \n",
      "61249  D08D4A55  Maybe One Day (feat. Black Spade)         Blu & Exile   \n",
      "\n",
      "            genre              city      time        day  \n",
      "0            rock  Saint-Petersburg  20:28:33  Wednesday  \n",
      "2             pop  Saint-Petersburg  20:58:07  Wednesday  \n",
      "3            folk  Saint-Petersburg  08:37:09     Monday  \n",
      "5          rusrap  Saint-Petersburg  13:09:41     Friday  \n",
      "9           dance  Saint-Petersburg  21:20:49  Wednesday  \n",
      "...           ...               ...       ...        ...  \n",
      "61239        film  Saint-Petersburg  21:14:40     Monday  \n",
      "61240  electronic  Saint-Petersburg  21:06:50     Monday  \n",
      "61241       world  Saint-Petersburg  13:56:00     Monday  \n",
      "61242    postrock  Saint-Petersburg  09:22:13     Monday  \n",
      "61249      hiphop  Saint-Petersburg  10:00:00     Monday  \n",
      "\n",
      "[18512 rows x 7 columns] Monday 17:00 23:00\n"
     ]
    }
   ],
   "source": [
    "# вызов функции для вечера пятницы в Петербурге\n",
    "print(genre_weekday,spb_general, 'Monday', '17:00', '23:00')"
   ]
  },
  {
   "cell_type": "markdown",
   "metadata": {
    "id": "wrCe4MNX_Zcu"
   },
   "source": [
    "**Выводы**\n",
    "\n",
    "Если сравнить топ-10 жанров в понедельник утром, можно сделать такие выводы:\n",
    "\n",
    "1. В Москве и Петербурге слушают похожую музыку. Единственное отличие — в московский рейтинг вошёл жанр “world”, а в петербургский — джаз и классика.\n",
    "\n",
    "2. В Москве пропущенных значений оказалось так много, что значение `'unknown'` заняло десятое место среди самых популярных жанров. Значит, пропущенные значения занимают существенную долю в данных и угрожают достоверности исследования.\n",
    "\n",
    "Вечер пятницы не меняет эту картину. Некоторые жанры поднимаются немного выше, другие спускаются, но в целом топ-10 остаётся тем же самым.\n",
    "\n",
    "Таким образом, вторая гипотеза подтвердилась лишь частично:\n",
    "* Пользователи слушают похожую музыку в начале недели и в конце.\n",
    "* Разница между Москвой и Петербургом не слишком выражена. В Москве чаще слушают русскую популярную музыку, в Петербурге — джаз.\n",
    "\n",
    "Однако пропуски в данных ставят под сомнение этот результат. В Москве их так много, что рейтинг топ-10 мог бы выглядеть иначе, если бы не утерянные  данные о жанрах."
   ]
  },
  {
   "cell_type": "markdown",
   "metadata": {
    "id": "JolODAqr_Zcu"
   },
   "source": [
    "### Жанровые предпочтения в Москве и Петербурге\n",
    "\n",
    "Гипотеза: Петербург — столица рэпа, музыку этого жанра там слушают чаще, чем в Москве.  А Москва — город контрастов, в котором, тем не менее, преобладает поп-музыка."
   ]
  },
  {
   "cell_type": "markdown",
   "metadata": {
    "id": "DlegSvaT_Zcu"
   },
   "source": [
    "Сгруппируйте таблицу `moscow_general` по жанру и посчитайте прослушивания треков каждого жанра методом `count()`. Затем отсортируйте результат в порядке убывания и сохраните его в таблице `moscow_genres`."
   ]
  },
  {
   "cell_type": "code",
   "execution_count": 35,
   "metadata": {
    "id": "r19lIPke_Zcu"
   },
   "outputs": [],
   "source": [
    "# одной строкой: группировка таблицы moscow_general по столбцу 'genre', \n",
    "# подсчёт числа значений 'genre' в этой группировке методом count(), \n",
    "# сортировка получившегося Series в порядке убывания и сохранение в moscow_genre\n",
    "moscow_genresn = moscow_general.groupby('genre')['genre'].count().sort_values(ascending = False)"
   ]
  },
  {
   "cell_type": "markdown",
   "metadata": {
    "id": "6kMuomxTiIr8"
   },
   "source": [
    "Выведите на экран первые десять строк `moscow_genres`:"
   ]
  },
  {
   "cell_type": "code",
   "execution_count": 36,
   "metadata": {
    "id": "WhCSooF8_Zcv"
   },
   "outputs": [
    {
     "name": "stdout",
     "output_type": "stream",
     "text": [
      "genre\n",
      "pop            5892\n",
      "dance          4435\n",
      "rock           3965\n",
      "electronic     3786\n",
      "hiphop         2096\n",
      "classical      1616\n",
      "world          1432\n",
      "alternative    1379\n",
      "ruspop         1372\n",
      "rusrap         1161\n",
      "Name: genre, dtype: int64\n"
     ]
    }
   ],
   "source": [
    "# просмотр первых 10 строк moscow_genres\n",
    "print(moscow_genresn.head(10))"
   ]
  },
  {
   "cell_type": "markdown",
   "metadata": {
    "id": "cnPG2vnN_Zcv"
   },
   "source": [
    "Теперь повторите то же и для Петербурга.\n",
    "\n",
    "Сгруппируйте таблицу `spb_general` по жанру. Посчитайте прослушивания треков каждого жанра. Результат отсортируйте в порядке убывания и сохраните в таблице `spb_genres`:\n"
   ]
  },
  {
   "cell_type": "code",
   "execution_count": 37,
   "metadata": {
    "id": "gluLIpE7_Zcv"
   },
   "outputs": [],
   "source": [
    "# одной строкой: группировка таблицы spb_general по столбцу 'genre', \n",
    "# подсчёт числа значений 'genre' в этой группировке методом count(), \n",
    "# сортировка получившегося Series в порядке убывания и сохранение в spb_genres\n",
    "spb_genres = spb_general.groupby('genre')['genre'].count().sort_values(ascending = False)"
   ]
  },
  {
   "cell_type": "markdown",
   "metadata": {
    "id": "5Doha_ODgyQ8"
   },
   "source": [
    "Выведите на экран первые десять строк `spb_genres`:"
   ]
  },
  {
   "cell_type": "code",
   "execution_count": 38,
   "metadata": {
    "id": "uaGJHjVU_Zcv"
   },
   "outputs": [
    {
     "name": "stdout",
     "output_type": "stream",
     "text": [
      "genre\n",
      "pop            2431\n",
      "dance          1932\n",
      "rock           1879\n",
      "electronic     1736\n",
      "hiphop          960\n",
      "alternative     649\n",
      "classical       646\n",
      "rusrap          564\n",
      "ruspop          538\n",
      "world           515\n",
      "Name: genre, dtype: int64\n"
     ]
    }
   ],
   "source": [
    "# просмотр первых 10 строк spb_genres\n",
    "print(spb_genres.head(10))"
   ]
  },
  {
   "cell_type": "markdown",
   "metadata": {
    "id": "RY51YJYu_Zcv"
   },
   "source": [
    "**Выводы**"
   ]
  },
  {
   "cell_type": "markdown",
   "metadata": {
    "id": "nVhnJEm__Zcv"
   },
   "source": [
    "Гипотеза частично подтвердилась:\n",
    "* Поп-музыка — самый популярный жанр в Москве, как и предполагала гипотеза. Более того, в топ-10 жанров встречается близкий жанр — русская популярная музыка.\n",
    "* Вопреки ожиданиям, рэп одинаково популярен в Москве и Петербурге. \n"
   ]
  },
  {
   "cell_type": "markdown",
   "metadata": {
    "id": "ykKQ0N65_Zcv"
   },
   "source": [
    "## Итоги исследования"
   ]
  },
  {
   "cell_type": "markdown",
   "metadata": {
    "id": "tjUwbHb3_Zcv"
   },
   "source": [
    "Вы проверили три гипотезы и установили:\n",
    "\n",
    "1. День недели по-разному влияет на активность пользователей в Москве и Петербурге. \n",
    "\n",
    "Первая гипотеза полностью подтвердилась.\n",
    "\n",
    "2. Музыкальные предпочтения не сильно меняются в течение недели — будь то Москва или Петербург. Небольшие различия заметны в начале недели, по понедельникам:\n",
    "* в Москве слушают музыку жанра “world”,\n",
    "* в Петербурге — джаз и классику.\n",
    "\n",
    "Таким образом, вторая гипотеза подтвердилась лишь отчасти. Этот результат мог оказаться иным, если бы не пропуски в данных.\n",
    "\n",
    "3. Во вкусах пользователей Москвы и Петербурга больше общего чем различий. Вопреки ожиданиям, предпочтения жанров в Петербурге напоминают московские.\n",
    "\n",
    "Третья гипотеза не подтвердилась. Если различия в предпочтениях и существуют, на основной массе пользователей они незаметны.\n",
    "\n",
    "**На практике исследования содержат проверки статистических гипотез.**\n",
    "Из данных одного сервиса не всегда можно сделать вывод о всех жителях города.\n",
    "Проверки статистических гипотез покажут, насколько они достоверны, исходя из имеющихся данных. \n",
    "С методами проверок гипотез вы ещё познакомитесь в следующих темах."
   ]
  }
 ],
 "metadata": {
  "ExecuteTimeLog": [
   {
    "duration": 447,
    "start_time": "2022-04-13T11:38:22.283Z"
   },
   {
    "duration": 61,
    "start_time": "2022-04-13T11:39:35.021Z"
   },
   {
    "duration": 3,
    "start_time": "2022-04-13T11:39:38.233Z"
   },
   {
    "duration": 2,
    "start_time": "2022-04-13T11:39:39.683Z"
   },
   {
    "duration": 2,
    "start_time": "2022-04-13T11:39:40.492Z"
   },
   {
    "duration": 146,
    "start_time": "2022-04-13T11:39:53.952Z"
   },
   {
    "duration": 17,
    "start_time": "2022-04-13T11:40:10.075Z"
   },
   {
    "duration": 29,
    "start_time": "2022-04-13T11:42:10.232Z"
   },
   {
    "duration": 4,
    "start_time": "2022-04-13T11:43:10.942Z"
   },
   {
    "duration": 590,
    "start_time": "2022-04-13T11:45:16.487Z"
   },
   {
    "duration": 3,
    "start_time": "2022-04-13T11:47:33.031Z"
   },
   {
    "duration": 4,
    "start_time": "2022-04-13T11:47:44.698Z"
   },
   {
    "duration": 26,
    "start_time": "2022-04-13T11:49:03.782Z"
   },
   {
    "duration": 2222,
    "start_time": "2022-04-13T11:59:08.395Z"
   },
   {
    "duration": 48,
    "start_time": "2022-04-14T16:16:45.712Z"
   },
   {
    "duration": 7,
    "start_time": "2022-04-14T16:18:10.274Z"
   },
   {
    "duration": 6,
    "start_time": "2022-04-14T16:18:24.537Z"
   },
   {
    "duration": 7,
    "start_time": "2022-04-14T16:22:03.804Z"
   },
   {
    "duration": 7,
    "start_time": "2022-04-14T16:22:51.381Z"
   },
   {
    "duration": 7,
    "start_time": "2022-04-14T16:23:04.400Z"
   },
   {
    "duration": 405,
    "start_time": "2022-04-14T16:23:33.299Z"
   },
   {
    "duration": 173,
    "start_time": "2022-04-14T16:23:35.801Z"
   },
   {
    "duration": 21,
    "start_time": "2022-04-14T16:23:38.520Z"
   },
   {
    "duration": 33,
    "start_time": "2022-04-14T16:23:42.989Z"
   },
   {
    "duration": 4,
    "start_time": "2022-04-14T16:23:46.774Z"
   },
   {
    "duration": 4,
    "start_time": "2022-04-14T16:23:59.121Z"
   },
   {
    "duration": 4,
    "start_time": "2022-04-14T16:24:02.230Z"
   },
   {
    "duration": 27,
    "start_time": "2022-04-14T16:24:04.281Z"
   },
   {
    "duration": 2709,
    "start_time": "2022-04-14T16:24:07.221Z"
   },
   {
    "duration": 0,
    "start_time": "2022-04-14T16:24:09.932Z"
   },
   {
    "duration": 28,
    "start_time": "2022-04-14T16:24:35.068Z"
   },
   {
    "duration": 0,
    "start_time": "2022-04-14T16:26:00.700Z"
   },
   {
    "duration": 27,
    "start_time": "2022-04-14T16:26:06.253Z"
   },
   {
    "duration": 0,
    "start_time": "2022-04-14T16:26:23.694Z"
   },
   {
    "duration": 2893,
    "start_time": "2022-04-14T16:26:30.459Z"
   },
   {
    "duration": 2778,
    "start_time": "2022-04-14T16:30:31.145Z"
   },
   {
    "duration": 2626,
    "start_time": "2022-04-14T16:30:49.737Z"
   },
   {
    "duration": 2721,
    "start_time": "2022-04-14T16:31:09.300Z"
   },
   {
    "duration": 2696,
    "start_time": "2022-04-14T16:32:14.052Z"
   },
   {
    "duration": 21,
    "start_time": "2022-04-14T16:35:21.212Z"
   },
   {
    "duration": 27,
    "start_time": "2022-04-14T16:35:25.460Z"
   },
   {
    "duration": 73,
    "start_time": "2022-04-14T16:35:53.586Z"
   },
   {
    "duration": 77,
    "start_time": "2022-04-14T16:36:18.724Z"
   },
   {
    "duration": 65,
    "start_time": "2022-04-14T16:36:29.123Z"
   },
   {
    "duration": 9,
    "start_time": "2022-04-14T16:36:49.705Z"
   },
   {
    "duration": 5,
    "start_time": "2022-04-14T16:37:44.756Z"
   },
   {
    "duration": 2,
    "start_time": "2022-04-14T16:41:05.968Z"
   },
   {
    "duration": 7,
    "start_time": "2022-04-14T16:43:28.093Z"
   },
   {
    "duration": 12,
    "start_time": "2022-04-14T16:44:00.091Z"
   },
   {
    "duration": 8,
    "start_time": "2022-04-14T16:44:16.447Z"
   },
   {
    "duration": 8,
    "start_time": "2022-04-14T16:44:19.082Z"
   },
   {
    "duration": 7,
    "start_time": "2022-04-14T16:46:13.955Z"
   },
   {
    "duration": 171,
    "start_time": "2022-04-14T16:47:48.167Z"
   },
   {
    "duration": 8,
    "start_time": "2022-04-14T16:48:26.107Z"
   },
   {
    "duration": 6,
    "start_time": "2022-04-14T16:50:24.481Z"
   },
   {
    "duration": 8,
    "start_time": "2022-04-14T16:54:01.125Z"
   },
   {
    "duration": 7,
    "start_time": "2022-04-14T16:54:03.159Z"
   },
   {
    "duration": 7,
    "start_time": "2022-04-14T16:54:21.852Z"
   },
   {
    "duration": 8,
    "start_time": "2022-04-14T16:55:09.664Z"
   },
   {
    "duration": 8,
    "start_time": "2022-04-14T16:55:30.140Z"
   },
   {
    "duration": 7,
    "start_time": "2022-04-14T17:25:57.895Z"
   },
   {
    "duration": 3,
    "start_time": "2022-04-14T17:26:01.279Z"
   },
   {
    "duration": 9,
    "start_time": "2022-04-14T17:26:04.753Z"
   },
   {
    "duration": 3,
    "start_time": "2022-04-14T17:26:19.455Z"
   },
   {
    "duration": 9,
    "start_time": "2022-04-14T17:26:22.210Z"
   },
   {
    "duration": 8,
    "start_time": "2022-04-14T17:26:54.015Z"
   },
   {
    "duration": 45,
    "start_time": "2022-04-15T08:34:52.802Z"
   },
   {
    "duration": 370,
    "start_time": "2022-04-15T08:35:01.550Z"
   },
   {
    "duration": 170,
    "start_time": "2022-04-15T08:35:03.531Z"
   },
   {
    "duration": 18,
    "start_time": "2022-04-15T08:35:05.874Z"
   },
   {
    "duration": 31,
    "start_time": "2022-04-15T08:35:08.447Z"
   },
   {
    "duration": 4,
    "start_time": "2022-04-15T08:35:12.205Z"
   },
   {
    "duration": 4,
    "start_time": "2022-04-15T08:35:19.125Z"
   },
   {
    "duration": 26,
    "start_time": "2022-04-15T08:35:21.909Z"
   },
   {
    "duration": 26,
    "start_time": "2022-04-15T08:35:25.298Z"
   },
   {
    "duration": 1136,
    "start_time": "2022-04-15T08:35:28.155Z"
   },
   {
    "duration": 3,
    "start_time": "2022-04-15T08:35:43.189Z"
   },
   {
    "duration": 4,
    "start_time": "2022-04-15T08:35:48.557Z"
   },
   {
    "duration": 23,
    "start_time": "2022-04-15T08:35:51.157Z"
   },
   {
    "duration": 19,
    "start_time": "2022-04-15T08:35:53.815Z"
   },
   {
    "duration": 24,
    "start_time": "2022-04-15T08:35:57.328Z"
   },
   {
    "duration": 63,
    "start_time": "2022-04-15T08:35:59.839Z"
   },
   {
    "duration": 81,
    "start_time": "2022-04-15T08:36:03.523Z"
   },
   {
    "duration": 60,
    "start_time": "2022-04-15T08:36:05.689Z"
   },
   {
    "duration": 42,
    "start_time": "2022-04-15T08:36:09.505Z"
   },
   {
    "duration": 2,
    "start_time": "2022-04-15T08:36:16.125Z"
   },
   {
    "duration": 9,
    "start_time": "2022-04-15T08:36:22.106Z"
   },
   {
    "duration": 8,
    "start_time": "2022-04-15T08:36:25.727Z"
   },
   {
    "duration": 2,
    "start_time": "2022-04-15T08:36:28.539Z"
   },
   {
    "duration": 2,
    "start_time": "2022-04-15T08:36:47.678Z"
   },
   {
    "duration": 3,
    "start_time": "2022-04-15T08:36:51.113Z"
   },
   {
    "duration": 9,
    "start_time": "2022-04-15T08:36:53.523Z"
   },
   {
    "duration": 2,
    "start_time": "2022-04-15T08:37:41.596Z"
   },
   {
    "duration": 10,
    "start_time": "2022-04-15T08:37:43.967Z"
   },
   {
    "duration": 3,
    "start_time": "2022-04-15T08:37:53.611Z"
   },
   {
    "duration": 8,
    "start_time": "2022-04-15T08:37:56.466Z"
   },
   {
    "duration": 3,
    "start_time": "2022-04-15T08:38:15.944Z"
   },
   {
    "duration": 10,
    "start_time": "2022-04-15T08:38:19.629Z"
   },
   {
    "duration": 41,
    "start_time": "2022-04-15T08:38:22.536Z"
   },
   {
    "duration": 11,
    "start_time": "2022-04-15T08:48:55.896Z"
   },
   {
    "duration": 11,
    "start_time": "2022-04-15T08:50:10.027Z"
   },
   {
    "duration": 3,
    "start_time": "2022-04-15T09:10:46.251Z"
   },
   {
    "duration": 62,
    "start_time": "2022-04-15T09:10:50.298Z"
   },
   {
    "duration": 3,
    "start_time": "2022-04-15T09:11:23.098Z"
   },
   {
    "duration": 110,
    "start_time": "2022-04-15T09:11:27.002Z"
   },
   {
    "duration": 1056,
    "start_time": "2022-04-15T09:11:42.350Z"
   },
   {
    "duration": 3,
    "start_time": "2022-04-15T09:12:25.132Z"
   },
   {
    "duration": 17,
    "start_time": "2022-04-15T09:12:28.366Z"
   },
   {
    "duration": 13,
    "start_time": "2022-04-15T09:12:31.499Z"
   },
   {
    "duration": 18,
    "start_time": "2022-04-15T09:12:34.418Z"
   },
   {
    "duration": 13,
    "start_time": "2022-04-15T09:12:36.099Z"
   },
   {
    "duration": 16,
    "start_time": "2022-04-15T09:12:37.086Z"
   },
   {
    "duration": 14,
    "start_time": "2022-04-15T09:12:37.739Z"
   },
   {
    "duration": 7,
    "start_time": "2022-04-15T09:13:27.439Z"
   },
   {
    "duration": 16,
    "start_time": "2022-04-15T09:15:20.123Z"
   },
   {
    "duration": 14,
    "start_time": "2022-04-15T09:16:07.052Z"
   },
   {
    "duration": 4,
    "start_time": "2022-04-15T09:25:43.987Z"
   },
   {
    "duration": 8,
    "start_time": "2022-04-15T09:27:45.570Z"
   },
   {
    "duration": 7,
    "start_time": "2022-04-15T09:28:22.113Z"
   },
   {
    "duration": 6,
    "start_time": "2022-04-15T09:28:24.689Z"
   },
   {
    "duration": 7,
    "start_time": "2022-04-15T09:28:27.548Z"
   },
   {
    "duration": 4,
    "start_time": "2022-04-15T09:29:22.396Z"
   },
   {
    "duration": 7,
    "start_time": "2022-04-15T09:29:24.419Z"
   },
   {
    "duration": 8,
    "start_time": "2022-04-15T09:31:40.064Z"
   },
   {
    "duration": 6,
    "start_time": "2022-04-15T09:32:16.670Z"
   },
   {
    "duration": 7,
    "start_time": "2022-04-15T09:32:23.483Z"
   },
   {
    "duration": 8,
    "start_time": "2022-04-15T09:32:50.595Z"
   },
   {
    "duration": 7,
    "start_time": "2022-04-15T09:33:40.107Z"
   },
   {
    "duration": 8,
    "start_time": "2022-04-15T09:33:45.904Z"
   },
   {
    "duration": 7,
    "start_time": "2022-04-15T09:33:53.037Z"
   },
   {
    "duration": 10,
    "start_time": "2022-04-15T09:36:11.428Z"
   },
   {
    "duration": 4,
    "start_time": "2022-04-15T09:37:05.794Z"
   },
   {
    "duration": 7,
    "start_time": "2022-04-15T09:37:50.295Z"
   },
   {
    "duration": 7,
    "start_time": "2022-04-15T09:37:57.297Z"
   },
   {
    "duration": 7,
    "start_time": "2022-04-15T09:38:05.775Z"
   },
   {
    "duration": 4,
    "start_time": "2022-04-15T09:38:08.087Z"
   },
   {
    "duration": 1216,
    "start_time": "2022-04-15T09:44:59.647Z"
   },
   {
    "duration": 1133,
    "start_time": "2022-04-15T09:46:15.407Z"
   },
   {
    "duration": 7,
    "start_time": "2022-04-15T09:47:14.327Z"
   },
   {
    "duration": 1526,
    "start_time": "2022-04-15T09:47:35.384Z"
   },
   {
    "duration": 1028,
    "start_time": "2022-04-15T09:48:09.070Z"
   },
   {
    "duration": 8,
    "start_time": "2022-04-15T09:48:35.967Z"
   },
   {
    "duration": 1026,
    "start_time": "2022-04-15T09:48:50.287Z"
   },
   {
    "duration": 1033,
    "start_time": "2022-04-15T09:49:05.989Z"
   },
   {
    "duration": 1035,
    "start_time": "2022-04-15T09:49:21.387Z"
   },
   {
    "duration": 8,
    "start_time": "2022-04-15T09:50:21.456Z"
   },
   {
    "duration": 9,
    "start_time": "2022-04-15T09:50:46.542Z"
   },
   {
    "duration": 7,
    "start_time": "2022-04-15T09:50:55.467Z"
   },
   {
    "duration": 7,
    "start_time": "2022-04-15T09:51:20.447Z"
   },
   {
    "duration": 4,
    "start_time": "2022-04-15T09:51:54.248Z"
   },
   {
    "duration": 4,
    "start_time": "2022-04-15T09:52:07.497Z"
   },
   {
    "duration": 1057,
    "start_time": "2022-04-15T09:52:19.861Z"
   },
   {
    "duration": 1045,
    "start_time": "2022-04-15T09:52:39.182Z"
   },
   {
    "duration": 3,
    "start_time": "2022-04-15T09:52:50.759Z"
   },
   {
    "duration": 4,
    "start_time": "2022-04-15T09:53:03.178Z"
   },
   {
    "duration": 10,
    "start_time": "2022-04-15T09:53:11.988Z"
   },
   {
    "duration": 4,
    "start_time": "2022-04-15T09:53:19.297Z"
   },
   {
    "duration": 8,
    "start_time": "2022-04-15T09:54:10.046Z"
   },
   {
    "duration": 4,
    "start_time": "2022-04-15T09:54:17.072Z"
   },
   {
    "duration": 7,
    "start_time": "2022-04-15T09:54:46.063Z"
   },
   {
    "duration": 9,
    "start_time": "2022-04-15T09:55:04.745Z"
   },
   {
    "duration": 94,
    "start_time": "2022-04-15T10:00:27.168Z"
   },
   {
    "duration": 8,
    "start_time": "2022-04-15T10:00:37.025Z"
   },
   {
    "duration": 4,
    "start_time": "2022-04-15T10:02:41.242Z"
   },
   {
    "duration": 473,
    "start_time": "2022-04-25T09:04:54.957Z"
   },
   {
    "duration": 208,
    "start_time": "2022-04-25T09:04:55.433Z"
   },
   {
    "duration": 20,
    "start_time": "2022-04-25T09:04:55.643Z"
   },
   {
    "duration": 62,
    "start_time": "2022-04-25T09:04:55.665Z"
   },
   {
    "duration": 5,
    "start_time": "2022-04-25T09:04:55.729Z"
   },
   {
    "duration": 5,
    "start_time": "2022-04-25T09:04:55.735Z"
   },
   {
    "duration": 10,
    "start_time": "2022-04-25T09:04:55.742Z"
   },
   {
    "duration": 55,
    "start_time": "2022-04-25T09:04:55.754Z"
   },
   {
    "duration": 17,
    "start_time": "2022-04-25T09:04:55.811Z"
   },
   {
    "duration": 28,
    "start_time": "2022-04-25T09:04:55.831Z"
   },
   {
    "duration": 82,
    "start_time": "2022-04-25T09:04:55.860Z"
   },
   {
    "duration": 77,
    "start_time": "2022-04-25T09:04:55.943Z"
   },
   {
    "duration": 58,
    "start_time": "2022-04-25T09:04:56.022Z"
   },
   {
    "duration": 49,
    "start_time": "2022-04-25T09:04:56.081Z"
   },
   {
    "duration": 2,
    "start_time": "2022-04-25T09:04:56.132Z"
   },
   {
    "duration": 13,
    "start_time": "2022-04-25T09:04:56.136Z"
   },
   {
    "duration": 51,
    "start_time": "2022-04-25T09:04:56.150Z"
   },
   {
    "duration": 12,
    "start_time": "2022-04-25T09:04:56.202Z"
   },
   {
    "duration": 12,
    "start_time": "2022-04-25T09:04:56.215Z"
   },
   {
    "duration": 3,
    "start_time": "2022-04-25T09:04:56.229Z"
   },
   {
    "duration": 18,
    "start_time": "2022-04-25T09:04:56.234Z"
   },
   {
    "duration": 19,
    "start_time": "2022-04-25T09:04:56.253Z"
   },
   {
    "duration": 39,
    "start_time": "2022-04-25T09:04:56.273Z"
   },
   {
    "duration": 12,
    "start_time": "2022-04-25T09:04:56.314Z"
   },
   {
    "duration": 15,
    "start_time": "2022-04-25T09:04:56.328Z"
   },
   {
    "duration": 12,
    "start_time": "2022-04-25T09:04:56.344Z"
   },
   {
    "duration": 5,
    "start_time": "2022-04-25T09:04:56.358Z"
   },
   {
    "duration": 15,
    "start_time": "2022-04-25T09:04:56.403Z"
   },
   {
    "duration": 14,
    "start_time": "2022-04-25T09:04:56.420Z"
   },
   {
    "duration": 4,
    "start_time": "2022-04-25T09:04:56.436Z"
   },
   {
    "duration": 12,
    "start_time": "2022-04-25T09:04:56.442Z"
   },
   {
    "duration": 17,
    "start_time": "2022-04-25T09:04:56.455Z"
   },
   {
    "duration": 28,
    "start_time": "2022-04-25T09:04:56.473Z"
   },
   {
    "duration": 8,
    "start_time": "2022-04-25T09:04:56.502Z"
   },
   {
    "duration": 12,
    "start_time": "2022-04-25T09:04:56.511Z"
   },
   {
    "duration": 4,
    "start_time": "2022-04-25T09:04:56.525Z"
   },
   {
    "duration": 12,
    "start_time": "2022-04-25T09:04:56.531Z"
   },
   {
    "duration": 7,
    "start_time": "2022-04-25T09:04:56.544Z"
   },
   {
    "duration": 17,
    "start_time": "2022-04-25T09:09:31.159Z"
   },
   {
    "duration": 4,
    "start_time": "2022-04-25T09:10:00.252Z"
   },
   {
    "duration": 19,
    "start_time": "2022-04-25T09:10:13.980Z"
   },
   {
    "duration": 4,
    "start_time": "2022-04-25T09:10:20.276Z"
   },
   {
    "duration": 13,
    "start_time": "2022-04-25T09:10:29.819Z"
   },
   {
    "duration": 4,
    "start_time": "2022-04-25T09:12:05.519Z"
   },
   {
    "duration": 3,
    "start_time": "2022-04-25T09:12:07.942Z"
   },
   {
    "duration": 7,
    "start_time": "2022-04-25T09:12:23.711Z"
   },
   {
    "duration": 20,
    "start_time": "2022-04-25T09:19:06.744Z"
   },
   {
    "duration": 22,
    "start_time": "2022-04-25T09:19:58.144Z"
   },
   {
    "duration": 16,
    "start_time": "2022-04-25T09:20:05.261Z"
   },
   {
    "duration": 4,
    "start_time": "2022-04-25T09:23:51.221Z"
   },
   {
    "duration": 7,
    "start_time": "2022-04-25T09:23:57.319Z"
   },
   {
    "duration": 4,
    "start_time": "2022-04-25T09:24:11.272Z"
   },
   {
    "duration": 7,
    "start_time": "2022-04-25T09:24:35.094Z"
   },
   {
    "duration": 8,
    "start_time": "2022-04-25T09:24:37.980Z"
   },
   {
    "duration": 7,
    "start_time": "2022-04-25T09:24:39.780Z"
   },
   {
    "duration": 204,
    "start_time": "2022-04-25T09:30:04.319Z"
   },
   {
    "duration": 196,
    "start_time": "2022-04-25T09:30:18.398Z"
   },
   {
    "duration": 12,
    "start_time": "2022-04-25T09:30:22.962Z"
   },
   {
    "duration": 386,
    "start_time": "2022-04-25T09:33:56.436Z"
   },
   {
    "duration": 137,
    "start_time": "2022-04-25T09:33:56.824Z"
   },
   {
    "duration": 15,
    "start_time": "2022-04-25T09:33:56.963Z"
   },
   {
    "duration": 31,
    "start_time": "2022-04-25T09:33:56.980Z"
   },
   {
    "duration": 4,
    "start_time": "2022-04-25T09:33:57.012Z"
   },
   {
    "duration": 14,
    "start_time": "2022-04-25T09:33:57.017Z"
   },
   {
    "duration": 9,
    "start_time": "2022-04-25T09:33:57.033Z"
   },
   {
    "duration": 29,
    "start_time": "2022-04-25T09:33:57.043Z"
   },
   {
    "duration": 3512,
    "start_time": "2022-04-25T09:33:57.074Z"
   },
   {
    "duration": 0,
    "start_time": "2022-04-25T09:34:00.590Z"
   },
   {
    "duration": 0,
    "start_time": "2022-04-25T09:34:00.591Z"
   },
   {
    "duration": 0,
    "start_time": "2022-04-25T09:34:00.592Z"
   },
   {
    "duration": 0,
    "start_time": "2022-04-25T09:34:00.593Z"
   },
   {
    "duration": 0,
    "start_time": "2022-04-25T09:34:00.594Z"
   },
   {
    "duration": 0,
    "start_time": "2022-04-25T09:34:00.595Z"
   },
   {
    "duration": 0,
    "start_time": "2022-04-25T09:34:00.596Z"
   },
   {
    "duration": 0,
    "start_time": "2022-04-25T09:34:00.597Z"
   },
   {
    "duration": 0,
    "start_time": "2022-04-25T09:34:00.598Z"
   },
   {
    "duration": 0,
    "start_time": "2022-04-25T09:34:00.599Z"
   },
   {
    "duration": 0,
    "start_time": "2022-04-25T09:34:00.600Z"
   },
   {
    "duration": 0,
    "start_time": "2022-04-25T09:34:00.601Z"
   },
   {
    "duration": 0,
    "start_time": "2022-04-25T09:34:00.602Z"
   },
   {
    "duration": 0,
    "start_time": "2022-04-25T09:34:00.603Z"
   },
   {
    "duration": 0,
    "start_time": "2022-04-25T09:34:00.604Z"
   },
   {
    "duration": 0,
    "start_time": "2022-04-25T09:34:00.605Z"
   },
   {
    "duration": 0,
    "start_time": "2022-04-25T09:34:00.606Z"
   },
   {
    "duration": 0,
    "start_time": "2022-04-25T09:34:00.607Z"
   },
   {
    "duration": 0,
    "start_time": "2022-04-25T09:34:00.608Z"
   },
   {
    "duration": 0,
    "start_time": "2022-04-25T09:34:00.609Z"
   },
   {
    "duration": 0,
    "start_time": "2022-04-25T09:34:00.610Z"
   },
   {
    "duration": 0,
    "start_time": "2022-04-25T09:34:00.611Z"
   },
   {
    "duration": 0,
    "start_time": "2022-04-25T09:34:00.612Z"
   },
   {
    "duration": 0,
    "start_time": "2022-04-25T09:34:00.613Z"
   },
   {
    "duration": 0,
    "start_time": "2022-04-25T09:34:00.614Z"
   },
   {
    "duration": 0,
    "start_time": "2022-04-25T09:34:00.615Z"
   },
   {
    "duration": 0,
    "start_time": "2022-04-25T09:34:00.616Z"
   },
   {
    "duration": 0,
    "start_time": "2022-04-25T09:34:00.617Z"
   },
   {
    "duration": 0,
    "start_time": "2022-04-25T09:34:00.618Z"
   },
   {
    "duration": 191,
    "start_time": "2022-04-25T09:37:10.714Z"
   },
   {
    "duration": 3248,
    "start_time": "2022-04-25T09:38:17.566Z"
   },
   {
    "duration": 3492,
    "start_time": "2022-04-25T09:38:24.276Z"
   },
   {
    "duration": 384,
    "start_time": "2022-04-25T09:38:32.916Z"
   },
   {
    "duration": 136,
    "start_time": "2022-04-25T09:38:33.302Z"
   },
   {
    "duration": 17,
    "start_time": "2022-04-25T09:38:33.439Z"
   },
   {
    "duration": 26,
    "start_time": "2022-04-25T09:38:33.457Z"
   },
   {
    "duration": 4,
    "start_time": "2022-04-25T09:38:33.500Z"
   },
   {
    "duration": 16,
    "start_time": "2022-04-25T09:38:33.505Z"
   },
   {
    "duration": 3,
    "start_time": "2022-04-25T09:38:33.522Z"
   },
   {
    "duration": 26,
    "start_time": "2022-04-25T09:38:33.527Z"
   },
   {
    "duration": 3100,
    "start_time": "2022-04-25T09:38:33.555Z"
   },
   {
    "duration": 0,
    "start_time": "2022-04-25T09:38:36.659Z"
   },
   {
    "duration": 0,
    "start_time": "2022-04-25T09:38:36.660Z"
   },
   {
    "duration": 0,
    "start_time": "2022-04-25T09:38:36.661Z"
   },
   {
    "duration": 0,
    "start_time": "2022-04-25T09:38:36.662Z"
   },
   {
    "duration": 0,
    "start_time": "2022-04-25T09:38:36.663Z"
   },
   {
    "duration": 0,
    "start_time": "2022-04-25T09:38:36.664Z"
   },
   {
    "duration": 0,
    "start_time": "2022-04-25T09:38:36.665Z"
   },
   {
    "duration": 0,
    "start_time": "2022-04-25T09:38:36.666Z"
   },
   {
    "duration": 0,
    "start_time": "2022-04-25T09:38:36.667Z"
   },
   {
    "duration": 0,
    "start_time": "2022-04-25T09:38:36.668Z"
   },
   {
    "duration": 0,
    "start_time": "2022-04-25T09:38:36.669Z"
   },
   {
    "duration": 0,
    "start_time": "2022-04-25T09:38:36.670Z"
   },
   {
    "duration": 0,
    "start_time": "2022-04-25T09:38:36.671Z"
   },
   {
    "duration": 0,
    "start_time": "2022-04-25T09:38:36.671Z"
   },
   {
    "duration": 0,
    "start_time": "2022-04-25T09:38:36.672Z"
   },
   {
    "duration": 0,
    "start_time": "2022-04-25T09:38:36.673Z"
   },
   {
    "duration": 0,
    "start_time": "2022-04-25T09:38:36.674Z"
   },
   {
    "duration": 0,
    "start_time": "2022-04-25T09:38:36.675Z"
   },
   {
    "duration": 0,
    "start_time": "2022-04-25T09:38:36.676Z"
   },
   {
    "duration": 0,
    "start_time": "2022-04-25T09:38:36.677Z"
   },
   {
    "duration": 0,
    "start_time": "2022-04-25T09:38:36.678Z"
   },
   {
    "duration": 0,
    "start_time": "2022-04-25T09:38:36.679Z"
   },
   {
    "duration": 1,
    "start_time": "2022-04-25T09:38:36.680Z"
   },
   {
    "duration": 0,
    "start_time": "2022-04-25T09:38:36.682Z"
   },
   {
    "duration": 0,
    "start_time": "2022-04-25T09:38:36.682Z"
   },
   {
    "duration": 0,
    "start_time": "2022-04-25T09:38:36.683Z"
   },
   {
    "duration": 0,
    "start_time": "2022-04-25T09:38:36.685Z"
   },
   {
    "duration": 0,
    "start_time": "2022-04-25T09:38:36.686Z"
   },
   {
    "duration": 0,
    "start_time": "2022-04-25T09:38:36.687Z"
   },
   {
    "duration": 398,
    "start_time": "2022-04-25T09:38:48.991Z"
   },
   {
    "duration": 138,
    "start_time": "2022-04-25T09:38:49.391Z"
   },
   {
    "duration": 16,
    "start_time": "2022-04-25T09:38:49.530Z"
   },
   {
    "duration": 34,
    "start_time": "2022-04-25T09:38:49.548Z"
   },
   {
    "duration": 4,
    "start_time": "2022-04-25T09:38:49.584Z"
   },
   {
    "duration": 12,
    "start_time": "2022-04-25T09:38:49.600Z"
   },
   {
    "duration": 7,
    "start_time": "2022-04-25T09:38:49.614Z"
   },
   {
    "duration": 27,
    "start_time": "2022-04-25T09:38:49.623Z"
   },
   {
    "duration": 3367,
    "start_time": "2022-04-25T09:38:49.652Z"
   },
   {
    "duration": 0,
    "start_time": "2022-04-25T09:38:53.023Z"
   },
   {
    "duration": 0,
    "start_time": "2022-04-25T09:38:53.025Z"
   },
   {
    "duration": 0,
    "start_time": "2022-04-25T09:38:53.025Z"
   },
   {
    "duration": 0,
    "start_time": "2022-04-25T09:38:53.026Z"
   },
   {
    "duration": 0,
    "start_time": "2022-04-25T09:38:53.027Z"
   },
   {
    "duration": 0,
    "start_time": "2022-04-25T09:38:53.028Z"
   },
   {
    "duration": 0,
    "start_time": "2022-04-25T09:38:53.029Z"
   },
   {
    "duration": 0,
    "start_time": "2022-04-25T09:38:53.030Z"
   },
   {
    "duration": 0,
    "start_time": "2022-04-25T09:38:53.031Z"
   },
   {
    "duration": 0,
    "start_time": "2022-04-25T09:38:53.033Z"
   },
   {
    "duration": 0,
    "start_time": "2022-04-25T09:38:53.033Z"
   },
   {
    "duration": 0,
    "start_time": "2022-04-25T09:38:53.034Z"
   },
   {
    "duration": 0,
    "start_time": "2022-04-25T09:38:53.036Z"
   },
   {
    "duration": 0,
    "start_time": "2022-04-25T09:38:53.036Z"
   },
   {
    "duration": 0,
    "start_time": "2022-04-25T09:38:53.037Z"
   },
   {
    "duration": 0,
    "start_time": "2022-04-25T09:38:53.038Z"
   },
   {
    "duration": 0,
    "start_time": "2022-04-25T09:38:53.039Z"
   },
   {
    "duration": 0,
    "start_time": "2022-04-25T09:38:53.040Z"
   },
   {
    "duration": 0,
    "start_time": "2022-04-25T09:38:53.041Z"
   },
   {
    "duration": 0,
    "start_time": "2022-04-25T09:38:53.042Z"
   },
   {
    "duration": 0,
    "start_time": "2022-04-25T09:38:53.043Z"
   },
   {
    "duration": 0,
    "start_time": "2022-04-25T09:38:53.043Z"
   },
   {
    "duration": 0,
    "start_time": "2022-04-25T09:38:53.044Z"
   },
   {
    "duration": 0,
    "start_time": "2022-04-25T09:38:53.046Z"
   },
   {
    "duration": 0,
    "start_time": "2022-04-25T09:38:53.047Z"
   },
   {
    "duration": 0,
    "start_time": "2022-04-25T09:38:53.048Z"
   },
   {
    "duration": 0,
    "start_time": "2022-04-25T09:38:53.048Z"
   },
   {
    "duration": 0,
    "start_time": "2022-04-25T09:38:53.049Z"
   },
   {
    "duration": 0,
    "start_time": "2022-04-25T09:38:53.050Z"
   },
   {
    "duration": 3678,
    "start_time": "2022-04-25T09:39:00.229Z"
   },
   {
    "duration": 10,
    "start_time": "2022-04-25T09:39:34.753Z"
   },
   {
    "duration": 7,
    "start_time": "2022-04-25T09:39:47.317Z"
   },
   {
    "duration": 4,
    "start_time": "2022-04-25T09:39:52.284Z"
   },
   {
    "duration": 24,
    "start_time": "2022-04-25T09:40:01.682Z"
   },
   {
    "duration": 17,
    "start_time": "2022-04-25T09:40:20.701Z"
   },
   {
    "duration": 24,
    "start_time": "2022-04-25T09:40:25.100Z"
   },
   {
    "duration": 255,
    "start_time": "2022-04-25T09:40:46.866Z"
   },
   {
    "duration": 191,
    "start_time": "2022-04-25T09:47:09.118Z"
   },
   {
    "duration": 187,
    "start_time": "2022-04-25T09:47:34.493Z"
   },
   {
    "duration": 193,
    "start_time": "2022-04-25T09:48:18.791Z"
   },
   {
    "duration": 4,
    "start_time": "2022-04-25T09:48:24.209Z"
   },
   {
    "duration": 7,
    "start_time": "2022-04-25T09:48:27.527Z"
   },
   {
    "duration": 17,
    "start_time": "2022-04-25T09:48:37.164Z"
   },
   {
    "duration": 15,
    "start_time": "2022-04-25T09:48:41.623Z"
   },
   {
    "duration": 13,
    "start_time": "2022-04-25T09:48:47.537Z"
   },
   {
    "duration": 7,
    "start_time": "2022-04-25T09:48:50.126Z"
   },
   {
    "duration": 8,
    "start_time": "2022-04-25T09:48:52.706Z"
   },
   {
    "duration": 8,
    "start_time": "2022-04-25T09:48:54.610Z"
   },
   {
    "duration": 184,
    "start_time": "2022-04-25T09:49:42.930Z"
   },
   {
    "duration": 330,
    "start_time": "2022-08-15T22:15:10.990Z"
   },
   {
    "duration": 211,
    "start_time": "2022-08-15T22:15:11.321Z"
   },
   {
    "duration": 16,
    "start_time": "2022-08-15T22:15:11.534Z"
   },
   {
    "duration": 28,
    "start_time": "2022-08-15T22:15:11.551Z"
   },
   {
    "duration": 3,
    "start_time": "2022-08-15T22:15:11.582Z"
   },
   {
    "duration": 13,
    "start_time": "2022-08-15T22:15:11.587Z"
   },
   {
    "duration": 5,
    "start_time": "2022-08-15T22:15:11.602Z"
   },
   {
    "duration": 43,
    "start_time": "2022-08-15T22:15:11.608Z"
   },
   {
    "duration": 18,
    "start_time": "2022-08-15T22:15:11.652Z"
   },
   {
    "duration": 21,
    "start_time": "2022-08-15T22:15:11.672Z"
   },
   {
    "duration": 76,
    "start_time": "2022-08-15T22:15:11.695Z"
   },
   {
    "duration": 73,
    "start_time": "2022-08-15T22:15:11.773Z"
   },
   {
    "duration": 52,
    "start_time": "2022-08-15T22:15:11.847Z"
   },
   {
    "duration": 954,
    "start_time": "2022-08-15T22:15:11.902Z"
   },
   {
    "duration": 0,
    "start_time": "2022-08-15T22:15:12.857Z"
   },
   {
    "duration": 0,
    "start_time": "2022-08-15T22:15:12.858Z"
   },
   {
    "duration": 0,
    "start_time": "2022-08-15T22:15:12.859Z"
   },
   {
    "duration": 0,
    "start_time": "2022-08-15T22:15:12.860Z"
   },
   {
    "duration": 0,
    "start_time": "2022-08-15T22:15:12.861Z"
   },
   {
    "duration": 0,
    "start_time": "2022-08-15T22:15:12.862Z"
   },
   {
    "duration": 0,
    "start_time": "2022-08-15T22:15:12.862Z"
   },
   {
    "duration": 1,
    "start_time": "2022-08-15T22:15:12.863Z"
   },
   {
    "duration": 0,
    "start_time": "2022-08-15T22:15:12.864Z"
   },
   {
    "duration": 0,
    "start_time": "2022-08-15T22:15:12.865Z"
   },
   {
    "duration": 0,
    "start_time": "2022-08-15T22:15:12.866Z"
   },
   {
    "duration": 0,
    "start_time": "2022-08-15T22:15:12.867Z"
   },
   {
    "duration": 0,
    "start_time": "2022-08-15T22:15:12.868Z"
   },
   {
    "duration": 0,
    "start_time": "2022-08-15T22:15:12.869Z"
   },
   {
    "duration": 0,
    "start_time": "2022-08-15T22:15:12.870Z"
   },
   {
    "duration": 0,
    "start_time": "2022-08-15T22:15:12.871Z"
   },
   {
    "duration": 0,
    "start_time": "2022-08-15T22:15:12.872Z"
   },
   {
    "duration": 0,
    "start_time": "2022-08-15T22:15:12.873Z"
   },
   {
    "duration": 0,
    "start_time": "2022-08-15T22:15:12.874Z"
   },
   {
    "duration": 0,
    "start_time": "2022-08-15T22:15:12.874Z"
   },
   {
    "duration": 0,
    "start_time": "2022-08-15T22:15:12.875Z"
   },
   {
    "duration": 0,
    "start_time": "2022-08-15T22:15:12.876Z"
   },
   {
    "duration": 0,
    "start_time": "2022-08-15T22:15:12.877Z"
   },
   {
    "duration": 0,
    "start_time": "2022-08-15T22:15:12.878Z"
   },
   {
    "duration": 400,
    "start_time": "2022-08-15T22:15:30.927Z"
   },
   {
    "duration": 154,
    "start_time": "2022-08-15T22:15:31.328Z"
   },
   {
    "duration": 17,
    "start_time": "2022-08-15T22:15:31.484Z"
   },
   {
    "duration": 29,
    "start_time": "2022-08-15T22:15:31.503Z"
   },
   {
    "duration": 5,
    "start_time": "2022-08-15T22:15:31.540Z"
   },
   {
    "duration": 13,
    "start_time": "2022-08-15T22:15:31.546Z"
   },
   {
    "duration": 6,
    "start_time": "2022-08-15T22:15:31.561Z"
   },
   {
    "duration": 25,
    "start_time": "2022-08-15T22:15:31.569Z"
   },
   {
    "duration": 18,
    "start_time": "2022-08-15T22:15:31.596Z"
   },
   {
    "duration": 24,
    "start_time": "2022-08-15T22:15:31.637Z"
   },
   {
    "duration": 58,
    "start_time": "2022-08-15T22:15:31.662Z"
   },
   {
    "duration": 76,
    "start_time": "2022-08-15T22:15:31.722Z"
   },
   {
    "duration": 69,
    "start_time": "2022-08-15T22:15:31.799Z"
   },
   {
    "duration": 35,
    "start_time": "2022-08-15T22:15:31.870Z"
   },
   {
    "duration": 2,
    "start_time": "2022-08-15T22:15:31.907Z"
   },
   {
    "duration": 905,
    "start_time": "2022-08-15T22:15:31.911Z"
   },
   {
    "duration": 0,
    "start_time": "2022-08-15T22:15:32.818Z"
   },
   {
    "duration": 0,
    "start_time": "2022-08-15T22:15:32.819Z"
   },
   {
    "duration": 0,
    "start_time": "2022-08-15T22:15:32.820Z"
   },
   {
    "duration": 0,
    "start_time": "2022-08-15T22:15:32.821Z"
   },
   {
    "duration": 0,
    "start_time": "2022-08-15T22:15:32.822Z"
   },
   {
    "duration": 0,
    "start_time": "2022-08-15T22:15:32.822Z"
   },
   {
    "duration": 0,
    "start_time": "2022-08-15T22:15:32.823Z"
   },
   {
    "duration": 0,
    "start_time": "2022-08-15T22:15:32.824Z"
   },
   {
    "duration": 0,
    "start_time": "2022-08-15T22:15:32.825Z"
   },
   {
    "duration": 0,
    "start_time": "2022-08-15T22:15:32.826Z"
   },
   {
    "duration": 0,
    "start_time": "2022-08-15T22:15:32.827Z"
   },
   {
    "duration": 0,
    "start_time": "2022-08-15T22:15:32.828Z"
   },
   {
    "duration": 0,
    "start_time": "2022-08-15T22:15:32.829Z"
   },
   {
    "duration": 0,
    "start_time": "2022-08-15T22:15:32.830Z"
   },
   {
    "duration": 0,
    "start_time": "2022-08-15T22:15:32.831Z"
   },
   {
    "duration": 0,
    "start_time": "2022-08-15T22:15:32.832Z"
   },
   {
    "duration": 0,
    "start_time": "2022-08-15T22:15:32.833Z"
   },
   {
    "duration": 0,
    "start_time": "2022-08-15T22:15:32.834Z"
   },
   {
    "duration": 0,
    "start_time": "2022-08-15T22:15:32.835Z"
   },
   {
    "duration": 0,
    "start_time": "2022-08-15T22:15:32.836Z"
   },
   {
    "duration": 0,
    "start_time": "2022-08-15T22:15:32.836Z"
   },
   {
    "duration": 0,
    "start_time": "2022-08-15T22:15:32.837Z"
   },
   {
    "duration": 3,
    "start_time": "2022-08-15T22:15:49.199Z"
   },
   {
    "duration": 362,
    "start_time": "2022-08-15T22:15:53.654Z"
   },
   {
    "duration": 148,
    "start_time": "2022-08-15T22:15:54.017Z"
   },
   {
    "duration": 15,
    "start_time": "2022-08-15T22:15:54.167Z"
   },
   {
    "duration": 27,
    "start_time": "2022-08-15T22:15:54.184Z"
   },
   {
    "duration": 3,
    "start_time": "2022-08-15T22:15:54.213Z"
   },
   {
    "duration": 27,
    "start_time": "2022-08-15T22:15:54.218Z"
   },
   {
    "duration": 5,
    "start_time": "2022-08-15T22:15:54.246Z"
   },
   {
    "duration": 25,
    "start_time": "2022-08-15T22:15:54.253Z"
   },
   {
    "duration": 19,
    "start_time": "2022-08-15T22:15:54.280Z"
   },
   {
    "duration": 51,
    "start_time": "2022-08-15T22:15:54.302Z"
   },
   {
    "duration": 56,
    "start_time": "2022-08-15T22:15:54.355Z"
   },
   {
    "duration": 78,
    "start_time": "2022-08-15T22:15:54.413Z"
   },
   {
    "duration": 64,
    "start_time": "2022-08-15T22:15:54.492Z"
   },
   {
    "duration": 34,
    "start_time": "2022-08-15T22:15:54.558Z"
   },
   {
    "duration": 2,
    "start_time": "2022-08-15T22:15:54.594Z"
   },
   {
    "duration": 10,
    "start_time": "2022-08-15T22:15:54.597Z"
   },
   {
    "duration": 977,
    "start_time": "2022-08-15T22:15:54.608Z"
   },
   {
    "duration": 0,
    "start_time": "2022-08-15T22:15:55.586Z"
   },
   {
    "duration": 0,
    "start_time": "2022-08-15T22:15:55.587Z"
   },
   {
    "duration": 0,
    "start_time": "2022-08-15T22:15:55.588Z"
   },
   {
    "duration": 0,
    "start_time": "2022-08-15T22:15:55.589Z"
   },
   {
    "duration": 0,
    "start_time": "2022-08-15T22:15:55.590Z"
   },
   {
    "duration": 0,
    "start_time": "2022-08-15T22:15:55.591Z"
   },
   {
    "duration": 0,
    "start_time": "2022-08-15T22:15:55.591Z"
   },
   {
    "duration": 0,
    "start_time": "2022-08-15T22:15:55.592Z"
   },
   {
    "duration": 0,
    "start_time": "2022-08-15T22:15:55.593Z"
   },
   {
    "duration": 0,
    "start_time": "2022-08-15T22:15:55.595Z"
   },
   {
    "duration": 0,
    "start_time": "2022-08-15T22:15:55.595Z"
   },
   {
    "duration": 0,
    "start_time": "2022-08-15T22:15:55.597Z"
   },
   {
    "duration": 0,
    "start_time": "2022-08-15T22:15:55.597Z"
   },
   {
    "duration": 0,
    "start_time": "2022-08-15T22:15:55.598Z"
   },
   {
    "duration": 0,
    "start_time": "2022-08-15T22:15:55.599Z"
   },
   {
    "duration": 0,
    "start_time": "2022-08-15T22:15:55.600Z"
   },
   {
    "duration": 0,
    "start_time": "2022-08-15T22:15:55.600Z"
   },
   {
    "duration": 0,
    "start_time": "2022-08-15T22:15:55.601Z"
   },
   {
    "duration": 0,
    "start_time": "2022-08-15T22:15:55.602Z"
   },
   {
    "duration": 0,
    "start_time": "2022-08-15T22:15:55.603Z"
   },
   {
    "duration": 0,
    "start_time": "2022-08-15T22:15:55.604Z"
   },
   {
    "duration": 36,
    "start_time": "2022-08-15T22:16:03.283Z"
   },
   {
    "duration": 334,
    "start_time": "2022-08-15T22:16:24.489Z"
   },
   {
    "duration": 145,
    "start_time": "2022-08-15T22:16:24.825Z"
   },
   {
    "duration": 17,
    "start_time": "2022-08-15T22:16:24.974Z"
   },
   {
    "duration": 27,
    "start_time": "2022-08-15T22:16:24.993Z"
   },
   {
    "duration": 20,
    "start_time": "2022-08-15T22:16:25.021Z"
   },
   {
    "duration": 15,
    "start_time": "2022-08-15T22:16:25.042Z"
   },
   {
    "duration": 7,
    "start_time": "2022-08-15T22:16:25.059Z"
   },
   {
    "duration": 24,
    "start_time": "2022-08-15T22:16:25.068Z"
   },
   {
    "duration": 15,
    "start_time": "2022-08-15T22:16:25.094Z"
   },
   {
    "duration": 38,
    "start_time": "2022-08-15T22:16:25.111Z"
   },
   {
    "duration": 55,
    "start_time": "2022-08-15T22:16:25.151Z"
   },
   {
    "duration": 86,
    "start_time": "2022-08-15T22:16:25.208Z"
   },
   {
    "duration": 54,
    "start_time": "2022-08-15T22:16:25.295Z"
   },
   {
    "duration": 34,
    "start_time": "2022-08-15T22:16:25.350Z"
   },
   {
    "duration": 2,
    "start_time": "2022-08-15T22:16:25.386Z"
   },
   {
    "duration": 11,
    "start_time": "2022-08-15T22:16:25.389Z"
   },
   {
    "duration": 53,
    "start_time": "2022-08-15T22:16:25.401Z"
   },
   {
    "duration": 10,
    "start_time": "2022-08-15T22:16:25.455Z"
   },
   {
    "duration": 73,
    "start_time": "2022-08-15T22:16:25.466Z"
   },
   {
    "duration": 0,
    "start_time": "2022-08-15T22:16:25.541Z"
   },
   {
    "duration": 0,
    "start_time": "2022-08-15T22:16:25.542Z"
   },
   {
    "duration": 0,
    "start_time": "2022-08-15T22:16:25.544Z"
   },
   {
    "duration": 0,
    "start_time": "2022-08-15T22:16:25.545Z"
   },
   {
    "duration": 0,
    "start_time": "2022-08-15T22:16:25.546Z"
   },
   {
    "duration": 0,
    "start_time": "2022-08-15T22:16:25.547Z"
   },
   {
    "duration": 0,
    "start_time": "2022-08-15T22:16:25.548Z"
   },
   {
    "duration": 0,
    "start_time": "2022-08-15T22:16:25.549Z"
   },
   {
    "duration": 0,
    "start_time": "2022-08-15T22:16:25.550Z"
   },
   {
    "duration": 0,
    "start_time": "2022-08-15T22:16:25.551Z"
   },
   {
    "duration": 0,
    "start_time": "2022-08-15T22:16:25.552Z"
   },
   {
    "duration": 0,
    "start_time": "2022-08-15T22:16:25.553Z"
   },
   {
    "duration": 0,
    "start_time": "2022-08-15T22:16:25.554Z"
   },
   {
    "duration": 0,
    "start_time": "2022-08-15T22:16:25.555Z"
   },
   {
    "duration": 0,
    "start_time": "2022-08-15T22:16:25.556Z"
   },
   {
    "duration": 0,
    "start_time": "2022-08-15T22:16:25.557Z"
   },
   {
    "duration": 0,
    "start_time": "2022-08-15T22:16:25.558Z"
   },
   {
    "duration": 0,
    "start_time": "2022-08-15T22:16:25.559Z"
   },
   {
    "duration": 0,
    "start_time": "2022-08-15T22:16:25.560Z"
   },
   {
    "duration": 3,
    "start_time": "2022-08-15T22:17:14.404Z"
   },
   {
    "duration": 780,
    "start_time": "2022-08-15T22:17:15.648Z"
   },
   {
    "duration": 0,
    "start_time": "2022-08-15T22:17:16.430Z"
   },
   {
    "duration": 917,
    "start_time": "2022-08-15T22:17:16.474Z"
   },
   {
    "duration": 12,
    "start_time": "2022-08-15T22:18:23.668Z"
   },
   {
    "duration": 371,
    "start_time": "2022-08-15T22:18:29.748Z"
   },
   {
    "duration": 156,
    "start_time": "2022-08-15T22:18:30.120Z"
   },
   {
    "duration": 17,
    "start_time": "2022-08-15T22:18:30.277Z"
   },
   {
    "duration": 37,
    "start_time": "2022-08-15T22:18:30.296Z"
   },
   {
    "duration": 15,
    "start_time": "2022-08-15T22:18:30.335Z"
   },
   {
    "duration": 29,
    "start_time": "2022-08-15T22:18:30.352Z"
   },
   {
    "duration": 14,
    "start_time": "2022-08-15T22:18:30.383Z"
   },
   {
    "duration": 45,
    "start_time": "2022-08-15T22:18:30.399Z"
   },
   {
    "duration": 28,
    "start_time": "2022-08-15T22:18:30.446Z"
   },
   {
    "duration": 28,
    "start_time": "2022-08-15T22:18:30.477Z"
   },
   {
    "duration": 88,
    "start_time": "2022-08-15T22:18:30.507Z"
   },
   {
    "duration": 77,
    "start_time": "2022-08-15T22:18:30.597Z"
   },
   {
    "duration": 63,
    "start_time": "2022-08-15T22:18:30.676Z"
   },
   {
    "duration": 43,
    "start_time": "2022-08-15T22:18:30.742Z"
   },
   {
    "duration": 3,
    "start_time": "2022-08-15T22:18:30.786Z"
   },
   {
    "duration": 21,
    "start_time": "2022-08-15T22:18:30.791Z"
   },
   {
    "duration": 59,
    "start_time": "2022-08-15T22:18:30.814Z"
   },
   {
    "duration": 11,
    "start_time": "2022-08-15T22:18:30.874Z"
   },
   {
    "duration": 10,
    "start_time": "2022-08-15T22:18:30.887Z"
   },
   {
    "duration": 10,
    "start_time": "2022-08-15T22:18:30.899Z"
   },
   {
    "duration": 907,
    "start_time": "2022-08-15T22:18:30.911Z"
   },
   {
    "duration": 1,
    "start_time": "2022-08-15T22:18:31.820Z"
   },
   {
    "duration": 0,
    "start_time": "2022-08-15T22:18:31.822Z"
   },
   {
    "duration": 0,
    "start_time": "2022-08-15T22:18:31.823Z"
   },
   {
    "duration": 0,
    "start_time": "2022-08-15T22:18:31.824Z"
   },
   {
    "duration": 0,
    "start_time": "2022-08-15T22:18:31.825Z"
   },
   {
    "duration": 0,
    "start_time": "2022-08-15T22:18:31.826Z"
   },
   {
    "duration": 0,
    "start_time": "2022-08-15T22:18:31.827Z"
   },
   {
    "duration": 0,
    "start_time": "2022-08-15T22:18:31.828Z"
   },
   {
    "duration": 0,
    "start_time": "2022-08-15T22:18:31.829Z"
   },
   {
    "duration": 0,
    "start_time": "2022-08-15T22:18:31.830Z"
   },
   {
    "duration": 0,
    "start_time": "2022-08-15T22:18:31.831Z"
   },
   {
    "duration": 0,
    "start_time": "2022-08-15T22:18:31.832Z"
   },
   {
    "duration": 0,
    "start_time": "2022-08-15T22:18:31.833Z"
   },
   {
    "duration": 0,
    "start_time": "2022-08-15T22:18:31.834Z"
   },
   {
    "duration": 0,
    "start_time": "2022-08-15T22:18:31.835Z"
   },
   {
    "duration": 0,
    "start_time": "2022-08-15T22:18:31.836Z"
   },
   {
    "duration": 0,
    "start_time": "2022-08-15T22:18:31.836Z"
   },
   {
    "duration": 3,
    "start_time": "2022-08-15T22:18:49.477Z"
   },
   {
    "duration": 360,
    "start_time": "2022-08-15T22:18:53.975Z"
   },
   {
    "duration": 152,
    "start_time": "2022-08-15T22:18:54.337Z"
   },
   {
    "duration": 17,
    "start_time": "2022-08-15T22:18:54.490Z"
   },
   {
    "duration": 32,
    "start_time": "2022-08-15T22:18:54.510Z"
   },
   {
    "duration": 4,
    "start_time": "2022-08-15T22:18:54.543Z"
   },
   {
    "duration": 17,
    "start_time": "2022-08-15T22:18:54.548Z"
   },
   {
    "duration": 6,
    "start_time": "2022-08-15T22:18:54.566Z"
   },
   {
    "duration": 24,
    "start_time": "2022-08-15T22:18:54.574Z"
   },
   {
    "duration": 16,
    "start_time": "2022-08-15T22:18:54.600Z"
   },
   {
    "duration": 22,
    "start_time": "2022-08-15T22:18:54.639Z"
   },
   {
    "duration": 67,
    "start_time": "2022-08-15T22:18:54.663Z"
   },
   {
    "duration": 69,
    "start_time": "2022-08-15T22:18:54.731Z"
   },
   {
    "duration": 62,
    "start_time": "2022-08-15T22:18:54.801Z"
   },
   {
    "duration": 36,
    "start_time": "2022-08-15T22:18:54.864Z"
   },
   {
    "duration": 4,
    "start_time": "2022-08-15T22:18:54.902Z"
   },
   {
    "duration": 11,
    "start_time": "2022-08-15T22:18:54.908Z"
   },
   {
    "duration": 50,
    "start_time": "2022-08-15T22:18:54.921Z"
   },
   {
    "duration": 11,
    "start_time": "2022-08-15T22:18:54.972Z"
   },
   {
    "duration": 11,
    "start_time": "2022-08-15T22:18:54.985Z"
   },
   {
    "duration": 3,
    "start_time": "2022-08-15T22:18:54.998Z"
   },
   {
    "duration": 40,
    "start_time": "2022-08-15T22:18:55.003Z"
   },
   {
    "duration": 13,
    "start_time": "2022-08-15T22:18:55.044Z"
   },
   {
    "duration": 13,
    "start_time": "2022-08-15T22:18:55.059Z"
   },
   {
    "duration": 14,
    "start_time": "2022-08-15T22:18:55.074Z"
   },
   {
    "duration": 15,
    "start_time": "2022-08-15T22:18:55.089Z"
   },
   {
    "duration": 41,
    "start_time": "2022-08-15T22:18:55.106Z"
   },
   {
    "duration": 20,
    "start_time": "2022-08-15T22:18:55.149Z"
   },
   {
    "duration": 16,
    "start_time": "2022-08-15T22:18:55.172Z"
   },
   {
    "duration": 11,
    "start_time": "2022-08-15T22:18:55.190Z"
   },
   {
    "duration": 4,
    "start_time": "2022-08-15T22:18:55.202Z"
   },
   {
    "duration": 12,
    "start_time": "2022-08-15T22:18:55.207Z"
   },
   {
    "duration": 9,
    "start_time": "2022-08-15T22:18:55.220Z"
   },
   {
    "duration": 6,
    "start_time": "2022-08-15T22:18:55.238Z"
   },
   {
    "duration": 20,
    "start_time": "2022-08-15T22:18:55.245Z"
   },
   {
    "duration": 63,
    "start_time": "2022-08-15T22:18:55.266Z"
   },
   {
    "duration": 0,
    "start_time": "2022-08-15T22:18:55.331Z"
   },
   {
    "duration": 0,
    "start_time": "2022-08-15T22:18:55.332Z"
   },
   {
    "duration": 0,
    "start_time": "2022-08-15T22:18:55.333Z"
   },
   {
    "duration": 11,
    "start_time": "2022-08-15T22:19:06.068Z"
   },
   {
    "duration": 8,
    "start_time": "2022-08-15T22:19:21.619Z"
   },
   {
    "duration": 364,
    "start_time": "2022-08-15T22:19:37.472Z"
   },
   {
    "duration": 147,
    "start_time": "2022-08-15T22:19:37.838Z"
   },
   {
    "duration": 15,
    "start_time": "2022-08-15T22:19:37.987Z"
   },
   {
    "duration": 37,
    "start_time": "2022-08-15T22:19:38.004Z"
   },
   {
    "duration": 3,
    "start_time": "2022-08-15T22:19:38.043Z"
   },
   {
    "duration": 12,
    "start_time": "2022-08-15T22:19:38.048Z"
   },
   {
    "duration": 5,
    "start_time": "2022-08-15T22:19:38.061Z"
   },
   {
    "duration": 27,
    "start_time": "2022-08-15T22:19:38.068Z"
   },
   {
    "duration": 18,
    "start_time": "2022-08-15T22:19:38.096Z"
   },
   {
    "duration": 24,
    "start_time": "2022-08-15T22:19:38.139Z"
   },
   {
    "duration": 58,
    "start_time": "2022-08-15T22:19:38.165Z"
   },
   {
    "duration": 78,
    "start_time": "2022-08-15T22:19:38.225Z"
   },
   {
    "duration": 65,
    "start_time": "2022-08-15T22:19:38.304Z"
   },
   {
    "duration": 35,
    "start_time": "2022-08-15T22:19:38.371Z"
   },
   {
    "duration": 3,
    "start_time": "2022-08-15T22:19:38.407Z"
   },
   {
    "duration": 13,
    "start_time": "2022-08-15T22:19:38.411Z"
   },
   {
    "duration": 35,
    "start_time": "2022-08-15T22:19:38.438Z"
   },
   {
    "duration": 10,
    "start_time": "2022-08-15T22:19:38.475Z"
   },
   {
    "duration": 10,
    "start_time": "2022-08-15T22:19:38.486Z"
   },
   {
    "duration": 3,
    "start_time": "2022-08-15T22:19:38.497Z"
   },
   {
    "duration": 38,
    "start_time": "2022-08-15T22:19:38.502Z"
   },
   {
    "duration": 21,
    "start_time": "2022-08-15T22:19:38.542Z"
   },
   {
    "duration": 21,
    "start_time": "2022-08-15T22:19:38.565Z"
   },
   {
    "duration": 12,
    "start_time": "2022-08-15T22:19:38.587Z"
   },
   {
    "duration": 18,
    "start_time": "2022-08-15T22:19:38.601Z"
   },
   {
    "duration": 15,
    "start_time": "2022-08-15T22:19:38.620Z"
   },
   {
    "duration": 7,
    "start_time": "2022-08-15T22:19:38.636Z"
   },
   {
    "duration": 14,
    "start_time": "2022-08-15T22:19:38.645Z"
   },
   {
    "duration": 12,
    "start_time": "2022-08-15T22:19:38.660Z"
   },
   {
    "duration": 3,
    "start_time": "2022-08-15T22:19:38.673Z"
   },
   {
    "duration": 11,
    "start_time": "2022-08-15T22:19:38.677Z"
   },
   {
    "duration": 11,
    "start_time": "2022-08-15T22:19:38.689Z"
   },
   {
    "duration": 9,
    "start_time": "2022-08-15T22:19:38.701Z"
   },
   {
    "duration": 15,
    "start_time": "2022-08-15T22:19:38.712Z"
   },
   {
    "duration": 13,
    "start_time": "2022-08-15T22:19:38.729Z"
   },
   {
    "duration": 3,
    "start_time": "2022-08-15T22:19:38.744Z"
   },
   {
    "duration": 7,
    "start_time": "2022-08-15T22:19:38.748Z"
   },
   {
    "duration": 5,
    "start_time": "2022-08-15T22:19:38.757Z"
   }
  ],
  "colab": {
   "collapsed_sections": [
    "E0vqbgi9ay0H",
    "VUC88oWjTJw2"
   ],
   "name": "yandex_music_project.ipynb",
   "provenance": []
  },
  "kernelspec": {
   "display_name": "Python 3 (ipykernel)",
   "language": "python",
   "name": "python3"
  },
  "language_info": {
   "codemirror_mode": {
    "name": "ipython",
    "version": 3
   },
   "file_extension": ".py",
   "mimetype": "text/x-python",
   "name": "python",
   "nbconvert_exporter": "python",
   "pygments_lexer": "ipython3",
   "version": "3.9.5"
  },
  "toc": {
   "base_numbering": 1,
   "nav_menu": {},
   "number_sections": true,
   "sideBar": true,
   "skip_h1_title": true,
   "title_cell": "Table of Contents",
   "title_sidebar": "Contents",
   "toc_cell": false,
   "toc_position": {
    "height": "calc(100% - 180px)",
    "left": "10px",
    "top": "150px",
    "width": "270.398px"
   },
   "toc_section_display": true,
   "toc_window_display": false
  }
 },
 "nbformat": 4,
 "nbformat_minor": 1
}
