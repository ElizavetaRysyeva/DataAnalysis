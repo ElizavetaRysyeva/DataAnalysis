{
 "cells": [
  {
   "cell_type": "markdown",
   "metadata": {},
   "source": [
    "# Описание проекта\n",
    "\n",
    "# Контекст\n",
    "Вы — аналитик крупного интернет-магазина. Вместе с отделом маркетинга вы подготовили список гипотез для увеличения выручки.\n",
    "Приоритизируйте гипотезы, запустите A/B-тест и проанализируйте результаты.\n",
    "\n",
    "## Оглавление <a id='Оглавление'></a>\n",
    "\n",
    "### Подготовка\n",
    "1. [Загрузка библиотек](#1)\n",
    "2. [Загрузка датасетов и их проверка на наличие пропусков и на правильность выгрузки](#2)\n",
    "\n",
    "### Приоритизация гипотез\n",
    "3. [Примените фреймворк ICE для приоритизации гипотез. Отсортируйте их по убыванию приоритета.](#3)\n",
    "4. [Примените фреймворк RICE для приоритизации гипотез. Отсортируйте их по убыванию приоритета.](#4)\n",
    "5. [Укажите, как изменилась приоритизация гипотез при применении RICE вместо ICE. Объясните, почему так произошло.](#5)\n",
    "\n",
    "### Анализ A/B-теста\n",
    "6. [Проверка корректности распределения на группы A/B](#6)\n",
    "\n",
    "**Кумулятивные метрики**\n",
    "\n",
    "7. [Постройте график кумулятивной выручки по группам. Сделайте выводы и предположения.](#7)\n",
    "8. [Постройте график кумулятивного среднего чека по группам. Сделайте выводы и предположения.](#8)\n",
    "9. [Постройте график относительного изменения кумулятивного среднего чека группы B к группе A. Сделайте выводы и предположения.](#9)\n",
    "10. [Постройте график кумулятивной конверсии по группам. Сделайте выводы и предположения.](#10)\n",
    "11. [Постройте график относительного изменения кумулятивной конверсии группы B к группе A. Сделайте выводы и предположения.](#11)\n",
    "\n",
    "**Анализ выбросов и всплесков**\n",
    "\n",
    "12. [Постройте точечный график количества заказов по пользователям. Сделайте выводы и предположения.](#12)\n",
    "13. [Посчитайте 95-й и 99-й перцентили количества заказов на пользователя. Выберите границу для определения аномальных пользователей.](#13)\n",
    "14. [Постройте точечный график стоимостей заказов. Сделайте выводы и предположения.](#14)\n",
    "15. [Посчитайте 95-й и 99-й перцентили стоимости заказов. Выберите границу для определения аномальных заказов.](#15)\n",
    "16. [Посчитайте статистическую значимость различий в конверсии между группами по «сырым» данным. Сделайте выводы и предположения.](#16)\n",
    "17. [Посчитайте статистическую значимость различий в среднем чеке заказа между группами по «сырым» данным. Сделайте выводы и предположения.](#17)\n",
    "18. [Посчитайте статистическую значимость различий в конверсии между группами по «очищенным» данным. Сделайте выводы и предположения.](#18)\n",
    "19. [Посчитайте статистическую значимость различий в среднем чеке заказа между группами по «очищенным» данным. Сделайте выводы и предположения.](#19)\n",
    "\n",
    "**Принятие решения по результатам теста**\n",
    "\n",
    "20. [Примите решение по результатам теста и объясните его. Варианты решений: 1. Остановить тест, зафиксировать победу одной из групп. 2. Остановить тест, зафиксировать отсутствие различий между группами. 3. Продолжить тест.](#20)"
   ]
  },
  {
   "cell_type": "markdown",
   "metadata": {},
   "source": [
    "# Подготовка\n",
    "<a id='1'></a>\n",
    "### Загрузка библиотек \n",
    "[*Назад к оглавлению*](#Оглавление)"
   ]
  },
  {
   "cell_type": "code",
   "execution_count": 1,
   "metadata": {},
   "outputs": [],
   "source": [
    "import pandas as pd\n",
    "import numpy as np\n",
    "import scipy.stats as stats\n",
    "import seaborn as sns\n",
    "import matplotlib.pyplot as plt\n",
    "from collections import defaultdict\n",
    "import datetime as dt\n",
    "from plotly.offline import download_plotlyjs, init_notebook_mode, plot, iplot\n",
    "import plotly.graph_objs as go"
   ]
  },
  {
   "cell_type": "markdown",
   "metadata": {},
   "source": [
    "## Часть \n",
    "\n",
    "### Задача \n",
    "* Примените фреймворк ICE для приоритизации гипотез. Отсортируйте их по убыванию приоритета.\n",
    "\n",
    "* Примените фреймворк RICE для приоритизации гипотез. Отсортируйте их по убыванию приоритета.\n",
    "\n",
    "* Укажите, как изменилась приоритизация гипотез при применении RICE вместо ICE. Объясните, почему так произошло."
   ]
  },
  {
   "cell_type": "markdown",
   "metadata": {},
   "source": [
    "<a id='2'></a>\n",
    "### Загрузка датафрейма и его анализ, проверим их на наличие пропусков и соответствие типам данных, а также правильность выгрузки\n",
    "[*Назад к оглавлению*](#Оглавление)"
   ]
  },
  {
   "cell_type": "code",
   "execution_count": 2,
   "metadata": {},
   "outputs": [],
   "source": [
    "hypothesis = pd.read_csv('/datasets/hypothesis.csv')"
   ]
  },
  {
   "cell_type": "code",
   "execution_count": 3,
   "metadata": {},
   "outputs": [
    {
     "name": "stdout",
     "output_type": "stream",
     "text": [
      "<class 'pandas.core.frame.DataFrame'>\n",
      "RangeIndex: 9 entries, 0 to 8\n",
      "Data columns (total 5 columns):\n",
      " #   Column      Non-Null Count  Dtype \n",
      "---  ------      --------------  ----- \n",
      " 0   Hypothesis  9 non-null      object\n",
      " 1   Reach       9 non-null      int64 \n",
      " 2   Impact      9 non-null      int64 \n",
      " 3   Confidence  9 non-null      int64 \n",
      " 4   Efforts     9 non-null      int64 \n",
      "dtypes: int64(4), object(1)\n",
      "memory usage: 488.0+ bytes\n"
     ]
    }
   ],
   "source": [
    "hypothesis.info()"
   ]
  },
  {
   "cell_type": "code",
   "execution_count": 4,
   "metadata": {},
   "outputs": [
    {
     "data": {
      "text/html": [
       "<div>\n",
       "<style scoped>\n",
       "    .dataframe tbody tr th:only-of-type {\n",
       "        vertical-align: middle;\n",
       "    }\n",
       "\n",
       "    .dataframe tbody tr th {\n",
       "        vertical-align: top;\n",
       "    }\n",
       "\n",
       "    .dataframe thead th {\n",
       "        text-align: right;\n",
       "    }\n",
       "</style>\n",
       "<table border=\"1\" class=\"dataframe\">\n",
       "  <thead>\n",
       "    <tr style=\"text-align: right;\">\n",
       "      <th></th>\n",
       "      <th>count</th>\n",
       "      <th>mean</th>\n",
       "      <th>std</th>\n",
       "      <th>min</th>\n",
       "      <th>25%</th>\n",
       "      <th>50%</th>\n",
       "      <th>75%</th>\n",
       "      <th>max</th>\n",
       "    </tr>\n",
       "  </thead>\n",
       "  <tbody>\n",
       "    <tr>\n",
       "      <th>Reach</th>\n",
       "      <td>9.0</td>\n",
       "      <td>4.777778</td>\n",
       "      <td>3.153481</td>\n",
       "      <td>1.0</td>\n",
       "      <td>3.0</td>\n",
       "      <td>3.0</td>\n",
       "      <td>8.0</td>\n",
       "      <td>10.0</td>\n",
       "    </tr>\n",
       "    <tr>\n",
       "      <th>Impact</th>\n",
       "      <td>9.0</td>\n",
       "      <td>4.777778</td>\n",
       "      <td>3.192874</td>\n",
       "      <td>1.0</td>\n",
       "      <td>3.0</td>\n",
       "      <td>3.0</td>\n",
       "      <td>7.0</td>\n",
       "      <td>10.0</td>\n",
       "    </tr>\n",
       "    <tr>\n",
       "      <th>Confidence</th>\n",
       "      <td>9.0</td>\n",
       "      <td>5.555556</td>\n",
       "      <td>3.045944</td>\n",
       "      <td>1.0</td>\n",
       "      <td>3.0</td>\n",
       "      <td>7.0</td>\n",
       "      <td>8.0</td>\n",
       "      <td>9.0</td>\n",
       "    </tr>\n",
       "    <tr>\n",
       "      <th>Efforts</th>\n",
       "      <td>9.0</td>\n",
       "      <td>4.888889</td>\n",
       "      <td>2.803767</td>\n",
       "      <td>1.0</td>\n",
       "      <td>3.0</td>\n",
       "      <td>5.0</td>\n",
       "      <td>6.0</td>\n",
       "      <td>10.0</td>\n",
       "    </tr>\n",
       "  </tbody>\n",
       "</table>\n",
       "</div>"
      ],
      "text/plain": [
       "            count      mean       std  min  25%  50%  75%   max\n",
       "Reach         9.0  4.777778  3.153481  1.0  3.0  3.0  8.0  10.0\n",
       "Impact        9.0  4.777778  3.192874  1.0  3.0  3.0  7.0  10.0\n",
       "Confidence    9.0  5.555556  3.045944  1.0  3.0  7.0  8.0   9.0\n",
       "Efforts       9.0  4.888889  2.803767  1.0  3.0  5.0  6.0  10.0"
      ]
     },
     "execution_count": 4,
     "metadata": {},
     "output_type": "execute_result"
    }
   ],
   "source": [
    "hypothesis.describe().T "
   ]
  },
  {
   "cell_type": "code",
   "execution_count": 5,
   "metadata": {},
   "outputs": [],
   "source": [
    "hypothesis.columns = ['hypothesis', 'reach', 'impact', 'confidence', 'efforts']"
   ]
  },
  {
   "cell_type": "code",
   "execution_count": 6,
   "metadata": {
    "scrolled": false
   },
   "outputs": [
    {
     "name": "stdout",
     "output_type": "stream",
     "text": [
      "                                                                                            hypothesis  \\\n",
      "0   Добавить два новых канала привлечения трафика, что позволит привлекать на 30% больше пользователей   \n",
      "1                            Запустить собственную службу доставки, что сократит срок доставки заказов   \n",
      "2  Добавить блоки рекомендаций товаров на сайт интернет магазина, чтобы повысить конверсию и средни...   \n",
      "3  Изменить структура категорий, что увеличит конверсию, т.к. пользователи быстрее найдут нужный товар   \n",
      "4                     Изменить цвет фона главной страницы, чтобы увеличить вовлеченность пользователей   \n",
      "5             Добавить страницу отзывов клиентов о магазине, что позволит увеличить количество заказов   \n",
      "6  Показать на главной странице баннеры с актуальными акциями и распродажами, чтобы увеличить конве...   \n",
      "7     Добавить форму подписки на все основные страницы, чтобы собрать базу клиентов для email-рассылок   \n",
      "8                                              Запустить акцию, дающую скидку на товар в день рождения   \n",
      "\n",
      "   reach  impact  confidence  efforts  \n",
      "0      3      10           8        6  \n",
      "1      2       5           4       10  \n",
      "2      8       3           7        3  \n",
      "3      8       3           3        8  \n",
      "4      3       1           1        1  \n",
      "5      3       2           2        3  \n",
      "6      5       3           8        3  \n",
      "7     10       7           8        5  \n",
      "8      1       9           9        5  \n"
     ]
    }
   ],
   "source": [
    "pd.options.display.max_colwidth = 100\n",
    "print(hypothesis)"
   ]
  },
  {
   "cell_type": "markdown",
   "metadata": {},
   "source": [
    "#### Вывод:  \n",
    "В данных нет пропусков и аномалий. Датафрейм готов к работе\n",
    "\n",
    "# Приоритезация гипотез\n",
    "<a id='3'></a>\n",
    "### Приоритезация гипотез методом ICE \n",
    "[*Назад к оглавлению*](#Оглавление)"
   ]
  },
  {
   "cell_type": "code",
   "execution_count": 7,
   "metadata": {},
   "outputs": [],
   "source": [
    "hypothesis['ICE'] = hypothesis['impact'] * hypothesis['confidence'] / hypothesis['efforts']"
   ]
  },
  {
   "cell_type": "code",
   "execution_count": 8,
   "metadata": {},
   "outputs": [],
   "source": [
    "hypothesis_ICE = hypothesis[['hypothesis', 'ICE']].sort_values(by='ICE', ascending=False).round(2)"
   ]
  },
  {
   "cell_type": "code",
   "execution_count": 9,
   "metadata": {},
   "outputs": [
    {
     "data": {
      "text/html": [
       "<div>\n",
       "<style scoped>\n",
       "    .dataframe tbody tr th:only-of-type {\n",
       "        vertical-align: middle;\n",
       "    }\n",
       "\n",
       "    .dataframe tbody tr th {\n",
       "        vertical-align: top;\n",
       "    }\n",
       "\n",
       "    .dataframe thead th {\n",
       "        text-align: right;\n",
       "    }\n",
       "</style>\n",
       "<table border=\"1\" class=\"dataframe\">\n",
       "  <thead>\n",
       "    <tr style=\"text-align: right;\">\n",
       "      <th></th>\n",
       "      <th>hypothesis</th>\n",
       "      <th>ICE</th>\n",
       "    </tr>\n",
       "  </thead>\n",
       "  <tbody>\n",
       "    <tr>\n",
       "      <th>8</th>\n",
       "      <td>Запустить акцию, дающую скидку на товар в день рождения</td>\n",
       "      <td>16.20</td>\n",
       "    </tr>\n",
       "    <tr>\n",
       "      <th>0</th>\n",
       "      <td>Добавить два новых канала привлечения трафика, что позволит привлекать на 30% больше пользователей</td>\n",
       "      <td>13.33</td>\n",
       "    </tr>\n",
       "    <tr>\n",
       "      <th>7</th>\n",
       "      <td>Добавить форму подписки на все основные страницы, чтобы собрать базу клиентов для email-рассылок</td>\n",
       "      <td>11.20</td>\n",
       "    </tr>\n",
       "    <tr>\n",
       "      <th>6</th>\n",
       "      <td>Показать на главной странице баннеры с актуальными акциями и распродажами, чтобы увеличить конве...</td>\n",
       "      <td>8.00</td>\n",
       "    </tr>\n",
       "    <tr>\n",
       "      <th>2</th>\n",
       "      <td>Добавить блоки рекомендаций товаров на сайт интернет магазина, чтобы повысить конверсию и средни...</td>\n",
       "      <td>7.00</td>\n",
       "    </tr>\n",
       "    <tr>\n",
       "      <th>1</th>\n",
       "      <td>Запустить собственную службу доставки, что сократит срок доставки заказов</td>\n",
       "      <td>2.00</td>\n",
       "    </tr>\n",
       "    <tr>\n",
       "      <th>5</th>\n",
       "      <td>Добавить страницу отзывов клиентов о магазине, что позволит увеличить количество заказов</td>\n",
       "      <td>1.33</td>\n",
       "    </tr>\n",
       "    <tr>\n",
       "      <th>3</th>\n",
       "      <td>Изменить структура категорий, что увеличит конверсию, т.к. пользователи быстрее найдут нужный товар</td>\n",
       "      <td>1.12</td>\n",
       "    </tr>\n",
       "    <tr>\n",
       "      <th>4</th>\n",
       "      <td>Изменить цвет фона главной страницы, чтобы увеличить вовлеченность пользователей</td>\n",
       "      <td>1.00</td>\n",
       "    </tr>\n",
       "  </tbody>\n",
       "</table>\n",
       "</div>"
      ],
      "text/plain": [
       "                                                                                            hypothesis  \\\n",
       "8                                              Запустить акцию, дающую скидку на товар в день рождения   \n",
       "0   Добавить два новых канала привлечения трафика, что позволит привлекать на 30% больше пользователей   \n",
       "7     Добавить форму подписки на все основные страницы, чтобы собрать базу клиентов для email-рассылок   \n",
       "6  Показать на главной странице баннеры с актуальными акциями и распродажами, чтобы увеличить конве...   \n",
       "2  Добавить блоки рекомендаций товаров на сайт интернет магазина, чтобы повысить конверсию и средни...   \n",
       "1                            Запустить собственную службу доставки, что сократит срок доставки заказов   \n",
       "5             Добавить страницу отзывов клиентов о магазине, что позволит увеличить количество заказов   \n",
       "3  Изменить структура категорий, что увеличит конверсию, т.к. пользователи быстрее найдут нужный товар   \n",
       "4                     Изменить цвет фона главной страницы, чтобы увеличить вовлеченность пользователей   \n",
       "\n",
       "     ICE  \n",
       "8  16.20  \n",
       "0  13.33  \n",
       "7  11.20  \n",
       "6   8.00  \n",
       "2   7.00  \n",
       "1   2.00  \n",
       "5   1.33  \n",
       "3   1.12  \n",
       "4   1.00  "
      ]
     },
     "execution_count": 9,
     "metadata": {},
     "output_type": "execute_result"
    }
   ],
   "source": [
    "hypothesis_ICE"
   ]
  },
  {
   "cell_type": "markdown",
   "metadata": {},
   "source": [
    "##### Вывод \n",
    "По фреймворку ICE наибольшую оценку имели гпиотезы 8,0 и 7."
   ]
  },
  {
   "cell_type": "markdown",
   "metadata": {},
   "source": [
    "<a id='4'></a>\n",
    "### Приоритезация гипотез методом RICE \n",
    "[*Назад к оглавлению*](#Оглавление)"
   ]
  },
  {
   "cell_type": "code",
   "execution_count": 10,
   "metadata": {},
   "outputs": [],
   "source": [
    "hypothesis['RICE'] = hypothesis['reach'] * hypothesis['impact'] * hypothesis['confidence'] / hypothesis['efforts']"
   ]
  },
  {
   "cell_type": "code",
   "execution_count": 11,
   "metadata": {},
   "outputs": [],
   "source": [
    "hypothesis_RICE = hypothesis[['hypothesis', 'RICE']].sort_values(by='RICE', ascending=False)"
   ]
  },
  {
   "cell_type": "code",
   "execution_count": 12,
   "metadata": {},
   "outputs": [
    {
     "data": {
      "text/html": [
       "<div>\n",
       "<style scoped>\n",
       "    .dataframe tbody tr th:only-of-type {\n",
       "        vertical-align: middle;\n",
       "    }\n",
       "\n",
       "    .dataframe tbody tr th {\n",
       "        vertical-align: top;\n",
       "    }\n",
       "\n",
       "    .dataframe thead th {\n",
       "        text-align: right;\n",
       "    }\n",
       "</style>\n",
       "<table border=\"1\" class=\"dataframe\">\n",
       "  <thead>\n",
       "    <tr style=\"text-align: right;\">\n",
       "      <th></th>\n",
       "      <th>hypothesis</th>\n",
       "      <th>RICE</th>\n",
       "    </tr>\n",
       "  </thead>\n",
       "  <tbody>\n",
       "    <tr>\n",
       "      <th>7</th>\n",
       "      <td>Добавить форму подписки на все основные страницы, чтобы собрать базу клиентов для email-рассылок</td>\n",
       "      <td>112.0</td>\n",
       "    </tr>\n",
       "    <tr>\n",
       "      <th>2</th>\n",
       "      <td>Добавить блоки рекомендаций товаров на сайт интернет магазина, чтобы повысить конверсию и средни...</td>\n",
       "      <td>56.0</td>\n",
       "    </tr>\n",
       "    <tr>\n",
       "      <th>0</th>\n",
       "      <td>Добавить два новых канала привлечения трафика, что позволит привлекать на 30% больше пользователей</td>\n",
       "      <td>40.0</td>\n",
       "    </tr>\n",
       "    <tr>\n",
       "      <th>6</th>\n",
       "      <td>Показать на главной странице баннеры с актуальными акциями и распродажами, чтобы увеличить конве...</td>\n",
       "      <td>40.0</td>\n",
       "    </tr>\n",
       "    <tr>\n",
       "      <th>8</th>\n",
       "      <td>Запустить акцию, дающую скидку на товар в день рождения</td>\n",
       "      <td>16.2</td>\n",
       "    </tr>\n",
       "    <tr>\n",
       "      <th>3</th>\n",
       "      <td>Изменить структура категорий, что увеличит конверсию, т.к. пользователи быстрее найдут нужный товар</td>\n",
       "      <td>9.0</td>\n",
       "    </tr>\n",
       "    <tr>\n",
       "      <th>1</th>\n",
       "      <td>Запустить собственную службу доставки, что сократит срок доставки заказов</td>\n",
       "      <td>4.0</td>\n",
       "    </tr>\n",
       "    <tr>\n",
       "      <th>5</th>\n",
       "      <td>Добавить страницу отзывов клиентов о магазине, что позволит увеличить количество заказов</td>\n",
       "      <td>4.0</td>\n",
       "    </tr>\n",
       "    <tr>\n",
       "      <th>4</th>\n",
       "      <td>Изменить цвет фона главной страницы, чтобы увеличить вовлеченность пользователей</td>\n",
       "      <td>3.0</td>\n",
       "    </tr>\n",
       "  </tbody>\n",
       "</table>\n",
       "</div>"
      ],
      "text/plain": [
       "                                                                                            hypothesis  \\\n",
       "7     Добавить форму подписки на все основные страницы, чтобы собрать базу клиентов для email-рассылок   \n",
       "2  Добавить блоки рекомендаций товаров на сайт интернет магазина, чтобы повысить конверсию и средни...   \n",
       "0   Добавить два новых канала привлечения трафика, что позволит привлекать на 30% больше пользователей   \n",
       "6  Показать на главной странице баннеры с актуальными акциями и распродажами, чтобы увеличить конве...   \n",
       "8                                              Запустить акцию, дающую скидку на товар в день рождения   \n",
       "3  Изменить структура категорий, что увеличит конверсию, т.к. пользователи быстрее найдут нужный товар   \n",
       "1                            Запустить собственную службу доставки, что сократит срок доставки заказов   \n",
       "5             Добавить страницу отзывов клиентов о магазине, что позволит увеличить количество заказов   \n",
       "4                     Изменить цвет фона главной страницы, чтобы увеличить вовлеченность пользователей   \n",
       "\n",
       "    RICE  \n",
       "7  112.0  \n",
       "2   56.0  \n",
       "0   40.0  \n",
       "6   40.0  \n",
       "8   16.2  \n",
       "3    9.0  \n",
       "1    4.0  \n",
       "5    4.0  \n",
       "4    3.0  "
      ]
     },
     "execution_count": 12,
     "metadata": {},
     "output_type": "execute_result"
    }
   ],
   "source": [
    "hypothesis_RICE"
   ]
  },
  {
   "cell_type": "markdown",
   "metadata": {},
   "source": [
    "#### Вывод \n",
    "После применения фреймворка RICE приоритеты изменились на гпиотезы 7,2 и 0. "
   ]
  },
  {
   "cell_type": "markdown",
   "metadata": {},
   "source": [
    "### Посмотрим, как изменилась приоритизация гипотез при применении RICE вместо ICE."
   ]
  },
  {
   "cell_type": "code",
   "execution_count": 13,
   "metadata": {},
   "outputs": [
    {
     "data": {
      "text/html": [
       "<div>\n",
       "<style scoped>\n",
       "    .dataframe tbody tr th:only-of-type {\n",
       "        vertical-align: middle;\n",
       "    }\n",
       "\n",
       "    .dataframe tbody tr th {\n",
       "        vertical-align: top;\n",
       "    }\n",
       "\n",
       "    .dataframe thead th {\n",
       "        text-align: right;\n",
       "    }\n",
       "</style>\n",
       "<table border=\"1\" class=\"dataframe\">\n",
       "  <thead>\n",
       "    <tr style=\"text-align: right;\">\n",
       "      <th></th>\n",
       "      <th>hypothesis</th>\n",
       "      <th>RICE</th>\n",
       "    </tr>\n",
       "  </thead>\n",
       "  <tbody>\n",
       "    <tr>\n",
       "      <th>7</th>\n",
       "      <td>Добавить форму подписки на все основные страницы, чтобы собрать базу клиентов для email-рассылок</td>\n",
       "      <td>112.0</td>\n",
       "    </tr>\n",
       "    <tr>\n",
       "      <th>2</th>\n",
       "      <td>Добавить блоки рекомендаций товаров на сайт интернет магазина, чтобы повысить конверсию и средни...</td>\n",
       "      <td>56.0</td>\n",
       "    </tr>\n",
       "    <tr>\n",
       "      <th>0</th>\n",
       "      <td>Добавить два новых канала привлечения трафика, что позволит привлекать на 30% больше пользователей</td>\n",
       "      <td>40.0</td>\n",
       "    </tr>\n",
       "    <tr>\n",
       "      <th>6</th>\n",
       "      <td>Показать на главной странице баннеры с актуальными акциями и распродажами, чтобы увеличить конве...</td>\n",
       "      <td>40.0</td>\n",
       "    </tr>\n",
       "    <tr>\n",
       "      <th>8</th>\n",
       "      <td>Запустить акцию, дающую скидку на товар в день рождения</td>\n",
       "      <td>16.2</td>\n",
       "    </tr>\n",
       "    <tr>\n",
       "      <th>3</th>\n",
       "      <td>Изменить структура категорий, что увеличит конверсию, т.к. пользователи быстрее найдут нужный товар</td>\n",
       "      <td>9.0</td>\n",
       "    </tr>\n",
       "    <tr>\n",
       "      <th>1</th>\n",
       "      <td>Запустить собственную службу доставки, что сократит срок доставки заказов</td>\n",
       "      <td>4.0</td>\n",
       "    </tr>\n",
       "    <tr>\n",
       "      <th>5</th>\n",
       "      <td>Добавить страницу отзывов клиентов о магазине, что позволит увеличить количество заказов</td>\n",
       "      <td>4.0</td>\n",
       "    </tr>\n",
       "    <tr>\n",
       "      <th>4</th>\n",
       "      <td>Изменить цвет фона главной страницы, чтобы увеличить вовлеченность пользователей</td>\n",
       "      <td>3.0</td>\n",
       "    </tr>\n",
       "  </tbody>\n",
       "</table>\n",
       "</div>"
      ],
      "text/plain": [
       "                                                                                            hypothesis  \\\n",
       "7     Добавить форму подписки на все основные страницы, чтобы собрать базу клиентов для email-рассылок   \n",
       "2  Добавить блоки рекомендаций товаров на сайт интернет магазина, чтобы повысить конверсию и средни...   \n",
       "0   Добавить два новых канала привлечения трафика, что позволит привлекать на 30% больше пользователей   \n",
       "6  Показать на главной странице баннеры с актуальными акциями и распродажами, чтобы увеличить конве...   \n",
       "8                                              Запустить акцию, дающую скидку на товар в день рождения   \n",
       "3  Изменить структура категорий, что увеличит конверсию, т.к. пользователи быстрее найдут нужный товар   \n",
       "1                            Запустить собственную службу доставки, что сократит срок доставки заказов   \n",
       "5             Добавить страницу отзывов клиентов о магазине, что позволит увеличить количество заказов   \n",
       "4                     Изменить цвет фона главной страницы, чтобы увеличить вовлеченность пользователей   \n",
       "\n",
       "    RICE  \n",
       "7  112.0  \n",
       "2   56.0  \n",
       "0   40.0  \n",
       "6   40.0  \n",
       "8   16.2  \n",
       "3    9.0  \n",
       "1    4.0  \n",
       "5    4.0  \n",
       "4    3.0  "
      ]
     },
     "execution_count": 13,
     "metadata": {},
     "output_type": "execute_result"
    }
   ],
   "source": [
    "hypothesis_RICE"
   ]
  },
  {
   "cell_type": "markdown",
   "metadata": {},
   "source": [
    "**Вывод:**\n",
    "Заметим, что без изменений остались только 4 гипотеза: **Добавить блоки рекомендаций товаров на сайт интернет магазина, чтобы повысить конверсию и средний чек заказа** и 6 гипотеза: **Добавить страницу отзывов клиентов о магазине, что позволит увеличить количество заказов**. \n",
    "\n",
    "Это можно объяснить тем, что Параметр охвата (Reach), использующийся в методе RICE изменил всю приоритетность и в случае фреймворка ICE в отличие от RICE мы не учитывали охват изменений, тогда как это важная составляющая оценки гипотез.\n",
    "\n",
    "В нашем случае наиболее приоритетными гипотезами будут 7, 2, 0."
   ]
  },
  {
   "cell_type": "markdown",
   "metadata": {},
   "source": [
    "# Анализ A/B-теста\n",
    "[*Назад к оглавлению*](#Оглавление)"
   ]
  },
  {
   "cell_type": "markdown",
   "metadata": {},
   "source": [
    "### Загрузка датафрейма и его анализ.\n",
    "#### Загрузка датафрейма ORDERS"
   ]
  },
  {
   "cell_type": "code",
   "execution_count": 14,
   "metadata": {},
   "outputs": [],
   "source": [
    "orders = pd.read_csv('/datasets/orders.csv')"
   ]
  },
  {
   "cell_type": "code",
   "execution_count": 15,
   "metadata": {},
   "outputs": [
    {
     "name": "stdout",
     "output_type": "stream",
     "text": [
      "\n",
      "Начальная дата 2019-08-01, конечная дата 2019-08-31\n",
      "\n"
     ]
    }
   ],
   "source": [
    "orders['date'] = orders['date'].astype('datetime64[D]')\n",
    "orders['date'] = orders['date'].map(lambda x: dt.datetime.strftime(x, '%Y-%m-%d'))\n",
    "print('\\nНачальная дата {}, конечная дата {}\\n'.format(orders['date'].min(), orders['date'].max()))\n",
    "orders['date'] = orders['date'].map(lambda x: dt.datetime.strptime(x, '%Y-%m-%d'))\n"
   ]
  },
  {
   "cell_type": "code",
   "execution_count": 16,
   "metadata": {},
   "outputs": [
    {
     "name": "stdout",
     "output_type": "stream",
     "text": [
      "<class 'pandas.core.frame.DataFrame'>\n",
      "RangeIndex: 1197 entries, 0 to 1196\n",
      "Data columns (total 5 columns):\n",
      " #   Column         Non-Null Count  Dtype         \n",
      "---  ------         --------------  -----         \n",
      " 0   transactionId  1197 non-null   int64         \n",
      " 1   visitorId      1197 non-null   int64         \n",
      " 2   date           1197 non-null   datetime64[ns]\n",
      " 3   revenue        1197 non-null   int64         \n",
      " 4   group          1197 non-null   object        \n",
      "dtypes: datetime64[ns](1), int64(3), object(1)\n",
      "memory usage: 46.9+ KB\n"
     ]
    }
   ],
   "source": [
    "orders.info()"
   ]
  },
  {
   "cell_type": "code",
   "execution_count": 17,
   "metadata": {},
   "outputs": [
    {
     "data": {
      "text/html": [
       "<div>\n",
       "<style scoped>\n",
       "    .dataframe tbody tr th:only-of-type {\n",
       "        vertical-align: middle;\n",
       "    }\n",
       "\n",
       "    .dataframe tbody tr th {\n",
       "        vertical-align: top;\n",
       "    }\n",
       "\n",
       "    .dataframe thead th {\n",
       "        text-align: right;\n",
       "    }\n",
       "</style>\n",
       "<table border=\"1\" class=\"dataframe\">\n",
       "  <thead>\n",
       "    <tr style=\"text-align: right;\">\n",
       "      <th></th>\n",
       "      <th>transactionId</th>\n",
       "      <th>visitorId</th>\n",
       "      <th>date</th>\n",
       "      <th>revenue</th>\n",
       "      <th>group</th>\n",
       "    </tr>\n",
       "  </thead>\n",
       "  <tbody>\n",
       "    <tr>\n",
       "      <th>0</th>\n",
       "      <td>3667963787</td>\n",
       "      <td>3312258926</td>\n",
       "      <td>2019-08-15</td>\n",
       "      <td>1650</td>\n",
       "      <td>B</td>\n",
       "    </tr>\n",
       "    <tr>\n",
       "      <th>1</th>\n",
       "      <td>2804400009</td>\n",
       "      <td>3642806036</td>\n",
       "      <td>2019-08-15</td>\n",
       "      <td>730</td>\n",
       "      <td>B</td>\n",
       "    </tr>\n",
       "    <tr>\n",
       "      <th>2</th>\n",
       "      <td>2961555356</td>\n",
       "      <td>4069496402</td>\n",
       "      <td>2019-08-15</td>\n",
       "      <td>400</td>\n",
       "      <td>A</td>\n",
       "    </tr>\n",
       "    <tr>\n",
       "      <th>3</th>\n",
       "      <td>3797467345</td>\n",
       "      <td>1196621759</td>\n",
       "      <td>2019-08-15</td>\n",
       "      <td>9759</td>\n",
       "      <td>B</td>\n",
       "    </tr>\n",
       "    <tr>\n",
       "      <th>4</th>\n",
       "      <td>2282983706</td>\n",
       "      <td>2322279887</td>\n",
       "      <td>2019-08-15</td>\n",
       "      <td>2308</td>\n",
       "      <td>B</td>\n",
       "    </tr>\n",
       "  </tbody>\n",
       "</table>\n",
       "</div>"
      ],
      "text/plain": [
       "   transactionId   visitorId       date  revenue group\n",
       "0     3667963787  3312258926 2019-08-15     1650     B\n",
       "1     2804400009  3642806036 2019-08-15      730     B\n",
       "2     2961555356  4069496402 2019-08-15      400     A\n",
       "3     3797467345  1196621759 2019-08-15     9759     B\n",
       "4     2282983706  2322279887 2019-08-15     2308     B"
      ]
     },
     "execution_count": 17,
     "metadata": {},
     "output_type": "execute_result"
    }
   ],
   "source": [
    "orders.head(5)"
   ]
  },
  {
   "cell_type": "markdown",
   "metadata": {},
   "source": [
    "#### Загрузка датафрейма VISITORS"
   ]
  },
  {
   "cell_type": "code",
   "execution_count": 18,
   "metadata": {},
   "outputs": [],
   "source": [
    "visitors = pd.read_csv('/datasets/visitors.csv')"
   ]
  },
  {
   "cell_type": "code",
   "execution_count": 19,
   "metadata": {},
   "outputs": [
    {
     "name": "stdout",
     "output_type": "stream",
     "text": [
      "\n",
      "Начальная дата 2019-08-01, конечная дата 2019-08-31\n",
      "\n"
     ]
    }
   ],
   "source": [
    "visitors['date'] = visitors['date'].astype('datetime64[D]')\n",
    "visitors['date'] = visitors['date'].map(lambda x: dt.datetime.strftime(x, '%Y-%m-%d'))\n",
    "print('\\nНачальная дата {}, конечная дата {}\\n'.format(visitors['date'].min(), visitors['date'].max()))\n",
    "visitors['date'] = visitors['date'].map(lambda x: dt.datetime.strptime(x, '%Y-%m-%d'))"
   ]
  },
  {
   "cell_type": "code",
   "execution_count": 20,
   "metadata": {},
   "outputs": [
    {
     "name": "stdout",
     "output_type": "stream",
     "text": [
      "<class 'pandas.core.frame.DataFrame'>\n",
      "RangeIndex: 62 entries, 0 to 61\n",
      "Data columns (total 3 columns):\n",
      " #   Column    Non-Null Count  Dtype         \n",
      "---  ------    --------------  -----         \n",
      " 0   date      62 non-null     datetime64[ns]\n",
      " 1   group     62 non-null     object        \n",
      " 2   visitors  62 non-null     int64         \n",
      "dtypes: datetime64[ns](1), int64(1), object(1)\n",
      "memory usage: 1.6+ KB\n"
     ]
    }
   ],
   "source": [
    "visitors.info()"
   ]
  },
  {
   "cell_type": "code",
   "execution_count": 21,
   "metadata": {},
   "outputs": [
    {
     "data": {
      "text/html": [
       "<div>\n",
       "<style scoped>\n",
       "    .dataframe tbody tr th:only-of-type {\n",
       "        vertical-align: middle;\n",
       "    }\n",
       "\n",
       "    .dataframe tbody tr th {\n",
       "        vertical-align: top;\n",
       "    }\n",
       "\n",
       "    .dataframe thead th {\n",
       "        text-align: right;\n",
       "    }\n",
       "</style>\n",
       "<table border=\"1\" class=\"dataframe\">\n",
       "  <thead>\n",
       "    <tr style=\"text-align: right;\">\n",
       "      <th></th>\n",
       "      <th>date</th>\n",
       "      <th>group</th>\n",
       "      <th>visitors</th>\n",
       "    </tr>\n",
       "  </thead>\n",
       "  <tbody>\n",
       "    <tr>\n",
       "      <th>0</th>\n",
       "      <td>2019-08-01</td>\n",
       "      <td>A</td>\n",
       "      <td>719</td>\n",
       "    </tr>\n",
       "    <tr>\n",
       "      <th>1</th>\n",
       "      <td>2019-08-02</td>\n",
       "      <td>A</td>\n",
       "      <td>619</td>\n",
       "    </tr>\n",
       "    <tr>\n",
       "      <th>2</th>\n",
       "      <td>2019-08-03</td>\n",
       "      <td>A</td>\n",
       "      <td>507</td>\n",
       "    </tr>\n",
       "    <tr>\n",
       "      <th>3</th>\n",
       "      <td>2019-08-04</td>\n",
       "      <td>A</td>\n",
       "      <td>717</td>\n",
       "    </tr>\n",
       "    <tr>\n",
       "      <th>4</th>\n",
       "      <td>2019-08-05</td>\n",
       "      <td>A</td>\n",
       "      <td>756</td>\n",
       "    </tr>\n",
       "  </tbody>\n",
       "</table>\n",
       "</div>"
      ],
      "text/plain": [
       "        date group  visitors\n",
       "0 2019-08-01     A       719\n",
       "1 2019-08-02     A       619\n",
       "2 2019-08-03     A       507\n",
       "3 2019-08-04     A       717\n",
       "4 2019-08-05     A       756"
      ]
     },
     "execution_count": 21,
     "metadata": {},
     "output_type": "execute_result"
    }
   ],
   "source": [
    "visitors.head(5)"
   ]
  },
  {
   "cell_type": "markdown",
   "metadata": {},
   "source": [
    "#### Вывод \n",
    "Данные прочитали, изменили тип данных у столбцов с датами, выгрузка совершена корректно, даты совпадают."
   ]
  },
  {
   "cell_type": "markdown",
   "metadata": {},
   "source": [
    "<a id='6'></a>\n",
    "### Проверим корректность распределения на группы A/B"
   ]
  },
  {
   "cell_type": "code",
   "execution_count": 22,
   "metadata": {},
   "outputs": [
    {
     "data": {
      "text/html": [
       "<div>\n",
       "<style scoped>\n",
       "    .dataframe tbody tr th:only-of-type {\n",
       "        vertical-align: middle;\n",
       "    }\n",
       "\n",
       "    .dataframe tbody tr th {\n",
       "        vertical-align: top;\n",
       "    }\n",
       "\n",
       "    .dataframe thead th {\n",
       "        text-align: right;\n",
       "    }\n",
       "</style>\n",
       "<table border=\"1\" class=\"dataframe\">\n",
       "  <thead>\n",
       "    <tr style=\"text-align: right;\">\n",
       "      <th></th>\n",
       "      <th>visitorId</th>\n",
       "      <th>group</th>\n",
       "      <th>count</th>\n",
       "    </tr>\n",
       "  </thead>\n",
       "  <tbody>\n",
       "    <tr>\n",
       "      <th>45</th>\n",
       "      <td>199603092</td>\n",
       "      <td>A</td>\n",
       "      <td>4</td>\n",
       "    </tr>\n",
       "    <tr>\n",
       "      <th>58</th>\n",
       "      <td>237748145</td>\n",
       "      <td>A</td>\n",
       "      <td>4</td>\n",
       "    </tr>\n",
       "    <tr>\n",
       "      <th>63</th>\n",
       "      <td>249864742</td>\n",
       "      <td>B</td>\n",
       "      <td>3</td>\n",
       "    </tr>\n",
       "    <tr>\n",
       "      <th>94</th>\n",
       "      <td>366673373</td>\n",
       "      <td>A</td>\n",
       "      <td>2</td>\n",
       "    </tr>\n",
       "    <tr>\n",
       "      <th>104</th>\n",
       "      <td>393266494</td>\n",
       "      <td>B</td>\n",
       "      <td>2</td>\n",
       "    </tr>\n",
       "    <tr>\n",
       "      <th>...</th>\n",
       "      <td>...</td>\n",
       "      <td>...</td>\n",
       "      <td>...</td>\n",
       "    </tr>\n",
       "    <tr>\n",
       "      <th>1045</th>\n",
       "      <td>4109358064</td>\n",
       "      <td>A</td>\n",
       "      <td>2</td>\n",
       "    </tr>\n",
       "    <tr>\n",
       "      <th>1050</th>\n",
       "      <td>4134830387</td>\n",
       "      <td>B</td>\n",
       "      <td>2</td>\n",
       "    </tr>\n",
       "    <tr>\n",
       "      <th>1065</th>\n",
       "      <td>4186807279</td>\n",
       "      <td>B</td>\n",
       "      <td>2</td>\n",
       "    </tr>\n",
       "    <tr>\n",
       "      <th>1079</th>\n",
       "      <td>4256040402</td>\n",
       "      <td>A</td>\n",
       "      <td>7</td>\n",
       "    </tr>\n",
       "    <tr>\n",
       "      <th>1080</th>\n",
       "      <td>4256040402</td>\n",
       "      <td>B</td>\n",
       "      <td>4</td>\n",
       "    </tr>\n",
       "  </tbody>\n",
       "</table>\n",
       "<p>64 rows × 3 columns</p>\n",
       "</div>"
      ],
      "text/plain": [
       "       visitorId group  count\n",
       "45     199603092     A      4\n",
       "58     237748145     A      4\n",
       "63     249864742     B      3\n",
       "94     366673373     A      2\n",
       "104    393266494     B      2\n",
       "...          ...   ...    ...\n",
       "1045  4109358064     A      2\n",
       "1050  4134830387     B      2\n",
       "1065  4186807279     B      2\n",
       "1079  4256040402     A      7\n",
       "1080  4256040402     B      4\n",
       "\n",
       "[64 rows x 3 columns]"
      ]
     },
     "execution_count": 22,
     "metadata": {},
     "output_type": "execute_result"
    }
   ],
   "source": [
    "group_sizes = orders.groupby(['visitorId', 'group']).size().reset_index()\n",
    "group_sizes.columns = ['visitorId', 'group', 'count']\n",
    "group_sizes = group_sizes.query('count > 1').sort_values(by='visitorId')\n",
    "group_sizes"
   ]
  },
  {
   "cell_type": "code",
   "execution_count": 23,
   "metadata": {},
   "outputs": [
    {
     "data": {
      "text/html": [
       "<div>\n",
       "<style scoped>\n",
       "    .dataframe tbody tr th:only-of-type {\n",
       "        vertical-align: middle;\n",
       "    }\n",
       "\n",
       "    .dataframe tbody tr th {\n",
       "        vertical-align: top;\n",
       "    }\n",
       "\n",
       "    .dataframe thead th {\n",
       "        text-align: right;\n",
       "    }\n",
       "</style>\n",
       "<table border=\"1\" class=\"dataframe\">\n",
       "  <thead>\n",
       "    <tr style=\"text-align: right;\">\n",
       "      <th></th>\n",
       "      <th></th>\n",
       "      <th></th>\n",
       "      <th>transactionId</th>\n",
       "      <th>revenue</th>\n",
       "    </tr>\n",
       "    <tr>\n",
       "      <th>visitorId</th>\n",
       "      <th>group</th>\n",
       "      <th>date</th>\n",
       "      <th></th>\n",
       "      <th></th>\n",
       "    </tr>\n",
       "  </thead>\n",
       "  <tbody>\n",
       "    <tr>\n",
       "      <th rowspan=\"2\" valign=\"top\">1230306981</th>\n",
       "      <th>A</th>\n",
       "      <th>2019-08-09</th>\n",
       "      <td>3</td>\n",
       "      <td>18440</td>\n",
       "    </tr>\n",
       "    <tr>\n",
       "      <th>B</th>\n",
       "      <th>2019-08-09</th>\n",
       "      <td>2</td>\n",
       "      <td>12840</td>\n",
       "    </tr>\n",
       "    <tr>\n",
       "      <th rowspan=\"7\" valign=\"top\">2038680547</th>\n",
       "      <th rowspan=\"4\" valign=\"top\">A</th>\n",
       "      <th>2019-08-04</th>\n",
       "      <td>2</td>\n",
       "      <td>4070</td>\n",
       "    </tr>\n",
       "    <tr>\n",
       "      <th>2019-08-17</th>\n",
       "      <td>1</td>\n",
       "      <td>3470</td>\n",
       "    </tr>\n",
       "    <tr>\n",
       "      <th>2019-08-22</th>\n",
       "      <td>1</td>\n",
       "      <td>760</td>\n",
       "    </tr>\n",
       "    <tr>\n",
       "      <th>2019-08-25</th>\n",
       "      <td>1</td>\n",
       "      <td>270</td>\n",
       "    </tr>\n",
       "    <tr>\n",
       "      <th rowspan=\"3\" valign=\"top\">B</th>\n",
       "      <th>2019-08-04</th>\n",
       "      <td>1</td>\n",
       "      <td>2800</td>\n",
       "    </tr>\n",
       "    <tr>\n",
       "      <th>2019-08-15</th>\n",
       "      <td>1</td>\n",
       "      <td>1680</td>\n",
       "    </tr>\n",
       "    <tr>\n",
       "      <th>2019-08-29</th>\n",
       "      <td>1</td>\n",
       "      <td>2420</td>\n",
       "    </tr>\n",
       "    <tr>\n",
       "      <th rowspan=\"8\" valign=\"top\">2378935119</th>\n",
       "      <th rowspan=\"4\" valign=\"top\">A</th>\n",
       "      <th>2019-08-10</th>\n",
       "      <td>1</td>\n",
       "      <td>58220</td>\n",
       "    </tr>\n",
       "    <tr>\n",
       "      <th>2019-08-15</th>\n",
       "      <td>1</td>\n",
       "      <td>1650</td>\n",
       "    </tr>\n",
       "    <tr>\n",
       "      <th>2019-08-17</th>\n",
       "      <td>1</td>\n",
       "      <td>310</td>\n",
       "    </tr>\n",
       "    <tr>\n",
       "      <th>2019-08-22</th>\n",
       "      <td>1</td>\n",
       "      <td>3390</td>\n",
       "    </tr>\n",
       "    <tr>\n",
       "      <th rowspan=\"4\" valign=\"top\">B</th>\n",
       "      <th>2019-08-09</th>\n",
       "      <td>1</td>\n",
       "      <td>30649</td>\n",
       "    </tr>\n",
       "    <tr>\n",
       "      <th>2019-08-10</th>\n",
       "      <td>1</td>\n",
       "      <td>2640</td>\n",
       "    </tr>\n",
       "    <tr>\n",
       "      <th>2019-08-25</th>\n",
       "      <td>1</td>\n",
       "      <td>21220</td>\n",
       "    </tr>\n",
       "    <tr>\n",
       "      <th>2019-08-28</th>\n",
       "      <td>2</td>\n",
       "      <td>24860</td>\n",
       "    </tr>\n",
       "    <tr>\n",
       "      <th rowspan=\"10\" valign=\"top\">2458001652</th>\n",
       "      <th rowspan=\"5\" valign=\"top\">A</th>\n",
       "      <th>2019-08-04</th>\n",
       "      <td>1</td>\n",
       "      <td>340</td>\n",
       "    </tr>\n",
       "    <tr>\n",
       "      <th>2019-08-06</th>\n",
       "      <td>1</td>\n",
       "      <td>1620</td>\n",
       "    </tr>\n",
       "    <tr>\n",
       "      <th>2019-08-07</th>\n",
       "      <td>1</td>\n",
       "      <td>17379</td>\n",
       "    </tr>\n",
       "    <tr>\n",
       "      <th>2019-08-11</th>\n",
       "      <td>1</td>\n",
       "      <td>8280</td>\n",
       "    </tr>\n",
       "    <tr>\n",
       "      <th>2019-08-22</th>\n",
       "      <td>1</td>\n",
       "      <td>5190</td>\n",
       "    </tr>\n",
       "    <tr>\n",
       "      <th rowspan=\"5\" valign=\"top\">B</th>\n",
       "      <th>2019-08-05</th>\n",
       "      <td>1</td>\n",
       "      <td>2420</td>\n",
       "    </tr>\n",
       "    <tr>\n",
       "      <th>2019-08-06</th>\n",
       "      <td>2</td>\n",
       "      <td>14030</td>\n",
       "    </tr>\n",
       "    <tr>\n",
       "      <th>2019-08-08</th>\n",
       "      <td>1</td>\n",
       "      <td>5227</td>\n",
       "    </tr>\n",
       "    <tr>\n",
       "      <th>2019-08-09</th>\n",
       "      <td>1</td>\n",
       "      <td>5227</td>\n",
       "    </tr>\n",
       "    <tr>\n",
       "      <th>2019-08-25</th>\n",
       "      <td>1</td>\n",
       "      <td>2385</td>\n",
       "    </tr>\n",
       "    <tr>\n",
       "      <th rowspan=\"11\" valign=\"top\">4256040402</th>\n",
       "      <th rowspan=\"7\" valign=\"top\">A</th>\n",
       "      <th>2019-08-01</th>\n",
       "      <td>1</td>\n",
       "      <td>5800</td>\n",
       "    </tr>\n",
       "    <tr>\n",
       "      <th>2019-08-12</th>\n",
       "      <td>1</td>\n",
       "      <td>50</td>\n",
       "    </tr>\n",
       "    <tr>\n",
       "      <th>2019-08-17</th>\n",
       "      <td>1</td>\n",
       "      <td>1550</td>\n",
       "    </tr>\n",
       "    <tr>\n",
       "      <th>2019-08-20</th>\n",
       "      <td>1</td>\n",
       "      <td>17650</td>\n",
       "    </tr>\n",
       "    <tr>\n",
       "      <th>2019-08-23</th>\n",
       "      <td>1</td>\n",
       "      <td>16950</td>\n",
       "    </tr>\n",
       "    <tr>\n",
       "      <th>2019-08-27</th>\n",
       "      <td>1</td>\n",
       "      <td>1630</td>\n",
       "    </tr>\n",
       "    <tr>\n",
       "      <th>2019-08-31</th>\n",
       "      <td>1</td>\n",
       "      <td>5170</td>\n",
       "    </tr>\n",
       "    <tr>\n",
       "      <th rowspan=\"4\" valign=\"top\">B</th>\n",
       "      <th>2019-08-08</th>\n",
       "      <td>1</td>\n",
       "      <td>58220</td>\n",
       "    </tr>\n",
       "    <tr>\n",
       "      <th>2019-08-16</th>\n",
       "      <td>1</td>\n",
       "      <td>56650</td>\n",
       "    </tr>\n",
       "    <tr>\n",
       "      <th>2019-08-18</th>\n",
       "      <td>1</td>\n",
       "      <td>10970</td>\n",
       "    </tr>\n",
       "    <tr>\n",
       "      <th>2019-08-31</th>\n",
       "      <td>1</td>\n",
       "      <td>1850</td>\n",
       "    </tr>\n",
       "  </tbody>\n",
       "</table>\n",
       "</div>"
      ],
      "text/plain": [
       "                             transactionId  revenue\n",
       "visitorId  group date                              \n",
       "1230306981 A     2019-08-09              3    18440\n",
       "           B     2019-08-09              2    12840\n",
       "2038680547 A     2019-08-04              2     4070\n",
       "                 2019-08-17              1     3470\n",
       "                 2019-08-22              1      760\n",
       "                 2019-08-25              1      270\n",
       "           B     2019-08-04              1     2800\n",
       "                 2019-08-15              1     1680\n",
       "                 2019-08-29              1     2420\n",
       "2378935119 A     2019-08-10              1    58220\n",
       "                 2019-08-15              1     1650\n",
       "                 2019-08-17              1      310\n",
       "                 2019-08-22              1     3390\n",
       "           B     2019-08-09              1    30649\n",
       "                 2019-08-10              1     2640\n",
       "                 2019-08-25              1    21220\n",
       "                 2019-08-28              2    24860\n",
       "2458001652 A     2019-08-04              1      340\n",
       "                 2019-08-06              1     1620\n",
       "                 2019-08-07              1    17379\n",
       "                 2019-08-11              1     8280\n",
       "                 2019-08-22              1     5190\n",
       "           B     2019-08-05              1     2420\n",
       "                 2019-08-06              2    14030\n",
       "                 2019-08-08              1     5227\n",
       "                 2019-08-09              1     5227\n",
       "                 2019-08-25              1     2385\n",
       "4256040402 A     2019-08-01              1     5800\n",
       "                 2019-08-12              1       50\n",
       "                 2019-08-17              1     1550\n",
       "                 2019-08-20              1    17650\n",
       "                 2019-08-23              1    16950\n",
       "                 2019-08-27              1     1630\n",
       "                 2019-08-31              1     5170\n",
       "           B     2019-08-08              1    58220\n",
       "                 2019-08-16              1    56650\n",
       "                 2019-08-18              1    10970\n",
       "                 2019-08-31              1     1850"
      ]
     },
     "execution_count": 23,
     "metadata": {},
     "output_type": "execute_result"
    }
   ],
   "source": [
    "potentially_broken_users_list = list(zip(group_sizes['visitorId'], group_sizes['group']))\n",
    "potentially_broken_users_dict = defaultdict(list)\n",
    "for user, group in potentially_broken_users_list:\n",
    "    potentially_broken_users_dict[user].append(group)\n",
    "\n",
    "inappropriate_users = [user for user in potentially_broken_users_dict if len(potentially_broken_users_dict[user]) > 1]\n",
    "inappropriate_orders = orders.query('visitorId in @inappropriate_users')\n",
    "inappropriate_orders_grouped = (inappropriate_orders\n",
    "                        .groupby(['visitorId', 'group', 'date'])\n",
    "                        .agg({'transactionId': 'nunique', 'revenue': 'sum'})\n",
    "                   )\n",
    "inappropriate_orders_grouped"
   ]
  },
  {
   "cell_type": "markdown",
   "metadata": {},
   "source": [
    "Так как в рамках этого A/B теста не пользователей, а сесии разделяли на группы, то проблемы в том, что пользователь попал в обе группы, нет. Просто так вышло, что он совершил несколько сессий, которые определились в разные группы"
   ]
  },
  {
   "cell_type": "code",
   "execution_count": 24,
   "metadata": {},
   "outputs": [
    {
     "name": "stdout",
     "output_type": "stream",
     "text": [
      "Проверка на пропуски\n",
      "transactionId    0\n",
      "visitorId        0\n",
      "date             0\n",
      "revenue          0\n",
      "group            0\n",
      "dtype: int64\n",
      "Проверка на дубликаты\n",
      "0\n"
     ]
    }
   ],
   "source": [
    "print('Проверка на пропуски')\n",
    "print(orders.isnull().sum())\n",
    "\n",
    "print('Проверка на дубликаты')\n",
    "print(orders.duplicated().sum())"
   ]
  },
  {
   "cell_type": "code",
   "execution_count": 25,
   "metadata": {},
   "outputs": [
    {
     "name": "stdout",
     "output_type": "stream",
     "text": [
      "Проверка на пропуски\n",
      "date        0\n",
      "group       0\n",
      "visitors    0\n",
      "dtype: int64\n",
      "Проверка на дубликаты\n",
      "0\n"
     ]
    }
   ],
   "source": [
    "print('Проверка на пропуски')\n",
    "print(visitors.isnull().sum())\n",
    "\n",
    "print('Проверка на дубликаты')\n",
    "print(visitors.duplicated().sum())"
   ]
  },
  {
   "cell_type": "markdown",
   "metadata": {},
   "source": [
    "* Дубликатов и пропущеных значений не обнаружено.\n",
    "* Данные прочитали, изменили тип данных у столбцов с датами, выгрузка совершена корректно, даты совпадают."
   ]
  },
  {
   "cell_type": "markdown",
   "metadata": {},
   "source": [
    "## Кумулятивные метрики\n",
    "<a id='7'></a>\n",
    "### Построим график кумулятивной выручки по группам \n",
    "[*Назад к оглавлению*](#Оглавление)"
   ]
  },
  {
   "cell_type": "code",
   "execution_count": 26,
   "metadata": {
    "scrolled": false
   },
   "outputs": [
    {
     "data": {
      "text/plain": [
       "Text(0.5, 1.0, 'Графики кумулятивной выручки по группам A/B')"
      ]
     },
     "execution_count": 26,
     "metadata": {},
     "output_type": "execute_result"
    },
    {
     "data": {
      "image/png": "[encoded data removed]",
      "text/plain": [
       "<Figure size 720x288 with 1 Axes>"
      ]
     },
     "metadata": {
      "needs_background": "light"
     },
     "output_type": "display_data"
    }
   ],
   "source": [
    "datesGroups = orders[['date', 'group']].drop_duplicates()\n",
    "\n",
    "ordersAggregated = datesGroups.apply(\n",
    "    lambda x: orders[\n",
    "        np.logical_and(\n",
    "            orders['date'] <= x['date'], orders['group'] == x['group']\n",
    "        )\n",
    "    ].agg(\n",
    "        {\n",
    "            'date': 'max',\n",
    "            'group': 'max',\n",
    "            'transactionId': 'nunique',\n",
    "            'visitorId': 'nunique',\n",
    "            'revenue': 'sum',\n",
    "        }\n",
    "    ),\n",
    "    axis=1,\n",
    ").sort_values(by=['date', 'group'])\n",
    "\n",
    "visitorsAggregated = datesGroups.apply(\n",
    "    lambda x: visitors[\n",
    "        np.logical_and(\n",
    "            visitors['date'] <= x['date'], visitors['group'] == x['group']\n",
    "        )\n",
    "    ].agg({'date': 'max', 'group': 'max', 'visitors': 'sum'}),\n",
    "    axis=1,\n",
    ").sort_values(by=['date', 'group'])\n",
    "\n",
    "cumulativeData = ordersAggregated.merge(\n",
    "    visitorsAggregated, left_on=['date', 'group'], right_on=['date', 'group']\n",
    ")\n",
    "cumulativeData.columns = [\n",
    "    'date',\n",
    "    'group',\n",
    "    'orders',\n",
    "    'buyers',\n",
    "    'revenue',\n",
    "    'visitors',\n",
    "]\n",
    "\n",
    "\n",
    "# датафрейм с кумулятивным количеством заказов и кумулятивной выручкой по дням в группе А\n",
    "cumulativeRevenueA = cumulativeData[cumulativeData['group']=='A'][['date','revenue', 'orders']]\n",
    "\n",
    "# датафрейм с кумулятивным количеством заказов и кумулятивной выручкой по дням в группе B\n",
    "cumulativeRevenueB = cumulativeData[cumulativeData['group']=='B'][['date','revenue', 'orders']]\n",
    "plt.figure(figsize=(10,4))\n",
    "# Строим график выручки группы А\n",
    "plt.plot(cumulativeRevenueA['date'], cumulativeRevenueA['revenue'], label='A')\n",
    "\n",
    "# Строим график выручки группы B\n",
    "plt.plot(cumulativeRevenueB['date'], cumulativeRevenueB['revenue'], label='B')\n",
    "plt.ylabel('Выручка')\n",
    "plt.xlabel('Дата')\n",
    "plt.title('Графики кумулятивной выручки по группам A/B')\n",
    "\n",
    "#plt.annotate('скачок', xy=('2019-08-17', 2800000), xytext=('2019-08-10', 3500000),\n",
    "#            #arrowprops=dict(facecolor='g'))\n",
    "#plt.annotate('отрыв', xy=('2019-08-05', 800000), xytext=('2019-08-05', 2000000),\n",
    "#            #arrowprops=dict(facecolor='g'))\n",
    "#plt.legend()"
   ]
  },
  {
   "cell_type": "code",
   "execution_count": 27,
   "metadata": {},
   "outputs": [
    {
     "data": {
      "image/png": "[encoded data removed]",
      "text/plain": [
       "<Figure size 1440x792 with 1 Axes>"
      ]
     },
     "metadata": {
      "needs_background": "light"
     },
     "output_type": "display_data"
    }
   ],
   "source": [
    "from pandas.plotting import register_matplotlib_converters\n",
    "register_matplotlib_converters()\n",
    "\n",
    "plt.figure(figsize = (20,11))\n",
    "plt.plot(cumulativeRevenueA['date'], cumulativeRevenueA['revenue'], label='A')\n",
    "plt.plot(cumulativeRevenueB['date'], cumulativeRevenueB['revenue'], label='B')\n",
    "plt.title('Кумулятивная выручка по группам', size = 23)\n",
    "plt.xlabel('Дата', size = 15)\n",
    "plt.ylabel('Выручка', size = 15)\n",
    "plt.grid()\n",
    "plt.annotate('скачок', xy=('2019-08-17', 2900000), xytext=('2019-08-10', 3500000),\n",
    "            arrowprops=dict(facecolor='g'))\n",
    "plt.annotate('отрыв', xy=('2019-08-05', 800000), xytext=('2019-08-05', 2000000),\n",
    "            arrowprops=dict(facecolor='g')) \n",
    "plt.legend()\n",
    "plt.show()"
   ]
  },
  {
   "cell_type": "markdown",
   "metadata": {},
   "source": [
    "Как мы видим, группа B стабильно показывает большую выручку чем группа A, те группа В на графике выше группы А"
   ]
  },
  {
   "cell_type": "code",
   "execution_count": 28,
   "metadata": {},
   "outputs": [
    {
     "data": {
      "image/png": "[encoded data removed]",
      "text/plain": [
       "<Figure size 720x288 with 1 Axes>"
      ]
     },
     "metadata": {
      "needs_background": "light"
     },
     "output_type": "display_data"
    }
   ],
   "source": [
    "plt.figure(figsize=(10,4))\n",
    "# Строим график выручки группы А\n",
    "plt.plot(cumulativeRevenueA['date'], cumulativeRevenueA['revenue'], label='A')\n",
    "\n",
    "# Строим график выручки группы B\n",
    "plt.plot(cumulativeRevenueB['date'], cumulativeRevenueB['revenue'], label='B')\n",
    "\n",
    "plt.ylabel('Выручка')\n",
    "plt.xlabel('Дата')\n",
    "plt.title('Графики кумулятивной выручки по группам A/B')\n",
    "\n",
    "plt.annotate('скачок', xy=('2019-08-17', 2800000), xytext=('2019-08-10', 3500000),\n",
    "            arrowprops=dict(facecolor='g'))\n",
    "plt.annotate('отрыв', xy=('2019-08-05', 800000), xytext=('2019-08-05', 2000000),\n",
    "            arrowprops=dict(facecolor='g'))\n",
    "\n",
    "plt.legend();"
   ]
  },
  {
   "cell_type": "markdown",
   "metadata": {},
   "source": [
    "<a id='8'></a>\n",
    "### Построим график кумулятивного среднего чека по группам \n",
    "[*Назад к оглавлению*](#Оглавление)"
   ]
  },
  {
   "cell_type": "code",
   "execution_count": 29,
   "metadata": {},
   "outputs": [
    {
     "data": {
      "image/png": "[encoded data removed]",
      "text/plain": [
       "<Figure size 720x288 with 1 Axes>"
      ]
     },
     "metadata": {
      "needs_background": "light"
     },
     "output_type": "display_data"
    }
   ],
   "source": [
    "cumulativeRevenueA = cumulativeData[cumulativeData['group'] == 'A'][\n",
    "    ['date', 'revenue', 'orders']\n",
    "]\n",
    "cumulativeRevenueB = cumulativeData[cumulativeData['group'] == 'B'][\n",
    "    ['date', 'revenue', 'orders']\n",
    "]\n",
    "plt.figure(figsize=(10,4))\n",
    "plt.plot(cumulativeRevenueA['date'], cumulativeRevenueA['revenue']/cumulativeRevenueA['orders'], label='A')\n",
    "plt.plot(cumulativeRevenueB['date'], cumulativeRevenueB['revenue']/cumulativeRevenueB['orders'], label='B')\n",
    "plt.title('Графики кумулятивного среднего чека по группам A/B')\n",
    "plt.ylabel('Средний чек')\n",
    "plt.xlabel('Дата')\n",
    "plt.legend();"
   ]
  },
  {
   "cell_type": "markdown",
   "metadata": {},
   "source": [
    "Как мы видим, средний чек в группе B почти всё время был выше, но нас должно \n",
    "смутить его резкое колебание во второй половине графика, есть вероятность что оно обусловлено аномалиями"
   ]
  },
  {
   "cell_type": "markdown",
   "metadata": {},
   "source": [
    "<a id='9'></a>\n",
    "### Построим график относительного изменения кумулятивного среднего чека группы B к группе A\n",
    "[*Назад к оглавлению*](#Оглавление)"
   ]
  },
  {
   "cell_type": "code",
   "execution_count": 30,
   "metadata": {},
   "outputs": [
    {
     "data": {
      "image/png": "[encoded data removed]",
      "text/plain": [
       "<Figure size 720x288 with 1 Axes>"
      ]
     },
     "metadata": {
      "needs_background": "light"
     },
     "output_type": "display_data"
    }
   ],
   "source": [
    "# собираем данные в одном датафрейме\n",
    "mergedCumulativeRevenue = cumulativeRevenueA.merge(cumulativeRevenueB, left_on='date', right_on='date', how='left', suffixes=['A', 'B'])\n",
    "plt.figure(figsize=(10,4))\n",
    "# cтроим отношение средних чеков\n",
    "plt.plot(mergedCumulativeRevenue['date'], (mergedCumulativeRevenue['revenueB']/mergedCumulativeRevenue['ordersB'])/(mergedCumulativeRevenue['revenueA']/mergedCumulativeRevenue['ordersA'])-1)\n",
    "\n",
    "# добавляем ось X\n",
    "plt.axhline(y=0, color='black', linestyle='--')\n",
    "plt.title('График относительного изменения кумулятивного среднего чека группы B к группе A')\n",
    "plt.xlabel('Дата')\n",
    "plt.show()"
   ]
  },
  {
   "cell_type": "markdown",
   "metadata": {},
   "source": [
    "Как мы и говорили, колебания слишком резкие, необходимо будет проверить данные на наличие аномальных пользователей"
   ]
  },
  {
   "cell_type": "markdown",
   "metadata": {},
   "source": [
    "<a id='10'></a>\n",
    "### Построим график кумулятивной конверсии по группам\n",
    "[*Назад к оглавлению*](#Оглавление)"
   ]
  },
  {
   "cell_type": "code",
   "execution_count": 31,
   "metadata": {
    "scrolled": true
   },
   "outputs": [
    {
     "data": {
      "image/png": "[encoded data removed]",
      "text/plain": [
       "<Figure size 720x288 with 1 Axes>"
      ]
     },
     "metadata": {
      "needs_background": "light"
     },
     "output_type": "display_data"
    }
   ],
   "source": [
    "# считаем кумулятивную конверсию\n",
    "cumulativeData['conversion'] = cumulativeData['orders']/cumulativeData['visitors']\n",
    "\n",
    "# отделяем данные по группе A\n",
    "cumulativeDataA = cumulativeData[cumulativeData['group']=='A']\n",
    "\n",
    "# отделяем данные по группе B\n",
    "cumulativeDataB = cumulativeData[cumulativeData['group']=='B']\n",
    "plt.figure(figsize=(10,4))\n",
    "# строим графики\n",
    "plt.plot(cumulativeDataA['date'], cumulativeDataA['conversion'], label='A')\n",
    "plt.plot(cumulativeDataB['date'], cumulativeDataB['conversion'], label='B')\n",
    "plt.title('График кумулятивной конверсии по группам A/B')\n",
    "plt.xlabel('Дата')\n",
    "plt.ylabel('Конверсия')\n",
    "plt.legend();\n",
    "\n"
   ]
  },
  {
   "cell_type": "markdown",
   "metadata": {},
   "source": [
    "Группа B стабильно показывает большую конверсию чем группа A, это обнадеживает"
   ]
  },
  {
   "cell_type": "markdown",
   "metadata": {},
   "source": [
    "<a id='11'></a>\n",
    "### Построим график относительного изменения кумулятивной конверсии группы B к группе A\n",
    "[*Назад к оглавлению*](#Оглавление)"
   ]
  },
  {
   "cell_type": "code",
   "execution_count": 32,
   "metadata": {},
   "outputs": [
    {
     "name": "stderr",
     "output_type": "stream",
     "text": [
      "No handles with labels found to put in legend.\n"
     ]
    },
    {
     "data": {
      "image/png": "[encoded data removed]",
      "text/plain": [
       "<Figure size 720x288 with 1 Axes>"
      ]
     },
     "metadata": {
      "needs_background": "light"
     },
     "output_type": "display_data"
    }
   ],
   "source": [
    "cumulativeData['conversion'] = (\n",
    "    cumulativeData['orders'] / cumulativeData['visitors']\n",
    ")\n",
    "\n",
    "cumulativeDataA = cumulativeData[cumulativeData['group'] == 'A']\n",
    "cumulativeDataB = cumulativeData[cumulativeData['group'] == 'B']\n",
    "\n",
    "mergedCumulativeConversions = cumulativeDataA[['date','conversion']].merge(cumulativeDataB[['date','conversion']], left_on='date', right_on='date', how='left', suffixes=['A', 'B'])\n",
    "plt.figure(figsize=(10,4))\n",
    "plt.plot(mergedCumulativeConversions['date'], mergedCumulativeConversions['conversionB']/mergedCumulativeConversions['conversionA']-1)\n",
    "plt.legend()\n",
    "plt.title('График относительного изменения кумулятивной конверсии группы B к группе A')\n",
    "plt.axhline(y=0, color='black', linestyle='--')\n",
    "plt.axhline(y=0.2, color='grey', linestyle='--')\n",
    "plt.xlabel('Дата')\n",
    "plt.show()"
   ]
  },
  {
   "cell_type": "markdown",
   "metadata": {},
   "source": [
    "Конверсия в группе B стабильно лучше конверсии в группе A на 10% по просшествии 1 недели после начала"
   ]
  },
  {
   "cell_type": "markdown",
   "metadata": {},
   "source": [
    "## Анализ выбросов и всплесков\n",
    "<a id='12'></a>\n",
    "### Построим точечный график количества заказов по пользователям\n",
    "[*Назад к оглавлению*](#Оглавление)"
   ]
  },
  {
   "cell_type": "code",
   "execution_count": 33,
   "metadata": {},
   "outputs": [
    {
     "data": {
      "image/png": "[encoded data removed]",
      "text/plain": [
       "<Figure size 720x288 with 1 Axes>"
      ]
     },
     "metadata": {
      "needs_background": "light"
     },
     "output_type": "display_data"
    }
   ],
   "source": [
    "ordersByUsers = (\n",
    "    orders.groupby('visitorId', as_index=False)\n",
    "    .agg({'transactionId': 'nunique'})\n",
    ")\n",
    "ordersByUsers.columns = ['visitorId', 'orders']\n",
    "plt.figure(figsize=(10,4))\n",
    "plt.title('Гистрограмма распределения количества заказов на одного пользователя')\n",
    "plt.xlabel('Заказы')\n",
    "plt.hist(ordersByUsers['orders']); "
   ]
  },
  {
   "cell_type": "code",
   "execution_count": 34,
   "metadata": {},
   "outputs": [
    {
     "data": {
      "image/png": "[encoded data removed]",
      "text/plain": [
       "<Figure size 720x288 with 1 Axes>"
      ]
     },
     "metadata": {
      "needs_background": "light"
     },
     "output_type": "display_data"
    }
   ],
   "source": [
    "# серия из чисел от 0 до количества наблюдений в ordersByUsers\n",
    "x_values = pd.Series(range(0, len(ordersByUsers)))\n",
    "plt.figure(figsize=(10,4))\n",
    "plt.title('Точечная диаграмма числа заказов на одного пользователя')\n",
    "plt.xlabel('Заказы')\n",
    "plt.ylabel('Количество заказов')\n",
    "plt.scatter(x_values, ordersByUsers['orders']) ;"
   ]
  },
  {
   "cell_type": "markdown",
   "metadata": {},
   "source": [
    "Судя по граифкам, подавляющее большинство пользователей не совершает более 2 заказов"
   ]
  },
  {
   "cell_type": "markdown",
   "metadata": {},
   "source": [
    "<a id='13'></a>\n",
    "### Посчитаем 95-й и 99-й перцентили количества заказов на пользователя. Выберем границу для определения аномальных пользователей.\n",
    "[*Назад к оглавлению*](#Оглавление)"
   ]
  },
  {
   "cell_type": "code",
   "execution_count": 35,
   "metadata": {},
   "outputs": [
    {
     "name": "stdout",
     "output_type": "stream",
     "text": [
      "[2. 4.]\n"
     ]
    }
   ],
   "source": [
    "# Метод np.percentile('column', [percentile1, percentile2, percentile3]) находит перцентили.\n",
    "print(np.percentile(ordersByUsers['orders'], [95, 99])) "
   ]
  },
  {
   "cell_type": "markdown",
   "metadata": {},
   "source": [
    "Как мы и предполагали, больше 2 заказов совершают только 5% пользователей, а больше 4, только 1%"
   ]
  },
  {
   "cell_type": "markdown",
   "metadata": {},
   "source": [
    "Количество заказов выше 8 выглядит весьма аномальными. "
   ]
  },
  {
   "cell_type": "markdown",
   "metadata": {},
   "source": [
    "<a id='14'></a>\n",
    "### Построим точечный график стоимостей заказов\n",
    "[*Назад к оглавлению*](#Оглавление)"
   ]
  },
  {
   "cell_type": "code",
   "execution_count": 36,
   "metadata": {},
   "outputs": [
    {
     "data": {
      "image/png": "[encoded data removed]",
      "text/plain": [
       "<Figure size 720x288 with 1 Axes>"
      ]
     },
     "metadata": {
      "needs_background": "light"
     },
     "output_type": "display_data"
    }
   ],
   "source": [
    "plt.figure(figsize=(10,4))\n",
    "plt.hist(orders['revenue'], range=(0,100000), bins = 100)\n",
    "plt.title('Гистрограмма распределения сумм заказов на одного пользователя')\n",
    "plt.show()"
   ]
  },
  {
   "cell_type": "code",
   "execution_count": 37,
   "metadata": {},
   "outputs": [
    {
     "data": {
      "image/png": "[encoded data removed]",
      "text/plain": [
       "<Figure size 720x288 with 1 Axes>"
      ]
     },
     "metadata": {
      "needs_background": "light"
     },
     "output_type": "display_data"
    }
   ],
   "source": [
    "x_values = pd.Series(range(0, len(orders['revenue'])))\n",
    "plt.figure(figsize=(10,4))\n",
    "plt.scatter(x_values, orders['revenue']) \n",
    "plt.title('Точечная диаграмма сумм заказов на одного пользователя')\n",
    "\n",
    "plt.show()"
   ]
  },
  {
   "cell_type": "markdown",
   "metadata": {},
   "source": [
    "Заказ выше 1,2 млн рублей выглядит весьма аномальными. "
   ]
  },
  {
   "cell_type": "code",
   "execution_count": 38,
   "metadata": {},
   "outputs": [
    {
     "data": {
      "image/png": "[encoded data removed]",
      "text/plain": [
       "<Figure size 720x288 with 1 Axes>"
      ]
     },
     "metadata": {
      "needs_background": "light"
     },
     "output_type": "display_data"
    }
   ],
   "source": [
    "x_values = pd.Series(range(0, len(orders['revenue'])))\n",
    "plt.figure(figsize=(10,4))\n",
    "plt.scatter(x_values, orders['revenue']) \n",
    "plt.title('Точечная диаграмма сумм заказов на одного пользователя')\n",
    "plt.axis([0, 1200, 0, 200000])\n",
    "plt.show()"
   ]
  },
  {
   "cell_type": "markdown",
   "metadata": {},
   "source": [
    "Из графиков видно, что большая часть стоимости заказов не превышает 25 тысяч рублей. Есть выбросы в районе 30-50 тысяч рублей. Заказ выше 75 тысяч рублей выглядит весьма аномальными. "
   ]
  },
  {
   "cell_type": "markdown",
   "metadata": {},
   "source": [
    "<a id='15'></a>\n",
    "### Посчитаем 95-й и 99-й перцентили сумм заказов на пользователя. Выберем границу для определения аномальных пользователей.\n",
    "[*Назад к оглавлению*](#Оглавление)"
   ]
  },
  {
   "cell_type": "code",
   "execution_count": 39,
   "metadata": {},
   "outputs": [
    {
     "name": "stdout",
     "output_type": "stream",
     "text": [
      "[28000.  58233.2]\n"
     ]
    }
   ],
   "source": [
    "print(np.percentile(orders['revenue'], [95, 99])) "
   ]
  },
  {
   "cell_type": "markdown",
   "metadata": {},
   "source": [
    "Не более, чем у 5% заказов чек дороже 28000 рублей. И не больше, чем у 1% заказов - дороже 58233 рублей"
   ]
  },
  {
   "cell_type": "markdown",
   "metadata": {},
   "source": [
    "<a id='16'></a>\n",
    "### Посчитаем статистическую значимость различий в конверсии между группами по «сырым» данным\n",
    "[*Назад к оглавлению*](#Оглавление)"
   ]
  },
  {
   "cell_type": "markdown",
   "metadata": {},
   "source": [
    "Вероятность того, что наблюдение из популяции А превышает наблюдение из популяции В равна 50%. А обратная гипотеза, что такая вероятность не равна 50%.\n",
    "\n",
    "H0:наблюдение из популяции А превышает наблюдение из популяции В\n",
    "\n",
    "H1:наблюдение из популяции B превышает наблюдение из популяции A"
   ]
  },
  {
   "cell_type": "code",
   "execution_count": 40,
   "metadata": {},
   "outputs": [
    {
     "name": "stdout",
     "output_type": "stream",
     "text": [
      "        date  ordersPerDateA  revenuePerDateA  ordersPerDateB  \\\n",
      "0 2019-08-01              24           148579              21   \n",
      "1 2019-08-02              20            93822              24   \n",
      "2 2019-08-03              24           112473              16   \n",
      "3 2019-08-04              16            70825              17   \n",
      "4 2019-08-05              25           124218              23   \n",
      "\n",
      "   revenuePerDateB  ordersCummulativeA  revenueCummulativeA  \\\n",
      "0           101217                  24               148579   \n",
      "1           165531                  44               242401   \n",
      "2           114248                  68               354874   \n",
      "3           108571                  84               425699   \n",
      "4            92428                 109               549917   \n",
      "\n",
      "   ordersCummulativeB  revenueCummulativeB  visitorsPerDateA  \\\n",
      "0                  21               101217               719   \n",
      "1                  45               266748               619   \n",
      "2                  61               380996               507   \n",
      "3                  78               489567               717   \n",
      "4                 101               581995               756   \n",
      "\n",
      "   visitorsPerDateB  visitorsCummulativeA  visitorsCummulativeB  \n",
      "0               713                   719                   713  \n",
      "1               581                  1338                  1294  \n",
      "2               509                  1845                  1803  \n",
      "3               770                  2562                  2573  \n",
      "4               707                  3318                  3280  \n",
      "0.01679\n",
      "0.138\n"
     ]
    }
   ],
   "source": [
    "visitorsADaily = visitors[visitors['group'] == 'A'][['date', 'visitors']]\n",
    "visitorsADaily.columns = ['date', 'visitorsPerDateA']\n",
    "\n",
    "visitorsACummulative = visitorsADaily.apply(\n",
    "    lambda x: visitorsADaily[visitorsADaily['date'] <= x['date']].agg(\n",
    "        {'date': 'max', 'visitorsPerDateA': 'sum'}\n",
    "    ),\n",
    "    axis=1,\n",
    ")\n",
    "visitorsACummulative.columns = ['date', 'visitorsCummulativeA']\n",
    "\n",
    "visitorsBDaily = visitors[visitors['group'] == 'B'][['date', 'visitors']]\n",
    "visitorsBDaily.columns = ['date', 'visitorsPerDateB']\n",
    "\n",
    "visitorsBCummulative = visitorsBDaily.apply(\n",
    "    lambda x: visitorsBDaily[visitorsBDaily['date'] <= x['date']].agg(\n",
    "        {'date': 'max', 'visitorsPerDateB': 'sum'}\n",
    "    ),\n",
    "    axis=1,\n",
    ")\n",
    "visitorsBCummulative.columns = ['date', 'visitorsCummulativeB']\n",
    "\n",
    "ordersADaily = (\n",
    "    orders[orders['group'] == 'A'][['date', 'visitorId','transactionId', 'revenue']]\n",
    "    .groupby('date', as_index=False)\n",
    "    .agg({'transactionId': pd.Series.nunique, 'revenue': 'sum'})\n",
    ")\n",
    "ordersADaily.columns = ['date', 'ordersPerDateA', 'revenuePerDateA']\n",
    "\n",
    "ordersACummulative = ordersADaily.apply(\n",
    "    lambda x: ordersADaily[ordersADaily['date'] <= x['date']].agg(\n",
    "        {'date': 'max', 'ordersPerDateA': 'sum', 'revenuePerDateA': 'sum'}\n",
    "    ),\n",
    "    axis=1,\n",
    ").sort_values(by=['date'])\n",
    "ordersACummulative.columns = [\n",
    "    'date',\n",
    "    'ordersCummulativeA',\n",
    "    'revenueCummulativeA',\n",
    "]\n",
    "\n",
    "ordersBDaily = (\n",
    "    orders[orders['group'] == 'B'][['date', 'visitorId','transactionId', 'revenue']]\n",
    "    .groupby('date', as_index=False)\n",
    "    .agg({'transactionId': pd.Series.nunique, 'revenue': 'sum'})\n",
    ")\n",
    "ordersBDaily.columns = ['date', 'ordersPerDateB', 'revenuePerDateB']\n",
    "\n",
    "ordersBCummulative = ordersBDaily.apply(\n",
    "    lambda x: ordersBDaily[ordersBDaily['date'] <= x['date']].agg(\n",
    "        {'date': 'max', 'ordersPerDateB': 'sum', 'revenuePerDateB': 'sum'}\n",
    "    ),\n",
    "    axis=1,\n",
    ").sort_values(by=['date'])\n",
    "ordersBCummulative.columns = [\n",
    "    'date',\n",
    "    'ordersCummulativeB',\n",
    "    'revenueCummulativeB',\n",
    "]\n",
    "\n",
    "data = (\n",
    "    ordersADaily.merge(\n",
    "        ordersBDaily, left_on='date', right_on='date', how='left'\n",
    "    )\n",
    "    .merge(ordersACummulative, left_on='date', right_on='date', how='left')\n",
    "    .merge(ordersBCummulative, left_on='date', right_on='date', how='left')\n",
    "    .merge(visitorsADaily, left_on='date', right_on='date', how='left')\n",
    "    .merge(visitorsBDaily, left_on='date', right_on='date', how='left')\n",
    "    .merge(visitorsACummulative, left_on='date', right_on='date', how='left')\n",
    "    .merge(visitorsBCummulative, left_on='date', right_on='date', how='left')\n",
    ")\n",
    "\n",
    "print(data.head(5))\n",
    "\n",
    "\n",
    "ordersByUsersA = (\n",
    "    orders[orders['group'] == 'A']\n",
    "    .groupby('visitorId', as_index=False)\n",
    "    .agg({'transactionId': pd.Series.nunique})\n",
    ")\n",
    "ordersByUsersA.columns = ['visitorId', 'orders']\n",
    "\n",
    "ordersByUsersB = (\n",
    "    orders[orders['group'] == 'B']\n",
    "    .groupby('visitorId', as_index=False)\n",
    "    .agg({'transactionId': pd.Series.nunique})\n",
    ")\n",
    "ordersByUsersB.columns = ['visitorId', 'orders']\n",
    "\n",
    "sampleA = pd.concat(\n",
    "    [\n",
    "        ordersByUsersA['orders'],\n",
    "        pd.Series(\n",
    "            0,\n",
    "            index=np.arange(\n",
    "                data['visitorsPerDateA'].sum() - len(ordersByUsersA['orders'])\n",
    "            ),\n",
    "            name='orders',\n",
    "        ),\n",
    "    ],\n",
    "    axis=0,\n",
    ")\n",
    "\n",
    "sampleB = pd.concat(\n",
    "    [\n",
    "        ordersByUsersB['orders'],\n",
    "        pd.Series(\n",
    "            0,\n",
    "            index=np.arange(\n",
    "                data['visitorsPerDateB'].sum() - len(ordersByUsersB['orders'])\n",
    "            ),\n",
    "            name='orders',\n",
    "        ),\n",
    "    ],\n",
    "    axis=0,\n",
    ")\n",
    "print(\"{0:.5f}\".format(stats.mannwhitneyu(sampleA, sampleB)[1]))\n",
    "\n",
    "print(\"{0:.3f}\".format((data['ordersPerDateB'].sum()/data['visitorsPerDateB'].sum())/(data['ordersPerDateA'].sum()/data['visitorsPerDateA'].sum())-1))\n",
    "\n"
   ]
  },
  {
   "cell_type": "markdown",
   "metadata": {},
   "source": [
    "P-value значительно меньше 0,05,отвергаем нулевую гипотезу. Анализ \"сырых данных\" сообщает, что в среднем количество заказов между группами есть статистически значимые различия. Относительный прирост среднего группы В к конверсии группы А равен 13,8%"
   ]
  },
  {
   "cell_type": "markdown",
   "metadata": {},
   "source": [
    "<a id='17'></a>\n",
    "### Посчитаем статистическую значимость различий в среднем чеке заказа между группами по «сырым» данным\n",
    "[*Назад к оглавлению*](#Оглавление)"
   ]
  },
  {
   "cell_type": "code",
   "execution_count": 41,
   "metadata": {},
   "outputs": [
    {
     "name": "stdout",
     "output_type": "stream",
     "text": [
      "0.729\n",
      "0.259\n"
     ]
    }
   ],
   "source": [
    "print('{0:.3f}'.format(stats.mannwhitneyu(orders[orders['group']=='A']['revenue'], orders[orders['group']=='B']['revenue'])[1]))\n",
    "print('{0:.3f}'.format(orders[orders['group']=='B']['revenue'].mean()/orders[orders['group']=='A']['revenue'].mean()-1))"
   ]
  },
  {
   "cell_type": "markdown",
   "metadata": {},
   "source": [
    "P-value больше 0,05 - статистически значимых отличий в среднем чеке между группами нет. Кроме того, относительное различие среднего чека между сегментами 25%"
   ]
  },
  {
   "cell_type": "markdown",
   "metadata": {},
   "source": [
    "<a id='18'></a>\n",
    "### Посчитаем статистическую значимость различий в конверсии между группами по «очищенным» данным\n",
    "[*Назад к оглавлению*](#Оглавление)\n",
    "\n",
    "Ранее мы уже выяснили, что подавляющее большинство пользователей не делает более 2 заказов и сумма 1 покупки в большинстве случаев не превышает 28 т.р. Очистим данные от аномальных пользователей с превышающими данные лимиты значениями."
   ]
  },
  {
   "cell_type": "code",
   "execution_count": 42,
   "metadata": {},
   "outputs": [],
   "source": [
    "#зададим предельные кол-во заказов и сумму покупки для формирования списка аномальных пользователей\n",
    "limit_orders = 2\n",
    "limit_revenue = 28000"
   ]
  },
  {
   "cell_type": "code",
   "execution_count": 43,
   "metadata": {
    "scrolled": true
   },
   "outputs": [
    {
     "name": "stdout",
     "output_type": "stream",
     "text": [
      "1099     148427295\n",
      "18       199603092\n",
      "928      204675465\n",
      "23       237748145\n",
      "37       249864742\n",
      "           ...    \n",
      "723     4009017467\n",
      "627     4120364173\n",
      "743     4133034833\n",
      "499     4256040402\n",
      "662     4266935830\n",
      "Name: visitorId, Length: 74, dtype: int64\n"
     ]
    }
   ],
   "source": [
    "\n",
    "usersWithManyOrders = pd.concat(\n",
    "    [\n",
    "        ordersByUsersA[ordersByUsersA['orders'] > limit_orders]['visitorId'],\n",
    "        ordersByUsersB[ordersByUsersB['orders'] > limit_orders]['visitorId'],\n",
    "    ],\n",
    "    axis=0,\n",
    ")\n",
    "usersWithExpensiveOrders = orders[orders['revenue'] > limit_revenue]['visitorId']\n",
    "abnormalUsers = (\n",
    "    pd.concat([usersWithManyOrders, usersWithExpensiveOrders], axis=0)\n",
    "    .drop_duplicates()\n",
    "    .sort_values()\n",
    ")\n",
    "print(abnormalUsers.sort_values())\n"
   ]
  },
  {
   "cell_type": "code",
   "execution_count": 44,
   "metadata": {},
   "outputs": [
    {
     "name": "stdout",
     "output_type": "stream",
     "text": [
      "Кол-во аномальных пользователей: 74\n"
     ]
    }
   ],
   "source": [
    "print('Кол-во аномальных пользователей: {}'.format(len(abnormalUsers)))"
   ]
  },
  {
   "cell_type": "markdown",
   "metadata": {},
   "source": [
    "Выяснили множество аномальных пользователей - 74 . После их удаления можно будет считать статистическую значимость. Для этого надо выяснить, есть ли существенные различия между группами с очищенными данными "
   ]
  },
  {
   "cell_type": "markdown",
   "metadata": {},
   "source": [
    "<a id='19'></a>\n",
    "### Посчитаем статистическую значимость различий в среднем чеке заказа между группами по «очищенным» данным\n",
    "[*Назад к оглавлению*](#Оглавление)"
   ]
  },
  {
   "cell_type": "code",
   "execution_count": 45,
   "metadata": {
    "scrolled": false
   },
   "outputs": [
    {
     "name": "stdout",
     "output_type": "stream",
     "text": [
      "0.01304\n",
      "0.173\n"
     ]
    }
   ],
   "source": [
    "sampleAFiltered = pd.concat(\n",
    "    [\n",
    "        ordersByUsersA[\n",
    "            np.logical_not(ordersByUsersA['visitorId'].isin(abnormalUsers))\n",
    "        ]['orders'],\n",
    "        pd.Series(\n",
    "            0,\n",
    "            index=np.arange(\n",
    "                data['visitorsPerDateA'].sum() - len(ordersByUsersA['orders'])\n",
    "            ),\n",
    "            name='orders',\n",
    "        ),\n",
    "    ],\n",
    "    axis=0,\n",
    ")\n",
    "\n",
    "sampleBFiltered = pd.concat(\n",
    "    [\n",
    "        ordersByUsersB[\n",
    "            np.logical_not(ordersByUsersB['visitorId'].isin(abnormalUsers))\n",
    "        ]['orders'],\n",
    "        pd.Series(\n",
    "            0,\n",
    "            index=np.arange(\n",
    "                data['visitorsPerDateB'].sum() - len(ordersByUsersB['orders'])\n",
    "            ),\n",
    "            name='orders',\n",
    "        ),\n",
    "    ],\n",
    "    axis=0,\n",
    ")\n",
    "\n",
    "print('{0:.5f}'.format(stats.mannwhitneyu(sampleAFiltered, sampleBFiltered)[1]))\n",
    "print('{0:.3f}'.format(sampleBFiltered.mean()/sampleAFiltered.mean()-1))\n",
    "\n",
    "\n"
   ]
  },
  {
   "cell_type": "markdown",
   "metadata": {},
   "source": [
    "P-value значительно меньше 0,05, что может говорить о статистически значимых различиях. Анализ сообщает, что в среднем количество заказов между группами есть статистически значимые различия. Относительный прирост среднего группы В к конверсии группы А равен 17,3%\n",
    "\n",
    "Как и в случае с сырыми данными, **статистическая значимость достигнута, при этом заменет рост конверсии**.\n",
    "\n",
    "Сегмент B **значительно лучше** сегмента А."
   ]
  },
  {
   "cell_type": "code",
   "execution_count": 46,
   "metadata": {},
   "outputs": [
    {
     "name": "stdout",
     "output_type": "stream",
     "text": [
      "0.738\n",
      "-0.020\n"
     ]
    }
   ],
   "source": [
    "print(\n",
    "    '{0:.3f}'.format(\n",
    "        stats.mannwhitneyu(\n",
    "            orders[\n",
    "                np.logical_and(\n",
    "                    orders['group'] == 'A',\n",
    "                    np.logical_not(orders['visitorId'].isin(abnormalUsers)),\n",
    "                )\n",
    "            ]['revenue'],\n",
    "            orders[\n",
    "                np.logical_and(\n",
    "                    orders['group'] == 'B',\n",
    "                    np.logical_not(orders['visitorId'].isin(abnormalUsers)),\n",
    "                )\n",
    "            ]['revenue'],\n",
    "        )[1]\n",
    "    )\n",
    ")\n",
    "\n",
    "print(\n",
    "    \"{0:.3f}\".format(\n",
    "        orders[\n",
    "            np.logical_and(\n",
    "                orders['group'] == 'B',\n",
    "                np.logical_not(orders['visitorId'].isin(abnormalUsers)),\n",
    "            )\n",
    "        ]['revenue'].mean()\n",
    "        / orders[\n",
    "            np.logical_and(\n",
    "                orders['group'] == 'A',\n",
    "                np.logical_not(orders['visitorId'].isin(abnormalUsers)),\n",
    "            )\n",
    "        ]['revenue'].mean()\n",
    "        - 1\n",
    "    )\n",
    ")"
   ]
  },
  {
   "cell_type": "markdown",
   "metadata": {},
   "source": [
    "* P-value увеличился, но и разница между сегментами сократилась до 2%.\n",
    "* Средний чек не поменялся, а конверсия выросла \n",
    "* P-value больше 0,05, поэтому принимаем нулевую гипотезу"
   ]
  },
  {
   "cell_type": "markdown",
   "metadata": {},
   "source": [
    "<a id='20'></a>\n",
    "## Примем решение по результатам теста \n",
    "[*Назад к оглавлению*](#Оглавление)\n",
    "\n",
    "**Варианты принимаемых решений:**\n",
    "* Остановить тест, зафиксировать победу одной из групп.\n",
    "* Остановить тест, зафиксировать отсутствие различий между группами.\n",
    "* Продолжить тест.\n",
    "\n",
    "    1) Выборка данных имеет корректный размер, проблему подглядывания в результате сравнения групп во время проведения теста мы исключили \n",
    "\n",
    "    2) Кумулятивные метрики по выручке, среднему чеку и конверсии почти все время лидировали в группе B. \n",
    "\n",
    "У нас на некоторое время возникли сомнения из-за резких колебаний на графике кумулятивного среднего чека в группе B до очистки данных от аномальных пользователей. Наши сомнения подтвердились на этот счет, т.к. после очистки разница между средними чеками стала минимальна, но это не даёт нам повода сомневаться в проведении теста и его результатах. \n",
    "Данная разница показателей конверсии между группами и до и после очистки данных является **статистически значимой**, что пользволяет нам сделать вывод о том, что мы можем остановить наш A/B тест и зафиксировать победу группы B!\n",
    "\n",
    "**Общий вывод из A/B - теста:**\n",
    "* Есть статистически значимое различие по конверсии между группами как по сырым данным, так и после фильтрации аномалий.\n",
    "\n",
    "* По сырым данным нет статистически значимого различия по среднему чеку между группами. Однако после удаления аномалий статистически значимое различие есть.\n",
    "\n",
    "* График различия конверсии между группами сообщает, что результаты группы B лучше группы A: имеют тенденцию к росту, либо зафиксировались около среднего значения.\n",
    "\n",
    "* График различия среднего чека колеблется: он-то и позволил вам найти аномалии. Сделать из этого графика определённые выводы нельзя.\n",
    "\n",
    "Исходя из факторов выше следует **остановить тест, признать его неуспешным**"
   ]
  },
  {
   "cell_type": "code",
   "execution_count": null,
   "metadata": {},
   "outputs": [],
   "source": []
  }
 ],
 "metadata": {
  "ExecuteTimeLog": [
   {
    "duration": 1251,
    "start_time": "2022-07-26T13:03:11.943Z"
   },
   {
    "duration": 69,
    "start_time": "2022-07-26T13:06:17.120Z"
   },
   {
    "duration": 12,
    "start_time": "2022-07-26T13:06:27.569Z"
   },
   {
    "duration": 89,
    "start_time": "2022-07-26T13:07:06.691Z"
   },
   {
    "duration": 27,
    "start_time": "2022-07-26T13:08:05.147Z"
   },
   {
    "duration": 3,
    "start_time": "2022-07-26T13:08:22.267Z"
   },
   {
    "duration": 8,
    "start_time": "2022-07-26T13:08:46.336Z"
   },
   {
    "duration": 6,
    "start_time": "2022-07-26T13:14:28.216Z"
   },
   {
    "duration": 7,
    "start_time": "2022-07-26T13:14:33.286Z"
   },
   {
    "duration": 11,
    "start_time": "2022-07-26T13:14:39.761Z"
   },
   {
    "duration": 5,
    "start_time": "2022-07-26T13:15:41.918Z"
   },
   {
    "duration": 4,
    "start_time": "2022-07-26T13:15:47.411Z"
   },
   {
    "duration": 7,
    "start_time": "2022-07-26T13:15:49.667Z"
   },
   {
    "duration": 5,
    "start_time": "2022-07-26T13:16:41.350Z"
   },
   {
    "duration": 8,
    "start_time": "2022-07-26T13:16:43.314Z"
   },
   {
    "duration": 79,
    "start_time": "2022-07-26T13:38:48.991Z"
   },
   {
    "duration": 21,
    "start_time": "2022-07-26T13:38:56.294Z"
   },
   {
    "duration": 318,
    "start_time": "2022-07-26T13:39:17.493Z"
   },
   {
    "duration": 10,
    "start_time": "2022-07-26T13:39:19.097Z"
   },
   {
    "duration": 19,
    "start_time": "2022-07-26T13:39:41.564Z"
   },
   {
    "duration": 10,
    "start_time": "2022-07-26T13:39:48.569Z"
   },
   {
    "duration": 8,
    "start_time": "2022-07-26T13:39:57.226Z"
   },
   {
    "duration": 64,
    "start_time": "2022-07-26T13:42:04.010Z"
   },
   {
    "duration": 8,
    "start_time": "2022-07-26T13:42:09.812Z"
   },
   {
    "duration": 9,
    "start_time": "2022-07-26T13:42:15.528Z"
   },
   {
    "duration": 7,
    "start_time": "2022-07-26T13:42:18.912Z"
   },
   {
    "duration": 28,
    "start_time": "2022-07-26T13:52:15.753Z"
   },
   {
    "duration": 467,
    "start_time": "2022-07-26T13:55:10.512Z"
   },
   {
    "duration": 482,
    "start_time": "2022-07-26T13:56:40.025Z"
   },
   {
    "duration": 399,
    "start_time": "2022-07-26T13:57:52.489Z"
   },
   {
    "duration": 219,
    "start_time": "2022-07-26T14:10:31.766Z"
   },
   {
    "duration": 15,
    "start_time": "2022-07-26T14:13:56.438Z"
   },
   {
    "duration": 18,
    "start_time": "2022-07-26T14:14:16.954Z"
   },
   {
    "duration": 6,
    "start_time": "2022-07-26T14:19:10.501Z"
   },
   {
    "duration": 430,
    "start_time": "2022-07-26T14:19:12.203Z"
   },
   {
    "duration": 186,
    "start_time": "2022-07-26T14:19:16.506Z"
   },
   {
    "duration": 16,
    "start_time": "2022-07-26T14:21:26.505Z"
   },
   {
    "duration": 520,
    "start_time": "2022-07-26T14:21:29.049Z"
   },
   {
    "duration": 200,
    "start_time": "2022-07-26T14:21:33.014Z"
   },
   {
    "duration": 13,
    "start_time": "2022-07-26T14:26:28.949Z"
   },
   {
    "duration": 416,
    "start_time": "2022-07-26T14:26:33.863Z"
   },
   {
    "duration": 171,
    "start_time": "2022-07-26T14:26:34.447Z"
   },
   {
    "duration": 313,
    "start_time": "2022-07-26T14:32:25.535Z"
   },
   {
    "duration": 295,
    "start_time": "2022-07-26T14:33:55.248Z"
   },
   {
    "duration": 369,
    "start_time": "2022-07-26T14:38:07.311Z"
   },
   {
    "duration": 428,
    "start_time": "2022-07-26T14:39:58.192Z"
   },
   {
    "duration": 198,
    "start_time": "2022-07-26T14:40:55.349Z"
   },
   {
    "duration": 292,
    "start_time": "2022-07-26T14:41:18.355Z"
   },
   {
    "duration": 17,
    "start_time": "2022-07-26T14:41:32.432Z"
   },
   {
    "duration": 140,
    "start_time": "2022-07-26T14:42:02.146Z"
   },
   {
    "duration": 159,
    "start_time": "2022-07-26T14:43:00.306Z"
   },
   {
    "duration": 372,
    "start_time": "2022-07-26T14:43:18.466Z"
   },
   {
    "duration": 277,
    "start_time": "2022-07-26T14:43:33.557Z"
   },
   {
    "duration": 173,
    "start_time": "2022-07-26T14:44:15.117Z"
   },
   {
    "duration": 178,
    "start_time": "2022-07-26T14:44:54.654Z"
   },
   {
    "duration": 171,
    "start_time": "2022-07-26T14:44:58.458Z"
   },
   {
    "duration": 322,
    "start_time": "2022-07-26T14:45:38.091Z"
   },
   {
    "duration": 109,
    "start_time": "2022-07-26T14:52:42.778Z"
   },
   {
    "duration": 105,
    "start_time": "2022-07-26T14:53:20.450Z"
   },
   {
    "duration": 121,
    "start_time": "2022-07-26T14:53:27.681Z"
   },
   {
    "duration": 116,
    "start_time": "2022-07-26T14:53:30.942Z"
   },
   {
    "duration": 102,
    "start_time": "2022-07-26T14:53:34.563Z"
   },
   {
    "duration": 104,
    "start_time": "2022-07-26T14:53:56.484Z"
   },
   {
    "duration": 145,
    "start_time": "2022-07-26T14:54:09.869Z"
   },
   {
    "duration": 311,
    "start_time": "2022-07-26T14:54:19.170Z"
   },
   {
    "duration": 422,
    "start_time": "2022-07-26T14:54:45.024Z"
   },
   {
    "duration": 180,
    "start_time": "2022-07-26T14:54:58.679Z"
   },
   {
    "duration": 279,
    "start_time": "2022-07-26T14:55:04.237Z"
   },
   {
    "duration": 183,
    "start_time": "2022-07-26T14:55:09.613Z"
   },
   {
    "duration": 418,
    "start_time": "2022-07-26T14:55:15.462Z"
   },
   {
    "duration": 45,
    "start_time": "2022-07-27T08:53:34.929Z"
   },
   {
    "duration": 1273,
    "start_time": "2022-07-27T08:53:41.877Z"
   },
   {
    "duration": 73,
    "start_time": "2022-07-27T08:53:43.152Z"
   },
   {
    "duration": 12,
    "start_time": "2022-07-27T08:53:43.227Z"
   },
   {
    "duration": 41,
    "start_time": "2022-07-27T08:53:43.240Z"
   },
   {
    "duration": 2,
    "start_time": "2022-07-27T08:53:43.284Z"
   },
   {
    "duration": 17,
    "start_time": "2022-07-27T08:53:43.288Z"
   },
   {
    "duration": 20,
    "start_time": "2022-07-27T08:53:43.307Z"
   },
   {
    "duration": 17,
    "start_time": "2022-07-27T08:53:43.329Z"
   },
   {
    "duration": 23,
    "start_time": "2022-07-27T08:53:43.348Z"
   },
   {
    "duration": 10,
    "start_time": "2022-07-27T08:53:43.374Z"
   },
   {
    "duration": 24,
    "start_time": "2022-07-27T08:53:43.385Z"
   },
   {
    "duration": 25,
    "start_time": "2022-07-27T08:53:43.411Z"
   },
   {
    "duration": 30,
    "start_time": "2022-07-27T08:53:43.437Z"
   },
   {
    "duration": 41,
    "start_time": "2022-07-27T08:53:43.469Z"
   },
   {
    "duration": 90,
    "start_time": "2022-07-27T08:53:43.512Z"
   },
   {
    "duration": 22,
    "start_time": "2022-07-27T08:53:43.604Z"
   },
   {
    "duration": 23,
    "start_time": "2022-07-27T08:53:43.629Z"
   },
   {
    "duration": 25,
    "start_time": "2022-07-27T08:53:43.654Z"
   },
   {
    "duration": 73,
    "start_time": "2022-07-27T08:53:43.681Z"
   },
   {
    "duration": 8,
    "start_time": "2022-07-27T08:53:43.755Z"
   },
   {
    "duration": 31,
    "start_time": "2022-07-27T08:53:43.764Z"
   },
   {
    "duration": 28,
    "start_time": "2022-07-27T08:53:43.797Z"
   },
   {
    "duration": 20,
    "start_time": "2022-07-27T08:53:43.828Z"
   },
   {
    "duration": 20,
    "start_time": "2022-07-27T08:53:43.849Z"
   },
   {
    "duration": 488,
    "start_time": "2022-07-27T08:53:43.871Z"
   },
   {
    "duration": 207,
    "start_time": "2022-07-27T08:53:44.361Z"
   },
   {
    "duration": 374,
    "start_time": "2022-07-27T08:53:44.570Z"
   },
   {
    "duration": 212,
    "start_time": "2022-07-27T08:53:44.947Z"
   },
   {
    "duration": 333,
    "start_time": "2022-07-27T08:53:45.161Z"
   },
   {
    "duration": 101,
    "start_time": "2022-07-27T08:53:45.501Z"
   },
   {
    "duration": 112,
    "start_time": "2022-07-27T08:53:45.604Z"
   },
   {
    "duration": 9,
    "start_time": "2022-07-27T08:53:45.718Z"
   },
   {
    "duration": 4,
    "start_time": "2022-07-27T08:55:29.842Z"
   },
   {
    "duration": 108,
    "start_time": "2022-07-27T08:59:24.775Z"
   },
   {
    "duration": 184,
    "start_time": "2022-07-27T08:59:29.184Z"
   },
   {
    "duration": 210,
    "start_time": "2022-07-27T09:00:12.301Z"
   },
   {
    "duration": 86,
    "start_time": "2022-07-27T09:00:55.503Z"
   },
   {
    "duration": 124,
    "start_time": "2022-07-27T09:01:11.009Z"
   },
   {
    "duration": 8,
    "start_time": "2022-07-27T09:08:19.784Z"
   },
   {
    "duration": 4,
    "start_time": "2022-07-27T09:08:51.280Z"
   },
   {
    "duration": 112,
    "start_time": "2022-07-27T09:13:41.146Z"
   },
   {
    "duration": 104,
    "start_time": "2022-07-27T09:17:22.534Z"
   },
   {
    "duration": 97,
    "start_time": "2022-07-27T09:18:52.368Z"
   },
   {
    "duration": 223,
    "start_time": "2022-07-27T09:20:17.477Z"
   },
   {
    "duration": 329,
    "start_time": "2022-07-27T09:20:43.725Z"
   },
   {
    "duration": 10,
    "start_time": "2022-07-27T09:26:52.546Z"
   },
   {
    "duration": 2515,
    "start_time": "2022-07-27T09:30:58.766Z"
   },
   {
    "duration": 1472,
    "start_time": "2022-07-27T09:31:26.176Z"
   },
   {
    "duration": 8,
    "start_time": "2022-07-27T09:31:35.541Z"
   },
   {
    "duration": 11,
    "start_time": "2022-07-27T09:34:32.798Z"
   },
   {
    "duration": 38,
    "start_time": "2022-07-27T09:39:54.243Z"
   },
   {
    "duration": 17,
    "start_time": "2022-07-27T09:42:24.920Z"
   },
   {
    "duration": 1119,
    "start_time": "2022-07-27T10:09:40.688Z"
   },
   {
    "duration": 26,
    "start_time": "2022-07-27T10:09:41.809Z"
   },
   {
    "duration": 10,
    "start_time": "2022-07-27T10:09:41.836Z"
   },
   {
    "duration": 32,
    "start_time": "2022-07-27T10:09:41.848Z"
   },
   {
    "duration": 2,
    "start_time": "2022-07-27T10:09:41.882Z"
   },
   {
    "duration": 11,
    "start_time": "2022-07-27T10:09:41.885Z"
   },
   {
    "duration": 7,
    "start_time": "2022-07-27T10:09:41.897Z"
   },
   {
    "duration": 7,
    "start_time": "2022-07-27T10:09:41.905Z"
   },
   {
    "duration": 8,
    "start_time": "2022-07-27T10:09:41.914Z"
   },
   {
    "duration": 5,
    "start_time": "2022-07-27T10:09:41.924Z"
   },
   {
    "duration": 7,
    "start_time": "2022-07-27T10:09:41.931Z"
   },
   {
    "duration": 12,
    "start_time": "2022-07-27T10:09:41.940Z"
   },
   {
    "duration": 8,
    "start_time": "2022-07-27T10:09:41.953Z"
   },
   {
    "duration": 11,
    "start_time": "2022-07-27T10:09:41.964Z"
   },
   {
    "duration": 63,
    "start_time": "2022-07-27T10:09:41.976Z"
   },
   {
    "duration": 29,
    "start_time": "2022-07-27T10:09:42.041Z"
   },
   {
    "duration": 12,
    "start_time": "2022-07-27T10:09:42.072Z"
   },
   {
    "duration": 10,
    "start_time": "2022-07-27T10:09:42.086Z"
   },
   {
    "duration": 17,
    "start_time": "2022-07-27T10:09:42.097Z"
   },
   {
    "duration": 8,
    "start_time": "2022-07-27T10:09:42.115Z"
   },
   {
    "duration": 15,
    "start_time": "2022-07-27T10:09:42.125Z"
   },
   {
    "duration": 11,
    "start_time": "2022-07-27T10:09:42.142Z"
   },
   {
    "duration": 21,
    "start_time": "2022-07-27T10:09:42.154Z"
   },
   {
    "duration": 42,
    "start_time": "2022-07-27T10:09:42.177Z"
   },
   {
    "duration": 514,
    "start_time": "2022-07-27T10:09:42.221Z"
   },
   {
    "duration": 202,
    "start_time": "2022-07-27T10:09:42.737Z"
   },
   {
    "duration": 261,
    "start_time": "2022-07-27T10:09:42.941Z"
   },
   {
    "duration": 208,
    "start_time": "2022-07-27T10:09:43.204Z"
   },
   {
    "duration": 311,
    "start_time": "2022-07-27T10:09:43.413Z"
   },
   {
    "duration": 107,
    "start_time": "2022-07-27T10:09:43.726Z"
   },
   {
    "duration": 117,
    "start_time": "2022-07-27T10:09:43.835Z"
   },
   {
    "duration": 5,
    "start_time": "2022-07-27T10:09:43.953Z"
   },
   {
    "duration": 309,
    "start_time": "2022-07-27T10:09:43.959Z"
   },
   {
    "duration": 150,
    "start_time": "2022-07-27T10:09:44.270Z"
   },
   {
    "duration": 4,
    "start_time": "2022-07-27T10:09:44.421Z"
   },
   {
    "duration": 351,
    "start_time": "2022-07-27T10:09:44.427Z"
   },
   {
    "duration": 9,
    "start_time": "2022-07-27T10:09:44.779Z"
   },
   {
    "duration": 10,
    "start_time": "2022-07-27T10:09:44.802Z"
   },
   {
    "duration": 26,
    "start_time": "2022-07-27T10:09:44.813Z"
   },
   {
    "duration": 11,
    "start_time": "2022-07-27T10:09:44.840Z"
   },
   {
    "duration": 1262,
    "start_time": "2022-07-27T10:23:57.431Z"
   },
   {
    "duration": 32,
    "start_time": "2022-07-27T10:23:58.696Z"
   },
   {
    "duration": 15,
    "start_time": "2022-07-27T10:23:58.729Z"
   },
   {
    "duration": 29,
    "start_time": "2022-07-27T10:23:58.746Z"
   },
   {
    "duration": 4,
    "start_time": "2022-07-27T10:23:58.778Z"
   },
   {
    "duration": 10,
    "start_time": "2022-07-27T10:23:58.784Z"
   },
   {
    "duration": 10,
    "start_time": "2022-07-27T10:23:58.796Z"
   },
   {
    "duration": 38,
    "start_time": "2022-07-27T10:23:58.807Z"
   },
   {
    "duration": 13,
    "start_time": "2022-07-27T10:23:58.846Z"
   },
   {
    "duration": 6,
    "start_time": "2022-07-27T10:23:58.860Z"
   },
   {
    "duration": 7,
    "start_time": "2022-07-27T10:23:58.867Z"
   },
   {
    "duration": 14,
    "start_time": "2022-07-27T10:23:58.876Z"
   },
   {
    "duration": 8,
    "start_time": "2022-07-27T10:23:58.892Z"
   },
   {
    "duration": 44,
    "start_time": "2022-07-27T10:23:58.903Z"
   },
   {
    "duration": 43,
    "start_time": "2022-07-27T10:23:58.948Z"
   },
   {
    "duration": 32,
    "start_time": "2022-07-27T10:23:58.992Z"
   },
   {
    "duration": 28,
    "start_time": "2022-07-27T10:23:59.028Z"
   },
   {
    "duration": 12,
    "start_time": "2022-07-27T10:23:59.057Z"
   },
   {
    "duration": 18,
    "start_time": "2022-07-27T10:23:59.070Z"
   },
   {
    "duration": 7,
    "start_time": "2022-07-27T10:23:59.090Z"
   },
   {
    "duration": 46,
    "start_time": "2022-07-27T10:23:59.099Z"
   },
   {
    "duration": 19,
    "start_time": "2022-07-27T10:23:59.147Z"
   },
   {
    "duration": 16,
    "start_time": "2022-07-27T10:23:59.168Z"
   },
   {
    "duration": 22,
    "start_time": "2022-07-27T10:23:59.185Z"
   },
   {
    "duration": 600,
    "start_time": "2022-07-27T10:23:59.209Z"
   },
   {
    "duration": 222,
    "start_time": "2022-07-27T10:23:59.813Z"
   },
   {
    "duration": 328,
    "start_time": "2022-07-27T10:24:00.037Z"
   },
   {
    "duration": 260,
    "start_time": "2022-07-27T10:24:00.367Z"
   },
   {
    "duration": 320,
    "start_time": "2022-07-27T10:24:00.630Z"
   },
   {
    "duration": 120,
    "start_time": "2022-07-27T10:24:00.952Z"
   },
   {
    "duration": 132,
    "start_time": "2022-07-27T10:24:01.074Z"
   },
   {
    "duration": 6,
    "start_time": "2022-07-27T10:24:01.208Z"
   },
   {
    "duration": 322,
    "start_time": "2022-07-27T10:24:01.216Z"
   },
   {
    "duration": 158,
    "start_time": "2022-07-27T10:24:01.540Z"
   },
   {
    "duration": 5,
    "start_time": "2022-07-27T10:24:01.704Z"
   },
   {
    "duration": 360,
    "start_time": "2022-07-27T10:24:01.717Z"
   },
   {
    "duration": 12,
    "start_time": "2022-07-27T10:24:02.078Z"
   },
   {
    "duration": 16,
    "start_time": "2022-07-27T10:24:02.102Z"
   },
   {
    "duration": 38,
    "start_time": "2022-07-27T10:24:02.120Z"
   },
   {
    "duration": 20,
    "start_time": "2022-07-27T10:24:02.160Z"
   },
   {
    "duration": 1084,
    "start_time": "2022-07-27T10:54:24.465Z"
   },
   {
    "duration": 27,
    "start_time": "2022-07-27T10:54:25.551Z"
   },
   {
    "duration": 11,
    "start_time": "2022-07-27T10:54:25.580Z"
   },
   {
    "duration": 25,
    "start_time": "2022-07-27T10:54:25.593Z"
   },
   {
    "duration": 3,
    "start_time": "2022-07-27T10:54:25.620Z"
   },
   {
    "duration": 9,
    "start_time": "2022-07-27T10:54:25.624Z"
   },
   {
    "duration": 4,
    "start_time": "2022-07-27T10:54:25.637Z"
   },
   {
    "duration": 6,
    "start_time": "2022-07-27T10:54:25.643Z"
   },
   {
    "duration": 9,
    "start_time": "2022-07-27T10:54:25.650Z"
   },
   {
    "duration": 6,
    "start_time": "2022-07-27T10:54:25.662Z"
   },
   {
    "duration": 6,
    "start_time": "2022-07-27T10:54:25.669Z"
   },
   {
    "duration": 17,
    "start_time": "2022-07-27T10:54:25.677Z"
   },
   {
    "duration": 33,
    "start_time": "2022-07-27T10:54:25.696Z"
   },
   {
    "duration": 28,
    "start_time": "2022-07-27T10:54:25.730Z"
   },
   {
    "duration": 58,
    "start_time": "2022-07-27T10:54:25.759Z"
   },
   {
    "duration": 22,
    "start_time": "2022-07-27T10:54:25.818Z"
   },
   {
    "duration": 25,
    "start_time": "2022-07-27T10:54:25.842Z"
   },
   {
    "duration": 18,
    "start_time": "2022-07-27T10:54:25.869Z"
   },
   {
    "duration": 21,
    "start_time": "2022-07-27T10:54:25.889Z"
   },
   {
    "duration": 8,
    "start_time": "2022-07-27T10:54:25.912Z"
   },
   {
    "duration": 24,
    "start_time": "2022-07-27T10:54:25.922Z"
   },
   {
    "duration": 21,
    "start_time": "2022-07-27T10:54:25.947Z"
   },
   {
    "duration": 24,
    "start_time": "2022-07-27T10:54:25.969Z"
   },
   {
    "duration": 28,
    "start_time": "2022-07-27T10:54:25.995Z"
   },
   {
    "duration": 529,
    "start_time": "2022-07-27T10:54:26.025Z"
   },
   {
    "duration": 214,
    "start_time": "2022-07-27T10:54:26.555Z"
   },
   {
    "duration": 273,
    "start_time": "2022-07-27T10:54:26.770Z"
   },
   {
    "duration": 204,
    "start_time": "2022-07-27T10:54:27.046Z"
   },
   {
    "duration": 303,
    "start_time": "2022-07-27T10:54:27.252Z"
   },
   {
    "duration": 117,
    "start_time": "2022-07-27T10:54:27.557Z"
   },
   {
    "duration": 116,
    "start_time": "2022-07-27T10:54:27.676Z"
   },
   {
    "duration": 4,
    "start_time": "2022-07-27T10:54:27.794Z"
   },
   {
    "duration": 320,
    "start_time": "2022-07-27T10:54:27.799Z"
   },
   {
    "duration": 144,
    "start_time": "2022-07-27T10:54:28.121Z"
   },
   {
    "duration": 4,
    "start_time": "2022-07-27T10:54:28.267Z"
   },
   {
    "duration": 375,
    "start_time": "2022-07-27T10:54:28.272Z"
   },
   {
    "duration": 10,
    "start_time": "2022-07-27T10:54:28.649Z"
   },
   {
    "duration": 23,
    "start_time": "2022-07-27T10:54:28.661Z"
   },
   {
    "duration": 41,
    "start_time": "2022-07-27T10:54:28.686Z"
   },
   {
    "duration": 12,
    "start_time": "2022-07-27T10:54:28.729Z"
   },
   {
    "duration": 77,
    "start_time": "2022-07-27T11:33:36.174Z"
   },
   {
    "duration": 1384,
    "start_time": "2022-07-28T10:37:25.978Z"
   },
   {
    "duration": 85,
    "start_time": "2022-07-28T10:37:27.365Z"
   },
   {
    "duration": 16,
    "start_time": "2022-07-28T10:37:27.452Z"
   },
   {
    "duration": 41,
    "start_time": "2022-07-28T10:37:27.470Z"
   },
   {
    "duration": 24,
    "start_time": "2022-07-28T10:37:27.513Z"
   },
   {
    "duration": 19,
    "start_time": "2022-07-28T10:37:27.539Z"
   },
   {
    "duration": 7,
    "start_time": "2022-07-28T10:37:27.560Z"
   },
   {
    "duration": 12,
    "start_time": "2022-07-28T10:37:27.568Z"
   },
   {
    "duration": 19,
    "start_time": "2022-07-28T10:37:27.581Z"
   },
   {
    "duration": 34,
    "start_time": "2022-07-28T10:37:27.609Z"
   },
   {
    "duration": 10,
    "start_time": "2022-07-28T10:37:27.645Z"
   },
   {
    "duration": 19,
    "start_time": "2022-07-28T10:37:27.657Z"
   },
   {
    "duration": 10,
    "start_time": "2022-07-28T10:37:27.678Z"
   },
   {
    "duration": 13,
    "start_time": "2022-07-28T10:37:27.690Z"
   },
   {
    "duration": 119,
    "start_time": "2022-07-28T10:37:27.705Z"
   },
   {
    "duration": 21,
    "start_time": "2022-07-28T10:37:27.825Z"
   },
   {
    "duration": 9,
    "start_time": "2022-07-28T10:37:27.848Z"
   },
   {
    "duration": 9,
    "start_time": "2022-07-28T10:37:27.858Z"
   },
   {
    "duration": 79,
    "start_time": "2022-07-28T10:37:27.869Z"
   },
   {
    "duration": 7,
    "start_time": "2022-07-28T10:37:27.950Z"
   },
   {
    "duration": 13,
    "start_time": "2022-07-28T10:37:27.959Z"
   },
   {
    "duration": 10,
    "start_time": "2022-07-28T10:37:27.974Z"
   },
   {
    "duration": 15,
    "start_time": "2022-07-28T10:37:27.986Z"
   },
   {
    "duration": 22,
    "start_time": "2022-07-28T10:37:28.003Z"
   },
   {
    "duration": 562,
    "start_time": "2022-07-28T10:37:28.027Z"
   },
   {
    "duration": 235,
    "start_time": "2022-07-28T10:37:28.590Z"
   },
   {
    "duration": 341,
    "start_time": "2022-07-28T10:37:28.827Z"
   },
   {
    "duration": 210,
    "start_time": "2022-07-28T10:37:29.170Z"
   },
   {
    "duration": 337,
    "start_time": "2022-07-28T10:37:29.382Z"
   },
   {
    "duration": 117,
    "start_time": "2022-07-28T10:37:29.720Z"
   },
   {
    "duration": 130,
    "start_time": "2022-07-28T10:37:29.839Z"
   },
   {
    "duration": 3,
    "start_time": "2022-07-28T10:37:29.971Z"
   },
   {
    "duration": 343,
    "start_time": "2022-07-28T10:37:29.976Z"
   },
   {
    "duration": 139,
    "start_time": "2022-07-28T10:37:30.323Z"
   },
   {
    "duration": 4,
    "start_time": "2022-07-28T10:37:30.463Z"
   },
   {
    "duration": 369,
    "start_time": "2022-07-28T10:37:30.469Z"
   },
   {
    "duration": 10,
    "start_time": "2022-07-28T10:37:30.839Z"
   },
   {
    "duration": 10,
    "start_time": "2022-07-28T10:37:30.850Z"
   },
   {
    "duration": 50,
    "start_time": "2022-07-28T10:37:30.861Z"
   },
   {
    "duration": 22,
    "start_time": "2022-07-28T10:37:30.918Z"
   },
   {
    "duration": 136,
    "start_time": "2022-07-28T10:49:55.937Z"
   },
   {
    "duration": 1508,
    "start_time": "2022-07-28T11:17:03.589Z"
   },
   {
    "duration": 84,
    "start_time": "2022-07-28T11:17:05.098Z"
   },
   {
    "duration": 13,
    "start_time": "2022-07-28T11:17:05.184Z"
   },
   {
    "duration": 38,
    "start_time": "2022-07-28T11:17:05.200Z"
   },
   {
    "duration": 21,
    "start_time": "2022-07-28T11:17:05.245Z"
   },
   {
    "duration": 7,
    "start_time": "2022-07-28T11:17:05.267Z"
   },
   {
    "duration": 8,
    "start_time": "2022-07-28T11:17:05.276Z"
   },
   {
    "duration": 9,
    "start_time": "2022-07-28T11:17:05.285Z"
   },
   {
    "duration": 18,
    "start_time": "2022-07-28T11:17:05.295Z"
   },
   {
    "duration": 6,
    "start_time": "2022-07-28T11:17:05.316Z"
   },
   {
    "duration": 45,
    "start_time": "2022-07-28T11:17:05.324Z"
   },
   {
    "duration": 11,
    "start_time": "2022-07-28T11:17:05.370Z"
   },
   {
    "duration": 11,
    "start_time": "2022-07-28T11:17:05.384Z"
   },
   {
    "duration": 12,
    "start_time": "2022-07-28T11:17:05.397Z"
   },
   {
    "duration": 113,
    "start_time": "2022-07-28T11:17:05.410Z"
   },
   {
    "duration": 42,
    "start_time": "2022-07-28T11:17:05.528Z"
   },
   {
    "duration": 17,
    "start_time": "2022-07-28T11:17:05.576Z"
   },
   {
    "duration": 15,
    "start_time": "2022-07-28T11:17:05.595Z"
   },
   {
    "duration": 79,
    "start_time": "2022-07-28T11:17:05.612Z"
   },
   {
    "duration": 10,
    "start_time": "2022-07-28T11:17:05.693Z"
   },
   {
    "duration": 14,
    "start_time": "2022-07-28T11:17:05.705Z"
   },
   {
    "duration": 35,
    "start_time": "2022-07-28T11:17:05.720Z"
   },
   {
    "duration": 31,
    "start_time": "2022-07-28T11:17:05.757Z"
   },
   {
    "duration": 23,
    "start_time": "2022-07-28T11:17:05.789Z"
   },
   {
    "duration": 641,
    "start_time": "2022-07-28T11:17:05.814Z"
   },
   {
    "duration": 260,
    "start_time": "2022-07-28T11:17:06.457Z"
   },
   {
    "duration": 420,
    "start_time": "2022-07-28T11:17:06.719Z"
   },
   {
    "duration": 328,
    "start_time": "2022-07-28T11:17:07.145Z"
   },
   {
    "duration": 396,
    "start_time": "2022-07-28T11:17:07.475Z"
   },
   {
    "duration": 171,
    "start_time": "2022-07-28T11:17:07.875Z"
   },
   {
    "duration": 146,
    "start_time": "2022-07-28T11:17:08.048Z"
   },
   {
    "duration": 5,
    "start_time": "2022-07-28T11:17:08.196Z"
   },
   {
    "duration": 498,
    "start_time": "2022-07-28T11:17:08.203Z"
   },
   {
    "duration": 202,
    "start_time": "2022-07-28T11:17:08.702Z"
   },
   {
    "duration": 21,
    "start_time": "2022-07-28T11:17:08.906Z"
   },
   {
    "duration": 485,
    "start_time": "2022-07-28T11:17:08.934Z"
   },
   {
    "duration": 24,
    "start_time": "2022-07-28T11:17:09.427Z"
   },
   {
    "duration": 33,
    "start_time": "2022-07-28T11:17:09.453Z"
   },
   {
    "duration": 55,
    "start_time": "2022-07-28T11:17:09.489Z"
   },
   {
    "duration": 19,
    "start_time": "2022-07-28T11:17:09.547Z"
   },
   {
    "duration": 8,
    "start_time": "2022-07-28T11:18:09.486Z"
   },
   {
    "duration": 1421,
    "start_time": "2022-07-28T11:18:25.979Z"
   },
   {
    "duration": 46,
    "start_time": "2022-07-28T11:18:27.402Z"
   },
   {
    "duration": 18,
    "start_time": "2022-07-28T11:18:27.450Z"
   },
   {
    "duration": 53,
    "start_time": "2022-07-28T11:18:27.474Z"
   },
   {
    "duration": 47,
    "start_time": "2022-07-28T11:18:27.529Z"
   },
   {
    "duration": 13,
    "start_time": "2022-07-28T11:18:27.578Z"
   },
   {
    "duration": 18,
    "start_time": "2022-07-28T11:18:27.593Z"
   },
   {
    "duration": 24,
    "start_time": "2022-07-28T11:18:27.613Z"
   },
   {
    "duration": 51,
    "start_time": "2022-07-28T11:18:27.639Z"
   },
   {
    "duration": 17,
    "start_time": "2022-07-28T11:18:27.693Z"
   },
   {
    "duration": 13,
    "start_time": "2022-07-28T11:18:27.712Z"
   },
   {
    "duration": 57,
    "start_time": "2022-07-28T11:18:27.729Z"
   },
   {
    "duration": 9,
    "start_time": "2022-07-28T11:18:27.788Z"
   },
   {
    "duration": 19,
    "start_time": "2022-07-28T11:18:27.799Z"
   },
   {
    "duration": 74,
    "start_time": "2022-07-28T11:18:27.820Z"
   },
   {
    "duration": 35,
    "start_time": "2022-07-28T11:18:27.897Z"
   },
   {
    "duration": 40,
    "start_time": "2022-07-28T11:18:27.934Z"
   },
   {
    "duration": 12,
    "start_time": "2022-07-28T11:18:27.976Z"
   },
   {
    "duration": 20,
    "start_time": "2022-07-28T11:18:27.990Z"
   },
   {
    "duration": 9,
    "start_time": "2022-07-28T11:18:28.012Z"
   },
   {
    "duration": 44,
    "start_time": "2022-07-28T11:18:28.027Z"
   },
   {
    "duration": 11,
    "start_time": "2022-07-28T11:18:28.073Z"
   },
   {
    "duration": 18,
    "start_time": "2022-07-28T11:18:28.086Z"
   },
   {
    "duration": 29,
    "start_time": "2022-07-28T11:18:28.105Z"
   },
   {
    "duration": 643,
    "start_time": "2022-07-28T11:18:28.139Z"
   },
   {
    "duration": 259,
    "start_time": "2022-07-28T11:18:28.784Z"
   },
   {
    "duration": 333,
    "start_time": "2022-07-28T11:18:29.046Z"
   },
   {
    "duration": 265,
    "start_time": "2022-07-28T11:18:29.384Z"
   },
   {
    "duration": 331,
    "start_time": "2022-07-28T11:18:29.653Z"
   },
   {
    "duration": 135,
    "start_time": "2022-07-28T11:18:29.986Z"
   },
   {
    "duration": 144,
    "start_time": "2022-07-28T11:18:30.124Z"
   },
   {
    "duration": 4,
    "start_time": "2022-07-28T11:18:30.270Z"
   },
   {
    "duration": 490,
    "start_time": "2022-07-28T11:18:30.276Z"
   },
   {
    "duration": 159,
    "start_time": "2022-07-28T11:18:30.768Z"
   },
   {
    "duration": 7,
    "start_time": "2022-07-28T11:18:30.931Z"
   },
   {
    "duration": 486,
    "start_time": "2022-07-28T11:18:30.941Z"
   },
   {
    "duration": 25,
    "start_time": "2022-07-28T11:18:31.429Z"
   },
   {
    "duration": 34,
    "start_time": "2022-07-28T11:18:31.457Z"
   },
   {
    "duration": 79,
    "start_time": "2022-07-28T11:18:31.494Z"
   },
   {
    "duration": 31,
    "start_time": "2022-07-28T11:18:31.575Z"
   },
   {
    "duration": 1517,
    "start_time": "2022-07-28T11:20:10.468Z"
   },
   {
    "duration": 30,
    "start_time": "2022-07-28T11:20:11.988Z"
   },
   {
    "duration": 23,
    "start_time": "2022-07-28T11:20:12.020Z"
   },
   {
    "duration": 67,
    "start_time": "2022-07-28T11:20:12.046Z"
   },
   {
    "duration": 4,
    "start_time": "2022-07-28T11:20:12.115Z"
   },
   {
    "duration": 54,
    "start_time": "2022-07-28T11:20:12.121Z"
   },
   {
    "duration": 27,
    "start_time": "2022-07-28T11:20:12.177Z"
   },
   {
    "duration": 46,
    "start_time": "2022-07-28T11:20:12.209Z"
   },
   {
    "duration": 28,
    "start_time": "2022-07-28T11:20:12.260Z"
   },
   {
    "duration": 30,
    "start_time": "2022-07-28T11:20:12.292Z"
   },
   {
    "duration": 52,
    "start_time": "2022-07-28T11:20:12.328Z"
   },
   {
    "duration": 32,
    "start_time": "2022-07-28T11:20:12.382Z"
   },
   {
    "duration": 10,
    "start_time": "2022-07-28T11:20:12.417Z"
   },
   {
    "duration": 49,
    "start_time": "2022-07-28T11:20:12.429Z"
   },
   {
    "duration": 75,
    "start_time": "2022-07-28T11:20:12.480Z"
   },
   {
    "duration": 28,
    "start_time": "2022-07-28T11:20:12.557Z"
   },
   {
    "duration": 15,
    "start_time": "2022-07-28T11:20:12.588Z"
   },
   {
    "duration": 12,
    "start_time": "2022-07-28T11:20:12.606Z"
   },
   {
    "duration": 30,
    "start_time": "2022-07-28T11:20:12.621Z"
   },
   {
    "duration": 14,
    "start_time": "2022-07-28T11:20:12.654Z"
   },
   {
    "duration": 25,
    "start_time": "2022-07-28T11:20:12.670Z"
   },
   {
    "duration": 31,
    "start_time": "2022-07-28T11:20:12.697Z"
   },
   {
    "duration": 53,
    "start_time": "2022-07-28T11:20:12.730Z"
   },
   {
    "duration": 31,
    "start_time": "2022-07-28T11:20:12.785Z"
   },
   {
    "duration": 792,
    "start_time": "2022-07-28T11:20:12.819Z"
   },
   {
    "duration": 608,
    "start_time": "2022-07-28T11:20:13.616Z"
   },
   {
    "duration": 622,
    "start_time": "2022-07-28T11:20:14.227Z"
   },
   {
    "duration": 597,
    "start_time": "2022-07-28T11:20:14.854Z"
   },
   {
    "duration": 683,
    "start_time": "2022-07-28T11:20:15.453Z"
   },
   {
    "duration": 323,
    "start_time": "2022-07-28T11:20:16.138Z"
   },
   {
    "duration": 196,
    "start_time": "2022-07-28T11:20:16.463Z"
   },
   {
    "duration": 6,
    "start_time": "2022-07-28T11:20:16.661Z"
   },
   {
    "duration": 483,
    "start_time": "2022-07-28T11:20:16.669Z"
   },
   {
    "duration": 207,
    "start_time": "2022-07-28T11:20:17.154Z"
   },
   {
    "duration": 7,
    "start_time": "2022-07-28T11:20:17.364Z"
   },
   {
    "duration": 684,
    "start_time": "2022-07-28T11:20:17.373Z"
   },
   {
    "duration": 14,
    "start_time": "2022-07-28T11:20:18.059Z"
   },
   {
    "duration": 13,
    "start_time": "2022-07-28T11:20:18.076Z"
   },
   {
    "duration": 100,
    "start_time": "2022-07-28T11:20:18.091Z"
   },
   {
    "duration": 14,
    "start_time": "2022-07-28T11:20:18.193Z"
   },
   {
    "duration": 9,
    "start_time": "2022-07-28T11:27:02.971Z"
   },
   {
    "duration": 6,
    "start_time": "2022-07-28T11:29:41.971Z"
   },
   {
    "duration": 10,
    "start_time": "2022-07-28T11:29:43.867Z"
   },
   {
    "duration": 8,
    "start_time": "2022-07-28T11:31:41.330Z"
   },
   {
    "duration": 6,
    "start_time": "2022-07-28T11:34:20.808Z"
   },
   {
    "duration": 6,
    "start_time": "2022-07-28T11:39:45.265Z"
   },
   {
    "duration": 5,
    "start_time": "2022-07-28T11:42:36.285Z"
   },
   {
    "duration": 51,
    "start_time": "2022-07-28T11:44:40.918Z"
   },
   {
    "duration": 101,
    "start_time": "2022-07-28T11:44:48.640Z"
   },
   {
    "duration": 14,
    "start_time": "2022-07-28T11:44:56.523Z"
   },
   {
    "duration": 8,
    "start_time": "2022-07-28T11:45:09.955Z"
   },
   {
    "duration": 7,
    "start_time": "2022-07-28T11:45:18.551Z"
   },
   {
    "duration": 7,
    "start_time": "2022-07-28T11:45:38.911Z"
   },
   {
    "duration": 353,
    "start_time": "2022-07-28T11:46:45.625Z"
   },
   {
    "duration": 358,
    "start_time": "2022-07-28T11:48:27.858Z"
   },
   {
    "duration": 477,
    "start_time": "2022-07-28T11:48:38.274Z"
   },
   {
    "duration": 197,
    "start_time": "2022-07-28T11:51:03.509Z"
   },
   {
    "duration": 91,
    "start_time": "2022-07-28T11:58:13.113Z"
   },
   {
    "duration": 91,
    "start_time": "2022-07-28T11:58:31.078Z"
   },
   {
    "duration": 222,
    "start_time": "2022-07-28T11:58:36.645Z"
   },
   {
    "duration": 303,
    "start_time": "2022-07-28T12:00:05.629Z"
   },
   {
    "duration": 142,
    "start_time": "2022-07-28T12:01:30.921Z"
   },
   {
    "duration": 214,
    "start_time": "2022-07-28T12:02:25.646Z"
   },
   {
    "duration": 119,
    "start_time": "2022-07-28T12:02:35.895Z"
   },
   {
    "duration": 127,
    "start_time": "2022-07-28T12:03:00.907Z"
   },
   {
    "duration": 141,
    "start_time": "2022-07-28T12:05:06.718Z"
   },
   {
    "duration": 136,
    "start_time": "2022-07-28T12:05:22.508Z"
   },
   {
    "duration": 151,
    "start_time": "2022-07-28T12:05:24.871Z"
   },
   {
    "duration": 3,
    "start_time": "2022-07-28T12:16:31.690Z"
   },
   {
    "duration": 10,
    "start_time": "2022-07-28T12:16:32.652Z"
   },
   {
    "duration": 15,
    "start_time": "2022-07-28T12:19:55.622Z"
   },
   {
    "duration": 3,
    "start_time": "2022-07-28T12:20:07.783Z"
   },
   {
    "duration": 9,
    "start_time": "2022-07-28T12:20:11.534Z"
   },
   {
    "duration": 1109,
    "start_time": "2022-07-28T12:26:25.868Z"
   },
   {
    "duration": 27,
    "start_time": "2022-07-28T12:26:26.979Z"
   },
   {
    "duration": 11,
    "start_time": "2022-07-28T12:26:27.008Z"
   },
   {
    "duration": 45,
    "start_time": "2022-07-28T12:26:27.021Z"
   },
   {
    "duration": 4,
    "start_time": "2022-07-28T12:26:27.068Z"
   },
   {
    "duration": 10,
    "start_time": "2022-07-28T12:26:27.074Z"
   },
   {
    "duration": 8,
    "start_time": "2022-07-28T12:26:27.085Z"
   },
   {
    "duration": 6,
    "start_time": "2022-07-28T12:26:27.094Z"
   },
   {
    "duration": 11,
    "start_time": "2022-07-28T12:26:27.102Z"
   },
   {
    "duration": 10,
    "start_time": "2022-07-28T12:26:27.131Z"
   },
   {
    "duration": 9,
    "start_time": "2022-07-28T12:26:27.142Z"
   },
   {
    "duration": 13,
    "start_time": "2022-07-28T12:26:27.153Z"
   },
   {
    "duration": 10,
    "start_time": "2022-07-28T12:26:27.167Z"
   },
   {
    "duration": 56,
    "start_time": "2022-07-28T12:26:27.179Z"
   },
   {
    "duration": 26,
    "start_time": "2022-07-28T12:26:27.242Z"
   },
   {
    "duration": 31,
    "start_time": "2022-07-28T12:26:27.270Z"
   },
   {
    "duration": 12,
    "start_time": "2022-07-28T12:26:27.303Z"
   },
   {
    "duration": 41,
    "start_time": "2022-07-28T12:26:27.316Z"
   },
   {
    "duration": 9,
    "start_time": "2022-07-28T12:26:27.360Z"
   },
   {
    "duration": 18,
    "start_time": "2022-07-28T12:26:27.372Z"
   },
   {
    "duration": 20,
    "start_time": "2022-07-28T12:26:27.393Z"
   },
   {
    "duration": 35,
    "start_time": "2022-07-28T12:26:27.416Z"
   },
   {
    "duration": 37,
    "start_time": "2022-07-28T12:26:27.453Z"
   },
   {
    "duration": 22,
    "start_time": "2022-07-28T12:26:27.492Z"
   },
   {
    "duration": 26,
    "start_time": "2022-07-28T12:26:27.516Z"
   },
   {
    "duration": 572,
    "start_time": "2022-07-28T12:26:27.546Z"
   },
   {
    "duration": 101,
    "start_time": "2022-07-28T12:26:28.123Z"
   },
   {
    "duration": 213,
    "start_time": "2022-07-28T12:26:28.230Z"
   },
   {
    "duration": 310,
    "start_time": "2022-07-28T12:26:28.445Z"
   },
   {
    "duration": 213,
    "start_time": "2022-07-28T12:26:28.756Z"
   },
   {
    "duration": 304,
    "start_time": "2022-07-28T12:26:28.971Z"
   },
   {
    "duration": 137,
    "start_time": "2022-07-28T12:26:29.277Z"
   },
   {
    "duration": 148,
    "start_time": "2022-07-28T12:26:29.416Z"
   },
   {
    "duration": 4,
    "start_time": "2022-07-28T12:26:29.566Z"
   },
   {
    "duration": 336,
    "start_time": "2022-07-28T12:26:29.571Z"
   },
   {
    "duration": 156,
    "start_time": "2022-07-28T12:26:29.909Z"
   },
   {
    "duration": 169,
    "start_time": "2022-07-28T12:26:30.067Z"
   },
   {
    "duration": 4,
    "start_time": "2022-07-28T12:26:30.238Z"
   },
   {
    "duration": 405,
    "start_time": "2022-07-28T12:26:30.244Z"
   },
   {
    "duration": 10,
    "start_time": "2022-07-28T12:26:30.651Z"
   },
   {
    "duration": 16,
    "start_time": "2022-07-28T12:26:30.662Z"
   },
   {
    "duration": 27,
    "start_time": "2022-07-28T12:26:30.680Z"
   },
   {
    "duration": 21,
    "start_time": "2022-07-28T12:26:30.709Z"
   },
   {
    "duration": 48,
    "start_time": "2022-07-28T12:26:30.734Z"
   },
   {
    "duration": 14,
    "start_time": "2022-07-28T12:26:30.784Z"
   },
   {
    "duration": 1106,
    "start_time": "2022-07-28T13:59:31.032Z"
   },
   {
    "duration": 26,
    "start_time": "2022-07-28T13:59:32.140Z"
   },
   {
    "duration": 10,
    "start_time": "2022-07-28T13:59:32.167Z"
   },
   {
    "duration": 33,
    "start_time": "2022-07-28T13:59:32.178Z"
   },
   {
    "duration": 3,
    "start_time": "2022-07-28T13:59:32.212Z"
   },
   {
    "duration": 8,
    "start_time": "2022-07-28T13:59:32.217Z"
   },
   {
    "duration": 5,
    "start_time": "2022-07-28T13:59:32.226Z"
   },
   {
    "duration": 6,
    "start_time": "2022-07-28T13:59:32.233Z"
   },
   {
    "duration": 9,
    "start_time": "2022-07-28T13:59:32.241Z"
   },
   {
    "duration": 7,
    "start_time": "2022-07-28T13:59:32.253Z"
   },
   {
    "duration": 6,
    "start_time": "2022-07-28T13:59:32.262Z"
   },
   {
    "duration": 11,
    "start_time": "2022-07-28T13:59:32.270Z"
   },
   {
    "duration": 31,
    "start_time": "2022-07-28T13:59:32.282Z"
   },
   {
    "duration": 50,
    "start_time": "2022-07-28T13:59:32.315Z"
   },
   {
    "duration": 19,
    "start_time": "2022-07-28T13:59:32.367Z"
   },
   {
    "duration": 19,
    "start_time": "2022-07-28T13:59:32.388Z"
   },
   {
    "duration": 20,
    "start_time": "2022-07-28T13:59:32.408Z"
   },
   {
    "duration": 17,
    "start_time": "2022-07-28T13:59:32.429Z"
   },
   {
    "duration": 7,
    "start_time": "2022-07-28T13:59:32.448Z"
   },
   {
    "duration": 13,
    "start_time": "2022-07-28T13:59:32.456Z"
   },
   {
    "duration": 10,
    "start_time": "2022-07-28T13:59:32.471Z"
   },
   {
    "duration": 20,
    "start_time": "2022-07-28T13:59:32.483Z"
   },
   {
    "duration": 22,
    "start_time": "2022-07-28T13:59:32.505Z"
   },
   {
    "duration": 8,
    "start_time": "2022-07-28T13:59:32.528Z"
   },
   {
    "duration": 10,
    "start_time": "2022-07-28T13:59:32.537Z"
   },
   {
    "duration": 521,
    "start_time": "2022-07-28T13:59:32.548Z"
   },
   {
    "duration": 96,
    "start_time": "2022-07-28T13:59:33.071Z"
   },
   {
    "duration": 190,
    "start_time": "2022-07-28T13:59:33.170Z"
   },
   {
    "duration": 284,
    "start_time": "2022-07-28T13:59:33.362Z"
   },
   {
    "duration": 192,
    "start_time": "2022-07-28T13:59:33.647Z"
   },
   {
    "duration": 265,
    "start_time": "2022-07-28T13:59:33.840Z"
   },
   {
    "duration": 128,
    "start_time": "2022-07-28T13:59:34.106Z"
   },
   {
    "duration": 115,
    "start_time": "2022-07-28T13:59:34.235Z"
   },
   {
    "duration": 4,
    "start_time": "2022-07-28T13:59:34.351Z"
   },
   {
    "duration": 298,
    "start_time": "2022-07-28T13:59:34.356Z"
   },
   {
    "duration": 134,
    "start_time": "2022-07-28T13:59:34.655Z"
   },
   {
    "duration": 143,
    "start_time": "2022-07-28T13:59:34.790Z"
   },
   {
    "duration": 3,
    "start_time": "2022-07-28T13:59:34.935Z"
   },
   {
    "duration": 360,
    "start_time": "2022-07-28T13:59:34.940Z"
   },
   {
    "duration": 15,
    "start_time": "2022-07-28T13:59:35.302Z"
   },
   {
    "duration": 2,
    "start_time": "2022-07-28T13:59:35.319Z"
   },
   {
    "duration": 11,
    "start_time": "2022-07-28T13:59:35.324Z"
   },
   {
    "duration": 5,
    "start_time": "2022-07-28T13:59:35.336Z"
   },
   {
    "duration": 25,
    "start_time": "2022-07-28T13:59:35.342Z"
   },
   {
    "duration": 39,
    "start_time": "2022-07-28T13:59:35.368Z"
   },
   {
    "duration": 6,
    "start_time": "2022-07-28T14:00:17.281Z"
   },
   {
    "duration": 6,
    "start_time": "2022-07-28T14:00:19.243Z"
   },
   {
    "duration": 103,
    "start_time": "2022-07-28T14:07:07.715Z"
   },
   {
    "duration": 82,
    "start_time": "2022-07-28T14:07:43.475Z"
   },
   {
    "duration": 12,
    "start_time": "2022-07-28T14:08:19.331Z"
   },
   {
    "duration": 11,
    "start_time": "2022-07-28T14:08:38.757Z"
   },
   {
    "duration": 96,
    "start_time": "2022-07-28T14:09:30.537Z"
   },
   {
    "duration": 94,
    "start_time": "2022-07-28T14:10:10.663Z"
   },
   {
    "duration": 106,
    "start_time": "2022-07-28T14:10:15.174Z"
   },
   {
    "duration": 96,
    "start_time": "2022-07-28T14:10:19.054Z"
   },
   {
    "duration": 10,
    "start_time": "2022-07-28T14:13:07.677Z"
   },
   {
    "duration": 345,
    "start_time": "2022-07-28T14:13:09.237Z"
   },
   {
    "duration": 1142,
    "start_time": "2022-07-28T14:14:24.827Z"
   },
   {
    "duration": 27,
    "start_time": "2022-07-28T14:14:25.971Z"
   },
   {
    "duration": 21,
    "start_time": "2022-07-28T14:14:25.999Z"
   },
   {
    "duration": 27,
    "start_time": "2022-07-28T14:14:26.021Z"
   },
   {
    "duration": 3,
    "start_time": "2022-07-28T14:14:26.050Z"
   },
   {
    "duration": 12,
    "start_time": "2022-07-28T14:14:26.054Z"
   },
   {
    "duration": 8,
    "start_time": "2022-07-28T14:14:26.068Z"
   },
   {
    "duration": 6,
    "start_time": "2022-07-28T14:14:26.077Z"
   },
   {
    "duration": 29,
    "start_time": "2022-07-28T14:14:26.084Z"
   },
   {
    "duration": 7,
    "start_time": "2022-07-28T14:14:26.115Z"
   },
   {
    "duration": 7,
    "start_time": "2022-07-28T14:14:26.123Z"
   },
   {
    "duration": 10,
    "start_time": "2022-07-28T14:14:26.131Z"
   },
   {
    "duration": 10,
    "start_time": "2022-07-28T14:14:26.142Z"
   },
   {
    "duration": 42,
    "start_time": "2022-07-28T14:14:26.154Z"
   },
   {
    "duration": 31,
    "start_time": "2022-07-28T14:14:26.197Z"
   },
   {
    "duration": 18,
    "start_time": "2022-07-28T14:14:26.229Z"
   },
   {
    "duration": 8,
    "start_time": "2022-07-28T14:14:26.248Z"
   },
   {
    "duration": 17,
    "start_time": "2022-07-28T14:14:26.257Z"
   },
   {
    "duration": 7,
    "start_time": "2022-07-28T14:14:26.276Z"
   },
   {
    "duration": 19,
    "start_time": "2022-07-28T14:14:26.284Z"
   },
   {
    "duration": 29,
    "start_time": "2022-07-28T14:14:26.304Z"
   },
   {
    "duration": 17,
    "start_time": "2022-07-28T14:14:26.335Z"
   },
   {
    "duration": 19,
    "start_time": "2022-07-28T14:14:26.353Z"
   },
   {
    "duration": 12,
    "start_time": "2022-07-28T14:14:26.373Z"
   },
   {
    "duration": 8,
    "start_time": "2022-07-28T14:14:26.387Z"
   },
   {
    "duration": 549,
    "start_time": "2022-07-28T14:14:26.397Z"
   },
   {
    "duration": 3,
    "start_time": "2022-07-28T14:14:26.948Z"
   },
   {
    "duration": 126,
    "start_time": "2022-07-28T14:14:26.953Z"
   },
   {
    "duration": 97,
    "start_time": "2022-07-28T14:14:27.081Z"
   },
   {
    "duration": 222,
    "start_time": "2022-07-28T14:14:27.180Z"
   },
   {
    "duration": 320,
    "start_time": "2022-07-28T14:14:27.404Z"
   },
   {
    "duration": 225,
    "start_time": "2022-07-28T14:14:27.725Z"
   },
   {
    "duration": 304,
    "start_time": "2022-07-28T14:14:27.951Z"
   },
   {
    "duration": 141,
    "start_time": "2022-07-28T14:14:28.257Z"
   },
   {
    "duration": 224,
    "start_time": "2022-07-28T14:14:28.400Z"
   },
   {
    "duration": 5,
    "start_time": "2022-07-28T14:14:28.626Z"
   },
   {
    "duration": 269,
    "start_time": "2022-07-28T14:14:28.633Z"
   },
   {
    "duration": 140,
    "start_time": "2022-07-28T14:14:28.906Z"
   },
   {
    "duration": 146,
    "start_time": "2022-07-28T14:14:29.047Z"
   },
   {
    "duration": 12,
    "start_time": "2022-07-28T14:14:29.194Z"
   },
   {
    "duration": 353,
    "start_time": "2022-07-28T14:14:29.212Z"
   },
   {
    "duration": 9,
    "start_time": "2022-07-28T14:14:29.566Z"
   },
   {
    "duration": 4,
    "start_time": "2022-07-28T14:14:29.576Z"
   },
   {
    "duration": 27,
    "start_time": "2022-07-28T14:14:29.581Z"
   },
   {
    "duration": 11,
    "start_time": "2022-07-28T14:14:29.616Z"
   },
   {
    "duration": 26,
    "start_time": "2022-07-28T14:14:29.628Z"
   },
   {
    "duration": 12,
    "start_time": "2022-07-28T14:14:29.656Z"
   },
   {
    "duration": 3,
    "start_time": "2022-07-28T14:14:40.844Z"
   },
   {
    "duration": 87,
    "start_time": "2022-07-28T14:14:43.235Z"
   },
   {
    "duration": 3,
    "start_time": "2022-07-28T14:14:47.353Z"
   },
   {
    "duration": 87,
    "start_time": "2022-07-28T14:14:48.592Z"
   },
   {
    "duration": 101,
    "start_time": "2022-07-28T14:14:55.436Z"
   },
   {
    "duration": 3,
    "start_time": "2022-07-28T14:14:58.729Z"
   },
   {
    "duration": 94,
    "start_time": "2022-07-28T14:14:59.695Z"
   },
   {
    "duration": 7,
    "start_time": "2022-07-28T14:15:04.108Z"
   },
   {
    "duration": 97,
    "start_time": "2022-07-28T14:15:05.231Z"
   },
   {
    "duration": 88,
    "start_time": "2022-07-28T14:15:08.632Z"
   },
   {
    "duration": 325,
    "start_time": "2022-07-28T14:15:09.598Z"
   },
   {
    "duration": 114,
    "start_time": "2022-07-28T14:15:44.739Z"
   },
   {
    "duration": 120,
    "start_time": "2022-07-28T14:15:55.175Z"
   },
   {
    "duration": 119,
    "start_time": "2022-07-28T14:16:01.397Z"
   },
   {
    "duration": 424,
    "start_time": "2022-07-28T14:16:11.229Z"
   },
   {
    "duration": 258,
    "start_time": "2022-07-28T14:17:58.160Z"
   },
   {
    "duration": 1164,
    "start_time": "2022-07-28T14:18:04.195Z"
   },
   {
    "duration": 28,
    "start_time": "2022-07-28T14:18:05.360Z"
   },
   {
    "duration": 13,
    "start_time": "2022-07-28T14:18:05.390Z"
   },
   {
    "duration": 25,
    "start_time": "2022-07-28T14:18:05.417Z"
   },
   {
    "duration": 3,
    "start_time": "2022-07-28T14:18:05.444Z"
   },
   {
    "duration": 12,
    "start_time": "2022-07-28T14:18:05.449Z"
   },
   {
    "duration": 6,
    "start_time": "2022-07-28T14:18:05.463Z"
   },
   {
    "duration": 7,
    "start_time": "2022-07-28T14:18:05.471Z"
   },
   {
    "duration": 9,
    "start_time": "2022-07-28T14:18:05.479Z"
   },
   {
    "duration": 7,
    "start_time": "2022-07-28T14:18:05.502Z"
   },
   {
    "duration": 9,
    "start_time": "2022-07-28T14:18:05.511Z"
   },
   {
    "duration": 10,
    "start_time": "2022-07-28T14:18:05.522Z"
   },
   {
    "duration": 8,
    "start_time": "2022-07-28T14:18:05.533Z"
   },
   {
    "duration": 42,
    "start_time": "2022-07-28T14:18:05.543Z"
   },
   {
    "duration": 31,
    "start_time": "2022-07-28T14:18:05.586Z"
   },
   {
    "duration": 15,
    "start_time": "2022-07-28T14:18:05.618Z"
   },
   {
    "duration": 10,
    "start_time": "2022-07-28T14:18:05.635Z"
   },
   {
    "duration": 18,
    "start_time": "2022-07-28T14:18:05.646Z"
   },
   {
    "duration": 7,
    "start_time": "2022-07-28T14:18:05.665Z"
   },
   {
    "duration": 11,
    "start_time": "2022-07-28T14:18:05.674Z"
   },
   {
    "duration": 11,
    "start_time": "2022-07-28T14:18:05.686Z"
   },
   {
    "duration": 32,
    "start_time": "2022-07-28T14:18:05.698Z"
   },
   {
    "duration": 19,
    "start_time": "2022-07-28T14:18:05.732Z"
   },
   {
    "duration": 7,
    "start_time": "2022-07-28T14:18:05.752Z"
   },
   {
    "duration": 11,
    "start_time": "2022-07-28T14:18:05.760Z"
   },
   {
    "duration": 525,
    "start_time": "2022-07-28T14:18:05.773Z"
   },
   {
    "duration": 99,
    "start_time": "2022-07-28T14:18:06.301Z"
   },
   {
    "duration": 0,
    "start_time": "2022-07-28T14:18:06.404Z"
   },
   {
    "duration": 0,
    "start_time": "2022-07-28T14:18:06.404Z"
   },
   {
    "duration": 0,
    "start_time": "2022-07-28T14:18:06.405Z"
   },
   {
    "duration": 0,
    "start_time": "2022-07-28T14:18:06.405Z"
   },
   {
    "duration": 0,
    "start_time": "2022-07-28T14:18:06.406Z"
   },
   {
    "duration": 0,
    "start_time": "2022-07-28T14:18:06.406Z"
   },
   {
    "duration": 0,
    "start_time": "2022-07-28T14:18:06.416Z"
   },
   {
    "duration": 0,
    "start_time": "2022-07-28T14:18:06.417Z"
   },
   {
    "duration": 0,
    "start_time": "2022-07-28T14:18:06.419Z"
   },
   {
    "duration": 0,
    "start_time": "2022-07-28T14:18:06.420Z"
   },
   {
    "duration": 0,
    "start_time": "2022-07-28T14:18:06.422Z"
   },
   {
    "duration": 0,
    "start_time": "2022-07-28T14:18:06.423Z"
   },
   {
    "duration": 0,
    "start_time": "2022-07-28T14:18:06.425Z"
   },
   {
    "duration": 0,
    "start_time": "2022-07-28T14:18:06.426Z"
   },
   {
    "duration": 0,
    "start_time": "2022-07-28T14:18:06.427Z"
   },
   {
    "duration": 0,
    "start_time": "2022-07-28T14:18:06.428Z"
   },
   {
    "duration": 0,
    "start_time": "2022-07-28T14:18:06.429Z"
   },
   {
    "duration": 0,
    "start_time": "2022-07-28T14:18:06.430Z"
   },
   {
    "duration": 0,
    "start_time": "2022-07-28T14:18:06.430Z"
   },
   {
    "duration": 326,
    "start_time": "2022-07-28T14:18:31.676Z"
   },
   {
    "duration": 1222,
    "start_time": "2022-07-28T14:19:21.160Z"
   },
   {
    "duration": 31,
    "start_time": "2022-07-28T14:19:22.384Z"
   },
   {
    "duration": 10,
    "start_time": "2022-07-28T14:19:22.417Z"
   },
   {
    "duration": 26,
    "start_time": "2022-07-28T14:19:22.429Z"
   },
   {
    "duration": 3,
    "start_time": "2022-07-28T14:19:22.456Z"
   },
   {
    "duration": 8,
    "start_time": "2022-07-28T14:19:22.461Z"
   },
   {
    "duration": 13,
    "start_time": "2022-07-28T14:19:22.470Z"
   },
   {
    "duration": 5,
    "start_time": "2022-07-28T14:19:22.485Z"
   },
   {
    "duration": 27,
    "start_time": "2022-07-28T14:19:22.492Z"
   },
   {
    "duration": 5,
    "start_time": "2022-07-28T14:19:22.521Z"
   },
   {
    "duration": 6,
    "start_time": "2022-07-28T14:19:22.528Z"
   },
   {
    "duration": 11,
    "start_time": "2022-07-28T14:19:22.535Z"
   },
   {
    "duration": 10,
    "start_time": "2022-07-28T14:19:22.547Z"
   },
   {
    "duration": 40,
    "start_time": "2022-07-28T14:19:22.559Z"
   },
   {
    "duration": 31,
    "start_time": "2022-07-28T14:19:22.601Z"
   },
   {
    "duration": 11,
    "start_time": "2022-07-28T14:19:22.634Z"
   },
   {
    "duration": 10,
    "start_time": "2022-07-28T14:19:22.647Z"
   },
   {
    "duration": 21,
    "start_time": "2022-07-28T14:19:22.659Z"
   },
   {
    "duration": 9,
    "start_time": "2022-07-28T14:19:22.681Z"
   },
   {
    "duration": 28,
    "start_time": "2022-07-28T14:19:22.691Z"
   },
   {
    "duration": 12,
    "start_time": "2022-07-28T14:19:22.720Z"
   },
   {
    "duration": 31,
    "start_time": "2022-07-28T14:19:22.733Z"
   },
   {
    "duration": 21,
    "start_time": "2022-07-28T14:19:22.766Z"
   },
   {
    "duration": 22,
    "start_time": "2022-07-28T14:19:22.789Z"
   },
   {
    "duration": 7,
    "start_time": "2022-07-28T14:19:22.814Z"
   },
   {
    "duration": 538,
    "start_time": "2022-07-28T14:19:22.822Z"
   },
   {
    "duration": 357,
    "start_time": "2022-07-28T14:19:23.361Z"
   },
   {
    "duration": 259,
    "start_time": "2022-07-28T14:19:23.721Z"
   },
   {
    "duration": 201,
    "start_time": "2022-07-28T14:19:23.982Z"
   },
   {
    "duration": 311,
    "start_time": "2022-07-28T14:19:24.185Z"
   },
   {
    "duration": 213,
    "start_time": "2022-07-28T14:19:24.502Z"
   },
   {
    "duration": 298,
    "start_time": "2022-07-28T14:19:24.717Z"
   },
   {
    "duration": 138,
    "start_time": "2022-07-28T14:19:25.018Z"
   },
   {
    "duration": 221,
    "start_time": "2022-07-28T14:19:25.158Z"
   },
   {
    "duration": 4,
    "start_time": "2022-07-28T14:19:25.380Z"
   },
   {
    "duration": 247,
    "start_time": "2022-07-28T14:19:25.386Z"
   },
   {
    "duration": 140,
    "start_time": "2022-07-28T14:19:25.635Z"
   },
   {
    "duration": 153,
    "start_time": "2022-07-28T14:19:25.776Z"
   },
   {
    "duration": 4,
    "start_time": "2022-07-28T14:19:25.930Z"
   },
   {
    "duration": 393,
    "start_time": "2022-07-28T14:19:25.936Z"
   },
   {
    "duration": 10,
    "start_time": "2022-07-28T14:19:26.331Z"
   },
   {
    "duration": 22,
    "start_time": "2022-07-28T14:19:26.342Z"
   },
   {
    "duration": 51,
    "start_time": "2022-07-28T14:19:26.365Z"
   },
   {
    "duration": 13,
    "start_time": "2022-07-28T14:19:26.417Z"
   },
   {
    "duration": 54,
    "start_time": "2022-07-28T14:19:26.431Z"
   },
   {
    "duration": 11,
    "start_time": "2022-07-28T14:19:26.486Z"
   },
   {
    "duration": 135,
    "start_time": "2022-07-28T14:31:22.826Z"
   },
   {
    "duration": 116,
    "start_time": "2022-07-28T14:31:32.542Z"
   },
   {
    "duration": 4,
    "start_time": "2022-07-28T14:31:49.097Z"
   },
   {
    "duration": 94,
    "start_time": "2022-07-28T14:32:32.004Z"
   },
   {
    "duration": 9,
    "start_time": "2022-07-28T14:32:34.225Z"
   },
   {
    "duration": 1270,
    "start_time": "2022-07-31T19:55:26.045Z"
   },
   {
    "duration": 57,
    "start_time": "2022-07-31T19:55:27.316Z"
   },
   {
    "duration": 11,
    "start_time": "2022-07-31T19:55:27.375Z"
   },
   {
    "duration": 29,
    "start_time": "2022-07-31T19:55:27.388Z"
   },
   {
    "duration": 3,
    "start_time": "2022-07-31T19:55:27.418Z"
   },
   {
    "duration": 9,
    "start_time": "2022-07-31T19:55:27.423Z"
   },
   {
    "duration": 8,
    "start_time": "2022-07-31T19:55:27.433Z"
   },
   {
    "duration": 17,
    "start_time": "2022-07-31T19:55:27.443Z"
   },
   {
    "duration": 13,
    "start_time": "2022-07-31T19:55:27.462Z"
   },
   {
    "duration": 11,
    "start_time": "2022-07-31T19:55:27.478Z"
   },
   {
    "duration": 6,
    "start_time": "2022-07-31T19:55:27.490Z"
   },
   {
    "duration": 10,
    "start_time": "2022-07-31T19:55:27.498Z"
   },
   {
    "duration": 11,
    "start_time": "2022-07-31T19:55:27.510Z"
   },
   {
    "duration": 78,
    "start_time": "2022-07-31T19:55:27.523Z"
   },
   {
    "duration": 22,
    "start_time": "2022-07-31T19:55:27.603Z"
   },
   {
    "duration": 13,
    "start_time": "2022-07-31T19:55:27.627Z"
   },
   {
    "duration": 10,
    "start_time": "2022-07-31T19:55:27.642Z"
   },
   {
    "duration": 53,
    "start_time": "2022-07-31T19:55:27.653Z"
   },
   {
    "duration": 8,
    "start_time": "2022-07-31T19:55:27.708Z"
   },
   {
    "duration": 12,
    "start_time": "2022-07-31T19:55:27.718Z"
   },
   {
    "duration": 11,
    "start_time": "2022-07-31T19:55:27.732Z"
   },
   {
    "duration": 19,
    "start_time": "2022-07-31T19:55:27.745Z"
   },
   {
    "duration": 21,
    "start_time": "2022-07-31T19:55:27.765Z"
   },
   {
    "duration": 10,
    "start_time": "2022-07-31T19:55:27.788Z"
   },
   {
    "duration": 9,
    "start_time": "2022-07-31T19:55:27.800Z"
   },
   {
    "duration": 525,
    "start_time": "2022-07-31T19:55:27.810Z"
   },
   {
    "duration": 342,
    "start_time": "2022-07-31T19:55:28.337Z"
   },
   {
    "duration": 264,
    "start_time": "2022-07-31T19:55:28.684Z"
   },
   {
    "duration": 203,
    "start_time": "2022-07-31T19:55:28.950Z"
   },
   {
    "duration": 309,
    "start_time": "2022-07-31T19:55:29.154Z"
   },
   {
    "duration": 202,
    "start_time": "2022-07-31T19:55:29.465Z"
   },
   {
    "duration": 294,
    "start_time": "2022-07-31T19:55:29.669Z"
   },
   {
    "duration": 133,
    "start_time": "2022-07-31T19:55:29.964Z"
   },
   {
    "duration": 208,
    "start_time": "2022-07-31T19:55:30.099Z"
   },
   {
    "duration": 4,
    "start_time": "2022-07-31T19:55:30.308Z"
   },
   {
    "duration": 237,
    "start_time": "2022-07-31T19:55:30.314Z"
   },
   {
    "duration": 146,
    "start_time": "2022-07-31T19:55:30.552Z"
   },
   {
    "duration": 147,
    "start_time": "2022-07-31T19:55:30.700Z"
   },
   {
    "duration": 12,
    "start_time": "2022-07-31T19:55:30.849Z"
   },
   {
    "duration": 344,
    "start_time": "2022-07-31T19:55:30.862Z"
   },
   {
    "duration": 10,
    "start_time": "2022-07-31T19:55:31.207Z"
   },
   {
    "duration": 18,
    "start_time": "2022-07-31T19:55:31.219Z"
   },
   {
    "duration": 54,
    "start_time": "2022-07-31T19:55:31.239Z"
   },
   {
    "duration": 15,
    "start_time": "2022-07-31T19:55:31.295Z"
   },
   {
    "duration": 62,
    "start_time": "2022-07-31T19:55:31.312Z"
   },
   {
    "duration": 16,
    "start_time": "2022-07-31T19:55:31.376Z"
   }
  ],
  "kernelspec": {
   "display_name": "Python 3 (ipykernel)",
   "language": "python",
   "name": "python3"
  },
  "language_info": {
   "codemirror_mode": {
    "name": "ipython",
    "version": 3
   },
   "file_extension": ".py",
   "mimetype": "text/x-python",
   "name": "python",
   "nbconvert_exporter": "python",
   "pygments_lexer": "ipython3",
   "version": "3.9.5"
  },
  "toc": {
   "base_numbering": 1,
   "nav_menu": {},
   "number_sections": true,
   "sideBar": true,
   "skip_h1_title": true,
   "title_cell": "Table of Contents",
   "title_sidebar": "Contents",
   "toc_cell": false,
   "toc_position": {},
   "toc_section_display": true,
   "toc_window_display": true
  }
 },
 "nbformat": 4,
 "nbformat_minor": 2
}
